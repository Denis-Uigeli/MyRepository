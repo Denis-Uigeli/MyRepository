{
  "cells": [
    {
      "cell_type": "markdown",
      "metadata": {
        "id": "rbpkTjQRtZe8"
      },
      "source": [
        "# Исследование объявлений о продаже квартир\n",
        "\n",
        "В вашем распоряжении данные сервиса Яндекс.Недвижимость — архив объявлений о продаже квартир в Санкт-Петербурге и соседних населённых пунктов за несколько лет. Нужно научиться определять рыночную стоимость объектов недвижимости. Ваша задача — установить параметры. Это позволит построить автоматизированную систему: она отследит аномалии и мошенническую деятельность.\n",
        "\n",
        "По каждой квартире на продажу доступны два вида данных. Первые вписаны пользователем, вторые — получены автоматически на основе картографических данных. Например, расстояние до центра, аэропорта, ближайшего парка и водоёма."
      ]
    },
    {
      "cell_type": "markdown",
      "metadata": {
        "id": "bCdzQ9nItZe_"
      },
      "source": [
        "Палан работы:\n",
        "- открыть предоставленные данные, ознакомиться в первом приближении;\n",
        "- изучить пробелы, заполнить/удалить по возможности, привести в нужный формат;\n",
        "- обработать выпадающие значения;\n",
        "- провести анализ в соответствии с заданиями чек-листа;\n",
        "- сделать общий вывод"
      ]
    },
    {
      "cell_type": "markdown",
      "metadata": {
        "id": "rSsnTtBetZfA"
      },
      "source": [
        "### Откройте файл с данными и изучите общую информацию."
      ]
    },
    {
      "cell_type": "markdown",
      "metadata": {
        "id": "2S_OvupStZfA"
      },
      "source": [
        "Двигаемся по проекту в соответствии с чек-листом"
      ]
    },
    {
      "cell_type": "code",
      "execution_count": null,
      "metadata": {
        "id": "Tkxngwk9tZfB",
        "outputId": "a10f4b77-4204-4c76-c90c-bb0ce00343c0"
      },
      "outputs": [
        {
          "data": {
            "text/html": [
              "<div>\n",
              "<style scoped>\n",
              "    .dataframe tbody tr th:only-of-type {\n",
              "        vertical-align: middle;\n",
              "    }\n",
              "\n",
              "    .dataframe tbody tr th {\n",
              "        vertical-align: top;\n",
              "    }\n",
              "\n",
              "    .dataframe thead th {\n",
              "        text-align: right;\n",
              "    }\n",
              "</style>\n",
              "<table border=\"1\" class=\"dataframe\">\n",
              "  <thead>\n",
              "    <tr style=\"text-align: right;\">\n",
              "      <th></th>\n",
              "      <th>total_images</th>\n",
              "      <th>last_price</th>\n",
              "      <th>total_area</th>\n",
              "      <th>first_day_exposition</th>\n",
              "      <th>rooms</th>\n",
              "      <th>ceiling_height</th>\n",
              "      <th>floors_total</th>\n",
              "      <th>living_area</th>\n",
              "      <th>floor</th>\n",
              "      <th>is_apartment</th>\n",
              "      <th>...</th>\n",
              "      <th>kitchen_area</th>\n",
              "      <th>balcony</th>\n",
              "      <th>locality_name</th>\n",
              "      <th>airports_nearest</th>\n",
              "      <th>cityCenters_nearest</th>\n",
              "      <th>parks_around3000</th>\n",
              "      <th>parks_nearest</th>\n",
              "      <th>ponds_around3000</th>\n",
              "      <th>ponds_nearest</th>\n",
              "      <th>days_exposition</th>\n",
              "    </tr>\n",
              "  </thead>\n",
              "  <tbody>\n",
              "    <tr>\n",
              "      <th>0</th>\n",
              "      <td>20</td>\n",
              "      <td>13000000.0</td>\n",
              "      <td>108.0</td>\n",
              "      <td>2019-03-07T00:00:00</td>\n",
              "      <td>3</td>\n",
              "      <td>2.70</td>\n",
              "      <td>16.0</td>\n",
              "      <td>51.0</td>\n",
              "      <td>8</td>\n",
              "      <td>NaN</td>\n",
              "      <td>...</td>\n",
              "      <td>25.0</td>\n",
              "      <td>NaN</td>\n",
              "      <td>Санкт-Петербург</td>\n",
              "      <td>18863.0</td>\n",
              "      <td>16028.0</td>\n",
              "      <td>1.0</td>\n",
              "      <td>482.0</td>\n",
              "      <td>2.0</td>\n",
              "      <td>755.0</td>\n",
              "      <td>NaN</td>\n",
              "    </tr>\n",
              "    <tr>\n",
              "      <th>1</th>\n",
              "      <td>7</td>\n",
              "      <td>3350000.0</td>\n",
              "      <td>40.4</td>\n",
              "      <td>2018-12-04T00:00:00</td>\n",
              "      <td>1</td>\n",
              "      <td>NaN</td>\n",
              "      <td>11.0</td>\n",
              "      <td>18.6</td>\n",
              "      <td>1</td>\n",
              "      <td>NaN</td>\n",
              "      <td>...</td>\n",
              "      <td>11.0</td>\n",
              "      <td>2.0</td>\n",
              "      <td>посёлок Шушары</td>\n",
              "      <td>12817.0</td>\n",
              "      <td>18603.0</td>\n",
              "      <td>0.0</td>\n",
              "      <td>NaN</td>\n",
              "      <td>0.0</td>\n",
              "      <td>NaN</td>\n",
              "      <td>81.0</td>\n",
              "    </tr>\n",
              "    <tr>\n",
              "      <th>2</th>\n",
              "      <td>10</td>\n",
              "      <td>5196000.0</td>\n",
              "      <td>56.0</td>\n",
              "      <td>2015-08-20T00:00:00</td>\n",
              "      <td>2</td>\n",
              "      <td>NaN</td>\n",
              "      <td>5.0</td>\n",
              "      <td>34.3</td>\n",
              "      <td>4</td>\n",
              "      <td>NaN</td>\n",
              "      <td>...</td>\n",
              "      <td>8.3</td>\n",
              "      <td>0.0</td>\n",
              "      <td>Санкт-Петербург</td>\n",
              "      <td>21741.0</td>\n",
              "      <td>13933.0</td>\n",
              "      <td>1.0</td>\n",
              "      <td>90.0</td>\n",
              "      <td>2.0</td>\n",
              "      <td>574.0</td>\n",
              "      <td>558.0</td>\n",
              "    </tr>\n",
              "    <tr>\n",
              "      <th>3</th>\n",
              "      <td>0</td>\n",
              "      <td>64900000.0</td>\n",
              "      <td>159.0</td>\n",
              "      <td>2015-07-24T00:00:00</td>\n",
              "      <td>3</td>\n",
              "      <td>NaN</td>\n",
              "      <td>14.0</td>\n",
              "      <td>NaN</td>\n",
              "      <td>9</td>\n",
              "      <td>NaN</td>\n",
              "      <td>...</td>\n",
              "      <td>NaN</td>\n",
              "      <td>0.0</td>\n",
              "      <td>Санкт-Петербург</td>\n",
              "      <td>28098.0</td>\n",
              "      <td>6800.0</td>\n",
              "      <td>2.0</td>\n",
              "      <td>84.0</td>\n",
              "      <td>3.0</td>\n",
              "      <td>234.0</td>\n",
              "      <td>424.0</td>\n",
              "    </tr>\n",
              "    <tr>\n",
              "      <th>4</th>\n",
              "      <td>2</td>\n",
              "      <td>10000000.0</td>\n",
              "      <td>100.0</td>\n",
              "      <td>2018-06-19T00:00:00</td>\n",
              "      <td>2</td>\n",
              "      <td>3.03</td>\n",
              "      <td>14.0</td>\n",
              "      <td>32.0</td>\n",
              "      <td>13</td>\n",
              "      <td>NaN</td>\n",
              "      <td>...</td>\n",
              "      <td>41.0</td>\n",
              "      <td>NaN</td>\n",
              "      <td>Санкт-Петербург</td>\n",
              "      <td>31856.0</td>\n",
              "      <td>8098.0</td>\n",
              "      <td>2.0</td>\n",
              "      <td>112.0</td>\n",
              "      <td>1.0</td>\n",
              "      <td>48.0</td>\n",
              "      <td>121.0</td>\n",
              "    </tr>\n",
              "  </tbody>\n",
              "</table>\n",
              "<p>5 rows × 22 columns</p>\n",
              "</div>"
            ],
            "text/plain": [
              "   total_images  last_price  total_area first_day_exposition  rooms  \\\n",
              "0            20  13000000.0       108.0  2019-03-07T00:00:00      3   \n",
              "1             7   3350000.0        40.4  2018-12-04T00:00:00      1   \n",
              "2            10   5196000.0        56.0  2015-08-20T00:00:00      2   \n",
              "3             0  64900000.0       159.0  2015-07-24T00:00:00      3   \n",
              "4             2  10000000.0       100.0  2018-06-19T00:00:00      2   \n",
              "\n",
              "   ceiling_height  floors_total  living_area  floor is_apartment  ...  \\\n",
              "0            2.70          16.0         51.0      8          NaN  ...   \n",
              "1             NaN          11.0         18.6      1          NaN  ...   \n",
              "2             NaN           5.0         34.3      4          NaN  ...   \n",
              "3             NaN          14.0          NaN      9          NaN  ...   \n",
              "4            3.03          14.0         32.0     13          NaN  ...   \n",
              "\n",
              "   kitchen_area  balcony    locality_name  airports_nearest  \\\n",
              "0          25.0      NaN  Санкт-Петербург           18863.0   \n",
              "1          11.0      2.0   посёлок Шушары           12817.0   \n",
              "2           8.3      0.0  Санкт-Петербург           21741.0   \n",
              "3           NaN      0.0  Санкт-Петербург           28098.0   \n",
              "4          41.0      NaN  Санкт-Петербург           31856.0   \n",
              "\n",
              "  cityCenters_nearest  parks_around3000  parks_nearest  ponds_around3000  \\\n",
              "0             16028.0               1.0          482.0               2.0   \n",
              "1             18603.0               0.0            NaN               0.0   \n",
              "2             13933.0               1.0           90.0               2.0   \n",
              "3              6800.0               2.0           84.0               3.0   \n",
              "4              8098.0               2.0          112.0               1.0   \n",
              "\n",
              "   ponds_nearest  days_exposition  \n",
              "0          755.0              NaN  \n",
              "1            NaN             81.0  \n",
              "2          574.0            558.0  \n",
              "3          234.0            424.0  \n",
              "4           48.0            121.0  \n",
              "\n",
              "[5 rows x 22 columns]"
            ]
          },
          "execution_count": 1,
          "metadata": {},
          "output_type": "execute_result"
        }
      ],
      "source": [
        "#импортируем изученные библтотеки\n",
        "import pandas as pd\n",
        "import matplotlib as plt\n",
        "import seaborn as sns\n",
        "#импортируем данные в датасет\n",
        "data = pd.read_csv('/datasets/real_estate_data.csv', sep='\\t')\n",
        "#выводим первые пять строк, изучаем\n",
        "data.head()"
      ]
    },
    {
      "cell_type": "code",
      "execution_count": null,
      "metadata": {
        "id": "9g04a8VwtZfF",
        "outputId": "222dd5d0-d2a3-4353-c8c4-7b5edf9ef5fd"
      },
      "outputs": [
        {
          "name": "stdout",
          "output_type": "stream",
          "text": [
            "<class 'pandas.core.frame.DataFrame'>\n",
            "RangeIndex: 23699 entries, 0 to 23698\n",
            "Data columns (total 22 columns):\n",
            " #   Column                Non-Null Count  Dtype  \n",
            "---  ------                --------------  -----  \n",
            " 0   total_images          23699 non-null  int64  \n",
            " 1   last_price            23699 non-null  float64\n",
            " 2   total_area            23699 non-null  float64\n",
            " 3   first_day_exposition  23699 non-null  object \n",
            " 4   rooms                 23699 non-null  int64  \n",
            " 5   ceiling_height        14504 non-null  float64\n",
            " 6   floors_total          23613 non-null  float64\n",
            " 7   living_area           21796 non-null  float64\n",
            " 8   floor                 23699 non-null  int64  \n",
            " 9   is_apartment          2775 non-null   object \n",
            " 10  studio                23699 non-null  bool   \n",
            " 11  open_plan             23699 non-null  bool   \n",
            " 12  kitchen_area          21421 non-null  float64\n",
            " 13  balcony               12180 non-null  float64\n",
            " 14  locality_name         23650 non-null  object \n",
            " 15  airports_nearest      18157 non-null  float64\n",
            " 16  cityCenters_nearest   18180 non-null  float64\n",
            " 17  parks_around3000      18181 non-null  float64\n",
            " 18  parks_nearest         8079 non-null   float64\n",
            " 19  ponds_around3000      18181 non-null  float64\n",
            " 20  ponds_nearest         9110 non-null   float64\n",
            " 21  days_exposition       20518 non-null  float64\n",
            "dtypes: bool(2), float64(14), int64(3), object(3)\n",
            "memory usage: 3.7+ MB\n"
          ]
        }
      ],
      "source": [
        "#выводим общую информацию, изучаем\n",
        "data.info()"
      ]
    },
    {
      "cell_type": "code",
      "execution_count": null,
      "metadata": {
        "id": "SGCtk9lytZfG",
        "outputId": "a0f9f4cf-db04-4d26-dd95-e00c88e5d89d"
      },
      "outputs": [
        {
          "data": {
            "text/plain": [
              "array([[<AxesSubplot:title={'center':'total_images'}>,\n",
              "        <AxesSubplot:title={'center':'last_price'}>,\n",
              "        <AxesSubplot:title={'center':'total_area'}>,\n",
              "        <AxesSubplot:title={'center':'rooms'}>],\n",
              "       [<AxesSubplot:title={'center':'ceiling_height'}>,\n",
              "        <AxesSubplot:title={'center':'floors_total'}>,\n",
              "        <AxesSubplot:title={'center':'living_area'}>,\n",
              "        <AxesSubplot:title={'center':'floor'}>],\n",
              "       [<AxesSubplot:title={'center':'kitchen_area'}>,\n",
              "        <AxesSubplot:title={'center':'balcony'}>,\n",
              "        <AxesSubplot:title={'center':'airports_nearest'}>,\n",
              "        <AxesSubplot:title={'center':'cityCenters_nearest'}>],\n",
              "       [<AxesSubplot:title={'center':'parks_around3000'}>,\n",
              "        <AxesSubplot:title={'center':'parks_nearest'}>,\n",
              "        <AxesSubplot:title={'center':'ponds_around3000'}>,\n",
              "        <AxesSubplot:title={'center':'ponds_nearest'}>],\n",
              "       [<AxesSubplot:title={'center':'days_exposition'}>, <AxesSubplot:>,\n",
              "        <AxesSubplot:>, <AxesSubplot:>]], dtype=object)"
            ]
          },
          "execution_count": 3,
          "metadata": {},
          "output_type": "execute_result"
        },
        {
          "data": {
            "image/png": "[encoded data removed]",
            "text/plain": [
              "<Figure size 1080x1440 with 20 Axes>"
            ]
          },
          "metadata": {
            "needs_background": "light"
          },
          "output_type": "display_data"
        }
      ],
      "source": [
        "data.hist(figsize=(15, 20))"
      ]
    },
    {
      "cell_type": "markdown",
      "metadata": {
        "id": "ALn-91JqtZfL"
      },
      "source": [
        "Вывод:\n",
        "Всего 22 столбца и 23699 строк записей. В 16 столбцах есть пропуски значений.Присутствует некорректное наименование столбцов. Присутствуют столбцы с некорректными типами данных. Распределение данных напоминает распределение Пуассона."
      ]
    },
    {
      "cell_type": "markdown",
      "metadata": {
        "id": "5AAZp7zUtZfO"
      },
      "source": [
        "### Предобработка данных"
      ]
    },
    {
      "cell_type": "markdown",
      "metadata": {
        "id": "COVr7f6ytZfO"
      },
      "source": [
        "Переименуем столбец cityCenters_nearest\n",
        "Приведем в целочисленный тип данные столбцов last_price, balcony, parks_around3000, ponds_around3000, заменяем пропуски на 0.\n",
        "Приведем к типу даты дату публикации\n",
        "Выводим полученный результат по оставшимся пропущенным значениям"
      ]
    },
    {
      "cell_type": "code",
      "execution_count": null,
      "metadata": {
        "id": "VEAoW13gtZfP",
        "outputId": "2134e03d-76da-48e7-8b2e-e2efaaa5610f"
      },
      "outputs": [
        {
          "data": {
            "text/plain": [
              "total_images                0\n",
              "last_price                  0\n",
              "total_area                  0\n",
              "first_day_exposition        0\n",
              "rooms                       0\n",
              "ceiling_height           9195\n",
              "floors_total               86\n",
              "living_area              1903\n",
              "floor                       0\n",
              "is_apartment            20924\n",
              "studio                      0\n",
              "open_plan                   0\n",
              "kitchen_area             2278\n",
              "balcony                     0\n",
              "locality_name              49\n",
              "airports_nearest         5542\n",
              "city_centers_nearest     5519\n",
              "parks_around3000            0\n",
              "parks_nearest           15620\n",
              "ponds_around3000            0\n",
              "ponds_nearest           14589\n",
              "days_exposition          3181\n",
              "dtype: int64"
            ]
          },
          "execution_count": 4,
          "metadata": {},
          "output_type": "execute_result"
        }
      ],
      "source": [
        "data.rename(columns={'cityCenters_nearest' : 'city_centers_nearest'}, inplace=True)\n",
        "data['last_price'] = data['last_price'].astype(int)\n",
        "data['balcony'] = data['balcony'].fillna(value=0).astype(int)\n",
        "data['parks_around3000'] = data['parks_around3000'].fillna(value=0).astype(int)\n",
        "data['ponds_around3000'] = data['ponds_around3000'].fillna(value=0).astype(int)\n",
        "data['first_day_exposition'] = pd.to_datetime(data['first_day_exposition'], format='%Y-%m-%dT%H:%M:%S')\n",
        "data.isnull().sum()"
      ]
    },
    {
      "cell_type": "markdown",
      "metadata": {
        "id": "N1pLaY7atZfQ"
      },
      "source": [
        "Больше всего пропусков в апартаментах, предположим, что пропущенные значения - это \"нет\", заменим их."
      ]
    },
    {
      "cell_type": "code",
      "execution_count": null,
      "metadata": {
        "id": "L64QUMQwtZfR"
      },
      "outputs": [],
      "source": [
        "data['is_apartment'] = data['is_apartment'].fillna(value=False)"
      ]
    },
    {
      "cell_type": "markdown",
      "metadata": {
        "id": "ltI_Xd2ftZfR"
      },
      "source": [
        "Малыми значениями можно пренебречь, удаляем строки с отсутствующей этажностью и локацией"
      ]
    },
    {
      "cell_type": "code",
      "execution_count": null,
      "metadata": {
        "id": "SMghaeyDtZfS"
      },
      "outputs": [],
      "source": [
        "data.dropna(subset=['floors_total'], inplace=True)\n",
        "data['floors_total'] = data['floors_total'].astype(int) #сразу приводим к целочисленному типу\n",
        "data.dropna(subset=['locality_name'], inplace=True)"
      ]
    },
    {
      "cell_type": "markdown",
      "metadata": {
        "id": "4XB_zhtetZfS"
      },
      "source": [
        "Заполним пропуски в жилой площади. Чаще всего между жилой площадью и общей существует прямая зависимость. Для этого возьмем среднее соотношение жилой площади к общей"
      ]
    },
    {
      "cell_type": "code",
      "execution_count": null,
      "metadata": {
        "id": "Eo5Nrh0btZfS"
      },
      "outputs": [],
      "source": [
        "living_ratio_median = data['living_area'].median() / data['total_area'].median()\n",
        "data['living_area'].fillna(living_ratio_median * data['total_area'], inplace=True)"
      ]
    },
    {
      "cell_type": "markdown",
      "metadata": {
        "id": "Ln8KBV_RtZfT"
      },
      "source": [
        "Аналогично заполним пропуски в площади кухни"
      ]
    },
    {
      "cell_type": "code",
      "execution_count": null,
      "metadata": {
        "id": "c3euQKLbtZfT"
      },
      "outputs": [],
      "source": [
        "kitchen_ratio_median = data['kitchen_area'].median() / data['total_area'].median()\n",
        "data['kitchen_area'].fillna(kitchen_ratio_median * data['total_area'], inplace=True)"
      ]
    },
    {
      "cell_type": "markdown",
      "metadata": {
        "id": "DbyDIzGutZfV"
      },
      "source": [
        "Средняя высота потолка по нормам строительства 2,5 - 3 м. Посмотрим внимательнее на данные в нашем датафрейме"
      ]
    },
    {
      "cell_type": "code",
      "execution_count": null,
      "metadata": {
        "id": "GhckStAjtZfV",
        "outputId": "ecd87133-84e5-4717-bbd9-884caff6d9ba"
      },
      "outputs": [
        {
          "data": {
            "text/plain": [
              "count    14481.000000\n",
              "mean         2.771283\n",
              "std          1.261983\n",
              "min          1.000000\n",
              "25%          2.510000\n",
              "50%          2.650000\n",
              "75%          2.800000\n",
              "max        100.000000\n",
              "Name: ceiling_height, dtype: float64"
            ]
          },
          "execution_count": 9,
          "metadata": {},
          "output_type": "execute_result"
        }
      ],
      "source": [
        "data['ceiling_height'].describe()"
      ]
    },
    {
      "cell_type": "markdown",
      "metadata": {
        "id": "eXwro3BvtZfW"
      },
      "source": [
        "Данные выше подтвердили предположение. Но дополнительно посмотрим количество записей с выбивающимися значениями  "
      ]
    },
    {
      "cell_type": "code",
      "execution_count": null,
      "metadata": {
        "id": "LagLSwNGtZfX",
        "outputId": "2eae887b-b45b-4679-dd87-4218c613ce6d"
      },
      "outputs": [
        {
          "data": {
            "text/plain": [
              "14"
            ]
          },
          "execution_count": 10,
          "metadata": {},
          "output_type": "execute_result"
        }
      ],
      "source": [
        "data.query('ceiling_height <= 2')['ceiling_height'].count()"
      ]
    },
    {
      "cell_type": "code",
      "execution_count": null,
      "metadata": {
        "id": "eSR784Z3tZfY",
        "outputId": "b338e613-1997-46b7-9291-18b325dc8a74"
      },
      "outputs": [
        {
          "data": {
            "text/plain": [
              "30"
            ]
          },
          "execution_count": 11,
          "metadata": {},
          "output_type": "execute_result"
        }
      ],
      "source": [
        "data.query('ceiling_height >= 6')['ceiling_height'].count()"
      ]
    },
    {
      "cell_type": "code",
      "execution_count": null,
      "metadata": {
        "id": "FDNWiCk6tZfY",
        "outputId": "ae073fc3-cca7-43c1-ca63-c65847f03a23"
      },
      "outputs": [
        {
          "data": {
            "image/png": "[encoded data removed]",
            "text/plain": [
              "<Figure size 432x288 with 1 Axes>"
            ]
          },
          "metadata": {
            "needs_background": "light"
          },
          "output_type": "display_data"
        }
      ],
      "source": [
        "data.hist('ceiling_height',bins=100, range=(10,100));"
      ]
    },
    {
      "cell_type": "code",
      "execution_count": null,
      "metadata": {
        "id": "iEU7J41KtZfa",
        "outputId": "4f92c32b-747b-492f-e825-1a76dc530539"
      },
      "outputs": [
        {
          "name": "stdout",
          "output_type": "stream",
          "text": [
            "13\n"
          ]
        },
        {
          "data": {
            "text/plain": [
              "count    23538.000000\n",
              "mean         2.697100\n",
              "std          0.219856\n",
              "min          2.200000\n",
              "25%          2.600000\n",
              "50%          2.650000\n",
              "75%          2.700000\n",
              "max          5.800000\n",
              "Name: ceiling_height, dtype: float64"
            ]
          },
          "execution_count": 13,
          "metadata": {},
          "output_type": "execute_result"
        }
      ],
      "source": [
        "data.update(data[(data['ceiling_height'] >= 25) & (data['ceiling_height'] <= 30)]['ceiling_height']/10)\n",
        "print (data.query('ceiling_height >= 6')['ceiling_height'].count())\n",
        "data.drop(index=data.query('ceiling_height >= 6').index,inplace=True)\n",
        "data.drop(index=data.query('ceiling_height <= 2').index,inplace=True)\n",
        "data['ceiling_height'].fillna(data['ceiling_height'].median(), inplace=True)\n",
        "data['ceiling_height'].describe()"
      ]
    },
    {
      "cell_type": "code",
      "execution_count": null,
      "metadata": {
        "id": "b_wGzu7rtZfc"
      },
      "outputs": [],
      "source": [
        "#data.drop(index=data.query('ceiling_height >= 6').index,inplace=True)\n",
        "#data.drop(index=data.query('ceiling_height <= 2').index,inplace=True)\n",
        "#data['ceiling_height'].describe()"
      ]
    },
    {
      "cell_type": "markdown",
      "metadata": {
        "id": "k5i3ep5ntZfd"
      },
      "source": [
        "Выбивающихся значений немного, их сразу удаляем.\n",
        "Заменяем все пропущенные значения ceiling_height на 2.65"
      ]
    },
    {
      "cell_type": "code",
      "execution_count": null,
      "metadata": {
        "id": "rXZUpc4jtZfd"
      },
      "outputs": [],
      "source": [
        "#data['ceiling_height'].fillna(2.65, inplace=True)"
      ]
    },
    {
      "cell_type": "code",
      "execution_count": null,
      "metadata": {
        "id": "tIkxKQT3tZft",
        "outputId": "fc4fb641-02cf-4cb3-e5d8-0ed46b338410"
      },
      "outputs": [
        {
          "data": {
            "text/plain": [
              "total_images                0\n",
              "last_price                  0\n",
              "total_area                  0\n",
              "first_day_exposition        0\n",
              "rooms                       0\n",
              "ceiling_height              0\n",
              "floors_total                0\n",
              "living_area                 0\n",
              "floor                       0\n",
              "is_apartment                0\n",
              "studio                      0\n",
              "open_plan                   0\n",
              "kitchen_area                0\n",
              "balcony                     0\n",
              "locality_name               0\n",
              "airports_nearest         5513\n",
              "city_centers_nearest     5490\n",
              "parks_around3000            0\n",
              "parks_nearest           15517\n",
              "ponds_around3000            0\n",
              "ponds_nearest           14512\n",
              "days_exposition          3165\n",
              "dtype: int64"
            ]
          },
          "execution_count": 16,
          "metadata": {},
          "output_type": "execute_result"
        }
      ],
      "source": [
        "data.isnull().sum()"
      ]
    },
    {
      "cell_type": "markdown",
      "metadata": {
        "id": "JWZBYKYJtZfu"
      },
      "source": [
        "Проверим и устраним дубликаты."
      ]
    },
    {
      "cell_type": "code",
      "execution_count": null,
      "metadata": {
        "id": "reHnaaLatZfu",
        "outputId": "d7c432ec-2893-4a9b-e752-6333c5c403b0"
      },
      "outputs": [
        {
          "data": {
            "text/plain": [
              "array(['Бокситогорск', 'Волосово', 'Волхов', 'Всеволожск', 'Выборг',\n",
              "       'Высоцк', 'Гатчина', 'Зеленогорск', 'Ивангород', 'Каменногорск',\n",
              "       'Кингисепп', 'Кириши', 'Кировск', 'Колпино', 'Коммунар',\n",
              "       'Красное Село', 'Кронштадт', 'Кудрово', 'Лодейное Поле',\n",
              "       'Ломоносов', 'Луга', 'Любань', 'Мурино', 'Никольское',\n",
              "       'Новая Ладога', 'Отрадное', 'Павловск', 'Петергоф', 'Пикалёво',\n",
              "       'Подпорожье', 'Приморск', 'Приозерск', 'Пушкин', 'Санкт-Петербург',\n",
              "       'Светогорск', 'Сертолово', 'Сестрорецк', 'Сланцы', 'Сосновый Бор',\n",
              "       'Сясьстрой', 'Тихвин', 'Тосно', 'Шлиссельбург',\n",
              "       'городской поселок Большая Ижора', 'городской поселок Янино-1',\n",
              "       'городской посёлок Будогощь', 'городской посёлок Виллози',\n",
              "       'городской посёлок Лесогорский', 'городской посёлок Мга',\n",
              "       'городской посёлок Назия', 'городской посёлок Новоселье',\n",
              "       'городской посёлок Павлово', 'городской посёлок Рощино',\n",
              "       'городской посёлок Свирьстрой', 'городской посёлок Советский',\n",
              "       'городской посёлок Фёдоровское', 'городской посёлок Янино-1',\n",
              "       'деревня Агалатово', 'деревня Аро', 'деревня Батово',\n",
              "       'деревня Бегуницы', 'деревня Белогорка', 'деревня Большая Вруда',\n",
              "       'деревня Большая Пустомержа', 'деревня Большие Колпаны',\n",
              "       'деревня Большое Рейзино', 'деревня Большой Сабск', 'деревня Бор',\n",
              "       'деревня Борисова Грива', 'деревня Ваганово', 'деревня Вартемяги',\n",
              "       'деревня Вахнова Кара', 'деревня Выскатка', 'деревня Гарболово',\n",
              "       'деревня Глинка', 'деревня Горбунки', 'деревня Гостилицы',\n",
              "       'деревня Заклинье', 'деревня Заневка', 'деревня Зимитицы',\n",
              "       'деревня Извара', 'деревня Иссад', 'деревня Калитино',\n",
              "       'деревня Кальтино', 'деревня Камышовка', 'деревня Каськово',\n",
              "       'деревня Келози', 'деревня Кипень', 'деревня Кисельня',\n",
              "       'деревня Колтуши', 'деревня Коркино', 'деревня Котлы',\n",
              "       'деревня Кривко', 'деревня Кудрово', 'деревня Кузьмолово',\n",
              "       'деревня Курковицы', 'деревня Куровицы', 'деревня Куттузи',\n",
              "       'деревня Лаврики', 'деревня Лаголово', 'деревня Лампово',\n",
              "       'деревня Лесколово', 'деревня Лопухинка', 'деревня Лупполово',\n",
              "       'деревня Малая Романовка', 'деревня Малое Верево',\n",
              "       'деревня Малое Карлино', 'деревня Малые Колпаны',\n",
              "       'деревня Мануйлово', 'деревня Меньково', 'деревня Мины',\n",
              "       'деревня Мистолово', 'деревня Ненимяки', 'деревня Нижние Осельки',\n",
              "       'деревня Нижняя', 'деревня Низино', 'деревня Новое Девяткино',\n",
              "       'деревня Новолисино', 'деревня Нурма', 'деревня Оржицы',\n",
              "       'деревня Парицы', 'деревня Пельгора', 'деревня Пеники',\n",
              "       'деревня Пижма', 'деревня Пикколово', 'деревня Пудомяги',\n",
              "       'деревня Пустынка', 'деревня Пчева', 'деревня Рабитицы',\n",
              "       'деревня Разбегаево', 'деревня Раздолье', 'деревня Разметелево',\n",
              "       'деревня Рапполово', 'деревня Реброво', 'деревня Русско',\n",
              "       'деревня Сижно', 'деревня Снегирёвка', 'деревня Старая',\n",
              "       'деревня Старая Пустошь', 'деревня Старое Хинколово',\n",
              "       'деревня Старополье', 'деревня Старосиверская',\n",
              "       'деревня Старые Бегуницы', 'деревня Суоранда',\n",
              "       'деревня Сяськелево', 'деревня Тарасово', 'деревня Терпилицы',\n",
              "       'деревня Тихковицы', 'деревня Тойворово', 'деревня Торосово',\n",
              "       'деревня Торошковичи', 'деревня Трубников Бор',\n",
              "       'деревня Фалилеево', 'деревня Фёдоровское', 'деревня Хапо-Ое',\n",
              "       'деревня Хязельки', 'деревня Чудской Бор', 'деревня Шпаньково',\n",
              "       'деревня Щеглово', 'деревня Юкки', 'деревня Ялгино',\n",
              "       'деревня Яльгелево', 'деревня Ям-Тесово',\n",
              "       'коттеджный поселок Кивеннапа Север', 'коттеджный поселок Счастье',\n",
              "       'коттеджный посёлок Лесное', 'поселок Аннино', 'поселок Барышево',\n",
              "       'поселок Бугры', 'поселок Возрождение', 'поселок Войсковицы',\n",
              "       'поселок Володарское', 'поселок Гаврилово', 'поселок Гарболово',\n",
              "       'поселок Гладкое', 'поселок Глажево', 'поселок Глебычево',\n",
              "       'поселок Гончарово', 'поселок Громово', 'поселок Дружноселье',\n",
              "       'поселок Елизаветино', 'поселок Жилгородок', 'поселок Жилпосёлок',\n",
              "       'поселок Житково', 'поселок Заводской', 'поселок Запорожское',\n",
              "       'поселок Зимитицы', 'поселок Ильичёво', 'поселок Калитино',\n",
              "       'поселок Каложицы', 'поселок Кингисеппский', 'поселок Кирпичное',\n",
              "       'поселок Кобралово', 'поселок Кобринское', 'поселок Коммунары',\n",
              "       'поселок Коробицыно', 'поселок Котельский',\n",
              "       'поселок Красная Долина', 'поселок Красносельское',\n",
              "       'поселок Лесное', 'поселок Лисий Нос', 'поселок Лукаши',\n",
              "       'поселок Любань', 'поселок Мельниково', 'поселок Мичуринское',\n",
              "       'поселок Молодцово', 'поселок Мурино', 'поселок Новый Свет',\n",
              "       'поселок Новый Учхоз', 'поселок Оредеж',\n",
              "       'поселок Пансионат Зелёный Бор', 'поселок Первомайское',\n",
              "       'поселок Перово', 'поселок Петровское', 'поселок Победа',\n",
              "       'поселок Поляны', 'поселок Почап', 'поселок Починок',\n",
              "       'поселок Пушное', 'поселок Пчевжа', 'поселок Рабитицы',\n",
              "       'поселок Романовка', 'поселок Ромашки', 'поселок Рябово',\n",
              "       'поселок Севастьяново', 'поселок Селезнёво', 'поселок Сельцо',\n",
              "       'поселок Семиозерье', 'поселок Семрино', 'поселок Серебрянский',\n",
              "       'поселок Совхозный', 'поселок Старая Малукса',\n",
              "       'поселок Стеклянный', 'поселок Сумино', 'поселок Суходолье',\n",
              "       'поселок Тельмана', 'поселок Терволово', 'поселок Торковичи',\n",
              "       'поселок Тёсово-4', 'поселок Углово', 'поселок Усть-Луга',\n",
              "       'поселок Ушаки', 'поселок Цвелодубово', 'поселок Цвылёво',\n",
              "       'поселок городского типа Большая Ижора',\n",
              "       'поселок городского типа Вырица',\n",
              "       'поселок городского типа Дружная Горка',\n",
              "       'поселок городского типа Дубровка',\n",
              "       'поселок городского типа Ефимовский',\n",
              "       'поселок городского типа Кондратьево',\n",
              "       'поселок городского типа Красный Бор',\n",
              "       'поселок городского типа Кузьмоловский',\n",
              "       'поселок городского типа Лебяжье',\n",
              "       'поселок городского типа Лесогорский',\n",
              "       'поселок городского типа Назия',\n",
              "       'поселок городского типа Никольский',\n",
              "       'поселок городского типа Приладожский',\n",
              "       'поселок городского типа Рахья', 'поселок городского типа Рощино',\n",
              "       'поселок городского типа Рябово',\n",
              "       'поселок городского типа Синявино',\n",
              "       'поселок городского типа Советский',\n",
              "       'поселок городского типа Токсово',\n",
              "       'поселок городского типа Форносово',\n",
              "       'поселок городского типа имени Свердлова',\n",
              "       'поселок станции Вещево', 'поселок станции Корнево',\n",
              "       'поселок станции Лужайка', 'поселок станции Приветнинское',\n",
              "       'посёлок Александровская', 'посёлок Алексеевка', 'посёлок Аннино',\n",
              "       'посёлок Белоостров', 'посёлок Бугры', 'посёлок Возрождение',\n",
              "       'посёлок Войскорово', 'посёлок Высокоключевой',\n",
              "       'посёлок Гаврилово', 'посёлок Дзержинского', 'посёлок Жилгородок',\n",
              "       'посёлок Ильичёво', 'посёлок Кикерино', 'посёлок Кобралово',\n",
              "       'посёлок Коробицыно', 'посёлок Левашово', 'посёлок Ленинское',\n",
              "       'посёлок Лисий Нос', 'посёлок Мельниково', 'посёлок Металлострой',\n",
              "       'посёлок Мичуринское', 'посёлок Молодёжное', 'посёлок Мурино',\n",
              "       'посёлок Мыза-Ивановка', 'посёлок Новогорелово',\n",
              "       'посёлок Новый Свет', 'посёлок Пансионат Зелёный Бор',\n",
              "       'посёлок Парголово', 'посёлок Перово', 'посёлок Песочный',\n",
              "       'посёлок Петро-Славянка', 'посёлок Петровское',\n",
              "       'посёлок Платформа 69-й километр', 'посёлок Плодовое',\n",
              "       'посёлок Плоское', 'посёлок Победа', 'посёлок Поляны',\n",
              "       'посёлок Понтонный', 'посёлок Пригородный', 'посёлок Пудость',\n",
              "       'посёлок Репино', 'посёлок Ропша', 'посёлок Сапёрное',\n",
              "       'посёлок Сапёрный', 'посёлок Сосново', 'посёлок Старая Малукса',\n",
              "       'посёлок Стеклянный', 'посёлок Стрельна', 'посёлок Суйда',\n",
              "       'посёлок Сумино', 'посёлок Тельмана', 'посёлок Терволово',\n",
              "       'посёлок Торфяное', 'посёлок Усть-Ижора', 'посёлок Усть-Луга',\n",
              "       'посёлок Форт Красная Горка', 'посёлок Шугозеро', 'посёлок Шушары',\n",
              "       'посёлок Щеглово', 'посёлок городского типа Важины',\n",
              "       'посёлок городского типа Вознесенье',\n",
              "       'посёлок городского типа Вырица',\n",
              "       'посёлок городского типа Красный Бор',\n",
              "       'посёлок городского типа Кузнечное',\n",
              "       'посёлок городского типа Кузьмоловский',\n",
              "       'посёлок городского типа Лебяжье', 'посёлок городского типа Мга',\n",
              "       'посёлок городского типа Павлово',\n",
              "       'посёлок городского типа Рощино', 'посёлок городского типа Рябово',\n",
              "       'посёлок городского типа Сиверский',\n",
              "       'посёлок городского типа Тайцы', 'посёлок городского типа Токсово',\n",
              "       'посёлок городского типа Ульяновка',\n",
              "       'посёлок городского типа Форносово',\n",
              "       'посёлок городского типа имени Морозова',\n",
              "       'посёлок городского типа имени Свердлова',\n",
              "       'посёлок при железнодорожной станции Вещево',\n",
              "       'посёлок при железнодорожной станции Приветнинское',\n",
              "       'посёлок станции Громово', 'посёлок станции Свирь',\n",
              "       'садоводческое некоммерческое товарищество Лесная Поляна',\n",
              "       'садовое товарищество Новая Ропша',\n",
              "       'садовое товарищество Приладожский', 'садовое товарищество Рахья',\n",
              "       'садовое товарищество Садко', 'село Копорье', 'село Никольское',\n",
              "       'село Павлово', 'село Паша', 'село Путилово', 'село Рождествено',\n",
              "       'село Русско-Высоцкое', 'село Старая Ладога', 'село Шум'],\n",
              "      dtype=object)"
            ]
          },
          "execution_count": 17,
          "metadata": {},
          "output_type": "execute_result"
        }
      ],
      "source": [
        "data['locality_name'].sort_values().unique()"
      ]
    },
    {
      "cell_type": "markdown",
      "metadata": {
        "id": "eEoU2dqotZfv"
      },
      "source": [
        "Обнаружены неявные дубликаты. Приведем к общему названию \"поселок\", \"поселок городского типа\""
      ]
    },
    {
      "cell_type": "code",
      "execution_count": null,
      "metadata": {
        "id": "44VJ3oTztZfv",
        "outputId": "cc40828e-ff08-478f-dfb2-209c67e2f895"
      },
      "outputs": [
        {
          "data": {
            "text/plain": [
              "0"
            ]
          },
          "execution_count": 18,
          "metadata": {},
          "output_type": "execute_result"
        }
      ],
      "source": [
        "data['locality_name'] = data['locality_name'].str.lower()\n",
        "data['locality_name'] = data['locality_name'].str.replace('ё', 'е')\n",
        "data['locality_name'] = data['locality_name'].str.replace('городской поселок','поселок городского типа')\n",
        "data['locality_name'] = data['locality_name'].str.replace('коттеджный поселок','поселок')\n",
        "data['locality_name'] = data['locality_name'].str.replace('поселок станции','поселок')\n",
        "data.duplicated().sum()"
      ]
    },
    {
      "cell_type": "markdown",
      "metadata": {
        "id": "dKks4fq7tZfw"
      },
      "source": [
        "Устраняем редкие и выбивающиеся значения (аномалии) во всех столбцах.\n",
        "смотрим общее описание датафрейма"
      ]
    },
    {
      "cell_type": "code",
      "execution_count": null,
      "metadata": {
        "id": "Gn2HYQx_tZfw",
        "outputId": "b144ebcf-7215-4bd1-86c8-ecaff7b38ff5"
      },
      "outputs": [
        {
          "data": {
            "text/html": [
              "<div>\n",
              "<style scoped>\n",
              "    .dataframe tbody tr th:only-of-type {\n",
              "        vertical-align: middle;\n",
              "    }\n",
              "\n",
              "    .dataframe tbody tr th {\n",
              "        vertical-align: top;\n",
              "    }\n",
              "\n",
              "    .dataframe thead th {\n",
              "        text-align: right;\n",
              "    }\n",
              "</style>\n",
              "<table border=\"1\" class=\"dataframe\">\n",
              "  <thead>\n",
              "    <tr style=\"text-align: right;\">\n",
              "      <th></th>\n",
              "      <th>total_images</th>\n",
              "      <th>last_price</th>\n",
              "      <th>total_area</th>\n",
              "      <th>rooms</th>\n",
              "      <th>ceiling_height</th>\n",
              "      <th>floors_total</th>\n",
              "      <th>living_area</th>\n",
              "      <th>floor</th>\n",
              "      <th>kitchen_area</th>\n",
              "      <th>balcony</th>\n",
              "      <th>airports_nearest</th>\n",
              "      <th>city_centers_nearest</th>\n",
              "      <th>parks_around3000</th>\n",
              "      <th>parks_nearest</th>\n",
              "      <th>ponds_around3000</th>\n",
              "      <th>ponds_nearest</th>\n",
              "      <th>days_exposition</th>\n",
              "    </tr>\n",
              "  </thead>\n",
              "  <tbody>\n",
              "    <tr>\n",
              "      <th>count</th>\n",
              "      <td>23538.000000</td>\n",
              "      <td>2.353800e+04</td>\n",
              "      <td>23538.000000</td>\n",
              "      <td>23538.000000</td>\n",
              "      <td>23538.000000</td>\n",
              "      <td>23538.000000</td>\n",
              "      <td>23538.000000</td>\n",
              "      <td>23538.000000</td>\n",
              "      <td>23538.000000</td>\n",
              "      <td>23538.000000</td>\n",
              "      <td>18025.000000</td>\n",
              "      <td>18048.000000</td>\n",
              "      <td>23538.000000</td>\n",
              "      <td>8021.000000</td>\n",
              "      <td>23538.000000</td>\n",
              "      <td>9026.000000</td>\n",
              "      <td>20373.000000</td>\n",
              "    </tr>\n",
              "    <tr>\n",
              "      <th>mean</th>\n",
              "      <td>9.879047</td>\n",
              "      <td>6.537344e+06</td>\n",
              "      <td>60.327871</td>\n",
              "      <td>2.070907</td>\n",
              "      <td>2.697100</td>\n",
              "      <td>10.676311</td>\n",
              "      <td>34.622425</td>\n",
              "      <td>5.878112</td>\n",
              "      <td>10.501110</td>\n",
              "      <td>0.593381</td>\n",
              "      <td>28799.081942</td>\n",
              "      <td>14193.607380</td>\n",
              "      <td>0.468731</td>\n",
              "      <td>490.555542</td>\n",
              "      <td>0.589812</td>\n",
              "      <td>518.425105</td>\n",
              "      <td>180.778285</td>\n",
              "    </tr>\n",
              "    <tr>\n",
              "      <th>std</th>\n",
              "      <td>5.679710</td>\n",
              "      <td>1.089182e+07</td>\n",
              "      <td>35.660869</td>\n",
              "      <td>1.078762</td>\n",
              "      <td>0.219856</td>\n",
              "      <td>6.593795</td>\n",
              "      <td>22.394663</td>\n",
              "      <td>4.872131</td>\n",
              "      <td>6.039918</td>\n",
              "      <td>0.959857</td>\n",
              "      <td>12635.724315</td>\n",
              "      <td>8614.816177</td>\n",
              "      <td>0.748183</td>\n",
              "      <td>341.689784</td>\n",
              "      <td>0.883796</td>\n",
              "      <td>277.991357</td>\n",
              "      <td>219.793294</td>\n",
              "    </tr>\n",
              "    <tr>\n",
              "      <th>min</th>\n",
              "      <td>0.000000</td>\n",
              "      <td>1.219000e+04</td>\n",
              "      <td>12.000000</td>\n",
              "      <td>0.000000</td>\n",
              "      <td>2.200000</td>\n",
              "      <td>1.000000</td>\n",
              "      <td>2.000000</td>\n",
              "      <td>1.000000</td>\n",
              "      <td>1.300000</td>\n",
              "      <td>0.000000</td>\n",
              "      <td>0.000000</td>\n",
              "      <td>181.000000</td>\n",
              "      <td>0.000000</td>\n",
              "      <td>1.000000</td>\n",
              "      <td>0.000000</td>\n",
              "      <td>13.000000</td>\n",
              "      <td>1.000000</td>\n",
              "    </tr>\n",
              "    <tr>\n",
              "      <th>25%</th>\n",
              "      <td>6.000000</td>\n",
              "      <td>3.400000e+06</td>\n",
              "      <td>40.000000</td>\n",
              "      <td>1.000000</td>\n",
              "      <td>2.600000</td>\n",
              "      <td>5.000000</td>\n",
              "      <td>19.000000</td>\n",
              "      <td>2.000000</td>\n",
              "      <td>7.000000</td>\n",
              "      <td>0.000000</td>\n",
              "      <td>18557.000000</td>\n",
              "      <td>9238.000000</td>\n",
              "      <td>0.000000</td>\n",
              "      <td>288.000000</td>\n",
              "      <td>0.000000</td>\n",
              "      <td>293.000000</td>\n",
              "      <td>45.000000</td>\n",
              "    </tr>\n",
              "    <tr>\n",
              "      <th>50%</th>\n",
              "      <td>9.000000</td>\n",
              "      <td>4.648500e+06</td>\n",
              "      <td>52.000000</td>\n",
              "      <td>2.000000</td>\n",
              "      <td>2.650000</td>\n",
              "      <td>9.000000</td>\n",
              "      <td>30.000000</td>\n",
              "      <td>4.000000</td>\n",
              "      <td>9.000000</td>\n",
              "      <td>0.000000</td>\n",
              "      <td>26756.000000</td>\n",
              "      <td>13100.000000</td>\n",
              "      <td>0.000000</td>\n",
              "      <td>455.000000</td>\n",
              "      <td>0.000000</td>\n",
              "      <td>503.000000</td>\n",
              "      <td>95.000000</td>\n",
              "    </tr>\n",
              "    <tr>\n",
              "      <th>75%</th>\n",
              "      <td>14.000000</td>\n",
              "      <td>6.796750e+06</td>\n",
              "      <td>69.700000</td>\n",
              "      <td>3.000000</td>\n",
              "      <td>2.700000</td>\n",
              "      <td>16.000000</td>\n",
              "      <td>42.115385</td>\n",
              "      <td>8.000000</td>\n",
              "      <td>12.000000</td>\n",
              "      <td>1.000000</td>\n",
              "      <td>37277.000000</td>\n",
              "      <td>16285.000000</td>\n",
              "      <td>1.000000</td>\n",
              "      <td>612.000000</td>\n",
              "      <td>1.000000</td>\n",
              "      <td>730.000000</td>\n",
              "      <td>231.000000</td>\n",
              "    </tr>\n",
              "    <tr>\n",
              "      <th>max</th>\n",
              "      <td>50.000000</td>\n",
              "      <td>7.630000e+08</td>\n",
              "      <td>900.000000</td>\n",
              "      <td>19.000000</td>\n",
              "      <td>5.800000</td>\n",
              "      <td>60.000000</td>\n",
              "      <td>409.700000</td>\n",
              "      <td>33.000000</td>\n",
              "      <td>112.000000</td>\n",
              "      <td>5.000000</td>\n",
              "      <td>84869.000000</td>\n",
              "      <td>65968.000000</td>\n",
              "      <td>3.000000</td>\n",
              "      <td>3190.000000</td>\n",
              "      <td>3.000000</td>\n",
              "      <td>1344.000000</td>\n",
              "      <td>1580.000000</td>\n",
              "    </tr>\n",
              "  </tbody>\n",
              "</table>\n",
              "</div>"
            ],
            "text/plain": [
              "       total_images    last_price    total_area         rooms  ceiling_height  \\\n",
              "count  23538.000000  2.353800e+04  23538.000000  23538.000000    23538.000000   \n",
              "mean       9.879047  6.537344e+06     60.327871      2.070907        2.697100   \n",
              "std        5.679710  1.089182e+07     35.660869      1.078762        0.219856   \n",
              "min        0.000000  1.219000e+04     12.000000      0.000000        2.200000   \n",
              "25%        6.000000  3.400000e+06     40.000000      1.000000        2.600000   \n",
              "50%        9.000000  4.648500e+06     52.000000      2.000000        2.650000   \n",
              "75%       14.000000  6.796750e+06     69.700000      3.000000        2.700000   \n",
              "max       50.000000  7.630000e+08    900.000000     19.000000        5.800000   \n",
              "\n",
              "       floors_total   living_area         floor  kitchen_area       balcony  \\\n",
              "count  23538.000000  23538.000000  23538.000000  23538.000000  23538.000000   \n",
              "mean      10.676311     34.622425      5.878112     10.501110      0.593381   \n",
              "std        6.593795     22.394663      4.872131      6.039918      0.959857   \n",
              "min        1.000000      2.000000      1.000000      1.300000      0.000000   \n",
              "25%        5.000000     19.000000      2.000000      7.000000      0.000000   \n",
              "50%        9.000000     30.000000      4.000000      9.000000      0.000000   \n",
              "75%       16.000000     42.115385      8.000000     12.000000      1.000000   \n",
              "max       60.000000    409.700000     33.000000    112.000000      5.000000   \n",
              "\n",
              "       airports_nearest  city_centers_nearest  parks_around3000  \\\n",
              "count      18025.000000          18048.000000      23538.000000   \n",
              "mean       28799.081942          14193.607380          0.468731   \n",
              "std        12635.724315           8614.816177          0.748183   \n",
              "min            0.000000            181.000000          0.000000   \n",
              "25%        18557.000000           9238.000000          0.000000   \n",
              "50%        26756.000000          13100.000000          0.000000   \n",
              "75%        37277.000000          16285.000000          1.000000   \n",
              "max        84869.000000          65968.000000          3.000000   \n",
              "\n",
              "       parks_nearest  ponds_around3000  ponds_nearest  days_exposition  \n",
              "count    8021.000000      23538.000000    9026.000000     20373.000000  \n",
              "mean      490.555542          0.589812     518.425105       180.778285  \n",
              "std       341.689784          0.883796     277.991357       219.793294  \n",
              "min         1.000000          0.000000      13.000000         1.000000  \n",
              "25%       288.000000          0.000000     293.000000        45.000000  \n",
              "50%       455.000000          0.000000     503.000000        95.000000  \n",
              "75%       612.000000          1.000000     730.000000       231.000000  \n",
              "max      3190.000000          3.000000    1344.000000      1580.000000  "
            ]
          },
          "execution_count": 19,
          "metadata": {},
          "output_type": "execute_result"
        }
      ],
      "source": [
        "data.describe()"
      ]
    },
    {
      "cell_type": "markdown",
      "metadata": {
        "id": "Y9csHh69tZfx"
      },
      "source": [
        "total_images - есть без изображений, максимально 50 шт. медиана - 10 шт. вполне реалистично.\n",
        "last_price - посмотрим внимательнее с помощью гистограмм в районе максимальных и минимальных значений"
      ]
    },
    {
      "cell_type": "code",
      "execution_count": null,
      "metadata": {
        "id": "pVmDomwMtZfx",
        "outputId": "4a6f8279-7647-4b6a-aea0-608aa2713190"
      },
      "outputs": [
        {
          "data": {
            "text/plain": [
              "array([[<AxesSubplot:title={'center':'last_price'}>]], dtype=object)"
            ]
          },
          "execution_count": 20,
          "metadata": {},
          "output_type": "execute_result"
        },
        {
          "data": {
            "image/png": "[encoded data removed]",
            "text/plain": [
              "<Figure size 432x288 with 1 Axes>"
            ]
          },
          "metadata": {
            "needs_background": "light"
          },
          "output_type": "display_data"
        },
        {
          "data": {
            "image/png": "[encoded data removed]",
            "text/plain": [
              "<Figure size 432x288 with 1 Axes>"
            ]
          },
          "metadata": {
            "needs_background": "light"
          },
          "output_type": "display_data"
        }
      ],
      "source": [
        "data.hist('last_price', bins=50, range=(0,1e+06))\n",
        "data.hist('last_price', bins=50, range=(1e+08,7.65e+08))"
      ]
    },
    {
      "cell_type": "markdown",
      "metadata": {
        "id": "BZ4eS767tZfx"
      },
      "source": [
        "Удалим данные по квартирам меньше 400 тыс и больше 100 млн"
      ]
    },
    {
      "cell_type": "code",
      "execution_count": null,
      "metadata": {
        "id": "lYlSLM7utZfy"
      },
      "outputs": [],
      "source": [
        "data.drop(index=data.query('last_price < 1e+05').index,inplace=True)\n",
        "data.drop(index=data.query('last_price > 1e+08').index,inplace=True)"
      ]
    },
    {
      "cell_type": "markdown",
      "metadata": {
        "id": "I-wJgUXZtZfy"
      },
      "source": [
        "total_area - минимальное значение 12 выглядит правдоподобно. Посмотрим внимательнее с помощью гистограмм в районе максимальных значений"
      ]
    },
    {
      "cell_type": "code",
      "execution_count": null,
      "metadata": {
        "id": "GGdKG4SjtZfy",
        "outputId": "bbc660d8-6321-4b32-a6c3-488ed3822ab2"
      },
      "outputs": [
        {
          "data": {
            "text/plain": [
              "array([[<AxesSubplot:title={'center':'total_area'}>]], dtype=object)"
            ]
          },
          "execution_count": 22,
          "metadata": {},
          "output_type": "execute_result"
        },
        {
          "data": {
            "image/png": "[encoded data removed]",
            "text/plain": [
              "<Figure size 432x288 with 1 Axes>"
            ]
          },
          "metadata": {
            "needs_background": "light"
          },
          "output_type": "display_data"
        }
      ],
      "source": [
        "data.hist('total_area', bins=50, range=(300,1000))"
      ]
    },
    {
      "cell_type": "markdown",
      "metadata": {
        "id": "50x_CdV2tZfz"
      },
      "source": [
        "Больше 400 кв.м. значений немного, можно пренебречь"
      ]
    },
    {
      "cell_type": "code",
      "execution_count": null,
      "metadata": {
        "id": "4Hv4TabTtZfz"
      },
      "outputs": [],
      "source": [
        "data.drop(index=data.query('total_area > 400').index,inplace=True)"
      ]
    },
    {
      "cell_type": "markdown",
      "metadata": {
        "id": "pVQbjGRftZf0"
      },
      "source": [
        "rooms - посмотрим внимательнее с помощью гистограмм в районе максимальных и минимальных значений"
      ]
    },
    {
      "cell_type": "code",
      "execution_count": null,
      "metadata": {
        "id": "Cl3BSQSPtZf0",
        "outputId": "a8abe295-951f-483e-83a2-c29d5d6af490"
      },
      "outputs": [
        {
          "data": {
            "text/plain": [
              "array([[<AxesSubplot:title={'center':'rooms'}>]], dtype=object)"
            ]
          },
          "execution_count": 24,
          "metadata": {},
          "output_type": "execute_result"
        },
        {
          "data": {
            "image/png": "[encoded data removed]",
            "text/plain": [
              "<Figure size 432x288 with 1 Axes>"
            ]
          },
          "metadata": {
            "needs_background": "light"
          },
          "output_type": "display_data"
        },
        {
          "data": {
            "image/png": "[encoded data removed]",
            "text/plain": [
              "<Figure size 432x288 with 1 Axes>"
            ]
          },
          "metadata": {
            "needs_background": "light"
          },
          "output_type": "display_data"
        }
      ],
      "source": [
        "data.hist('rooms', bins=50, range=(0,0.5))\n",
        "data.hist('rooms', bins=50, range=(10,20))"
      ]
    },
    {
      "cell_type": "markdown",
      "metadata": {
        "id": "XYP4Ey4ItZf1"
      },
      "source": [
        "Почти 200 квартир с количеством комнат 0 - не будем удалять значение, т.к. это могут быть студии, в которых продавец мог указать 1 или 0 комнат.\n",
        "9 квартир, в которых 10 и более комнат - удалим данные значения"
      ]
    },
    {
      "cell_type": "code",
      "execution_count": null,
      "metadata": {
        "id": "fnxVCdMZtZf1"
      },
      "outputs": [],
      "source": [
        "data.drop(index=data.query('rooms >= 10').index,inplace=True)"
      ]
    },
    {
      "cell_type": "markdown",
      "metadata": {
        "id": "EgQOAnXGtZf1"
      },
      "source": [
        "ceiling_height данные в столбце выглядят правдоподобно, т.к. мы его уже очистили выше."
      ]
    },
    {
      "cell_type": "markdown",
      "metadata": {
        "id": "VorqGlmhtZf2"
      },
      "source": [
        "floors_total - минимальное значение 1 не является выбросом, а вот 60 уже похоже на выброс. Посмотрим внимательнее на значения больше 37, т.к. самым высоким жилым зданием Санкт-Петербурга является 37 этажная постройка."
      ]
    },
    {
      "cell_type": "code",
      "execution_count": null,
      "metadata": {
        "id": "IqyP8cLitZf2",
        "outputId": "ea615f29-657b-432a-d777-2dafca0626bc"
      },
      "outputs": [
        {
          "data": {
            "text/plain": [
              "array([[<AxesSubplot:title={'center':'floors_total'}>]], dtype=object)"
            ]
          },
          "execution_count": 26,
          "metadata": {},
          "output_type": "execute_result"
        },
        {
          "data": {
            "image/png": "[encoded data removed]",
            "text/plain": [
              "<Figure size 432x288 with 1 Axes>"
            ]
          },
          "metadata": {
            "needs_background": "light"
          },
          "output_type": "display_data"
        }
      ],
      "source": [
        "data.hist('floors_total', bins=50, range=(30,60))"
      ]
    },
    {
      "cell_type": "markdown",
      "metadata": {
        "id": "Z-XiFXLYtZf2"
      },
      "source": [
        "Удалим значения больше 37"
      ]
    },
    {
      "cell_type": "code",
      "execution_count": null,
      "metadata": {
        "id": "xvZbs32ptZf3"
      },
      "outputs": [],
      "source": [
        "data.drop(index=data.query('floors_total > 37').index,inplace=True)"
      ]
    },
    {
      "cell_type": "markdown",
      "metadata": {
        "id": "b6T1YJJKtZf3"
      },
      "source": [
        "living_area - подозрительно минимальное значение. По установленным нормам для Санкт Петербурга - минимальная жилая площадь должна составлять не менее 9 м2.\n",
        "Посмотрим значения менее 9, если их немного, удалим."
      ]
    },
    {
      "cell_type": "code",
      "execution_count": null,
      "metadata": {
        "id": "1msgeORRtZf3",
        "outputId": "d348e28f-81b5-4195-a28a-f126fe5035d1"
      },
      "outputs": [
        {
          "data": {
            "text/plain": [
              "array([[<AxesSubplot:title={'center':'living_area'}>]], dtype=object)"
            ]
          },
          "execution_count": 28,
          "metadata": {},
          "output_type": "execute_result"
        },
        {
          "data": {
            "image/png": "[encoded data removed]",
            "text/plain": [
              "<Figure size 432x288 with 1 Axes>"
            ]
          },
          "metadata": {
            "needs_background": "light"
          },
          "output_type": "display_data"
        }
      ],
      "source": [
        "data.hist('living_area', bins=50, range=(0,9))"
      ]
    },
    {
      "cell_type": "code",
      "execution_count": null,
      "metadata": {
        "id": "0iqF0Xd_tZf4"
      },
      "outputs": [],
      "source": [
        "data.drop(index=data.query('living_area < 9').index,inplace=True)"
      ]
    },
    {
      "cell_type": "markdown",
      "metadata": {
        "id": "oCL0PrkltZf4"
      },
      "source": [
        "Проверим что получается на текущий момент"
      ]
    },
    {
      "cell_type": "code",
      "execution_count": null,
      "metadata": {
        "id": "-qoVK6QPtZf4",
        "outputId": "2cd1c3e9-9851-482c-cc09-9e908d55a75d"
      },
      "outputs": [
        {
          "data": {
            "text/html": [
              "<div>\n",
              "<style scoped>\n",
              "    .dataframe tbody tr th:only-of-type {\n",
              "        vertical-align: middle;\n",
              "    }\n",
              "\n",
              "    .dataframe tbody tr th {\n",
              "        vertical-align: top;\n",
              "    }\n",
              "\n",
              "    .dataframe thead th {\n",
              "        text-align: right;\n",
              "    }\n",
              "</style>\n",
              "<table border=\"1\" class=\"dataframe\">\n",
              "  <thead>\n",
              "    <tr style=\"text-align: right;\">\n",
              "      <th></th>\n",
              "      <th>total_images</th>\n",
              "      <th>last_price</th>\n",
              "      <th>total_area</th>\n",
              "      <th>rooms</th>\n",
              "      <th>ceiling_height</th>\n",
              "      <th>floors_total</th>\n",
              "      <th>living_area</th>\n",
              "      <th>floor</th>\n",
              "      <th>kitchen_area</th>\n",
              "      <th>balcony</th>\n",
              "      <th>airports_nearest</th>\n",
              "      <th>city_centers_nearest</th>\n",
              "      <th>parks_around3000</th>\n",
              "      <th>parks_nearest</th>\n",
              "      <th>ponds_around3000</th>\n",
              "      <th>ponds_nearest</th>\n",
              "      <th>days_exposition</th>\n",
              "    </tr>\n",
              "  </thead>\n",
              "  <tbody>\n",
              "    <tr>\n",
              "      <th>count</th>\n",
              "      <td>23457.000000</td>\n",
              "      <td>2.345700e+04</td>\n",
              "      <td>23457.000000</td>\n",
              "      <td>23457.000000</td>\n",
              "      <td>23457.000000</td>\n",
              "      <td>23457.000000</td>\n",
              "      <td>23457.000000</td>\n",
              "      <td>23457.000000</td>\n",
              "      <td>23457.000000</td>\n",
              "      <td>23457.000000</td>\n",
              "      <td>17949.000000</td>\n",
              "      <td>17970.000000</td>\n",
              "      <td>23457.000000</td>\n",
              "      <td>7966.000000</td>\n",
              "      <td>23457.000000</td>\n",
              "      <td>8973.000000</td>\n",
              "      <td>20304.000000</td>\n",
              "    </tr>\n",
              "    <tr>\n",
              "      <th>mean</th>\n",
              "      <td>9.870614</td>\n",
              "      <td>6.212427e+06</td>\n",
              "      <td>59.598053</td>\n",
              "      <td>2.060238</td>\n",
              "      <td>2.695670</td>\n",
              "      <td>10.679413</td>\n",
              "      <td>34.214635</td>\n",
              "      <td>5.876412</td>\n",
              "      <td>10.421194</td>\n",
              "      <td>0.594066</td>\n",
              "      <td>28806.503872</td>\n",
              "      <td>14224.532721</td>\n",
              "      <td>0.466257</td>\n",
              "      <td>490.874466</td>\n",
              "      <td>0.587117</td>\n",
              "      <td>519.382481</td>\n",
              "      <td>180.500197</td>\n",
              "    </tr>\n",
              "    <tr>\n",
              "      <th>std</th>\n",
              "      <td>5.676071</td>\n",
              "      <td>6.267373e+06</td>\n",
              "      <td>31.591790</td>\n",
              "      <td>1.041063</td>\n",
              "      <td>0.216031</td>\n",
              "      <td>6.581979</td>\n",
              "      <td>20.246131</td>\n",
              "      <td>4.869716</td>\n",
              "      <td>5.727822</td>\n",
              "      <td>0.960125</td>\n",
              "      <td>12649.413408</td>\n",
              "      <td>8608.874454</td>\n",
              "      <td>0.745769</td>\n",
              "      <td>342.376476</td>\n",
              "      <td>0.881256</td>\n",
              "      <td>277.895319</td>\n",
              "      <td>219.460662</td>\n",
              "    </tr>\n",
              "    <tr>\n",
              "      <th>min</th>\n",
              "      <td>0.000000</td>\n",
              "      <td>4.300000e+05</td>\n",
              "      <td>12.000000</td>\n",
              "      <td>0.000000</td>\n",
              "      <td>2.200000</td>\n",
              "      <td>1.000000</td>\n",
              "      <td>9.000000</td>\n",
              "      <td>1.000000</td>\n",
              "      <td>1.300000</td>\n",
              "      <td>0.000000</td>\n",
              "      <td>0.000000</td>\n",
              "      <td>181.000000</td>\n",
              "      <td>0.000000</td>\n",
              "      <td>1.000000</td>\n",
              "      <td>0.000000</td>\n",
              "      <td>13.000000</td>\n",
              "      <td>1.000000</td>\n",
              "    </tr>\n",
              "    <tr>\n",
              "      <th>25%</th>\n",
              "      <td>6.000000</td>\n",
              "      <td>3.400000e+06</td>\n",
              "      <td>40.000000</td>\n",
              "      <td>1.000000</td>\n",
              "      <td>2.600000</td>\n",
              "      <td>5.000000</td>\n",
              "      <td>19.000000</td>\n",
              "      <td>2.000000</td>\n",
              "      <td>7.000000</td>\n",
              "      <td>0.000000</td>\n",
              "      <td>18539.000000</td>\n",
              "      <td>9289.000000</td>\n",
              "      <td>0.000000</td>\n",
              "      <td>288.000000</td>\n",
              "      <td>0.000000</td>\n",
              "      <td>295.000000</td>\n",
              "      <td>45.000000</td>\n",
              "    </tr>\n",
              "    <tr>\n",
              "      <th>50%</th>\n",
              "      <td>9.000000</td>\n",
              "      <td>4.600000e+06</td>\n",
              "      <td>52.000000</td>\n",
              "      <td>2.000000</td>\n",
              "      <td>2.650000</td>\n",
              "      <td>9.000000</td>\n",
              "      <td>30.000000</td>\n",
              "      <td>4.000000</td>\n",
              "      <td>9.000000</td>\n",
              "      <td>0.000000</td>\n",
              "      <td>26766.000000</td>\n",
              "      <td>13123.000000</td>\n",
              "      <td>0.000000</td>\n",
              "      <td>455.000000</td>\n",
              "      <td>0.000000</td>\n",
              "      <td>503.000000</td>\n",
              "      <td>95.000000</td>\n",
              "    </tr>\n",
              "    <tr>\n",
              "      <th>75%</th>\n",
              "      <td>14.000000</td>\n",
              "      <td>6.750000e+06</td>\n",
              "      <td>69.300000</td>\n",
              "      <td>3.000000</td>\n",
              "      <td>2.700000</td>\n",
              "      <td>16.000000</td>\n",
              "      <td>42.000000</td>\n",
              "      <td>8.000000</td>\n",
              "      <td>12.000000</td>\n",
              "      <td>1.000000</td>\n",
              "      <td>37310.000000</td>\n",
              "      <td>16293.000000</td>\n",
              "      <td>1.000000</td>\n",
              "      <td>612.000000</td>\n",
              "      <td>1.000000</td>\n",
              "      <td>732.000000</td>\n",
              "      <td>231.000000</td>\n",
              "    </tr>\n",
              "    <tr>\n",
              "      <th>max</th>\n",
              "      <td>50.000000</td>\n",
              "      <td>9.900000e+07</td>\n",
              "      <td>400.000000</td>\n",
              "      <td>9.000000</td>\n",
              "      <td>5.800000</td>\n",
              "      <td>36.000000</td>\n",
              "      <td>255.700000</td>\n",
              "      <td>33.000000</td>\n",
              "      <td>107.000000</td>\n",
              "      <td>5.000000</td>\n",
              "      <td>84869.000000</td>\n",
              "      <td>65968.000000</td>\n",
              "      <td>3.000000</td>\n",
              "      <td>3190.000000</td>\n",
              "      <td>3.000000</td>\n",
              "      <td>1344.000000</td>\n",
              "      <td>1580.000000</td>\n",
              "    </tr>\n",
              "  </tbody>\n",
              "</table>\n",
              "</div>"
            ],
            "text/plain": [
              "       total_images    last_price    total_area         rooms  ceiling_height  \\\n",
              "count  23457.000000  2.345700e+04  23457.000000  23457.000000    23457.000000   \n",
              "mean       9.870614  6.212427e+06     59.598053      2.060238        2.695670   \n",
              "std        5.676071  6.267373e+06     31.591790      1.041063        0.216031   \n",
              "min        0.000000  4.300000e+05     12.000000      0.000000        2.200000   \n",
              "25%        6.000000  3.400000e+06     40.000000      1.000000        2.600000   \n",
              "50%        9.000000  4.600000e+06     52.000000      2.000000        2.650000   \n",
              "75%       14.000000  6.750000e+06     69.300000      3.000000        2.700000   \n",
              "max       50.000000  9.900000e+07    400.000000      9.000000        5.800000   \n",
              "\n",
              "       floors_total   living_area         floor  kitchen_area       balcony  \\\n",
              "count  23457.000000  23457.000000  23457.000000  23457.000000  23457.000000   \n",
              "mean      10.679413     34.214635      5.876412     10.421194      0.594066   \n",
              "std        6.581979     20.246131      4.869716      5.727822      0.960125   \n",
              "min        1.000000      9.000000      1.000000      1.300000      0.000000   \n",
              "25%        5.000000     19.000000      2.000000      7.000000      0.000000   \n",
              "50%        9.000000     30.000000      4.000000      9.000000      0.000000   \n",
              "75%       16.000000     42.000000      8.000000     12.000000      1.000000   \n",
              "max       36.000000    255.700000     33.000000    107.000000      5.000000   \n",
              "\n",
              "       airports_nearest  city_centers_nearest  parks_around3000  \\\n",
              "count      17949.000000          17970.000000      23457.000000   \n",
              "mean       28806.503872          14224.532721          0.466257   \n",
              "std        12649.413408           8608.874454          0.745769   \n",
              "min            0.000000            181.000000          0.000000   \n",
              "25%        18539.000000           9289.000000          0.000000   \n",
              "50%        26766.000000          13123.000000          0.000000   \n",
              "75%        37310.000000          16293.000000          1.000000   \n",
              "max        84869.000000          65968.000000          3.000000   \n",
              "\n",
              "       parks_nearest  ponds_around3000  ponds_nearest  days_exposition  \n",
              "count    7966.000000      23457.000000    8973.000000     20304.000000  \n",
              "mean      490.874466          0.587117     519.382481       180.500197  \n",
              "std       342.376476          0.881256     277.895319       219.460662  \n",
              "min         1.000000          0.000000      13.000000         1.000000  \n",
              "25%       288.000000          0.000000     295.000000        45.000000  \n",
              "50%       455.000000          0.000000     503.000000        95.000000  \n",
              "75%       612.000000          1.000000     732.000000       231.000000  \n",
              "max      3190.000000          3.000000    1344.000000      1580.000000  "
            ]
          },
          "execution_count": 30,
          "metadata": {},
          "output_type": "execute_result"
        }
      ],
      "source": [
        "data.describe()"
      ]
    },
    {
      "cell_type": "markdown",
      "metadata": {
        "id": "_10RzlEmtZf5"
      },
      "source": [
        "Значения в столбцах kitchen_area, balcony, city_centers_nearest, parks_around3000, parks_nearest,\tponds_around3000, ponds_nearest выглядят правдоподобно.\n",
        "Остается разобраться только с минимальным значением airports_nearest и максимальным значением days_exposition"
      ]
    },
    {
      "cell_type": "code",
      "execution_count": null,
      "metadata": {
        "id": "9bPb5wrZtZf5",
        "outputId": "4d8417d2-fd15-4d33-8df8-64898af85b07"
      },
      "outputs": [
        {
          "data": {
            "text/plain": [
              "array([[<AxesSubplot:title={'center':'days_exposition'}>]], dtype=object)"
            ]
          },
          "execution_count": 31,
          "metadata": {},
          "output_type": "execute_result"
        },
        {
          "data": {
            "image/png": "[encoded data removed]",
            "text/plain": [
              "<Figure size 432x288 with 1 Axes>"
            ]
          },
          "metadata": {
            "needs_background": "light"
          },
          "output_type": "display_data"
        },
        {
          "data": {
            "image/png": "[encoded data removed]",
            "text/plain": [
              "<Figure size 432x288 with 1 Axes>"
            ]
          },
          "metadata": {
            "needs_background": "light"
          },
          "output_type": "display_data"
        }
      ],
      "source": [
        "data.hist('airports_nearest', bins=50, range=(0,5e+03)) #смотрим постройки ближе 5 км\n",
        "data.hist('days_exposition', bins=50, range=(1095,1580)) #смотрим объявления старше 3 лет"
      ]
    },
    {
      "cell_type": "markdown",
      "metadata": {
        "id": "NGXuXqCYtZf5"
      },
      "source": [
        "Удаляем данные ближе 5 км к аэропорту и старше 3 лет размещения."
      ]
    },
    {
      "cell_type": "code",
      "execution_count": null,
      "metadata": {
        "id": "qFc2cbJztZf6"
      },
      "outputs": [],
      "source": [
        "data.drop(index=data.query('airports_nearest < 5e+03').index,inplace=True)\n",
        "data.drop(index=data.query('days_exposition > 1095').index,inplace=True)"
      ]
    },
    {
      "cell_type": "markdown",
      "metadata": {
        "id": "bNpT-8-btZf7"
      },
      "source": [
        "На данном этапе проведена следующая работа, в соответствии с чек-листом:\n",
        "-заполнены пропущенные значения там, где это возможно\n",
        "-изменены типы данных\n",
        "-устранены неявные дубликаты в названиях населённых пунктов\n",
        "-устранены редкие и выбивающиеся значения (аномалии) во всех столбцах"
      ]
    },
    {
      "cell_type": "code",
      "execution_count": null,
      "metadata": {
        "id": "kx5pD5C7tZf8",
        "outputId": "316e2524-3c40-413c-ccec-f8579b370a37"
      },
      "outputs": [
        {
          "name": "stdout",
          "output_type": "stream",
          "text": [
            "<class 'pandas.core.frame.DataFrame'>\n",
            "Int64Index: 23293 entries, 0 to 23698\n",
            "Data columns (total 22 columns):\n",
            " #   Column                Non-Null Count  Dtype         \n",
            "---  ------                --------------  -----         \n",
            " 0   total_images          23293 non-null  int64         \n",
            " 1   last_price            23293 non-null  int64         \n",
            " 2   total_area            23293 non-null  float64       \n",
            " 3   first_day_exposition  23293 non-null  datetime64[ns]\n",
            " 4   rooms                 23293 non-null  int64         \n",
            " 5   ceiling_height        23293 non-null  float64       \n",
            " 6   floors_total          23293 non-null  int64         \n",
            " 7   living_area           23293 non-null  float64       \n",
            " 8   floor                 23293 non-null  int64         \n",
            " 9   is_apartment          23293 non-null  bool          \n",
            " 10  studio                23293 non-null  bool          \n",
            " 11  open_plan             23293 non-null  bool          \n",
            " 12  kitchen_area          23293 non-null  float64       \n",
            " 13  balcony               23293 non-null  int64         \n",
            " 14  locality_name         23293 non-null  object        \n",
            " 15  airports_nearest      17806 non-null  float64       \n",
            " 16  city_centers_nearest  17827 non-null  float64       \n",
            " 17  parks_around3000      23293 non-null  int64         \n",
            " 18  parks_nearest         7895 non-null   float64       \n",
            " 19  ponds_around3000      23293 non-null  int64         \n",
            " 20  ponds_nearest         8881 non-null   float64       \n",
            " 21  days_exposition       20140 non-null  float64       \n",
            "dtypes: bool(3), datetime64[ns](1), float64(9), int64(8), object(1)\n",
            "memory usage: 3.6+ MB\n"
          ]
        }
      ],
      "source": [
        "data.info()"
      ]
    },
    {
      "cell_type": "markdown",
      "metadata": {
        "id": "mmK1GPuetZf9"
      },
      "source": [
        "<div class=\"alert alert-block alert-info\">\n",
        "\n",
        "От изначальных 23699 записей осталось 23293, а значит убрали 1,7% записей, что не критично"
      ]
    },
    {
      "cell_type": "markdown",
      "metadata": {
        "id": "4YEqIB4LtZf-"
      },
      "source": [
        "### Посчитайте и добавьте в таблицу новые столбцы"
      ]
    },
    {
      "cell_type": "markdown",
      "metadata": {
        "id": "K6YAM2BBtZf-"
      },
      "source": [
        "Посчитаем и добавим в таблицу:\n",
        "-цена одного квадратного метра\n",
        "-день публикации объявления (0 - понедельник, 1 - вторник и т.д.)\n",
        "-месяц публикации объявления\n",
        "-год публикации объявления"
      ]
    },
    {
      "cell_type": "code",
      "execution_count": null,
      "metadata": {
        "id": "AIIWU7vqtZf_"
      },
      "outputs": [],
      "source": [
        "data['cost_per_sqm'] = data['last_price'] / data['total_area']\n",
        "data['day_of_week'] = data['first_day_exposition'].dt.day_of_week\n",
        "data['month'] = data['first_day_exposition'].dt.month\n",
        "data['year'] = data['first_day_exposition'].dt.year"
      ]
    },
    {
      "cell_type": "markdown",
      "metadata": {
        "id": "dVeaj3e3tZgA"
      },
      "source": [
        "Посчитаем и добавим в таблицу: тип этажа квартиры (значения — «первый», «последний», «другой»).\n",
        "Для этого создадим функцию"
      ]
    },
    {
      "cell_type": "code",
      "execution_count": null,
      "metadata": {
        "id": "GFKncCVHtZgA"
      },
      "outputs": [],
      "source": [
        "def floor_type(row):\n",
        "    if row['floor'] == 1:\n",
        "        return 'первый'\n",
        "    elif row['floor'] == row['floors_total']:\n",
        "        return 'последний'\n",
        "    else:\n",
        "        return 'другой'\n",
        "data['floor_type'] = data.apply(floor_type, axis=1)"
      ]
    },
    {
      "cell_type": "markdown",
      "metadata": {
        "id": "RBrbcXFOtZgB"
      },
      "source": [
        "Посчитаем и добавим в таблицу расстояние в км до центра города"
      ]
    },
    {
      "cell_type": "code",
      "execution_count": null,
      "metadata": {
        "id": "27sNS7m8tZgB"
      },
      "outputs": [],
      "source": [
        "data['city_centers_nearest_km'] = round(data['city_centers_nearest'] / 1000)"
      ]
    },
    {
      "cell_type": "markdown",
      "metadata": {
        "id": "Fm_bi-TZtZgD"
      },
      "source": [
        "### Проведите исследовательский анализ данных"
      ]
    },
    {
      "cell_type": "markdown",
      "metadata": {
        "id": "gKha12zktZgD"
      },
      "source": [
        "На предварительном этапе мы начали изучение параметров по каждому столбцу, опишем их более детально, для этого построим гистограммы по исследуемым параметрам"
      ]
    },
    {
      "cell_type": "code",
      "execution_count": null,
      "metadata": {
        "id": "pSx8QTTXtZgD",
        "outputId": "659c827f-9e6d-4931-b05d-410bb9c8f4d6"
      },
      "outputs": [
        {
          "data": {
            "image/png": "[encoded data removed]",
            "text/plain": [
              "<Figure size 432x288 with 1 Axes>"
            ]
          },
          "metadata": {
            "needs_background": "light"
          },
          "output_type": "display_data"
        },
        {
          "data": {
            "image/png": "[encoded data removed]",
            "text/plain": [
              "<Figure size 432x288 with 1 Axes>"
            ]
          },
          "metadata": {
            "needs_background": "light"
          },
          "output_type": "display_data"
        },
        {
          "data": {
            "image/png": "[encoded data removed]",
            "text/plain": [
              "<Figure size 432x288 with 1 Axes>"
            ]
          },
          "metadata": {
            "needs_background": "light"
          },
          "output_type": "display_data"
        },
        {
          "data": {
            "image/png": "[encoded data removed]",
            "text/plain": [
              "<Figure size 432x288 with 1 Axes>"
            ]
          },
          "metadata": {
            "needs_background": "light"
          },
          "output_type": "display_data"
        },
        {
          "data": {
            "image/png": "[encoded data removed]",
            "text/plain": [
              "<Figure size 432x288 with 1 Axes>"
            ]
          },
          "metadata": {
            "needs_background": "light"
          },
          "output_type": "display_data"
        }
      ],
      "source": [
        "data.hist('total_area', bins=50, range=(0,300));\n",
        "data.hist('living_area', bins=30, range=(0,200));\n",
        "data.hist('kitchen_area', bins=50, range=(0,60));\n",
        "data.hist('last_price', bins=50, range=(1e+05,2e+07));\n",
        "data.hist('rooms', bins=10, range=(0,8));"
      ]
    },
    {
      "cell_type": "markdown",
      "metadata": {
        "id": "99pmckAWtZgE"
      },
      "source": [
        "Общая площадь - распределение Пуассона. Выбросы очищены на предыдущем шаге. Основная масса квартир 25-50 м2 - это логично, т.к. является самой популярной категорией в продаже квартир (одно-двух комнатные). Квартир большой площади (более 100 значиетельно меньше.\n",
        "\n",
        "Жилая площадь - аналогично общей площади, только тут наблюдаем два пика в связи с провалом в районе 23 м2\n",
        "\n",
        "Площадь кухни - аналогично общей площади, это объяснимо, т.к. между этими двумя показателями обычно прямая зависимость.\n",
        "\n",
        "Стоимость - распределение Пуассона. Выбросы очищены на предыдущем шаге. Основное скопление цен от 2.5 до 6 млн. после 10 млн предложений не много.\n",
        "\n",
        "Кол-во комнат - как мы уже сталкивались на этапе предобработки данных есть показатель 0 с малым значением, который мы оставили, т.к. предположили, что это студии. Подтверждается предположение, которое мы делали изучая общую площадь одно-двух комнатные квартиры самая популярная категория."
      ]
    },
    {
      "cell_type": "code",
      "execution_count": null,
      "metadata": {
        "id": "j2j-zprCtZgE",
        "outputId": "18a7efe3-a3cf-44c5-97ac-8db78101e516"
      },
      "outputs": [
        {
          "data": {
            "image/png": "[encoded data removed]",
            "text/plain": [
              "<Figure size 432x288 with 1 Axes>"
            ]
          },
          "metadata": {
            "needs_background": "light"
          },
          "output_type": "display_data"
        },
        {
          "data": {
            "image/png": "[encoded data removed]",
            "text/plain": [
              "<Figure size 432x288 with 1 Axes>"
            ]
          },
          "metadata": {
            "needs_background": "light"
          },
          "output_type": "display_data"
        },
        {
          "data": {
            "image/png": "[encoded data removed]",
            "text/plain": [
              "<Figure size 432x288 with 1 Axes>"
            ]
          },
          "metadata": {
            "needs_background": "light"
          },
          "output_type": "display_data"
        },
        {
          "data": {
            "image/png": "[encoded data removed]",
            "text/plain": [
              "<Figure size 432x288 with 1 Axes>"
            ]
          },
          "metadata": {
            "needs_background": "light"
          },
          "output_type": "display_data"
        },
        {
          "data": {
            "image/png": "[encoded data removed]",
            "text/plain": [
              "<Figure size 432x288 with 1 Axes>"
            ]
          },
          "metadata": {
            "needs_background": "light"
          },
          "output_type": "display_data"
        }
      ],
      "source": [
        "data.hist('ceiling_height', bins=50, range=(2.2,4.5));\n",
        "data.hist('floor', bins=10, range=(1,37));\n",
        "data.hist('floors_total', bins=50, range=(1,37));\n",
        "data.hist('city_centers_nearest', bins=50);\n",
        "data.hist('airports_nearest', bins=50);"
      ]
    },
    {
      "cell_type": "markdown",
      "metadata": {
        "id": "PNPAZHKYtZgF"
      },
      "source": [
        "Высота потолков - данный параметр мы подробно описывали на этапе предобработки данных. На первый взгляд может показаться странным пиковое значение 2.65, но вспомним, что именно этим значением мы обоснованно заменили пропуски данных. Если учесть, и мы убедились, что наиболее массовая группа - это малогабаритные 1-2 комнатные квартиры, предположительно \"Хрущевки\" и \"панельки\", то средняя высота потолков в дамах такого типа 2.6-2.7 м.\n",
        "\n",
        "Этаж - больше всего с 1 по 5 этаж, это подтверждает предположение выше о домах типа \"Хрущевки\" в 5 этажей. Это предположение еще было сделано, на этапе предобработки данных мы исследовали данные по жилому фонду Санкт-Петербурга, когда искали самый высокий жилой дом для очистки выбросов.\n",
        "\n",
        "Общее кол-во этажей - все значения логичны из предыдущего пункта.\n",
        "\n",
        "Расстояние до центра города - здесь несколько пиков 5 км и 10-15 км. До 5 км - считается историческим центром, там преобладает элитная недвижимость, которая продается в значительно меньшей степени. Начиная от 10-15 км -  это \"спальные районы\" в районе КАД с меньшей стомиостью, 30 - 50 км - пригород. Учитывая это распределение выглядит вполне закономерно.\n",
        "\n",
        "Расстояние до аэропорта - основной разброс от 10 до 40 км. Это логично, если учесть, что Пулково на юге за городом, соответственно все квартиры на юге будут в районе 10-15 км. от аэропорта, все квартиры на севере города в районе 30-40 км."
      ]
    },
    {
      "cell_type": "code",
      "execution_count": null,
      "metadata": {
        "id": "K7tVWRwhtZgG",
        "outputId": "059a95ce-6726-41ac-f262-07c4c920baa3"
      },
      "outputs": [
        {
          "data": {
            "image/png": "[encoded data removed]",
            "text/plain": [
              "<Figure size 432x288 with 1 Axes>"
            ]
          },
          "metadata": {
            "needs_background": "light"
          },
          "output_type": "display_data"
        },
        {
          "data": {
            "image/png": "[encoded data removed]",
            "text/plain": [
              "<Figure size 432x288 with 1 Axes>"
            ]
          },
          "metadata": {
            "needs_background": "light"
          },
          "output_type": "display_data"
        },
        {
          "data": {
            "image/png": "[encoded data removed]",
            "text/plain": [
              "<Figure size 432x288 with 1 Axes>"
            ]
          },
          "metadata": {
            "needs_background": "light"
          },
          "output_type": "display_data"
        }
      ],
      "source": [
        "data.hist('parks_nearest', bins=50);\n",
        "data.hist('day_of_week', bins=7);\n",
        "data.hist('month', bins=12);"
      ]
    },
    {
      "cell_type": "markdown",
      "metadata": {
        "id": "wTJXEgGTtZgG"
      },
      "source": [
        "Ближайшие парки - вполне логичное распределение 0-700 м основная масса - в Санкт Петербурге очень много парков в шаговой доступности.\n",
        "\n",
        "День недели размещения оьбъявления - на выходных размещений меньше, что логично.\n",
        "\n",
        "Месяц размещения объявления - январь, май, декабрь - спад активности, что с учетом данных из предыдущей гистограммы подтверждает, что на выходных и праздниках пользователи менее активны."
      ]
    },
    {
      "cell_type": "code",
      "execution_count": null,
      "metadata": {
        "id": "pc0--mrktZgH",
        "outputId": "b485f80d-feaf-475f-c861-8ecdf281fe26"
      },
      "outputs": [
        {
          "data": {
            "image/png": "[encoded data removed]",
            "text/plain": [
              "<Figure size 432x288 with 1 Axes>"
            ]
          },
          "metadata": {
            "needs_background": "light"
          },
          "output_type": "display_data"
        }
      ],
      "source": [
        "data.groupby(by='floor_type')['floor_type'].count().plot(kind='bar', ylabel = 'count');"
      ]
    },
    {
      "cell_type": "markdown",
      "metadata": {
        "id": "F1GKgKMKtZgH"
      },
      "source": [
        "Тип этажа - первый и последний этажи продаются примерно одинаково."
      ]
    },
    {
      "cell_type": "markdown",
      "metadata": {
        "id": "DJxsF6Z7tZgI"
      },
      "source": [
        "Выполним задание \"Изучите, как быстро продавались квартиры (столбец days_exposition). Этот параметр показывает, сколько дней «висело» каждое объявление.\n",
        "Постройте гистограмму.\n",
        "Посчитайте среднее и медиану"
      ]
    },
    {
      "cell_type": "code",
      "execution_count": null,
      "metadata": {
        "id": "H_dXnnYKtZgJ",
        "outputId": "a373a1af-afc2-4e79-d99f-03ab9b38b634"
      },
      "outputs": [
        {
          "data": {
            "text/plain": [
              "count    20140.000000\n",
              "mean       171.872691\n",
              "std        197.885269\n",
              "min          1.000000\n",
              "25%         44.000000\n",
              "50%         94.000000\n",
              "75%        225.000000\n",
              "max       1095.000000\n",
              "Name: days_exposition, dtype: float64"
            ]
          },
          "execution_count": 41,
          "metadata": {},
          "output_type": "execute_result"
        }
      ],
      "source": [
        "data['days_exposition'].describe()"
      ]
    },
    {
      "cell_type": "code",
      "execution_count": null,
      "metadata": {
        "id": "inrDAU-KtZgJ",
        "outputId": "5d3699c3-954c-4a8c-9e86-fb77cae8e963"
      },
      "outputs": [
        {
          "data": {
            "text/plain": [
              "array([[<AxesSubplot:title={'center':'days_exposition'}>]], dtype=object)"
            ]
          },
          "execution_count": 42,
          "metadata": {},
          "output_type": "execute_result"
        },
        {
          "data": {
            "image/png": "[encoded data removed]",
            "text/plain": [
              "<Figure size 432x288 with 1 Axes>"
            ]
          },
          "metadata": {
            "needs_background": "light"
          },
          "output_type": "display_data"
        }
      ],
      "source": [
        "data.hist('days_exposition', bins=100)"
      ]
    },
    {
      "cell_type": "markdown",
      "metadata": {
        "id": "j3Argcu6tZgK"
      },
      "source": [
        "Среднее время продажи - 171 день\n",
        "Медиана - 94 дня.\n",
        "График имеет длинный хвост, посмотрим крупнее между квартилями."
      ]
    },
    {
      "cell_type": "code",
      "execution_count": null,
      "metadata": {
        "id": "gayBXJ-itZgM",
        "outputId": "bdd0dcf0-c091-4a78-89d3-fae3bb6749ae"
      },
      "outputs": [
        {
          "data": {
            "text/plain": [
              "array([[<AxesSubplot:title={'center':'days_exposition'}>]], dtype=object)"
            ]
          },
          "execution_count": 43,
          "metadata": {},
          "output_type": "execute_result"
        },
        {
          "data": {
            "image/png": "[encoded data removed]",
            "text/plain": [
              "<Figure size 432x288 with 1 Axes>"
            ]
          },
          "metadata": {
            "needs_background": "light"
          },
          "output_type": "display_data"
        }
      ],
      "source": [
        "data.hist('days_exposition', bins=100, range=(40,230))"
      ]
    },
    {
      "cell_type": "markdown",
      "metadata": {
        "id": "KWlucQHgtZgN"
      },
      "source": [
        "Есть пики в районе 40 , 60 и 90 дней, но медиана в районе 94, т.е. можно утверждать, что в основном квартиры продаются до трех месяцев, но присутствуют и очень длинные продажи год и более.\n",
        "(Тут можно было  дополнительно уточнить у заказчика есть ли на сайте автоматическое закрытие объявления в случае неактивности, или его отсутствие може давать искажение)"
      ]
    },
    {
      "cell_type": "markdown",
      "metadata": {
        "id": "0YtrXKHvtZgP"
      },
      "source": [
        "<div class=\"alert alert-block alert-info\">\n",
        "\n",
        "По ссылке для Москвы, Санкт-Петербурга и области срок размещения бесплатных объявлений 120 дней т.е. нет ограничения на 45, 60 и 90 дней, как для регионов, но судя по данным из графика эти ограничения были в 2015 году. Выбросы удалил, пересчитал, медиана сдвинулась с 94 на 98 дней, т.е. продажи до 98 дней считаются быстрыми."
      ]
    },
    {
      "cell_type": "code",
      "execution_count": null,
      "metadata": {
        "id": "1jTcECSgtZgP",
        "outputId": "7c0faf43-2c93-45d0-b460-dafd44d2593b"
      },
      "outputs": [
        {
          "data": {
            "text/plain": [
              "count    19604.000000\n",
              "mean       174.931443\n",
              "std        199.694063\n",
              "min          1.000000\n",
              "25%         43.000000\n",
              "50%         98.000000\n",
              "75%        231.000000\n",
              "max       1095.000000\n",
              "Name: days_exposition, dtype: float64"
            ]
          },
          "execution_count": 44,
          "metadata": {},
          "output_type": "execute_result"
        }
      ],
      "source": [
        "data.drop(index=data.query('days_exposition == 45').index,inplace=True)\n",
        "data.drop(index=data.query('days_exposition == 60').index,inplace=True)\n",
        "data.drop(index=data.query('days_exposition == 90').index,inplace=True)\n",
        "data['days_exposition'].describe()"
      ]
    },
    {
      "cell_type": "markdown",
      "metadata": {
        "id": "fpZLUy_WtZgR"
      },
      "source": [
        "Выполоним задание:\n",
        "Какие факторы больше всего влияют на общую (полную) стоимость объекта?\n",
        "Посмотрим корреляцию для определения влияния параметров на цену."
      ]
    },
    {
      "cell_type": "code",
      "execution_count": null,
      "metadata": {
        "id": "dN7SEYyytZgR",
        "outputId": "4d9f23c6-6b5e-429d-b4c6-f274e441eb4d"
      },
      "outputs": [
        {
          "data": {
            "text/html": [
              "<div>\n",
              "<style scoped>\n",
              "    .dataframe tbody tr th:only-of-type {\n",
              "        vertical-align: middle;\n",
              "    }\n",
              "\n",
              "    .dataframe tbody tr th {\n",
              "        vertical-align: top;\n",
              "    }\n",
              "\n",
              "    .dataframe thead th {\n",
              "        text-align: right;\n",
              "    }\n",
              "</style>\n",
              "<table border=\"1\" class=\"dataframe\">\n",
              "  <thead>\n",
              "    <tr style=\"text-align: right;\">\n",
              "      <th></th>\n",
              "      <th>last_price</th>\n",
              "      <th>total_area</th>\n",
              "      <th>living_area</th>\n",
              "      <th>kitchen_area</th>\n",
              "      <th>rooms</th>\n",
              "      <th>floor</th>\n",
              "      <th>balcony</th>\n",
              "      <th>ceiling_height</th>\n",
              "      <th>city_centers_nearest</th>\n",
              "      <th>is_apartment</th>\n",
              "      <th>parks_around3000</th>\n",
              "      <th>parks_nearest</th>\n",
              "      <th>ponds_around3000</th>\n",
              "      <th>ponds_nearest</th>\n",
              "    </tr>\n",
              "  </thead>\n",
              "  <tbody>\n",
              "    <tr>\n",
              "      <th>last_price</th>\n",
              "      <td>1.000000</td>\n",
              "      <td>0.764985</td>\n",
              "      <td>0.683443</td>\n",
              "      <td>0.612694</td>\n",
              "      <td>0.467290</td>\n",
              "      <td>0.037592</td>\n",
              "      <td>0.013735</td>\n",
              "      <td>0.390212</td>\n",
              "      <td>-0.303205</td>\n",
              "      <td>0.035166</td>\n",
              "      <td>0.283140</td>\n",
              "      <td>-0.014601</td>\n",
              "      <td>0.283797</td>\n",
              "      <td>-0.119738</td>\n",
              "    </tr>\n",
              "    <tr>\n",
              "      <th>total_area</th>\n",
              "      <td>0.764985</td>\n",
              "      <td>1.000000</td>\n",
              "      <td>0.941205</td>\n",
              "      <td>0.638706</td>\n",
              "      <td>0.780480</td>\n",
              "      <td>-0.030819</td>\n",
              "      <td>0.015480</td>\n",
              "      <td>0.397502</td>\n",
              "      <td>-0.240385</td>\n",
              "      <td>0.024352</td>\n",
              "      <td>0.208456</td>\n",
              "      <td>-0.019524</td>\n",
              "      <td>0.205087</td>\n",
              "      <td>-0.092686</td>\n",
              "    </tr>\n",
              "    <tr>\n",
              "      <th>living_area</th>\n",
              "      <td>0.683443</td>\n",
              "      <td>0.941205</td>\n",
              "      <td>1.000000</td>\n",
              "      <td>0.457624</td>\n",
              "      <td>0.848034</td>\n",
              "      <td>-0.098883</td>\n",
              "      <td>-0.009293</td>\n",
              "      <td>0.372412</td>\n",
              "      <td>-0.235113</td>\n",
              "      <td>0.023593</td>\n",
              "      <td>0.213512</td>\n",
              "      <td>-0.049993</td>\n",
              "      <td>0.185006</td>\n",
              "      <td>-0.077412</td>\n",
              "    </tr>\n",
              "    <tr>\n",
              "      <th>kitchen_area</th>\n",
              "      <td>0.612694</td>\n",
              "      <td>0.638706</td>\n",
              "      <td>0.457624</td>\n",
              "      <td>1.000000</td>\n",
              "      <td>0.302605</td>\n",
              "      <td>0.112195</td>\n",
              "      <td>0.046382</td>\n",
              "      <td>0.329939</td>\n",
              "      <td>-0.192532</td>\n",
              "      <td>0.043822</td>\n",
              "      <td>0.127388</td>\n",
              "      <td>0.025845</td>\n",
              "      <td>0.172845</td>\n",
              "      <td>-0.091354</td>\n",
              "    </tr>\n",
              "    <tr>\n",
              "      <th>rooms</th>\n",
              "      <td>0.467290</td>\n",
              "      <td>0.780480</td>\n",
              "      <td>0.848034</td>\n",
              "      <td>0.302605</td>\n",
              "      <td>1.000000</td>\n",
              "      <td>-0.157984</td>\n",
              "      <td>-0.014493</td>\n",
              "      <td>0.234274</td>\n",
              "      <td>-0.182955</td>\n",
              "      <td>0.001468</td>\n",
              "      <td>0.156086</td>\n",
              "      <td>-0.054523</td>\n",
              "      <td>0.118136</td>\n",
              "      <td>-0.054001</td>\n",
              "    </tr>\n",
              "    <tr>\n",
              "      <th>floor</th>\n",
              "      <td>0.037592</td>\n",
              "      <td>-0.030819</td>\n",
              "      <td>-0.098883</td>\n",
              "      <td>0.112195</td>\n",
              "      <td>-0.157984</td>\n",
              "      <td>1.000000</td>\n",
              "      <td>0.175240</td>\n",
              "      <td>-0.042496</td>\n",
              "      <td>0.008568</td>\n",
              "      <td>-0.012909</td>\n",
              "      <td>-0.101235</td>\n",
              "      <td>0.072208</td>\n",
              "      <td>-0.025538</td>\n",
              "      <td>0.028311</td>\n",
              "    </tr>\n",
              "    <tr>\n",
              "      <th>balcony</th>\n",
              "      <td>0.013735</td>\n",
              "      <td>0.015480</td>\n",
              "      <td>-0.009293</td>\n",
              "      <td>0.046382</td>\n",
              "      <td>-0.014493</td>\n",
              "      <td>0.175240</td>\n",
              "      <td>1.000000</td>\n",
              "      <td>-0.043876</td>\n",
              "      <td>0.065824</td>\n",
              "      <td>0.029073</td>\n",
              "      <td>-0.070127</td>\n",
              "      <td>0.035463</td>\n",
              "      <td>-0.037421</td>\n",
              "      <td>0.016724</td>\n",
              "    </tr>\n",
              "    <tr>\n",
              "      <th>ceiling_height</th>\n",
              "      <td>0.390212</td>\n",
              "      <td>0.397502</td>\n",
              "      <td>0.372412</td>\n",
              "      <td>0.329939</td>\n",
              "      <td>0.234274</td>\n",
              "      <td>-0.042496</td>\n",
              "      <td>-0.043876</td>\n",
              "      <td>1.000000</td>\n",
              "      <td>-0.294872</td>\n",
              "      <td>0.065810</td>\n",
              "      <td>0.243713</td>\n",
              "      <td>-0.055829</td>\n",
              "      <td>0.216246</td>\n",
              "      <td>-0.109093</td>\n",
              "    </tr>\n",
              "    <tr>\n",
              "      <th>city_centers_nearest</th>\n",
              "      <td>-0.303205</td>\n",
              "      <td>-0.240385</td>\n",
              "      <td>-0.235113</td>\n",
              "      <td>-0.192532</td>\n",
              "      <td>-0.182955</td>\n",
              "      <td>0.008568</td>\n",
              "      <td>0.065824</td>\n",
              "      <td>-0.294872</td>\n",
              "      <td>1.000000</td>\n",
              "      <td>0.010054</td>\n",
              "      <td>-0.159603</td>\n",
              "      <td>-0.037514</td>\n",
              "      <td>-0.072890</td>\n",
              "      <td>0.029630</td>\n",
              "    </tr>\n",
              "    <tr>\n",
              "      <th>is_apartment</th>\n",
              "      <td>0.035166</td>\n",
              "      <td>0.024352</td>\n",
              "      <td>0.023593</td>\n",
              "      <td>0.043822</td>\n",
              "      <td>0.001468</td>\n",
              "      <td>-0.012909</td>\n",
              "      <td>0.029073</td>\n",
              "      <td>0.065810</td>\n",
              "      <td>0.010054</td>\n",
              "      <td>1.000000</td>\n",
              "      <td>0.016023</td>\n",
              "      <td>-0.029343</td>\n",
              "      <td>0.021069</td>\n",
              "      <td>0.003740</td>\n",
              "    </tr>\n",
              "    <tr>\n",
              "      <th>parks_around3000</th>\n",
              "      <td>0.283140</td>\n",
              "      <td>0.208456</td>\n",
              "      <td>0.213512</td>\n",
              "      <td>0.127388</td>\n",
              "      <td>0.156086</td>\n",
              "      <td>-0.101235</td>\n",
              "      <td>-0.070127</td>\n",
              "      <td>0.243713</td>\n",
              "      <td>-0.159603</td>\n",
              "      <td>0.016023</td>\n",
              "      <td>1.000000</td>\n",
              "      <td>-0.258683</td>\n",
              "      <td>0.390557</td>\n",
              "      <td>-0.166107</td>\n",
              "    </tr>\n",
              "    <tr>\n",
              "      <th>parks_nearest</th>\n",
              "      <td>-0.014601</td>\n",
              "      <td>-0.019524</td>\n",
              "      <td>-0.049993</td>\n",
              "      <td>0.025845</td>\n",
              "      <td>-0.054523</td>\n",
              "      <td>0.072208</td>\n",
              "      <td>0.035463</td>\n",
              "      <td>-0.055829</td>\n",
              "      <td>-0.037514</td>\n",
              "      <td>-0.029343</td>\n",
              "      <td>-0.258683</td>\n",
              "      <td>1.000000</td>\n",
              "      <td>0.073379</td>\n",
              "      <td>0.000784</td>\n",
              "    </tr>\n",
              "    <tr>\n",
              "      <th>ponds_around3000</th>\n",
              "      <td>0.283797</td>\n",
              "      <td>0.205087</td>\n",
              "      <td>0.185006</td>\n",
              "      <td>0.172845</td>\n",
              "      <td>0.118136</td>\n",
              "      <td>-0.025538</td>\n",
              "      <td>-0.037421</td>\n",
              "      <td>0.216246</td>\n",
              "      <td>-0.072890</td>\n",
              "      <td>0.021069</td>\n",
              "      <td>0.390557</td>\n",
              "      <td>0.073379</td>\n",
              "      <td>1.000000</td>\n",
              "      <td>-0.345507</td>\n",
              "    </tr>\n",
              "    <tr>\n",
              "      <th>ponds_nearest</th>\n",
              "      <td>-0.119738</td>\n",
              "      <td>-0.092686</td>\n",
              "      <td>-0.077412</td>\n",
              "      <td>-0.091354</td>\n",
              "      <td>-0.054001</td>\n",
              "      <td>0.028311</td>\n",
              "      <td>0.016724</td>\n",
              "      <td>-0.109093</td>\n",
              "      <td>0.029630</td>\n",
              "      <td>0.003740</td>\n",
              "      <td>-0.166107</td>\n",
              "      <td>0.000784</td>\n",
              "      <td>-0.345507</td>\n",
              "      <td>1.000000</td>\n",
              "    </tr>\n",
              "  </tbody>\n",
              "</table>\n",
              "</div>"
            ],
            "text/plain": [
              "                      last_price  total_area  living_area  kitchen_area  \\\n",
              "last_price              1.000000    0.764985     0.683443      0.612694   \n",
              "total_area              0.764985    1.000000     0.941205      0.638706   \n",
              "living_area             0.683443    0.941205     1.000000      0.457624   \n",
              "kitchen_area            0.612694    0.638706     0.457624      1.000000   \n",
              "rooms                   0.467290    0.780480     0.848034      0.302605   \n",
              "floor                   0.037592   -0.030819    -0.098883      0.112195   \n",
              "balcony                 0.013735    0.015480    -0.009293      0.046382   \n",
              "ceiling_height          0.390212    0.397502     0.372412      0.329939   \n",
              "city_centers_nearest   -0.303205   -0.240385    -0.235113     -0.192532   \n",
              "is_apartment            0.035166    0.024352     0.023593      0.043822   \n",
              "parks_around3000        0.283140    0.208456     0.213512      0.127388   \n",
              "parks_nearest          -0.014601   -0.019524    -0.049993      0.025845   \n",
              "ponds_around3000        0.283797    0.205087     0.185006      0.172845   \n",
              "ponds_nearest          -0.119738   -0.092686    -0.077412     -0.091354   \n",
              "\n",
              "                         rooms     floor   balcony  ceiling_height  \\\n",
              "last_price            0.467290  0.037592  0.013735        0.390212   \n",
              "total_area            0.780480 -0.030819  0.015480        0.397502   \n",
              "living_area           0.848034 -0.098883 -0.009293        0.372412   \n",
              "kitchen_area          0.302605  0.112195  0.046382        0.329939   \n",
              "rooms                 1.000000 -0.157984 -0.014493        0.234274   \n",
              "floor                -0.157984  1.000000  0.175240       -0.042496   \n",
              "balcony              -0.014493  0.175240  1.000000       -0.043876   \n",
              "ceiling_height        0.234274 -0.042496 -0.043876        1.000000   \n",
              "city_centers_nearest -0.182955  0.008568  0.065824       -0.294872   \n",
              "is_apartment          0.001468 -0.012909  0.029073        0.065810   \n",
              "parks_around3000      0.156086 -0.101235 -0.070127        0.243713   \n",
              "parks_nearest        -0.054523  0.072208  0.035463       -0.055829   \n",
              "ponds_around3000      0.118136 -0.025538 -0.037421        0.216246   \n",
              "ponds_nearest        -0.054001  0.028311  0.016724       -0.109093   \n",
              "\n",
              "                      city_centers_nearest  is_apartment  parks_around3000  \\\n",
              "last_price                       -0.303205      0.035166          0.283140   \n",
              "total_area                       -0.240385      0.024352          0.208456   \n",
              "living_area                      -0.235113      0.023593          0.213512   \n",
              "kitchen_area                     -0.192532      0.043822          0.127388   \n",
              "rooms                            -0.182955      0.001468          0.156086   \n",
              "floor                             0.008568     -0.012909         -0.101235   \n",
              "balcony                           0.065824      0.029073         -0.070127   \n",
              "ceiling_height                   -0.294872      0.065810          0.243713   \n",
              "city_centers_nearest              1.000000      0.010054         -0.159603   \n",
              "is_apartment                      0.010054      1.000000          0.016023   \n",
              "parks_around3000                 -0.159603      0.016023          1.000000   \n",
              "parks_nearest                    -0.037514     -0.029343         -0.258683   \n",
              "ponds_around3000                 -0.072890      0.021069          0.390557   \n",
              "ponds_nearest                     0.029630      0.003740         -0.166107   \n",
              "\n",
              "                      parks_nearest  ponds_around3000  ponds_nearest  \n",
              "last_price                -0.014601          0.283797      -0.119738  \n",
              "total_area                -0.019524          0.205087      -0.092686  \n",
              "living_area               -0.049993          0.185006      -0.077412  \n",
              "kitchen_area               0.025845          0.172845      -0.091354  \n",
              "rooms                     -0.054523          0.118136      -0.054001  \n",
              "floor                      0.072208         -0.025538       0.028311  \n",
              "balcony                    0.035463         -0.037421       0.016724  \n",
              "ceiling_height            -0.055829          0.216246      -0.109093  \n",
              "city_centers_nearest      -0.037514         -0.072890       0.029630  \n",
              "is_apartment              -0.029343          0.021069       0.003740  \n",
              "parks_around3000          -0.258683          0.390557      -0.166107  \n",
              "parks_nearest              1.000000          0.073379       0.000784  \n",
              "ponds_around3000           0.073379          1.000000      -0.345507  \n",
              "ponds_nearest              0.000784         -0.345507       1.000000  "
            ]
          },
          "execution_count": 45,
          "metadata": {},
          "output_type": "execute_result"
        }
      ],
      "source": [
        "data[['last_price', 'total_area', 'living_area', 'kitchen_area', 'rooms', 'floor', 'balcony', 'ceiling_height', 'city_centers_nearest',  'is_apartment', 'parks_around3000', 'parks_nearest', 'ponds_around3000', 'ponds_nearest']].corr()"
      ]
    },
    {
      "cell_type": "markdown",
      "metadata": {
        "id": "sYClAnnItZgS"
      },
      "source": [
        "Общая и жилая площадь сильнее всего влияют на стоимость квартиры.\n",
        "Построим графики зависимости цены от параметров."
      ]
    },
    {
      "cell_type": "code",
      "execution_count": null,
      "metadata": {
        "id": "MIqhToV5tZgT",
        "outputId": "d16e42ad-45d1-4b86-9fab-f0c7682c6f27"
      },
      "outputs": [
        {
          "data": {
            "text/plain": [
              "<AxesSubplot:xlabel='last_price', ylabel='year'>"
            ]
          },
          "execution_count": 46,
          "metadata": {},
          "output_type": "execute_result"
        },
        {
          "data": {
            "image/png": "[encoded data removed]",
            "text/plain": [
              "<Figure size 432x288 with 1 Axes>"
            ]
          },
          "metadata": {
            "needs_background": "light"
          },
          "output_type": "display_data"
        },
        {
          "data": {
            "image/png": "[encoded data removed]",
            "text/plain": [
              "<Figure size 432x288 with 1 Axes>"
            ]
          },
          "metadata": {
            "needs_background": "light"
          },
          "output_type": "display_data"
        },
        {
          "data": {
            "image/png": "[encoded data removed]",
            "text/plain": [
              "<Figure size 432x288 with 1 Axes>"
            ]
          },
          "metadata": {
            "needs_background": "light"
          },
          "output_type": "display_data"
        },
        {
          "data": {
            "image/png": "[encoded data removed]",
            "text/plain": [
              "<Figure size 432x288 with 1 Axes>"
            ]
          },
          "metadata": {
            "needs_background": "light"
          },
          "output_type": "display_data"
        },
        {
          "data": {
            "image/png": "[encoded data removed]",
            "text/plain": [
              "<Figure size 432x288 with 1 Axes>"
            ]
          },
          "metadata": {
            "needs_background": "light"
          },
          "output_type": "display_data"
        },
        {
          "data": {
            "image/png": "[encoded data removed]",
            "text/plain": [
              "<Figure size 432x288 with 1 Axes>"
            ]
          },
          "metadata": {
            "needs_background": "light"
          },
          "output_type": "display_data"
        },
        {
          "data": {
            "image/png": "[encoded data removed]",
            "text/plain": [
              "<Figure size 432x288 with 1 Axes>"
            ]
          },
          "metadata": {
            "needs_background": "light"
          },
          "output_type": "display_data"
        },
        {
          "data": {
            "image/png": "[encoded data removed]",
            "text/plain": [
              "<Figure size 432x288 with 1 Axes>"
            ]
          },
          "metadata": {
            "needs_background": "light"
          },
          "output_type": "display_data"
        }
      ],
      "source": [
        "data.plot(x='last_price', y='total_area', kind='scatter', alpha=0.1)\n",
        "data.plot(x='last_price', y='living_area', kind='scatter', alpha=0.1)\n",
        "data.plot(x='last_price', y='kitchen_area', kind='scatter', alpha=0.1)\n",
        "data.plot(x='last_price', y='rooms', kind='scatter', alpha=0.1)\n",
        "data.plot(x='last_price', y='floor_type', kind='scatter', alpha=0.1)\n",
        "data.plot(x='last_price', y='day_of_week', kind='scatter', alpha=0.1)\n",
        "data.plot(x='last_price', y='month', kind='scatter', alpha=0.1)\n",
        "data.plot(x='last_price', y='year', kind='scatter', alpha=0.1)"
      ]
    },
    {
      "cell_type": "markdown",
      "metadata": {
        "id": "LaFr1keRtZgU"
      },
      "source": [
        "Выполним задание: Посчитайте среднюю цену одного квадратного метра в 10 населённых пунктах с наибольшим числом объявлений"
      ]
    },
    {
      "cell_type": "code",
      "execution_count": null,
      "metadata": {
        "id": "Wk6d69tatZgU",
        "outputId": "221c2034-0258-4c7b-ee04-5bc1fae43429"
      },
      "outputs": [
        {
          "data": {
            "text/html": [
              "<div>\n",
              "<style scoped>\n",
              "    .dataframe tbody tr th:only-of-type {\n",
              "        vertical-align: middle;\n",
              "    }\n",
              "\n",
              "    .dataframe tbody tr th {\n",
              "        vertical-align: top;\n",
              "    }\n",
              "\n",
              "    .dataframe thead th {\n",
              "        text-align: right;\n",
              "    }\n",
              "</style>\n",
              "<table border=\"1\" class=\"dataframe\">\n",
              "  <thead>\n",
              "    <tr style=\"text-align: right;\">\n",
              "      <th></th>\n",
              "      <th>cost_per_sqm</th>\n",
              "    </tr>\n",
              "    <tr>\n",
              "      <th>locality_name</th>\n",
              "      <th></th>\n",
              "    </tr>\n",
              "  </thead>\n",
              "  <tbody>\n",
              "    <tr>\n",
              "      <th>санкт-петербург</th>\n",
              "      <td>113635</td>\n",
              "    </tr>\n",
              "    <tr>\n",
              "      <th>пушкин</th>\n",
              "      <td>103282</td>\n",
              "    </tr>\n",
              "    <tr>\n",
              "      <th>деревня кудрово</th>\n",
              "      <td>92402</td>\n",
              "    </tr>\n",
              "    <tr>\n",
              "      <th>поселок парголово</th>\n",
              "      <td>90149</td>\n",
              "    </tr>\n",
              "    <tr>\n",
              "      <th>поселок мурино</th>\n",
              "      <td>85566</td>\n",
              "    </tr>\n",
              "    <tr>\n",
              "      <th>поселок шушары</th>\n",
              "      <td>78458</td>\n",
              "    </tr>\n",
              "    <tr>\n",
              "      <th>колпино</th>\n",
              "      <td>75467</td>\n",
              "    </tr>\n",
              "    <tr>\n",
              "      <th>гатчина</th>\n",
              "      <td>68651</td>\n",
              "    </tr>\n",
              "    <tr>\n",
              "      <th>всеволожск</th>\n",
              "      <td>68534</td>\n",
              "    </tr>\n",
              "    <tr>\n",
              "      <th>выборг</th>\n",
              "      <td>58007</td>\n",
              "    </tr>\n",
              "  </tbody>\n",
              "</table>\n",
              "</div>"
            ],
            "text/plain": [
              "                   cost_per_sqm\n",
              "locality_name                  \n",
              "санкт-петербург          113635\n",
              "пушкин                   103282\n",
              "деревня кудрово           92402\n",
              "поселок парголово         90149\n",
              "поселок мурино            85566\n",
              "поселок шушары            78458\n",
              "колпино                   75467\n",
              "гатчина                   68651\n",
              "всеволожск                68534\n",
              "выборг                    58007"
            ]
          },
          "execution_count": 47,
          "metadata": {},
          "output_type": "execute_result"
        }
      ],
      "source": [
        "top_city = data['locality_name'].value_counts().head(10)\n",
        "top_city_sqm = data.query('locality_name in (@top_city.index)').pivot_table(values='cost_per_sqm', index='locality_name').astype(int).sort_values('cost_per_sqm', ascending=False)\n",
        "top_city_sqm"
      ]
    },
    {
      "cell_type": "markdown",
      "metadata": {
        "id": "7j0lANJotZgU"
      },
      "source": [
        "Самая высокая стоимость квадратного метра из топ -10 городов по кол-ву объявлений в Санкт-Петербурге и Пушкине, самая низкая в данной категории стоимость в Выборге."
      ]
    },
    {
      "cell_type": "markdown",
      "metadata": {
        "id": "A9PG5jDftZgV"
      },
      "source": [
        "Вычислим среднюю цену каждого километра от центра города в г. Санкт-Петербург."
      ]
    },
    {
      "cell_type": "code",
      "execution_count": null,
      "metadata": {
        "id": "YPvB_UketZgV",
        "outputId": "b8ac18ae-fb06-4844-967d-836ff3a86e81"
      },
      "outputs": [
        {
          "data": {
            "text/plain": [
              "<AxesSubplot:xlabel='city_centers_nearest_km'>"
            ]
          },
          "execution_count": 48,
          "metadata": {},
          "output_type": "execute_result"
        },
        {
          "data": {
            "image/png": "[encoded data removed]",
            "text/plain": [
              "<Figure size 432x288 with 1 Axes>"
            ]
          },
          "metadata": {
            "needs_background": "light"
          },
          "output_type": "display_data"
        }
      ],
      "source": [
        "data[data['locality_name']=='санкт-петербург'].pivot_table(\n",
        "    index='city_centers_nearest_km',\n",
        "    values='last_price',\n",
        "    aggfunc='mean').plot(kind='bar')"
      ]
    },
    {
      "cell_type": "markdown",
      "metadata": {
        "id": "koz_pv0ItZgW"
      },
      "source": [
        "Наибольшая стоимость квартир в центре, далее идет зона высокой цены на удалении 1-7 км, после чего цена равномерно снижается с удалением от центра. Небольшой пик на 27 км соответствует расстоянию до г. Пушкин.\n",
        "Этот факт указывает, что некоторые пользователи не указывают фактическое наименование населенного пункта."
      ]
    },
    {
      "cell_type": "markdown",
      "metadata": {
        "id": "7-ma8tXftZgX"
      },
      "source": [
        "### Общий вывод\n",
        "Проанализировали данные по объявлениям о продаже квартир из чего можно сделать следующие основные общие выводы:\n",
        " - Наибольшее количество объявлений о продаже квартир непосредственно в Санкт-Петербурге, там же и самая высокая стоимость квадратного метра.\n",
        " - Стоимость квартир напрямую зависит от площади.\n",
        " - Стоимость квадратного метра снижается при удалении от центра города.\n",
        " - Наибольшим спросом пользуются 1 -2 комнатные квартиры с площадью 30 - 50 м2 в невысоких застройках 5 -9 этажей.\n",
        " - Наименьшая активность продавцов зафиксирована в выходные и праздничные дни.\n",
        " - В среднем объявления закрываются за 3 месяца.\n",
        "\n"
      ]
    },
    {
      "cell_type": "markdown",
      "metadata": {
        "id": "JQDYwC47tZga"
      },
      "source": [
        "- [x]  открыт файл\n",
        "- [x]  файлы изучены (выведены первые строки, метод `info()`, гистограммы и т.д.)\n",
        "- [x]  определены пропущенные значения\n",
        "- [x]  заполнены пропущенные значения там, где это возможно\n",
        "- [x]  есть пояснение, какие пропущенные значения обнаружены\n",
        "- [x]  изменены типы данных\n",
        "- [x]  есть пояснение, в каких столбцах изменены типы и почему\n",
        "- [x]  устранены неявные дубликаты в названиях населённых пунктов\n",
        "- [x]  устранены редкие и выбивающиеся значения (аномалии) во всех столбцах\n",
        "- [x]  посчитано и добавлено в таблицу: цена одного квадратного метра\n",
        "- [x]  посчитано и добавлено в таблицу: день публикации объявления (0 - понедельник, 1 - вторник и т.д.)\n",
        "- [x]  посчитано и добавлено в таблицу: месяц публикации объявления\n",
        "- [x]  посчитано и добавлено в таблицу: год публикации объявления\n",
        "- [x]  посчитано и добавлено в таблицу: тип этажа квартиры (значения — «первый», «последний», «другой»)\n",
        "- [x]  посчитано и добавлено в таблицу: расстояние в км до центра города\n",
        "- [x]  изучены и описаны следующие параметры:\n",
        "        - общая площадь;\n",
        "        - жилая площадь;\n",
        "        - площадь кухни;\n",
        "        - цена объекта;\n",
        "        - количество комнат;\n",
        "        - высота потолков;\n",
        "        - этаж квартиры;\n",
        "        - тип этажа квартиры («первый», «последний», «другой»);\n",
        "        - общее количество этажей в доме;\n",
        "        - расстояние до центра города в метрах;\n",
        "        - расстояние до ближайшего аэропорта;\n",
        "        - расстояние до ближайшего парка;\n",
        "        - день и месяц публикации объявления\n",
        "- [x]  построены гистограммы для каждого параметра\n",
        "- [x]  выполнено задание: \"Изучите, как быстро продавались квартиры (столбец days_exposition). Этот параметр показывает, сколько дней «висело» каждое объявление.\n",
        "    - Постройте гистограмму.\n",
        "    - Посчитайте среднее и медиану.\n",
        "    - В ячейке типа markdown опишите, сколько обычно занимает продажа. Какие продажи можно считать быстрыми, а какие — необычно долгими?\"\n",
        "- [x]  выполнено задание: \"Какие факторы больше всего влияют на общую (полную) стоимость объекта? Постройте графики, которые покажут зависимость цены от указанных ниже параметров. Для подготовки данных перед визуализацией вы можете использовать сводные таблицы.\"\n",
        "        - общей площади;\n",
        "        - жилой площади;\n",
        "        - площади кухни;\n",
        "        - количество комнат;\n",
        "        - типа этажа, на котором расположена квартира (первый, последний, другой);\n",
        "        - даты размещения (день недели, месяц, год);\n",
        "- [x]  выполнено задание: \"Посчитайте среднюю цену одного квадратного метра в 10 населённых пунктах с наибольшим числом объявлений. Выделите населённые пункты с самой высокой и низкой стоимостью квадратного метра. Эти данные можно найти по имени в столбце `locality_name`.\"\n",
        "- [x]  выполнено задание: \"Ранее вы посчитали расстояние до центра в километрах. Теперь выделите квартиры в Санкт-Петербурге с помощью столбца `locality_name` и вычислите среднюю цену каждого километра. Опишите, как стоимость объектов зависит от расстояния до центра города.\"\n",
        "- [x]  в каждом этапе есть промежуточные выводы\n",
        "- [x]  есть общий вывод"
      ]
    },
    {
      "cell_type": "code",
      "execution_count": null,
      "metadata": {
        "id": "qslEzlIrtZga"
      },
      "outputs": [],
      "source": []
    }
  ],
  "metadata": {
    "ExecuteTimeLog": [
      {
        "duration": 595,
        "start_time": "2023-03-20T18:48:32.062Z"
      },
      {
        "duration": 112,
        "start_time": "2023-03-20T18:49:05.928Z"
      },
      {
        "duration": 124,
        "start_time": "2023-03-20T18:49:21.092Z"
      },
      {
        "duration": 103,
        "start_time": "2023-03-20T18:52:36.204Z"
      },
      {
        "duration": 118,
        "start_time": "2023-03-20T18:52:49.061Z"
      },
      {
        "duration": 15,
        "start_time": "2023-03-20T18:52:56.593Z"
      },
      {
        "duration": 3,
        "start_time": "2023-03-20T19:28:58.236Z"
      },
      {
        "duration": 20,
        "start_time": "2023-03-20T19:38:49.946Z"
      },
      {
        "duration": 6,
        "start_time": "2023-03-20T19:49:09.527Z"
      },
      {
        "duration": 13,
        "start_time": "2023-03-20T19:54:17.170Z"
      },
      {
        "duration": 1090,
        "start_time": "2023-03-20T20:03:18.491Z"
      },
      {
        "duration": 522,
        "start_time": "2023-03-20T20:09:40.553Z"
      },
      {
        "duration": 6,
        "start_time": "2023-03-20T20:16:53.955Z"
      },
      {
        "duration": 6,
        "start_time": "2023-03-20T20:18:03.689Z"
      },
      {
        "duration": 9,
        "start_time": "2023-03-20T20:18:21.334Z"
      },
      {
        "duration": 16,
        "start_time": "2023-03-20T20:18:42.062Z"
      },
      {
        "duration": 5,
        "start_time": "2023-03-20T20:18:44.339Z"
      },
      {
        "duration": 5,
        "start_time": "2023-03-20T20:18:46.439Z"
      },
      {
        "duration": 10,
        "start_time": "2023-03-20T20:18:49.033Z"
      },
      {
        "duration": 17,
        "start_time": "2023-03-20T20:19:16.432Z"
      },
      {
        "duration": 13,
        "start_time": "2023-03-20T20:19:22.733Z"
      },
      {
        "duration": 8,
        "start_time": "2023-03-20T20:19:39.148Z"
      },
      {
        "duration": 9,
        "start_time": "2023-03-20T20:19:41.580Z"
      },
      {
        "duration": 113,
        "start_time": "2023-03-21T18:56:03.217Z"
      },
      {
        "duration": 15,
        "start_time": "2023-03-21T18:56:11.613Z"
      },
      {
        "duration": 17,
        "start_time": "2023-03-21T18:56:14.416Z"
      },
      {
        "duration": 8,
        "start_time": "2023-03-21T18:56:19.768Z"
      },
      {
        "duration": 15,
        "start_time": "2023-03-21T18:56:22.320Z"
      },
      {
        "duration": 6,
        "start_time": "2023-03-21T18:56:24.784Z"
      },
      {
        "duration": 5,
        "start_time": "2023-03-21T18:56:26.787Z"
      },
      {
        "duration": 9,
        "start_time": "2023-03-21T18:56:29.742Z"
      },
      {
        "duration": 1911,
        "start_time": "2023-03-21T18:59:09.791Z"
      },
      {
        "duration": 2282,
        "start_time": "2023-03-21T18:59:18.044Z"
      },
      {
        "duration": 127,
        "start_time": "2023-03-21T18:59:30.188Z"
      },
      {
        "duration": 20,
        "start_time": "2023-03-21T18:59:34.167Z"
      },
      {
        "duration": 116,
        "start_time": "2023-03-21T19:13:51.756Z"
      },
      {
        "duration": 6,
        "start_time": "2023-03-21T19:14:02.363Z"
      },
      {
        "duration": 8,
        "start_time": "2023-03-21T19:14:34.987Z"
      },
      {
        "duration": 6,
        "start_time": "2023-03-21T19:14:58.901Z"
      },
      {
        "duration": 7,
        "start_time": "2023-03-21T19:15:27.645Z"
      },
      {
        "duration": 2110,
        "start_time": "2023-03-21T19:15:57.566Z"
      },
      {
        "duration": 17,
        "start_time": "2023-03-21T19:16:04.022Z"
      },
      {
        "duration": 7,
        "start_time": "2023-03-21T19:16:07.130Z"
      },
      {
        "duration": 18,
        "start_time": "2023-03-21T19:16:08.957Z"
      },
      {
        "duration": 5,
        "start_time": "2023-03-21T19:16:10.597Z"
      },
      {
        "duration": 6,
        "start_time": "2023-03-21T19:16:12.739Z"
      },
      {
        "duration": 9,
        "start_time": "2023-03-21T19:16:14.722Z"
      },
      {
        "duration": 8,
        "start_time": "2023-03-21T19:16:17.395Z"
      },
      {
        "duration": 6,
        "start_time": "2023-03-21T19:23:23.823Z"
      },
      {
        "duration": 10,
        "start_time": "2023-03-21T19:23:26.054Z"
      },
      {
        "duration": 27,
        "start_time": "2023-03-21T19:37:31.796Z"
      },
      {
        "duration": 69,
        "start_time": "2023-03-21T19:40:49.205Z"
      },
      {
        "duration": 268,
        "start_time": "2023-03-21T19:44:36.631Z"
      },
      {
        "duration": 21,
        "start_time": "2023-03-21T19:48:10.938Z"
      },
      {
        "duration": 30,
        "start_time": "2023-03-21T19:48:21.631Z"
      },
      {
        "duration": 27,
        "start_time": "2023-03-21T19:48:23.945Z"
      },
      {
        "duration": 91,
        "start_time": "2023-03-21T19:55:46.039Z"
      },
      {
        "duration": 219,
        "start_time": "2023-03-21T19:59:39.110Z"
      },
      {
        "duration": 287,
        "start_time": "2023-03-21T20:00:38.935Z"
      },
      {
        "duration": 254,
        "start_time": "2023-03-21T20:01:01.364Z"
      },
      {
        "duration": 245,
        "start_time": "2023-03-21T20:01:12.785Z"
      },
      {
        "duration": 238,
        "start_time": "2023-03-21T20:01:20.122Z"
      },
      {
        "duration": 239,
        "start_time": "2023-03-21T20:01:54.840Z"
      },
      {
        "duration": 412,
        "start_time": "2023-03-21T20:03:50.167Z"
      },
      {
        "duration": 593,
        "start_time": "2023-03-21T20:04:08.226Z"
      },
      {
        "duration": 416,
        "start_time": "2023-03-21T20:04:19.397Z"
      },
      {
        "duration": 390,
        "start_time": "2023-03-21T20:04:26.232Z"
      },
      {
        "duration": 406,
        "start_time": "2023-03-21T20:04:39.310Z"
      },
      {
        "duration": 409,
        "start_time": "2023-03-21T20:04:56.847Z"
      },
      {
        "duration": 432,
        "start_time": "2023-03-21T20:05:19.028Z"
      },
      {
        "duration": 448,
        "start_time": "2023-03-21T20:05:52.295Z"
      },
      {
        "duration": 223,
        "start_time": "2023-03-21T20:08:55.645Z"
      },
      {
        "duration": 231,
        "start_time": "2023-03-21T20:12:30.295Z"
      },
      {
        "duration": 233,
        "start_time": "2023-03-21T20:12:38.619Z"
      },
      {
        "duration": 288,
        "start_time": "2023-03-21T20:13:17.527Z"
      },
      {
        "duration": 11,
        "start_time": "2023-03-21T20:16:50.445Z"
      },
      {
        "duration": 10,
        "start_time": "2023-03-21T20:17:11.864Z"
      },
      {
        "duration": 421,
        "start_time": "2023-03-21T20:20:34.045Z"
      },
      {
        "duration": 430,
        "start_time": "2023-03-21T20:21:13.089Z"
      },
      {
        "duration": 13,
        "start_time": "2023-03-21T20:26:04.415Z"
      },
      {
        "duration": 10,
        "start_time": "2023-03-21T20:28:49.442Z"
      },
      {
        "duration": 386,
        "start_time": "2023-03-21T20:28:59.218Z"
      },
      {
        "duration": 438,
        "start_time": "2023-03-21T20:29:10.231Z"
      },
      {
        "duration": 375,
        "start_time": "2023-03-21T20:30:17.189Z"
      },
      {
        "duration": 657,
        "start_time": "2023-03-21T20:30:27.557Z"
      },
      {
        "duration": 369,
        "start_time": "2023-03-21T20:31:50.703Z"
      },
      {
        "duration": 387,
        "start_time": "2023-03-21T20:31:57.743Z"
      },
      {
        "duration": 387,
        "start_time": "2023-03-21T20:32:20.827Z"
      },
      {
        "duration": 400,
        "start_time": "2023-03-21T20:34:58.448Z"
      },
      {
        "duration": 405,
        "start_time": "2023-03-21T20:36:15.898Z"
      },
      {
        "duration": 14,
        "start_time": "2023-03-21T20:42:20.174Z"
      },
      {
        "duration": 10,
        "start_time": "2023-03-21T20:42:44.205Z"
      },
      {
        "duration": 259,
        "start_time": "2023-03-21T20:45:27.504Z"
      },
      {
        "duration": 6,
        "start_time": "2023-03-21T20:45:51.374Z"
      },
      {
        "duration": 6,
        "start_time": "2023-03-21T20:45:53.044Z"
      },
      {
        "duration": 9,
        "start_time": "2023-03-21T20:46:06.235Z"
      },
      {
        "duration": 137,
        "start_time": "2023-03-21T20:46:10.946Z"
      },
      {
        "duration": 14,
        "start_time": "2023-03-21T20:46:14.339Z"
      },
      {
        "duration": 34,
        "start_time": "2023-03-21T20:46:20.841Z"
      },
      {
        "duration": 6,
        "start_time": "2023-03-21T20:46:24.047Z"
      },
      {
        "duration": 14,
        "start_time": "2023-03-21T20:46:25.731Z"
      },
      {
        "duration": 7,
        "start_time": "2023-03-21T20:46:27.740Z"
      },
      {
        "duration": 6,
        "start_time": "2023-03-21T20:46:29.942Z"
      },
      {
        "duration": 11,
        "start_time": "2023-03-21T20:46:31.676Z"
      },
      {
        "duration": 22,
        "start_time": "2023-03-21T20:49:34.236Z"
      },
      {
        "duration": 8,
        "start_time": "2023-03-21T20:51:19.146Z"
      },
      {
        "duration": 9,
        "start_time": "2023-03-21T20:51:43.124Z"
      },
      {
        "duration": 8,
        "start_time": "2023-03-21T20:53:41.887Z"
      },
      {
        "duration": 8,
        "start_time": "2023-03-21T20:54:07.486Z"
      },
      {
        "duration": 13,
        "start_time": "2023-03-21T20:55:56.780Z"
      },
      {
        "duration": 22,
        "start_time": "2023-03-21T20:56:09.207Z"
      },
      {
        "duration": 5,
        "start_time": "2023-03-21T20:59:51.464Z"
      },
      {
        "duration": 9,
        "start_time": "2023-03-21T20:59:55.282Z"
      },
      {
        "duration": 22,
        "start_time": "2023-03-21T21:00:01.997Z"
      },
      {
        "duration": 91,
        "start_time": "2023-03-21T21:00:05.358Z"
      },
      {
        "duration": 80,
        "start_time": "2023-03-21T21:00:12.677Z"
      },
      {
        "duration": 457,
        "start_time": "2023-03-21T21:00:28.375Z"
      },
      {
        "duration": 15,
        "start_time": "2023-03-21T21:00:32.133Z"
      },
      {
        "duration": 209,
        "start_time": "2023-03-21T21:00:34.766Z"
      },
      {
        "duration": 11,
        "start_time": "2023-03-21T21:00:39.613Z"
      },
      {
        "duration": 643,
        "start_time": "2023-03-21T21:00:41.936Z"
      },
      {
        "duration": 9,
        "start_time": "2023-03-21T21:00:47.298Z"
      },
      {
        "duration": 182,
        "start_time": "2023-03-21T21:09:38.996Z"
      },
      {
        "duration": 195,
        "start_time": "2023-03-21T21:09:52.483Z"
      },
      {
        "duration": 190,
        "start_time": "2023-03-21T21:10:12.453Z"
      },
      {
        "duration": 10,
        "start_time": "2023-03-21T21:11:20.859Z"
      },
      {
        "duration": 92,
        "start_time": "2023-03-21T21:12:28.150Z"
      },
      {
        "duration": 111,
        "start_time": "2023-03-21T21:15:40.897Z"
      },
      {
        "duration": 77,
        "start_time": "2023-03-21T21:17:22.110Z"
      },
      {
        "duration": 175,
        "start_time": "2023-03-21T21:21:45.428Z"
      },
      {
        "duration": 8,
        "start_time": "2023-03-21T21:22:32.236Z"
      },
      {
        "duration": 19,
        "start_time": "2023-03-21T21:24:05.340Z"
      },
      {
        "duration": 115,
        "start_time": "2023-03-21T21:24:11.810Z"
      },
      {
        "duration": 14,
        "start_time": "2023-03-21T21:24:14.961Z"
      },
      {
        "duration": 1898,
        "start_time": "2023-03-21T21:24:19.537Z"
      },
      {
        "duration": 28,
        "start_time": "2023-03-21T21:24:31.485Z"
      },
      {
        "duration": 110,
        "start_time": "2023-03-21T21:24:41.564Z"
      },
      {
        "duration": 15,
        "start_time": "2023-03-21T21:24:44.809Z"
      },
      {
        "duration": 23,
        "start_time": "2023-03-21T21:24:58.157Z"
      },
      {
        "duration": 27,
        "start_time": "2023-03-21T21:25:58.534Z"
      },
      {
        "duration": 20,
        "start_time": "2023-03-21T21:26:30.688Z"
      },
      {
        "duration": 22,
        "start_time": "2023-03-21T21:26:39.005Z"
      },
      {
        "duration": 17,
        "start_time": "2023-03-21T21:27:07.620Z"
      },
      {
        "duration": 6,
        "start_time": "2023-03-21T21:28:46.463Z"
      },
      {
        "duration": 15,
        "start_time": "2023-03-21T21:28:48.472Z"
      },
      {
        "duration": 7,
        "start_time": "2023-03-21T21:28:50.664Z"
      },
      {
        "duration": 7,
        "start_time": "2023-03-21T21:28:52.961Z"
      },
      {
        "duration": 10,
        "start_time": "2023-03-21T21:28:56.199Z"
      },
      {
        "duration": 12,
        "start_time": "2023-03-21T21:29:00.179Z"
      },
      {
        "duration": 9,
        "start_time": "2023-03-21T21:29:02.635Z"
      },
      {
        "duration": 25,
        "start_time": "2023-03-21T21:29:05.082Z"
      },
      {
        "duration": 4,
        "start_time": "2023-03-21T21:29:08.432Z"
      },
      {
        "duration": 10,
        "start_time": "2023-03-21T21:29:10.153Z"
      },
      {
        "duration": 17,
        "start_time": "2023-03-21T21:29:13.839Z"
      },
      {
        "duration": 88,
        "start_time": "2023-03-21T21:29:16.755Z"
      },
      {
        "duration": 73,
        "start_time": "2023-03-21T21:29:19.255Z"
      },
      {
        "duration": 446,
        "start_time": "2023-03-21T21:29:33.459Z"
      },
      {
        "duration": 23,
        "start_time": "2023-03-21T21:29:37.484Z"
      },
      {
        "duration": 198,
        "start_time": "2023-03-21T21:29:39.866Z"
      },
      {
        "duration": 11,
        "start_time": "2023-03-21T21:29:43.531Z"
      },
      {
        "duration": 652,
        "start_time": "2023-03-21T21:29:46.582Z"
      },
      {
        "duration": 10,
        "start_time": "2023-03-21T21:29:51.235Z"
      },
      {
        "duration": 205,
        "start_time": "2023-03-21T21:29:54.806Z"
      },
      {
        "duration": 10,
        "start_time": "2023-03-21T21:30:00.539Z"
      },
      {
        "duration": 196,
        "start_time": "2023-03-21T21:30:03.861Z"
      },
      {
        "duration": 11,
        "start_time": "2023-03-21T21:30:07.168Z"
      },
      {
        "duration": 81,
        "start_time": "2023-03-21T21:30:52.954Z"
      },
      {
        "duration": 184,
        "start_time": "2023-03-21T21:39:19.631Z"
      },
      {
        "duration": 409,
        "start_time": "2023-03-21T21:41:41.229Z"
      },
      {
        "duration": 17,
        "start_time": "2023-03-21T21:44:45.481Z"
      },
      {
        "duration": 16,
        "start_time": "2023-03-21T21:56:48.499Z"
      },
      {
        "duration": 349,
        "start_time": "2023-03-21T21:59:21.668Z"
      },
      {
        "duration": 353,
        "start_time": "2023-03-21T21:59:33.250Z"
      },
      {
        "duration": 5,
        "start_time": "2023-03-21T22:01:20.503Z"
      },
      {
        "duration": 3227,
        "start_time": "2023-03-22T19:27:53.134Z"
      },
      {
        "duration": 1466,
        "start_time": "2023-03-22T19:28:17.945Z"
      },
      {
        "duration": 17,
        "start_time": "2023-03-22T19:28:19.414Z"
      },
      {
        "duration": 2070,
        "start_time": "2023-03-22T19:28:19.432Z"
      },
      {
        "duration": 72,
        "start_time": "2023-03-22T19:28:21.504Z"
      },
      {
        "duration": 0,
        "start_time": "2023-03-22T19:28:21.579Z"
      },
      {
        "duration": 0,
        "start_time": "2023-03-22T19:28:21.666Z"
      },
      {
        "duration": 0,
        "start_time": "2023-03-22T19:28:21.667Z"
      },
      {
        "duration": 0,
        "start_time": "2023-03-22T19:28:21.669Z"
      },
      {
        "duration": 0,
        "start_time": "2023-03-22T19:28:21.670Z"
      },
      {
        "duration": 0,
        "start_time": "2023-03-22T19:28:21.671Z"
      },
      {
        "duration": 0,
        "start_time": "2023-03-22T19:28:21.672Z"
      },
      {
        "duration": 0,
        "start_time": "2023-03-22T19:28:21.673Z"
      },
      {
        "duration": 0,
        "start_time": "2023-03-22T19:28:21.674Z"
      },
      {
        "duration": 0,
        "start_time": "2023-03-22T19:28:21.675Z"
      },
      {
        "duration": 0,
        "start_time": "2023-03-22T19:28:21.676Z"
      },
      {
        "duration": 0,
        "start_time": "2023-03-22T19:28:21.689Z"
      },
      {
        "duration": 0,
        "start_time": "2023-03-22T19:28:21.691Z"
      },
      {
        "duration": 0,
        "start_time": "2023-03-22T19:28:21.692Z"
      },
      {
        "duration": 0,
        "start_time": "2023-03-22T19:28:21.693Z"
      },
      {
        "duration": 0,
        "start_time": "2023-03-22T19:28:21.694Z"
      },
      {
        "duration": 0,
        "start_time": "2023-03-22T19:28:21.695Z"
      },
      {
        "duration": 0,
        "start_time": "2023-03-22T19:28:21.696Z"
      },
      {
        "duration": 1,
        "start_time": "2023-03-22T19:28:21.697Z"
      },
      {
        "duration": 0,
        "start_time": "2023-03-22T19:28:21.699Z"
      },
      {
        "duration": 0,
        "start_time": "2023-03-22T19:28:21.700Z"
      },
      {
        "duration": 0,
        "start_time": "2023-03-22T19:28:21.702Z"
      },
      {
        "duration": 0,
        "start_time": "2023-03-22T19:28:21.703Z"
      },
      {
        "duration": 0,
        "start_time": "2023-03-22T19:28:21.704Z"
      },
      {
        "duration": 0,
        "start_time": "2023-03-22T19:28:21.706Z"
      },
      {
        "duration": 0,
        "start_time": "2023-03-22T19:28:21.707Z"
      },
      {
        "duration": 0,
        "start_time": "2023-03-22T19:28:21.709Z"
      },
      {
        "duration": 0,
        "start_time": "2023-03-22T19:28:21.710Z"
      },
      {
        "duration": 0,
        "start_time": "2023-03-22T19:28:21.711Z"
      },
      {
        "duration": 0,
        "start_time": "2023-03-22T19:28:21.712Z"
      },
      {
        "duration": 0,
        "start_time": "2023-03-22T19:28:21.713Z"
      },
      {
        "duration": 0,
        "start_time": "2023-03-22T19:28:21.714Z"
      },
      {
        "duration": 0,
        "start_time": "2023-03-22T19:28:21.715Z"
      },
      {
        "duration": 0,
        "start_time": "2023-03-22T19:28:21.716Z"
      },
      {
        "duration": 0,
        "start_time": "2023-03-22T19:28:21.717Z"
      },
      {
        "duration": 24,
        "start_time": "2023-03-22T19:28:49.831Z"
      },
      {
        "duration": 22,
        "start_time": "2023-03-22T19:29:07.874Z"
      },
      {
        "duration": 6,
        "start_time": "2023-03-22T19:29:07.898Z"
      },
      {
        "duration": 21,
        "start_time": "2023-03-22T19:29:07.906Z"
      },
      {
        "duration": 5,
        "start_time": "2023-03-22T19:29:07.929Z"
      },
      {
        "duration": 6,
        "start_time": "2023-03-22T19:29:07.937Z"
      },
      {
        "duration": 10,
        "start_time": "2023-03-22T19:29:07.945Z"
      },
      {
        "duration": 10,
        "start_time": "2023-03-22T19:29:07.989Z"
      },
      {
        "duration": 11,
        "start_time": "2023-03-22T19:29:08.000Z"
      },
      {
        "duration": 23,
        "start_time": "2023-03-22T19:29:08.012Z"
      },
      {
        "duration": 13,
        "start_time": "2023-03-22T19:29:08.037Z"
      },
      {
        "duration": 15,
        "start_time": "2023-03-22T19:29:08.052Z"
      },
      {
        "duration": 30,
        "start_time": "2023-03-22T19:29:08.069Z"
      },
      {
        "duration": 79,
        "start_time": "2023-03-22T19:29:08.101Z"
      },
      {
        "duration": 0,
        "start_time": "2023-03-22T19:29:08.183Z"
      },
      {
        "duration": 0,
        "start_time": "2023-03-22T19:29:08.184Z"
      },
      {
        "duration": 0,
        "start_time": "2023-03-22T19:29:08.187Z"
      },
      {
        "duration": 0,
        "start_time": "2023-03-22T19:29:08.188Z"
      },
      {
        "duration": 0,
        "start_time": "2023-03-22T19:29:08.190Z"
      },
      {
        "duration": 0,
        "start_time": "2023-03-22T19:29:08.191Z"
      },
      {
        "duration": 0,
        "start_time": "2023-03-22T19:29:08.192Z"
      },
      {
        "duration": 0,
        "start_time": "2023-03-22T19:29:08.193Z"
      },
      {
        "duration": 0,
        "start_time": "2023-03-22T19:29:08.194Z"
      },
      {
        "duration": 0,
        "start_time": "2023-03-22T19:29:08.195Z"
      },
      {
        "duration": 0,
        "start_time": "2023-03-22T19:29:08.196Z"
      },
      {
        "duration": 0,
        "start_time": "2023-03-22T19:29:08.197Z"
      },
      {
        "duration": 0,
        "start_time": "2023-03-22T19:29:08.198Z"
      },
      {
        "duration": 0,
        "start_time": "2023-03-22T19:29:08.199Z"
      },
      {
        "duration": 0,
        "start_time": "2023-03-22T19:29:08.201Z"
      },
      {
        "duration": 0,
        "start_time": "2023-03-22T19:29:08.202Z"
      },
      {
        "duration": 0,
        "start_time": "2023-03-22T19:29:08.203Z"
      },
      {
        "duration": 0,
        "start_time": "2023-03-22T19:29:08.204Z"
      },
      {
        "duration": 0,
        "start_time": "2023-03-22T19:29:08.205Z"
      },
      {
        "duration": 0,
        "start_time": "2023-03-22T19:29:08.206Z"
      },
      {
        "duration": 0,
        "start_time": "2023-03-22T19:29:08.207Z"
      },
      {
        "duration": 0,
        "start_time": "2023-03-22T19:29:08.211Z"
      },
      {
        "duration": 94,
        "start_time": "2023-03-22T19:29:20.080Z"
      },
      {
        "duration": 127,
        "start_time": "2023-03-22T19:29:20.190Z"
      },
      {
        "duration": 429,
        "start_time": "2023-03-22T19:29:20.320Z"
      },
      {
        "duration": 95,
        "start_time": "2023-03-22T19:29:20.751Z"
      },
      {
        "duration": 0,
        "start_time": "2023-03-22T19:29:20.848Z"
      },
      {
        "duration": 0,
        "start_time": "2023-03-22T19:29:20.850Z"
      },
      {
        "duration": 0,
        "start_time": "2023-03-22T19:29:20.852Z"
      },
      {
        "duration": 0,
        "start_time": "2023-03-22T19:29:20.853Z"
      },
      {
        "duration": 0,
        "start_time": "2023-03-22T19:29:20.855Z"
      },
      {
        "duration": 0,
        "start_time": "2023-03-22T19:29:20.856Z"
      },
      {
        "duration": 0,
        "start_time": "2023-03-22T19:29:20.858Z"
      },
      {
        "duration": 0,
        "start_time": "2023-03-22T19:29:20.860Z"
      },
      {
        "duration": 0,
        "start_time": "2023-03-22T19:29:20.861Z"
      },
      {
        "duration": 0,
        "start_time": "2023-03-22T19:29:20.863Z"
      },
      {
        "duration": 0,
        "start_time": "2023-03-22T19:29:20.864Z"
      },
      {
        "duration": 0,
        "start_time": "2023-03-22T19:29:20.866Z"
      },
      {
        "duration": 0,
        "start_time": "2023-03-22T19:29:20.867Z"
      },
      {
        "duration": 0,
        "start_time": "2023-03-22T19:29:20.868Z"
      },
      {
        "duration": 0,
        "start_time": "2023-03-22T19:29:20.869Z"
      },
      {
        "duration": 0,
        "start_time": "2023-03-22T19:29:20.870Z"
      },
      {
        "duration": 0,
        "start_time": "2023-03-22T19:29:20.871Z"
      },
      {
        "duration": 0,
        "start_time": "2023-03-22T19:29:20.872Z"
      },
      {
        "duration": 16,
        "start_time": "2023-03-22T19:29:30.237Z"
      },
      {
        "duration": 212,
        "start_time": "2023-03-22T19:29:30.255Z"
      },
      {
        "duration": 95,
        "start_time": "2023-03-22T19:29:30.469Z"
      },
      {
        "duration": 0,
        "start_time": "2023-03-22T19:29:30.566Z"
      },
      {
        "duration": 0,
        "start_time": "2023-03-22T19:29:30.567Z"
      },
      {
        "duration": 0,
        "start_time": "2023-03-22T19:29:30.568Z"
      },
      {
        "duration": 0,
        "start_time": "2023-03-22T19:29:30.569Z"
      },
      {
        "duration": 0,
        "start_time": "2023-03-22T19:29:30.570Z"
      },
      {
        "duration": 0,
        "start_time": "2023-03-22T19:29:30.572Z"
      },
      {
        "duration": 0,
        "start_time": "2023-03-22T19:29:30.573Z"
      },
      {
        "duration": 0,
        "start_time": "2023-03-22T19:29:30.574Z"
      },
      {
        "duration": 0,
        "start_time": "2023-03-22T19:29:30.575Z"
      },
      {
        "duration": 0,
        "start_time": "2023-03-22T19:29:30.576Z"
      },
      {
        "duration": 0,
        "start_time": "2023-03-22T19:29:30.577Z"
      },
      {
        "duration": 0,
        "start_time": "2023-03-22T19:29:30.578Z"
      },
      {
        "duration": 0,
        "start_time": "2023-03-22T19:29:30.579Z"
      },
      {
        "duration": 0,
        "start_time": "2023-03-22T19:29:30.581Z"
      },
      {
        "duration": 0,
        "start_time": "2023-03-22T19:29:30.582Z"
      },
      {
        "duration": 204,
        "start_time": "2023-03-22T19:29:52.344Z"
      },
      {
        "duration": 10,
        "start_time": "2023-03-22T19:29:52.549Z"
      },
      {
        "duration": 431,
        "start_time": "2023-03-22T19:29:52.561Z"
      },
      {
        "duration": 13,
        "start_time": "2023-03-22T19:29:52.995Z"
      },
      {
        "duration": 195,
        "start_time": "2023-03-22T19:29:53.009Z"
      },
      {
        "duration": 10,
        "start_time": "2023-03-22T19:29:53.206Z"
      },
      {
        "duration": 184,
        "start_time": "2023-03-22T19:29:53.218Z"
      },
      {
        "duration": 9,
        "start_time": "2023-03-22T19:29:53.404Z"
      },
      {
        "duration": 175,
        "start_time": "2023-03-22T19:29:53.415Z"
      },
      {
        "duration": 372,
        "start_time": "2023-03-22T19:29:53.593Z"
      },
      {
        "duration": 21,
        "start_time": "2023-03-22T19:29:53.967Z"
      },
      {
        "duration": 13,
        "start_time": "2023-03-22T19:29:53.990Z"
      },
      {
        "duration": 340,
        "start_time": "2023-03-22T19:29:54.005Z"
      },
      {
        "duration": 4,
        "start_time": "2023-03-22T19:29:54.347Z"
      },
      {
        "duration": 3237,
        "start_time": "2023-03-22T19:29:54.353Z"
      },
      {
        "duration": 3089,
        "start_time": "2023-03-22T19:30:27.978Z"
      },
      {
        "duration": 2819,
        "start_time": "2023-03-22T19:36:25.530Z"
      },
      {
        "duration": 12,
        "start_time": "2023-03-22T19:39:24.461Z"
      },
      {
        "duration": 303,
        "start_time": "2023-03-22T19:40:10.615Z"
      },
      {
        "duration": 125,
        "start_time": "2023-03-22T19:40:37.407Z"
      },
      {
        "duration": 896,
        "start_time": "2023-03-22T19:41:11.337Z"
      },
      {
        "duration": 1095,
        "start_time": "2023-03-22T19:42:10.702Z"
      },
      {
        "duration": 498,
        "start_time": "2023-03-22T19:42:16.169Z"
      },
      {
        "duration": 120,
        "start_time": "2023-03-22T19:42:36.183Z"
      },
      {
        "duration": 498,
        "start_time": "2023-03-22T19:42:39.764Z"
      },
      {
        "duration": 1085,
        "start_time": "2023-03-22T19:49:35.304Z"
      },
      {
        "duration": 1056,
        "start_time": "2023-03-22T19:49:48.654Z"
      },
      {
        "duration": 1113,
        "start_time": "2023-03-22T19:49:59.349Z"
      },
      {
        "duration": 932,
        "start_time": "2023-03-22T19:50:26.841Z"
      },
      {
        "duration": 960,
        "start_time": "2023-03-22T19:50:47.600Z"
      },
      {
        "duration": 1148,
        "start_time": "2023-03-22T19:50:54.760Z"
      },
      {
        "duration": 926,
        "start_time": "2023-03-22T20:05:35.849Z"
      },
      {
        "duration": 1127,
        "start_time": "2023-03-22T20:09:08.635Z"
      },
      {
        "duration": 10,
        "start_time": "2023-03-22T20:40:56.760Z"
      },
      {
        "duration": 12,
        "start_time": "2023-03-22T20:41:08.636Z"
      },
      {
        "duration": 646,
        "start_time": "2023-03-22T20:43:47.183Z"
      },
      {
        "duration": 6,
        "start_time": "2023-03-22T20:44:05.175Z"
      },
      {
        "duration": 267,
        "start_time": "2023-03-22T20:44:41.895Z"
      },
      {
        "duration": 285,
        "start_time": "2023-03-22T20:46:39.523Z"
      },
      {
        "duration": 348,
        "start_time": "2023-03-22T20:46:54.363Z"
      },
      {
        "duration": 243,
        "start_time": "2023-03-22T20:47:10.916Z"
      },
      {
        "duration": 21,
        "start_time": "2023-03-23T15:41:46.634Z"
      },
      {
        "duration": 27,
        "start_time": "2023-03-23T15:47:03.434Z"
      },
      {
        "duration": 21,
        "start_time": "2023-03-23T15:47:46.209Z"
      },
      {
        "duration": 22,
        "start_time": "2023-03-23T15:48:20.610Z"
      },
      {
        "duration": 17,
        "start_time": "2023-03-23T15:49:08.303Z"
      },
      {
        "duration": 16,
        "start_time": "2023-03-23T15:51:25.104Z"
      },
      {
        "duration": 19,
        "start_time": "2023-03-23T15:54:12.849Z"
      },
      {
        "duration": 20,
        "start_time": "2023-03-23T15:55:41.105Z"
      },
      {
        "duration": 18,
        "start_time": "2023-03-23T15:57:13.852Z"
      },
      {
        "duration": 22,
        "start_time": "2023-03-23T15:57:27.824Z"
      },
      {
        "duration": 16,
        "start_time": "2023-03-23T15:57:47.121Z"
      },
      {
        "duration": 15,
        "start_time": "2023-03-23T15:58:33.071Z"
      },
      {
        "duration": 19,
        "start_time": "2023-03-23T15:58:45.048Z"
      },
      {
        "duration": 17,
        "start_time": "2023-03-23T16:00:57.771Z"
      },
      {
        "duration": 13,
        "start_time": "2023-03-23T16:02:23.397Z"
      },
      {
        "duration": 15,
        "start_time": "2023-03-23T16:02:43.075Z"
      },
      {
        "duration": 16,
        "start_time": "2023-03-23T16:03:43.874Z"
      },
      {
        "duration": 19,
        "start_time": "2023-03-23T16:04:29.099Z"
      },
      {
        "duration": 20,
        "start_time": "2023-03-23T16:06:34.971Z"
      },
      {
        "duration": 48,
        "start_time": "2023-03-23T16:09:07.613Z"
      },
      {
        "duration": 619,
        "start_time": "2023-03-23T16:10:10.546Z"
      },
      {
        "duration": 568,
        "start_time": "2023-03-23T16:11:43.390Z"
      },
      {
        "duration": 743,
        "start_time": "2023-03-23T16:12:23.923Z"
      },
      {
        "duration": 1337,
        "start_time": "2023-03-23T16:15:22.078Z"
      },
      {
        "duration": 16,
        "start_time": "2023-03-23T16:15:23.417Z"
      },
      {
        "duration": 2036,
        "start_time": "2023-03-23T16:15:23.434Z"
      },
      {
        "duration": 111,
        "start_time": "2023-03-23T16:15:25.473Z"
      },
      {
        "duration": 7,
        "start_time": "2023-03-23T16:15:25.588Z"
      },
      {
        "duration": 20,
        "start_time": "2023-03-23T16:15:25.597Z"
      },
      {
        "duration": 4,
        "start_time": "2023-03-23T16:15:25.619Z"
      },
      {
        "duration": 5,
        "start_time": "2023-03-23T16:15:25.625Z"
      },
      {
        "duration": 10,
        "start_time": "2023-03-23T16:15:25.632Z"
      },
      {
        "duration": 7,
        "start_time": "2023-03-23T16:15:25.645Z"
      },
      {
        "duration": 38,
        "start_time": "2023-03-23T16:15:25.654Z"
      },
      {
        "duration": 27,
        "start_time": "2023-03-23T16:15:25.693Z"
      },
      {
        "duration": 4,
        "start_time": "2023-03-23T16:15:25.721Z"
      },
      {
        "duration": 11,
        "start_time": "2023-03-23T16:15:25.727Z"
      },
      {
        "duration": 22,
        "start_time": "2023-03-23T16:15:25.739Z"
      },
      {
        "duration": 105,
        "start_time": "2023-03-23T16:15:25.763Z"
      },
      {
        "duration": 85,
        "start_time": "2023-03-23T16:15:25.870Z"
      },
      {
        "duration": 432,
        "start_time": "2023-03-23T16:15:25.957Z"
      },
      {
        "duration": 16,
        "start_time": "2023-03-23T16:15:26.391Z"
      },
      {
        "duration": 230,
        "start_time": "2023-03-23T16:15:26.409Z"
      },
      {
        "duration": 14,
        "start_time": "2023-03-23T16:15:26.641Z"
      },
      {
        "duration": 471,
        "start_time": "2023-03-23T16:15:26.657Z"
      },
      {
        "duration": 11,
        "start_time": "2023-03-23T16:15:27.130Z"
      },
      {
        "duration": 207,
        "start_time": "2023-03-23T16:15:27.143Z"
      },
      {
        "duration": 11,
        "start_time": "2023-03-23T16:15:27.352Z"
      },
      {
        "duration": 219,
        "start_time": "2023-03-23T16:15:27.365Z"
      },
      {
        "duration": 13,
        "start_time": "2023-03-23T16:15:27.585Z"
      },
      {
        "duration": 91,
        "start_time": "2023-03-23T16:15:27.602Z"
      },
      {
        "duration": 490,
        "start_time": "2023-03-23T16:15:27.695Z"
      },
      {
        "duration": 18,
        "start_time": "2023-03-23T16:15:28.189Z"
      },
      {
        "duration": 17,
        "start_time": "2023-03-23T16:15:28.210Z"
      },
      {
        "duration": 492,
        "start_time": "2023-03-23T16:15:28.229Z"
      },
      {
        "duration": 5,
        "start_time": "2023-03-23T16:15:28.723Z"
      },
      {
        "duration": 997,
        "start_time": "2023-03-23T16:15:28.730Z"
      },
      {
        "duration": 1103,
        "start_time": "2023-03-23T16:15:29.729Z"
      },
      {
        "duration": 504,
        "start_time": "2023-03-23T16:15:30.834Z"
      },
      {
        "duration": 130,
        "start_time": "2023-03-23T16:15:31.340Z"
      },
      {
        "duration": 22,
        "start_time": "2023-03-23T16:15:31.472Z"
      },
      {
        "duration": 271,
        "start_time": "2023-03-23T16:15:31.496Z"
      },
      {
        "duration": 260,
        "start_time": "2023-03-23T16:15:31.768Z"
      },
      {
        "duration": 41,
        "start_time": "2023-03-23T16:15:32.030Z"
      },
      {
        "duration": 759,
        "start_time": "2023-03-23T16:15:32.088Z"
      },
      {
        "duration": 889,
        "start_time": "2023-03-23T16:16:13.166Z"
      },
      {
        "duration": 1648,
        "start_time": "2023-03-23T16:19:15.739Z"
      },
      {
        "duration": 1157,
        "start_time": "2023-03-23T16:21:19.283Z"
      },
      {
        "duration": 1215,
        "start_time": "2023-03-23T16:21:37.215Z"
      },
      {
        "duration": 1692,
        "start_time": "2023-03-23T16:23:25.804Z"
      },
      {
        "duration": 56,
        "start_time": "2023-03-23T16:29:13.634Z"
      },
      {
        "duration": 57,
        "start_time": "2023-03-23T16:29:22.097Z"
      },
      {
        "duration": 25,
        "start_time": "2023-03-23T16:31:05.941Z"
      },
      {
        "duration": 1638,
        "start_time": "2023-03-23T16:33:46.035Z"
      },
      {
        "duration": 26,
        "start_time": "2023-03-23T16:33:47.675Z"
      },
      {
        "duration": 2098,
        "start_time": "2023-03-23T16:33:47.704Z"
      },
      {
        "duration": 109,
        "start_time": "2023-03-23T16:33:49.805Z"
      },
      {
        "duration": 6,
        "start_time": "2023-03-23T16:33:49.916Z"
      },
      {
        "duration": 19,
        "start_time": "2023-03-23T16:33:49.923Z"
      },
      {
        "duration": 5,
        "start_time": "2023-03-23T16:33:49.943Z"
      },
      {
        "duration": 4,
        "start_time": "2023-03-23T16:33:49.950Z"
      },
      {
        "duration": 39,
        "start_time": "2023-03-23T16:33:49.956Z"
      },
      {
        "duration": 8,
        "start_time": "2023-03-23T16:33:49.998Z"
      },
      {
        "duration": 21,
        "start_time": "2023-03-23T16:33:50.007Z"
      },
      {
        "duration": 39,
        "start_time": "2023-03-23T16:33:50.030Z"
      },
      {
        "duration": 3,
        "start_time": "2023-03-23T16:33:50.071Z"
      },
      {
        "duration": 17,
        "start_time": "2023-03-23T16:33:50.076Z"
      },
      {
        "duration": 25,
        "start_time": "2023-03-23T16:33:50.095Z"
      },
      {
        "duration": 95,
        "start_time": "2023-03-23T16:33:50.121Z"
      },
      {
        "duration": 76,
        "start_time": "2023-03-23T16:33:50.218Z"
      },
      {
        "duration": 386,
        "start_time": "2023-03-23T16:33:50.295Z"
      },
      {
        "duration": 18,
        "start_time": "2023-03-23T16:33:50.683Z"
      },
      {
        "duration": 195,
        "start_time": "2023-03-23T16:33:50.702Z"
      },
      {
        "duration": 10,
        "start_time": "2023-03-23T16:33:50.898Z"
      },
      {
        "duration": 363,
        "start_time": "2023-03-23T16:33:50.910Z"
      },
      {
        "duration": 18,
        "start_time": "2023-03-23T16:33:51.275Z"
      },
      {
        "duration": 186,
        "start_time": "2023-03-23T16:33:51.294Z"
      },
      {
        "duration": 9,
        "start_time": "2023-03-23T16:33:51.489Z"
      },
      {
        "duration": 191,
        "start_time": "2023-03-23T16:33:51.500Z"
      },
      {
        "duration": 11,
        "start_time": "2023-03-23T16:33:51.693Z"
      },
      {
        "duration": 83,
        "start_time": "2023-03-23T16:33:51.707Z"
      },
      {
        "duration": 364,
        "start_time": "2023-03-23T16:33:51.792Z"
      },
      {
        "duration": 17,
        "start_time": "2023-03-23T16:33:52.158Z"
      },
      {
        "duration": 14,
        "start_time": "2023-03-23T16:33:52.189Z"
      },
      {
        "duration": 435,
        "start_time": "2023-03-23T16:33:52.205Z"
      },
      {
        "duration": 5,
        "start_time": "2023-03-23T16:33:52.643Z"
      },
      {
        "duration": 973,
        "start_time": "2023-03-23T16:33:52.650Z"
      },
      {
        "duration": 1080,
        "start_time": "2023-03-23T16:33:53.624Z"
      },
      {
        "duration": 497,
        "start_time": "2023-03-23T16:33:54.706Z"
      },
      {
        "duration": 132,
        "start_time": "2023-03-23T16:33:55.205Z"
      },
      {
        "duration": 10,
        "start_time": "2023-03-23T16:33:55.340Z"
      },
      {
        "duration": 274,
        "start_time": "2023-03-23T16:33:55.352Z"
      },
      {
        "duration": 272,
        "start_time": "2023-03-23T16:33:55.629Z"
      },
      {
        "duration": 38,
        "start_time": "2023-03-23T16:33:55.903Z"
      },
      {
        "duration": 27880,
        "start_time": "2023-03-23T16:33:55.943Z"
      },
      {
        "duration": 68,
        "start_time": "2023-03-23T16:35:47.610Z"
      },
      {
        "duration": 1365,
        "start_time": "2023-03-23T16:36:39.918Z"
      },
      {
        "duration": 1810,
        "start_time": "2023-03-23T16:39:05.397Z"
      },
      {
        "duration": 25,
        "start_time": "2023-03-23T16:50:09.364Z"
      },
      {
        "duration": 23,
        "start_time": "2023-03-23T16:50:35.729Z"
      },
      {
        "duration": 36,
        "start_time": "2023-03-23T16:52:28.075Z"
      },
      {
        "duration": 37,
        "start_time": "2023-03-23T16:53:02.682Z"
      },
      {
        "duration": 36,
        "start_time": "2023-03-23T16:53:16.324Z"
      },
      {
        "duration": 32,
        "start_time": "2023-03-23T16:53:52.152Z"
      },
      {
        "duration": 34,
        "start_time": "2023-03-23T16:57:47.385Z"
      },
      {
        "duration": 25,
        "start_time": "2023-03-23T16:58:04.853Z"
      },
      {
        "duration": 16,
        "start_time": "2023-03-23T17:00:03.611Z"
      },
      {
        "duration": 96,
        "start_time": "2023-03-23T17:14:55.558Z"
      },
      {
        "duration": 71,
        "start_time": "2023-03-23T17:15:16.666Z"
      },
      {
        "duration": 312,
        "start_time": "2023-03-23T17:15:25.279Z"
      },
      {
        "duration": 78,
        "start_time": "2023-03-23T17:24:08.544Z"
      },
      {
        "duration": 65,
        "start_time": "2023-03-24T16:22:21.145Z"
      },
      {
        "duration": 1731,
        "start_time": "2023-03-24T16:22:28.920Z"
      },
      {
        "duration": 1210,
        "start_time": "2023-03-24T16:22:36.447Z"
      },
      {
        "duration": 13,
        "start_time": "2023-03-24T16:22:37.659Z"
      },
      {
        "duration": 2072,
        "start_time": "2023-03-24T16:22:37.674Z"
      },
      {
        "duration": 104,
        "start_time": "2023-03-24T16:22:39.749Z"
      },
      {
        "duration": 11,
        "start_time": "2023-03-24T16:22:39.855Z"
      },
      {
        "duration": 28,
        "start_time": "2023-03-24T16:22:39.868Z"
      },
      {
        "duration": 8,
        "start_time": "2023-03-24T16:22:39.898Z"
      },
      {
        "duration": 8,
        "start_time": "2023-03-24T16:22:39.908Z"
      },
      {
        "duration": 15,
        "start_time": "2023-03-24T16:22:39.918Z"
      },
      {
        "duration": 9,
        "start_time": "2023-03-24T16:22:39.951Z"
      },
      {
        "duration": 8,
        "start_time": "2023-03-24T16:22:39.962Z"
      },
      {
        "duration": 42,
        "start_time": "2023-03-24T16:22:39.972Z"
      },
      {
        "duration": 10,
        "start_time": "2023-03-24T16:22:40.016Z"
      },
      {
        "duration": 30,
        "start_time": "2023-03-24T16:22:40.028Z"
      },
      {
        "duration": 53,
        "start_time": "2023-03-24T16:22:40.060Z"
      },
      {
        "duration": 152,
        "start_time": "2023-03-24T16:22:40.117Z"
      },
      {
        "duration": 103,
        "start_time": "2023-03-24T16:22:40.271Z"
      },
      {
        "duration": 451,
        "start_time": "2023-03-24T16:22:40.379Z"
      },
      {
        "duration": 29,
        "start_time": "2023-03-24T16:22:40.832Z"
      },
      {
        "duration": 239,
        "start_time": "2023-03-24T16:22:40.864Z"
      },
      {
        "duration": 14,
        "start_time": "2023-03-24T16:22:41.105Z"
      },
      {
        "duration": 507,
        "start_time": "2023-03-24T16:22:41.121Z"
      },
      {
        "duration": 29,
        "start_time": "2023-03-24T16:22:41.630Z"
      },
      {
        "duration": 276,
        "start_time": "2023-03-24T16:22:41.662Z"
      },
      {
        "duration": 18,
        "start_time": "2023-03-24T16:22:41.940Z"
      },
      {
        "duration": 209,
        "start_time": "2023-03-24T16:22:41.960Z"
      },
      {
        "duration": 10,
        "start_time": "2023-03-24T16:22:42.171Z"
      },
      {
        "duration": 79,
        "start_time": "2023-03-24T16:22:42.185Z"
      },
      {
        "duration": 366,
        "start_time": "2023-03-24T16:22:42.266Z"
      },
      {
        "duration": 21,
        "start_time": "2023-03-24T16:22:42.634Z"
      },
      {
        "duration": 12,
        "start_time": "2023-03-24T16:22:42.656Z"
      },
      {
        "duration": 447,
        "start_time": "2023-03-24T16:22:42.669Z"
      },
      {
        "duration": 4,
        "start_time": "2023-03-24T16:22:43.118Z"
      },
      {
        "duration": 1054,
        "start_time": "2023-03-24T16:22:43.125Z"
      },
      {
        "duration": 1286,
        "start_time": "2023-03-24T16:22:44.181Z"
      },
      {
        "duration": 472,
        "start_time": "2023-03-24T16:22:45.468Z"
      },
      {
        "duration": 135,
        "start_time": "2023-03-24T16:22:45.942Z"
      },
      {
        "duration": 11,
        "start_time": "2023-03-24T16:22:46.079Z"
      },
      {
        "duration": 266,
        "start_time": "2023-03-24T16:22:46.092Z"
      },
      {
        "duration": 250,
        "start_time": "2023-03-24T16:22:46.361Z"
      },
      {
        "duration": 62,
        "start_time": "2023-03-24T16:22:46.613Z"
      },
      {
        "duration": 1572,
        "start_time": "2023-03-24T16:22:46.677Z"
      },
      {
        "duration": 28,
        "start_time": "2023-03-24T16:22:48.250Z"
      },
      {
        "duration": 302,
        "start_time": "2023-03-24T16:22:48.280Z"
      },
      {
        "duration": 8,
        "start_time": "2023-03-24T16:23:13.904Z"
      },
      {
        "duration": 164,
        "start_time": "2023-03-24T16:27:23.561Z"
      },
      {
        "duration": 149,
        "start_time": "2023-03-24T16:27:49.999Z"
      },
      {
        "duration": 220,
        "start_time": "2023-03-24T16:27:55.158Z"
      },
      {
        "duration": 1296,
        "start_time": "2023-03-24T16:28:34.697Z"
      },
      {
        "duration": 21,
        "start_time": "2023-03-24T16:28:35.996Z"
      },
      {
        "duration": 2013,
        "start_time": "2023-03-24T16:28:36.019Z"
      },
      {
        "duration": 92,
        "start_time": "2023-03-24T16:28:38.035Z"
      },
      {
        "duration": 5,
        "start_time": "2023-03-24T16:28:38.129Z"
      },
      {
        "duration": 24,
        "start_time": "2023-03-24T16:28:38.136Z"
      },
      {
        "duration": 6,
        "start_time": "2023-03-24T16:28:38.161Z"
      },
      {
        "duration": 6,
        "start_time": "2023-03-24T16:28:38.169Z"
      },
      {
        "duration": 10,
        "start_time": "2023-03-24T16:28:38.177Z"
      },
      {
        "duration": 8,
        "start_time": "2023-03-24T16:28:38.189Z"
      },
      {
        "duration": 11,
        "start_time": "2023-03-24T16:28:38.198Z"
      },
      {
        "duration": 226,
        "start_time": "2023-03-24T16:28:38.211Z"
      },
      {
        "duration": 8,
        "start_time": "2023-03-24T16:28:38.440Z"
      },
      {
        "duration": 6,
        "start_time": "2023-03-24T16:28:38.450Z"
      },
      {
        "duration": 11,
        "start_time": "2023-03-24T16:28:38.458Z"
      },
      {
        "duration": 27,
        "start_time": "2023-03-24T16:28:38.471Z"
      },
      {
        "duration": 129,
        "start_time": "2023-03-24T16:28:38.504Z"
      },
      {
        "duration": 73,
        "start_time": "2023-03-24T16:28:38.635Z"
      },
      {
        "duration": 365,
        "start_time": "2023-03-24T16:28:38.710Z"
      },
      {
        "duration": 21,
        "start_time": "2023-03-24T16:28:39.077Z"
      },
      {
        "duration": 226,
        "start_time": "2023-03-24T16:28:39.101Z"
      },
      {
        "duration": 20,
        "start_time": "2023-03-24T16:28:39.329Z"
      },
      {
        "duration": 355,
        "start_time": "2023-03-24T16:28:39.351Z"
      },
      {
        "duration": 13,
        "start_time": "2023-03-24T16:28:39.708Z"
      },
      {
        "duration": 226,
        "start_time": "2023-03-24T16:28:39.724Z"
      },
      {
        "duration": 15,
        "start_time": "2023-03-24T16:28:39.953Z"
      },
      {
        "duration": 225,
        "start_time": "2023-03-24T16:28:39.970Z"
      },
      {
        "duration": 12,
        "start_time": "2023-03-24T16:28:40.199Z"
      },
      {
        "duration": 96,
        "start_time": "2023-03-24T16:28:40.213Z"
      },
      {
        "duration": 484,
        "start_time": "2023-03-24T16:28:40.311Z"
      },
      {
        "duration": 23,
        "start_time": "2023-03-24T16:28:40.797Z"
      },
      {
        "duration": 34,
        "start_time": "2023-03-24T16:28:40.822Z"
      },
      {
        "duration": 363,
        "start_time": "2023-03-24T16:28:40.859Z"
      },
      {
        "duration": 5,
        "start_time": "2023-03-24T16:28:41.224Z"
      },
      {
        "duration": 883,
        "start_time": "2023-03-24T16:28:41.231Z"
      },
      {
        "duration": 889,
        "start_time": "2023-03-24T16:28:42.116Z"
      },
      {
        "duration": 405,
        "start_time": "2023-03-24T16:28:43.007Z"
      },
      {
        "duration": 129,
        "start_time": "2023-03-24T16:28:43.414Z"
      },
      {
        "duration": 12,
        "start_time": "2023-03-24T16:28:43.549Z"
      },
      {
        "duration": 341,
        "start_time": "2023-03-24T16:28:43.563Z"
      },
      {
        "duration": 216,
        "start_time": "2023-03-24T16:28:43.905Z"
      },
      {
        "duration": 42,
        "start_time": "2023-03-24T16:28:44.123Z"
      },
      {
        "duration": 1600,
        "start_time": "2023-03-24T16:28:44.167Z"
      },
      {
        "duration": 33,
        "start_time": "2023-03-24T16:28:45.768Z"
      },
      {
        "duration": 262,
        "start_time": "2023-03-24T16:28:45.803Z"
      },
      {
        "duration": 155,
        "start_time": "2023-03-24T16:29:11.059Z"
      },
      {
        "duration": 141,
        "start_time": "2023-03-24T16:29:21.447Z"
      },
      {
        "duration": 244,
        "start_time": "2023-03-24T16:29:26.384Z"
      },
      {
        "duration": 210,
        "start_time": "2023-03-24T16:30:15.234Z"
      },
      {
        "duration": 32,
        "start_time": "2023-03-24T16:36:11.861Z"
      },
      {
        "duration": 240,
        "start_time": "2023-03-24T16:36:23.866Z"
      },
      {
        "duration": 29,
        "start_time": "2023-03-24T16:36:29.631Z"
      },
      {
        "duration": 20,
        "start_time": "2023-03-24T16:38:55.375Z"
      },
      {
        "duration": 20,
        "start_time": "2023-03-24T16:39:02.347Z"
      },
      {
        "duration": 1249,
        "start_time": "2023-03-24T16:39:08.083Z"
      },
      {
        "duration": 21,
        "start_time": "2023-03-24T16:39:09.334Z"
      },
      {
        "duration": 1751,
        "start_time": "2023-03-24T16:39:09.357Z"
      },
      {
        "duration": 113,
        "start_time": "2023-03-24T16:39:11.111Z"
      },
      {
        "duration": 7,
        "start_time": "2023-03-24T16:39:11.226Z"
      },
      {
        "duration": 61,
        "start_time": "2023-03-24T16:39:11.235Z"
      },
      {
        "duration": 34,
        "start_time": "2023-03-24T16:39:11.298Z"
      },
      {
        "duration": 33,
        "start_time": "2023-03-24T16:39:11.335Z"
      },
      {
        "duration": 38,
        "start_time": "2023-03-24T16:39:11.370Z"
      },
      {
        "duration": 60,
        "start_time": "2023-03-24T16:39:11.411Z"
      },
      {
        "duration": 20,
        "start_time": "2023-03-24T16:39:11.473Z"
      },
      {
        "duration": 254,
        "start_time": "2023-03-24T16:39:11.495Z"
      },
      {
        "duration": 17,
        "start_time": "2023-03-24T16:39:11.751Z"
      },
      {
        "duration": 23,
        "start_time": "2023-03-24T16:39:11.770Z"
      },
      {
        "duration": 35,
        "start_time": "2023-03-24T16:39:11.795Z"
      },
      {
        "duration": 25,
        "start_time": "2023-03-24T16:39:11.832Z"
      },
      {
        "duration": 71,
        "start_time": "2023-03-24T16:39:11.858Z"
      },
      {
        "duration": 70,
        "start_time": "2023-03-24T16:39:11.930Z"
      },
      {
        "duration": 69,
        "start_time": "2023-03-24T16:39:12.002Z"
      },
      {
        "duration": 314,
        "start_time": "2023-03-24T16:39:12.072Z"
      },
      {
        "duration": 13,
        "start_time": "2023-03-24T16:39:12.389Z"
      },
      {
        "duration": 238,
        "start_time": "2023-03-24T16:39:12.404Z"
      },
      {
        "duration": 10,
        "start_time": "2023-03-24T16:39:12.648Z"
      },
      {
        "duration": 370,
        "start_time": "2023-03-24T16:39:12.660Z"
      },
      {
        "duration": 9,
        "start_time": "2023-03-24T16:39:13.032Z"
      },
      {
        "duration": 304,
        "start_time": "2023-03-24T16:39:13.049Z"
      },
      {
        "duration": 12,
        "start_time": "2023-03-24T16:39:13.355Z"
      },
      {
        "duration": 200,
        "start_time": "2023-03-24T16:39:13.371Z"
      },
      {
        "duration": 9,
        "start_time": "2023-03-24T16:39:13.573Z"
      },
      {
        "duration": 79,
        "start_time": "2023-03-24T16:39:13.584Z"
      },
      {
        "duration": 415,
        "start_time": "2023-03-24T16:39:13.665Z"
      },
      {
        "duration": 13,
        "start_time": "2023-03-24T16:39:14.082Z"
      },
      {
        "duration": 39,
        "start_time": "2023-03-24T16:39:14.096Z"
      },
      {
        "duration": 300,
        "start_time": "2023-03-24T16:39:14.137Z"
      },
      {
        "duration": 4,
        "start_time": "2023-03-24T16:39:14.439Z"
      },
      {
        "duration": 921,
        "start_time": "2023-03-24T16:39:14.449Z"
      },
      {
        "duration": 850,
        "start_time": "2023-03-24T16:39:15.371Z"
      },
      {
        "duration": 375,
        "start_time": "2023-03-24T16:39:16.222Z"
      },
      {
        "duration": 109,
        "start_time": "2023-03-24T16:39:16.599Z"
      },
      {
        "duration": 10,
        "start_time": "2023-03-24T16:39:16.710Z"
      },
      {
        "duration": 250,
        "start_time": "2023-03-24T16:39:16.722Z"
      },
      {
        "duration": 216,
        "start_time": "2023-03-24T16:39:16.974Z"
      },
      {
        "duration": 34,
        "start_time": "2023-03-24T16:39:17.192Z"
      },
      {
        "duration": 1371,
        "start_time": "2023-03-24T16:39:17.228Z"
      },
      {
        "duration": 24,
        "start_time": "2023-03-24T16:39:18.600Z"
      },
      {
        "duration": 303,
        "start_time": "2023-03-24T16:39:18.625Z"
      },
      {
        "duration": 31,
        "start_time": "2023-03-24T16:40:25.991Z"
      },
      {
        "duration": 1208,
        "start_time": "2023-03-24T16:40:38.414Z"
      },
      {
        "duration": 15,
        "start_time": "2023-03-24T16:40:39.624Z"
      },
      {
        "duration": 1964,
        "start_time": "2023-03-24T16:40:39.648Z"
      },
      {
        "duration": 115,
        "start_time": "2023-03-24T16:40:41.614Z"
      },
      {
        "duration": 5,
        "start_time": "2023-03-24T16:40:41.732Z"
      },
      {
        "duration": 20,
        "start_time": "2023-03-24T16:40:41.748Z"
      },
      {
        "duration": 7,
        "start_time": "2023-03-24T16:40:41.770Z"
      },
      {
        "duration": 13,
        "start_time": "2023-03-24T16:40:41.778Z"
      },
      {
        "duration": 11,
        "start_time": "2023-03-24T16:40:41.793Z"
      },
      {
        "duration": 11,
        "start_time": "2023-03-24T16:40:41.805Z"
      },
      {
        "duration": 37,
        "start_time": "2023-03-24T16:40:41.817Z"
      },
      {
        "duration": 322,
        "start_time": "2023-03-24T16:40:41.855Z"
      },
      {
        "duration": 39,
        "start_time": "2023-03-24T16:40:42.180Z"
      },
      {
        "duration": 2,
        "start_time": "2023-03-24T16:40:42.223Z"
      },
      {
        "duration": 21,
        "start_time": "2023-03-24T16:40:42.228Z"
      },
      {
        "duration": 9,
        "start_time": "2023-03-24T16:40:42.251Z"
      },
      {
        "duration": 33,
        "start_time": "2023-03-24T16:40:42.261Z"
      },
      {
        "duration": 132,
        "start_time": "2023-03-24T16:40:42.297Z"
      },
      {
        "duration": 73,
        "start_time": "2023-03-24T16:40:42.432Z"
      },
      {
        "duration": 368,
        "start_time": "2023-03-24T16:40:42.507Z"
      },
      {
        "duration": 19,
        "start_time": "2023-03-24T16:40:42.877Z"
      },
      {
        "duration": 233,
        "start_time": "2023-03-24T16:40:42.898Z"
      },
      {
        "duration": 12,
        "start_time": "2023-03-24T16:40:43.132Z"
      },
      {
        "duration": 353,
        "start_time": "2023-03-24T16:40:43.146Z"
      },
      {
        "duration": 10,
        "start_time": "2023-03-24T16:40:43.500Z"
      },
      {
        "duration": 187,
        "start_time": "2023-03-24T16:40:43.511Z"
      },
      {
        "duration": 10,
        "start_time": "2023-03-24T16:40:43.699Z"
      },
      {
        "duration": 183,
        "start_time": "2023-03-24T16:40:43.711Z"
      },
      {
        "duration": 11,
        "start_time": "2023-03-24T16:40:43.896Z"
      },
      {
        "duration": 87,
        "start_time": "2023-03-24T16:40:43.908Z"
      },
      {
        "duration": 469,
        "start_time": "2023-03-24T16:40:43.996Z"
      },
      {
        "duration": 18,
        "start_time": "2023-03-24T16:40:44.470Z"
      },
      {
        "duration": 20,
        "start_time": "2023-03-24T16:40:44.490Z"
      },
      {
        "duration": 450,
        "start_time": "2023-03-24T16:40:44.512Z"
      },
      {
        "duration": 5,
        "start_time": "2023-03-24T16:40:44.964Z"
      },
      {
        "duration": 875,
        "start_time": "2023-03-24T16:40:44.971Z"
      },
      {
        "duration": 950,
        "start_time": "2023-03-24T16:40:45.849Z"
      },
      {
        "duration": 475,
        "start_time": "2023-03-24T16:40:46.800Z"
      },
      {
        "duration": 131,
        "start_time": "2023-03-24T16:40:47.276Z"
      },
      {
        "duration": 11,
        "start_time": "2023-03-24T16:40:47.409Z"
      },
      {
        "duration": 317,
        "start_time": "2023-03-24T16:40:47.426Z"
      },
      {
        "duration": 247,
        "start_time": "2023-03-24T16:40:47.745Z"
      },
      {
        "duration": 35,
        "start_time": "2023-03-24T16:40:47.994Z"
      },
      {
        "duration": 1583,
        "start_time": "2023-03-24T16:40:48.031Z"
      },
      {
        "duration": 34,
        "start_time": "2023-03-24T16:40:49.616Z"
      },
      {
        "duration": 294,
        "start_time": "2023-03-24T16:40:49.652Z"
      },
      {
        "duration": 19,
        "start_time": "2023-03-24T16:47:01.279Z"
      },
      {
        "duration": 1235,
        "start_time": "2023-03-24T16:47:08.195Z"
      },
      {
        "duration": 20,
        "start_time": "2023-03-24T16:47:09.432Z"
      },
      {
        "duration": 2002,
        "start_time": "2023-03-24T16:47:09.454Z"
      },
      {
        "duration": 113,
        "start_time": "2023-03-24T16:47:11.459Z"
      },
      {
        "duration": 8,
        "start_time": "2023-03-24T16:47:11.574Z"
      },
      {
        "duration": 21,
        "start_time": "2023-03-24T16:47:11.586Z"
      },
      {
        "duration": 8,
        "start_time": "2023-03-24T16:47:11.609Z"
      },
      {
        "duration": 33,
        "start_time": "2023-03-24T16:47:11.619Z"
      },
      {
        "duration": 12,
        "start_time": "2023-03-24T16:47:11.654Z"
      },
      {
        "duration": 14,
        "start_time": "2023-03-24T16:47:11.670Z"
      },
      {
        "duration": 17,
        "start_time": "2023-03-24T16:47:11.686Z"
      },
      {
        "duration": 298,
        "start_time": "2023-03-24T16:47:11.705Z"
      },
      {
        "duration": 47,
        "start_time": "2023-03-24T16:47:12.005Z"
      },
      {
        "duration": 3,
        "start_time": "2023-03-24T16:47:12.054Z"
      },
      {
        "duration": 6,
        "start_time": "2023-03-24T16:47:12.059Z"
      },
      {
        "duration": 14,
        "start_time": "2023-03-24T16:47:12.067Z"
      },
      {
        "duration": 24,
        "start_time": "2023-03-24T16:47:12.083Z"
      },
      {
        "duration": 115,
        "start_time": "2023-03-24T16:47:12.109Z"
      },
      {
        "duration": 95,
        "start_time": "2023-03-24T16:47:12.226Z"
      },
      {
        "duration": 399,
        "start_time": "2023-03-24T16:47:12.323Z"
      },
      {
        "duration": 25,
        "start_time": "2023-03-24T16:47:12.724Z"
      },
      {
        "duration": 211,
        "start_time": "2023-03-24T16:47:12.751Z"
      },
      {
        "duration": 19,
        "start_time": "2023-03-24T16:47:12.964Z"
      },
      {
        "duration": 350,
        "start_time": "2023-03-24T16:47:12.985Z"
      },
      {
        "duration": 12,
        "start_time": "2023-03-24T16:47:13.337Z"
      },
      {
        "duration": 158,
        "start_time": "2023-03-24T16:47:13.351Z"
      },
      {
        "duration": 10,
        "start_time": "2023-03-24T16:47:13.510Z"
      },
      {
        "duration": 156,
        "start_time": "2023-03-24T16:47:13.524Z"
      },
      {
        "duration": 11,
        "start_time": "2023-03-24T16:47:13.681Z"
      },
      {
        "duration": 87,
        "start_time": "2023-03-24T16:47:13.693Z"
      },
      {
        "duration": 429,
        "start_time": "2023-03-24T16:47:13.782Z"
      },
      {
        "duration": 13,
        "start_time": "2023-03-24T16:47:14.213Z"
      },
      {
        "duration": 40,
        "start_time": "2023-03-24T16:47:14.228Z"
      },
      {
        "duration": 23,
        "start_time": "2023-03-24T16:47:14.270Z"
      },
      {
        "duration": 464,
        "start_time": "2023-03-24T16:47:14.295Z"
      },
      {
        "duration": 4,
        "start_time": "2023-03-24T16:47:14.761Z"
      },
      {
        "duration": 859,
        "start_time": "2023-03-24T16:47:14.766Z"
      },
      {
        "duration": 876,
        "start_time": "2023-03-24T16:47:15.627Z"
      },
      {
        "duration": 477,
        "start_time": "2023-03-24T16:47:16.504Z"
      },
      {
        "duration": 151,
        "start_time": "2023-03-24T16:47:16.983Z"
      },
      {
        "duration": 17,
        "start_time": "2023-03-24T16:47:17.136Z"
      },
      {
        "duration": 216,
        "start_time": "2023-03-24T16:47:17.155Z"
      },
      {
        "duration": 220,
        "start_time": "2023-03-24T16:47:17.372Z"
      },
      {
        "duration": 31,
        "start_time": "2023-03-24T16:47:17.593Z"
      },
      {
        "duration": 1439,
        "start_time": "2023-03-24T16:47:17.625Z"
      },
      {
        "duration": 30,
        "start_time": "2023-03-24T16:47:19.066Z"
      },
      {
        "duration": 258,
        "start_time": "2023-03-24T16:47:19.098Z"
      },
      {
        "duration": 215,
        "start_time": "2023-03-24T16:59:12.605Z"
      },
      {
        "duration": 201,
        "start_time": "2023-03-24T16:59:21.478Z"
      },
      {
        "duration": 209,
        "start_time": "2023-03-24T16:59:47.384Z"
      },
      {
        "duration": 345,
        "start_time": "2023-03-24T17:00:00.847Z"
      },
      {
        "duration": 211,
        "start_time": "2023-03-24T17:00:05.729Z"
      },
      {
        "duration": 34,
        "start_time": "2023-03-24T17:00:49.008Z"
      },
      {
        "duration": 1133,
        "start_time": "2023-03-24T17:01:07.192Z"
      },
      {
        "duration": 13,
        "start_time": "2023-03-24T17:01:08.327Z"
      },
      {
        "duration": 1699,
        "start_time": "2023-03-24T17:01:08.341Z"
      },
      {
        "duration": 88,
        "start_time": "2023-03-24T17:01:10.042Z"
      },
      {
        "duration": 6,
        "start_time": "2023-03-24T17:01:10.132Z"
      },
      {
        "duration": 41,
        "start_time": "2023-03-24T17:01:10.139Z"
      },
      {
        "duration": 6,
        "start_time": "2023-03-24T17:01:10.182Z"
      },
      {
        "duration": 5,
        "start_time": "2023-03-24T17:01:10.189Z"
      },
      {
        "duration": 7,
        "start_time": "2023-03-24T17:01:10.196Z"
      },
      {
        "duration": 16,
        "start_time": "2023-03-24T17:01:10.205Z"
      },
      {
        "duration": 7,
        "start_time": "2023-03-24T17:01:10.223Z"
      },
      {
        "duration": 214,
        "start_time": "2023-03-24T17:01:10.232Z"
      },
      {
        "duration": 46,
        "start_time": "2023-03-24T17:01:10.447Z"
      },
      {
        "duration": 2,
        "start_time": "2023-03-24T17:01:10.497Z"
      },
      {
        "duration": 6,
        "start_time": "2023-03-24T17:01:10.501Z"
      },
      {
        "duration": 21,
        "start_time": "2023-03-24T17:01:10.509Z"
      },
      {
        "duration": 27,
        "start_time": "2023-03-24T17:01:10.532Z"
      },
      {
        "duration": 112,
        "start_time": "2023-03-24T17:01:10.560Z"
      },
      {
        "duration": 56,
        "start_time": "2023-03-24T17:01:10.673Z"
      },
      {
        "duration": 350,
        "start_time": "2023-03-24T17:01:10.731Z"
      },
      {
        "duration": 16,
        "start_time": "2023-03-24T17:01:11.083Z"
      },
      {
        "duration": 221,
        "start_time": "2023-03-24T17:01:11.101Z"
      },
      {
        "duration": 11,
        "start_time": "2023-03-24T17:01:11.323Z"
      },
      {
        "duration": 335,
        "start_time": "2023-03-24T17:01:11.335Z"
      },
      {
        "duration": 8,
        "start_time": "2023-03-24T17:01:11.671Z"
      },
      {
        "duration": 176,
        "start_time": "2023-03-24T17:01:11.681Z"
      },
      {
        "duration": 11,
        "start_time": "2023-03-24T17:01:11.868Z"
      },
      {
        "duration": 174,
        "start_time": "2023-03-24T17:01:11.880Z"
      },
      {
        "duration": 11,
        "start_time": "2023-03-24T17:01:12.060Z"
      },
      {
        "duration": 58,
        "start_time": "2023-03-24T17:01:12.072Z"
      },
      {
        "duration": 391,
        "start_time": "2023-03-24T17:01:12.132Z"
      },
      {
        "duration": 13,
        "start_time": "2023-03-24T17:01:12.524Z"
      },
      {
        "duration": 23,
        "start_time": "2023-03-24T17:01:12.554Z"
      },
      {
        "duration": 10,
        "start_time": "2023-03-24T17:01:12.578Z"
      },
      {
        "duration": 318,
        "start_time": "2023-03-24T17:01:12.590Z"
      },
      {
        "duration": 5,
        "start_time": "2023-03-24T17:01:12.910Z"
      },
      {
        "duration": 789,
        "start_time": "2023-03-24T17:01:12.916Z"
      },
      {
        "duration": 933,
        "start_time": "2023-03-24T17:01:13.707Z"
      },
      {
        "duration": 538,
        "start_time": "2023-03-24T17:01:14.642Z"
      },
      {
        "duration": 129,
        "start_time": "2023-03-24T17:01:15.184Z"
      },
      {
        "duration": 11,
        "start_time": "2023-03-24T17:01:15.317Z"
      },
      {
        "duration": 230,
        "start_time": "2023-03-24T17:01:15.330Z"
      },
      {
        "duration": 216,
        "start_time": "2023-03-24T17:01:15.568Z"
      },
      {
        "duration": 26,
        "start_time": "2023-03-24T17:01:15.785Z"
      },
      {
        "duration": 56,
        "start_time": "2023-03-24T17:01:15.813Z"
      },
      {
        "duration": 1302,
        "start_time": "2023-03-24T17:01:15.870Z"
      },
      {
        "duration": 24,
        "start_time": "2023-03-24T17:01:17.173Z"
      },
      {
        "duration": 267,
        "start_time": "2023-03-24T17:01:17.198Z"
      }
    ],
    "kernelspec": {
      "display_name": "Python 3 (ipykernel)",
      "language": "python",
      "name": "python3"
    },
    "language_info": {
      "codemirror_mode": {
        "name": "ipython",
        "version": 3
      },
      "file_extension": ".py",
      "mimetype": "text/x-python",
      "name": "python",
      "nbconvert_exporter": "python",
      "pygments_lexer": "ipython3",
      "version": "3.9.5"
    },
    "toc": {
      "base_numbering": 1,
      "nav_menu": {},
      "number_sections": true,
      "sideBar": true,
      "skip_h1_title": true,
      "title_cell": "Table of Contents",
      "title_sidebar": "Contents",
      "toc_cell": false,
      "toc_position": {},
      "toc_section_display": true,
      "toc_window_display": false
    },
    "colab": {
      "provenance": []
    }
  },
  "nbformat": 4,
  "nbformat_minor": 0
}