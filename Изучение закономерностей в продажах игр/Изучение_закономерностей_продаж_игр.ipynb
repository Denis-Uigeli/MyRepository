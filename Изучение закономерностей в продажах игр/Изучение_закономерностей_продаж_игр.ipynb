{
  "cells": [
    {
      "cell_type": "markdown",
      "metadata": {
        "id": "dSdX23Jw7ujm"
      },
      "source": [
        "# Анализ продаж платформенных игр для магазина \"Стримчик\""
      ]
    },
    {
      "cell_type": "markdown",
      "metadata": {
        "id": "Koubggy77ujn"
      },
      "source": [
        "# Описание проекта\n",
        "Для магазина «Стримчик», который продаёт по всему миру компьютерные игры, нужно выявить определяющие успешность игры закономерности. Это позволит сделать ставку на потенциально популярный продукт и спланировать рекламные кампании на 2017-й г.\n",
        "\n",
        "Из открытых источников доступны исторические данные о продажах игр, оценки пользователей и экспертов, жанры и платформы (например, Xbox или PlayStation).\n"
      ]
    },
    {
      "cell_type": "markdown",
      "metadata": {
        "id": "lrWSCX827ujo"
      },
      "source": [
        "### Краткий план.\n",
        "Задание будем выполнять в соответсвии с инструкцией, указанной в теоретической части.\n",
        "**Краткий план:**\n",
        " - ознакомимся с данными, проведем максимальную предобработку;\n",
        " - проведем исследовательский анализ данных в соответствии с заданиями \"Шаг 3\" и \"Шаг 4\";\n",
        " - сформулируем и проверим гипотезы;\n",
        " - сформулируем вывод."
      ]
    },
    {
      "cell_type": "markdown",
      "metadata": {
        "id": "NDluPa4h7ujo"
      },
      "source": [
        "### Изучение общей информации\n",
        "\n",
        "Импортируем изученные библиотеки,  прочитаем файл, просмотрим первые строки, информацию, описание датасета, пропуски."
      ]
    },
    {
      "cell_type": "code",
      "execution_count": null,
      "metadata": {
        "id": "brz64eMd7ujp"
      },
      "outputs": [],
      "source": [
        "import pandas as pd\n",
        "import numpy as np\n",
        "import matplotlib.pyplot as plt\n",
        "import seaborn as sns\n",
        "from scipy import stats as st"
      ]
    },
    {
      "cell_type": "code",
      "execution_count": null,
      "metadata": {
        "id": "L2V7esmG7ujr"
      },
      "outputs": [],
      "source": [
        "games = pd.read_csv('/datasets/games.csv')"
      ]
    },
    {
      "cell_type": "code",
      "execution_count": null,
      "metadata": {
        "id": "OeKyTw6d7ujr",
        "outputId": "d7a14157-6ed4-469e-9b64-8449a1c665df"
      },
      "outputs": [
        {
          "data": {
            "text/html": [
              "<div>\n",
              "<style scoped>\n",
              "    .dataframe tbody tr th:only-of-type {\n",
              "        vertical-align: middle;\n",
              "    }\n",
              "\n",
              "    .dataframe tbody tr th {\n",
              "        vertical-align: top;\n",
              "    }\n",
              "\n",
              "    .dataframe thead th {\n",
              "        text-align: right;\n",
              "    }\n",
              "</style>\n",
              "<table border=\"1\" class=\"dataframe\">\n",
              "  <thead>\n",
              "    <tr style=\"text-align: right;\">\n",
              "      <th></th>\n",
              "      <th>Name</th>\n",
              "      <th>Platform</th>\n",
              "      <th>Year_of_Release</th>\n",
              "      <th>Genre</th>\n",
              "      <th>NA_sales</th>\n",
              "      <th>EU_sales</th>\n",
              "      <th>JP_sales</th>\n",
              "      <th>Other_sales</th>\n",
              "      <th>Critic_Score</th>\n",
              "      <th>User_Score</th>\n",
              "      <th>Rating</th>\n",
              "    </tr>\n",
              "  </thead>\n",
              "  <tbody>\n",
              "    <tr>\n",
              "      <th>0</th>\n",
              "      <td>Wii Sports</td>\n",
              "      <td>Wii</td>\n",
              "      <td>2006.0</td>\n",
              "      <td>Sports</td>\n",
              "      <td>41.36</td>\n",
              "      <td>28.96</td>\n",
              "      <td>3.77</td>\n",
              "      <td>8.45</td>\n",
              "      <td>76.0</td>\n",
              "      <td>8</td>\n",
              "      <td>E</td>\n",
              "    </tr>\n",
              "    <tr>\n",
              "      <th>1</th>\n",
              "      <td>Super Mario Bros.</td>\n",
              "      <td>NES</td>\n",
              "      <td>1985.0</td>\n",
              "      <td>Platform</td>\n",
              "      <td>29.08</td>\n",
              "      <td>3.58</td>\n",
              "      <td>6.81</td>\n",
              "      <td>0.77</td>\n",
              "      <td>NaN</td>\n",
              "      <td>NaN</td>\n",
              "      <td>NaN</td>\n",
              "    </tr>\n",
              "    <tr>\n",
              "      <th>2</th>\n",
              "      <td>Mario Kart Wii</td>\n",
              "      <td>Wii</td>\n",
              "      <td>2008.0</td>\n",
              "      <td>Racing</td>\n",
              "      <td>15.68</td>\n",
              "      <td>12.76</td>\n",
              "      <td>3.79</td>\n",
              "      <td>3.29</td>\n",
              "      <td>82.0</td>\n",
              "      <td>8.3</td>\n",
              "      <td>E</td>\n",
              "    </tr>\n",
              "    <tr>\n",
              "      <th>3</th>\n",
              "      <td>Wii Sports Resort</td>\n",
              "      <td>Wii</td>\n",
              "      <td>2009.0</td>\n",
              "      <td>Sports</td>\n",
              "      <td>15.61</td>\n",
              "      <td>10.93</td>\n",
              "      <td>3.28</td>\n",
              "      <td>2.95</td>\n",
              "      <td>80.0</td>\n",
              "      <td>8</td>\n",
              "      <td>E</td>\n",
              "    </tr>\n",
              "    <tr>\n",
              "      <th>4</th>\n",
              "      <td>Pokemon Red/Pokemon Blue</td>\n",
              "      <td>GB</td>\n",
              "      <td>1996.0</td>\n",
              "      <td>Role-Playing</td>\n",
              "      <td>11.27</td>\n",
              "      <td>8.89</td>\n",
              "      <td>10.22</td>\n",
              "      <td>1.00</td>\n",
              "      <td>NaN</td>\n",
              "      <td>NaN</td>\n",
              "      <td>NaN</td>\n",
              "    </tr>\n",
              "    <tr>\n",
              "      <th>5</th>\n",
              "      <td>Tetris</td>\n",
              "      <td>GB</td>\n",
              "      <td>1989.0</td>\n",
              "      <td>Puzzle</td>\n",
              "      <td>23.20</td>\n",
              "      <td>2.26</td>\n",
              "      <td>4.22</td>\n",
              "      <td>0.58</td>\n",
              "      <td>NaN</td>\n",
              "      <td>NaN</td>\n",
              "      <td>NaN</td>\n",
              "    </tr>\n",
              "    <tr>\n",
              "      <th>6</th>\n",
              "      <td>New Super Mario Bros.</td>\n",
              "      <td>DS</td>\n",
              "      <td>2006.0</td>\n",
              "      <td>Platform</td>\n",
              "      <td>11.28</td>\n",
              "      <td>9.14</td>\n",
              "      <td>6.50</td>\n",
              "      <td>2.88</td>\n",
              "      <td>89.0</td>\n",
              "      <td>8.5</td>\n",
              "      <td>E</td>\n",
              "    </tr>\n",
              "    <tr>\n",
              "      <th>7</th>\n",
              "      <td>Wii Play</td>\n",
              "      <td>Wii</td>\n",
              "      <td>2006.0</td>\n",
              "      <td>Misc</td>\n",
              "      <td>13.96</td>\n",
              "      <td>9.18</td>\n",
              "      <td>2.93</td>\n",
              "      <td>2.84</td>\n",
              "      <td>58.0</td>\n",
              "      <td>6.6</td>\n",
              "      <td>E</td>\n",
              "    </tr>\n",
              "    <tr>\n",
              "      <th>8</th>\n",
              "      <td>New Super Mario Bros. Wii</td>\n",
              "      <td>Wii</td>\n",
              "      <td>2009.0</td>\n",
              "      <td>Platform</td>\n",
              "      <td>14.44</td>\n",
              "      <td>6.94</td>\n",
              "      <td>4.70</td>\n",
              "      <td>2.24</td>\n",
              "      <td>87.0</td>\n",
              "      <td>8.4</td>\n",
              "      <td>E</td>\n",
              "    </tr>\n",
              "    <tr>\n",
              "      <th>9</th>\n",
              "      <td>Duck Hunt</td>\n",
              "      <td>NES</td>\n",
              "      <td>1984.0</td>\n",
              "      <td>Shooter</td>\n",
              "      <td>26.93</td>\n",
              "      <td>0.63</td>\n",
              "      <td>0.28</td>\n",
              "      <td>0.47</td>\n",
              "      <td>NaN</td>\n",
              "      <td>NaN</td>\n",
              "      <td>NaN</td>\n",
              "    </tr>\n",
              "  </tbody>\n",
              "</table>\n",
              "</div>"
            ],
            "text/plain": [
              "                        Name Platform  Year_of_Release         Genre  \\\n",
              "0                 Wii Sports      Wii           2006.0        Sports   \n",
              "1          Super Mario Bros.      NES           1985.0      Platform   \n",
              "2             Mario Kart Wii      Wii           2008.0        Racing   \n",
              "3          Wii Sports Resort      Wii           2009.0        Sports   \n",
              "4   Pokemon Red/Pokemon Blue       GB           1996.0  Role-Playing   \n",
              "5                     Tetris       GB           1989.0        Puzzle   \n",
              "6      New Super Mario Bros.       DS           2006.0      Platform   \n",
              "7                   Wii Play      Wii           2006.0          Misc   \n",
              "8  New Super Mario Bros. Wii      Wii           2009.0      Platform   \n",
              "9                  Duck Hunt      NES           1984.0       Shooter   \n",
              "\n",
              "   NA_sales  EU_sales  JP_sales  Other_sales  Critic_Score User_Score Rating  \n",
              "0     41.36     28.96      3.77         8.45          76.0          8      E  \n",
              "1     29.08      3.58      6.81         0.77           NaN        NaN    NaN  \n",
              "2     15.68     12.76      3.79         3.29          82.0        8.3      E  \n",
              "3     15.61     10.93      3.28         2.95          80.0          8      E  \n",
              "4     11.27      8.89     10.22         1.00           NaN        NaN    NaN  \n",
              "5     23.20      2.26      4.22         0.58           NaN        NaN    NaN  \n",
              "6     11.28      9.14      6.50         2.88          89.0        8.5      E  \n",
              "7     13.96      9.18      2.93         2.84          58.0        6.6      E  \n",
              "8     14.44      6.94      4.70         2.24          87.0        8.4      E  \n",
              "9     26.93      0.63      0.28         0.47           NaN        NaN    NaN  "
            ]
          },
          "execution_count": 3,
          "metadata": {},
          "output_type": "execute_result"
        }
      ],
      "source": [
        "games.head(10)"
      ]
    },
    {
      "cell_type": "code",
      "execution_count": null,
      "metadata": {
        "id": "LtHnwJgM7ujt",
        "outputId": "a361e0d2-9394-44ae-8f3b-61a715373d1a"
      },
      "outputs": [
        {
          "name": "stdout",
          "output_type": "stream",
          "text": [
            "<class 'pandas.core.frame.DataFrame'>\n",
            "RangeIndex: 16715 entries, 0 to 16714\n",
            "Data columns (total 11 columns):\n",
            " #   Column           Non-Null Count  Dtype  \n",
            "---  ------           --------------  -----  \n",
            " 0   Name             16713 non-null  object \n",
            " 1   Platform         16715 non-null  object \n",
            " 2   Year_of_Release  16446 non-null  float64\n",
            " 3   Genre            16713 non-null  object \n",
            " 4   NA_sales         16715 non-null  float64\n",
            " 5   EU_sales         16715 non-null  float64\n",
            " 6   JP_sales         16715 non-null  float64\n",
            " 7   Other_sales      16715 non-null  float64\n",
            " 8   Critic_Score     8137 non-null   float64\n",
            " 9   User_Score       10014 non-null  object \n",
            " 10  Rating           9949 non-null   object \n",
            "dtypes: float64(6), object(5)\n",
            "memory usage: 1.4+ MB\n"
          ]
        }
      ],
      "source": [
        "games.info()"
      ]
    },
    {
      "cell_type": "code",
      "execution_count": null,
      "metadata": {
        "id": "4sc1xFV07ujt",
        "outputId": "dd3b04ab-b75e-4d32-8118-4e9fb5164e8e"
      },
      "outputs": [
        {
          "data": {
            "text/html": [
              "<div>\n",
              "<style scoped>\n",
              "    .dataframe tbody tr th:only-of-type {\n",
              "        vertical-align: middle;\n",
              "    }\n",
              "\n",
              "    .dataframe tbody tr th {\n",
              "        vertical-align: top;\n",
              "    }\n",
              "\n",
              "    .dataframe thead th {\n",
              "        text-align: right;\n",
              "    }\n",
              "</style>\n",
              "<table border=\"1\" class=\"dataframe\">\n",
              "  <thead>\n",
              "    <tr style=\"text-align: right;\">\n",
              "      <th></th>\n",
              "      <th>Year_of_Release</th>\n",
              "      <th>NA_sales</th>\n",
              "      <th>EU_sales</th>\n",
              "      <th>JP_sales</th>\n",
              "      <th>Other_sales</th>\n",
              "      <th>Critic_Score</th>\n",
              "    </tr>\n",
              "  </thead>\n",
              "  <tbody>\n",
              "    <tr>\n",
              "      <th>count</th>\n",
              "      <td>16446.000000</td>\n",
              "      <td>16715.000000</td>\n",
              "      <td>16715.000000</td>\n",
              "      <td>16715.000000</td>\n",
              "      <td>16715.000000</td>\n",
              "      <td>8137.000000</td>\n",
              "    </tr>\n",
              "    <tr>\n",
              "      <th>mean</th>\n",
              "      <td>2006.484616</td>\n",
              "      <td>0.263377</td>\n",
              "      <td>0.145060</td>\n",
              "      <td>0.077617</td>\n",
              "      <td>0.047342</td>\n",
              "      <td>68.967679</td>\n",
              "    </tr>\n",
              "    <tr>\n",
              "      <th>std</th>\n",
              "      <td>5.877050</td>\n",
              "      <td>0.813604</td>\n",
              "      <td>0.503339</td>\n",
              "      <td>0.308853</td>\n",
              "      <td>0.186731</td>\n",
              "      <td>13.938165</td>\n",
              "    </tr>\n",
              "    <tr>\n",
              "      <th>min</th>\n",
              "      <td>1980.000000</td>\n",
              "      <td>0.000000</td>\n",
              "      <td>0.000000</td>\n",
              "      <td>0.000000</td>\n",
              "      <td>0.000000</td>\n",
              "      <td>13.000000</td>\n",
              "    </tr>\n",
              "    <tr>\n",
              "      <th>25%</th>\n",
              "      <td>2003.000000</td>\n",
              "      <td>0.000000</td>\n",
              "      <td>0.000000</td>\n",
              "      <td>0.000000</td>\n",
              "      <td>0.000000</td>\n",
              "      <td>60.000000</td>\n",
              "    </tr>\n",
              "    <tr>\n",
              "      <th>50%</th>\n",
              "      <td>2007.000000</td>\n",
              "      <td>0.080000</td>\n",
              "      <td>0.020000</td>\n",
              "      <td>0.000000</td>\n",
              "      <td>0.010000</td>\n",
              "      <td>71.000000</td>\n",
              "    </tr>\n",
              "    <tr>\n",
              "      <th>75%</th>\n",
              "      <td>2010.000000</td>\n",
              "      <td>0.240000</td>\n",
              "      <td>0.110000</td>\n",
              "      <td>0.040000</td>\n",
              "      <td>0.030000</td>\n",
              "      <td>79.000000</td>\n",
              "    </tr>\n",
              "    <tr>\n",
              "      <th>max</th>\n",
              "      <td>2016.000000</td>\n",
              "      <td>41.360000</td>\n",
              "      <td>28.960000</td>\n",
              "      <td>10.220000</td>\n",
              "      <td>10.570000</td>\n",
              "      <td>98.000000</td>\n",
              "    </tr>\n",
              "  </tbody>\n",
              "</table>\n",
              "</div>"
            ],
            "text/plain": [
              "       Year_of_Release      NA_sales      EU_sales      JP_sales  \\\n",
              "count     16446.000000  16715.000000  16715.000000  16715.000000   \n",
              "mean       2006.484616      0.263377      0.145060      0.077617   \n",
              "std           5.877050      0.813604      0.503339      0.308853   \n",
              "min        1980.000000      0.000000      0.000000      0.000000   \n",
              "25%        2003.000000      0.000000      0.000000      0.000000   \n",
              "50%        2007.000000      0.080000      0.020000      0.000000   \n",
              "75%        2010.000000      0.240000      0.110000      0.040000   \n",
              "max        2016.000000     41.360000     28.960000     10.220000   \n",
              "\n",
              "        Other_sales  Critic_Score  \n",
              "count  16715.000000   8137.000000  \n",
              "mean       0.047342     68.967679  \n",
              "std        0.186731     13.938165  \n",
              "min        0.000000     13.000000  \n",
              "25%        0.000000     60.000000  \n",
              "50%        0.010000     71.000000  \n",
              "75%        0.030000     79.000000  \n",
              "max       10.570000     98.000000  "
            ]
          },
          "execution_count": 5,
          "metadata": {},
          "output_type": "execute_result"
        }
      ],
      "source": [
        "games.describe()"
      ]
    },
    {
      "cell_type": "code",
      "execution_count": null,
      "metadata": {
        "id": "RB9-FEeP7uju",
        "outputId": "6cd4d1e3-42e8-4c06-c7ef-eaf68f4d20b6"
      },
      "outputs": [
        {
          "data": {
            "text/plain": [
              "Name                  2\n",
              "Platform              0\n",
              "Year_of_Release     269\n",
              "Genre                 2\n",
              "NA_sales              0\n",
              "EU_sales              0\n",
              "JP_sales              0\n",
              "Other_sales           0\n",
              "Critic_Score       8578\n",
              "User_Score         6701\n",
              "Rating             6766\n",
              "dtype: int64"
            ]
          },
          "execution_count": 6,
          "metadata": {},
          "output_type": "execute_result"
        }
      ],
      "source": [
        "games.isna().sum()"
      ]
    },
    {
      "cell_type": "markdown",
      "metadata": {
        "id": "hUJYTY0I7ujv"
      },
      "source": [
        "# Вывод\n",
        "\n",
        " - столбцы необходимо привести к змеиному регистру\n",
        " - имеется большое количество пропусков Critic_Score, User_Score, Rating, которые необходимо обработать\n",
        " - столбцы необходимо привести к типу данных, соответствующему содержанию"
      ]
    },
    {
      "cell_type": "markdown",
      "metadata": {
        "id": "tQh2AI0X7ujv"
      },
      "source": [
        "### Подготовка данных\n",
        "\n",
        "#### После предварительного анализа данных сделаем следующее:\n",
        " - поменяем регистр;\n",
        " - поменяем тип данных;\n",
        " - удалим строки с пропусками в \"name\" и \"genre\", т.к. их всего по 2 строки;\n",
        " - удалим строки с пропусками в \"Year_of_Release\", т.к. год невозможно заполнить ни средним, ни медианным значением, а процент пропусков мал.\n",
        ""
      ]
    },
    {
      "cell_type": "code",
      "execution_count": null,
      "metadata": {
        "id": "SSzV9BCX7ujv"
      },
      "outputs": [],
      "source": [
        "# check\n",
        "# пропущенные значения бары\n",
        "\n",
        "def pass_value_barh(df):\n",
        "    try:\n",
        "        (\n",
        "            (df.isna().mean()*100)\n",
        "            .to_frame()\n",
        "            .rename(columns = {0:'space'})\n",
        "            .query('space > 0')\n",
        "            .sort_values(by = 'space', ascending = True)\n",
        "            .plot(kind = 'barh', figsize = (16,9), rot = -5, legend = False, fontsize = 16)\n",
        "            .set_title('Пример' + \"\\n\", fontsize = 22, color = 'SteelBlue')\n",
        "        );\n",
        "    except:\n",
        "        print('пропусков не осталось :) или произошла ошибка в первой части функции ')"
      ]
    },
    {
      "cell_type": "code",
      "execution_count": null,
      "metadata": {
        "id": "PokZSxxM7ujw",
        "outputId": "3a14bc1d-f2ec-44fb-f797-c957ebf61cdd"
      },
      "outputs": [
        {
          "data": {
            "image/png": "[encoded data removed]",
            "text/plain": [
              "<Figure size 1152x648 with 1 Axes>"
            ]
          },
          "metadata": {
            "needs_background": "light"
          },
          "output_type": "display_data"
        }
      ],
      "source": [
        "pass_value_barh(games)"
      ]
    },
    {
      "cell_type": "code",
      "execution_count": null,
      "metadata": {
        "id": "NaJBesfQ7ujx"
      },
      "outputs": [],
      "source": [
        "games.columns = games.columns.str.lower()"
      ]
    },
    {
      "cell_type": "code",
      "execution_count": null,
      "metadata": {
        "id": "_4BAA6ku7ujy"
      },
      "outputs": [],
      "source": [
        "games['year_of_release'] = games['year_of_release'].astype('Int64')\n",
        "games['critic_score'] = games['critic_score'].astype('Int64')\n",
        "#games['user_score'] = games['user_score'].astype('float64')"
      ]
    },
    {
      "cell_type": "markdown",
      "metadata": {
        "id": "oUlk73A67ujy"
      },
      "source": [
        "При попытке изменения типа данных с object на float в 'user_score' получена ошибка\n",
        "\n",
        "*ValueError: could not convert string to float: 'tbd'*\n",
        "\n",
        "Строку в коде закомментировали.  \n",
        "tbd - To Be Determined (будет определено). Меняем tbd на NaN.  \n",
        "Преобразуем тип данных еще раз."
      ]
    },
    {
      "cell_type": "code",
      "execution_count": null,
      "metadata": {
        "id": "u4DgrJ677ujy"
      },
      "outputs": [],
      "source": [
        "games['user_score'] = games['user_score'].replace('tbd', np.NaN)\n",
        "games['user_score'] = games['user_score'].astype('float64')"
      ]
    },
    {
      "cell_type": "code",
      "execution_count": null,
      "metadata": {
        "id": "zyoUkOa57ujz",
        "outputId": "18a35a98-e4a2-4e46-cc27-4dcc6971f6b4"
      },
      "outputs": [
        {
          "data": {
            "text/html": [
              "<div>\n",
              "<style scoped>\n",
              "    .dataframe tbody tr th:only-of-type {\n",
              "        vertical-align: middle;\n",
              "    }\n",
              "\n",
              "    .dataframe tbody tr th {\n",
              "        vertical-align: top;\n",
              "    }\n",
              "\n",
              "    .dataframe thead th {\n",
              "        text-align: right;\n",
              "    }\n",
              "</style>\n",
              "<table border=\"1\" class=\"dataframe\">\n",
              "  <thead>\n",
              "    <tr style=\"text-align: right;\">\n",
              "      <th></th>\n",
              "      <th>name</th>\n",
              "      <th>platform</th>\n",
              "      <th>year_of_release</th>\n",
              "      <th>genre</th>\n",
              "      <th>na_sales</th>\n",
              "      <th>eu_sales</th>\n",
              "      <th>jp_sales</th>\n",
              "      <th>other_sales</th>\n",
              "      <th>critic_score</th>\n",
              "      <th>user_score</th>\n",
              "      <th>rating</th>\n",
              "    </tr>\n",
              "  </thead>\n",
              "  <tbody>\n",
              "    <tr>\n",
              "      <th>659</th>\n",
              "      <td>NaN</td>\n",
              "      <td>GEN</td>\n",
              "      <td>1993</td>\n",
              "      <td>NaN</td>\n",
              "      <td>1.78</td>\n",
              "      <td>0.53</td>\n",
              "      <td>0.00</td>\n",
              "      <td>0.08</td>\n",
              "      <td>&lt;NA&gt;</td>\n",
              "      <td>NaN</td>\n",
              "      <td>NaN</td>\n",
              "    </tr>\n",
              "    <tr>\n",
              "      <th>14244</th>\n",
              "      <td>NaN</td>\n",
              "      <td>GEN</td>\n",
              "      <td>1993</td>\n",
              "      <td>NaN</td>\n",
              "      <td>0.00</td>\n",
              "      <td>0.00</td>\n",
              "      <td>0.03</td>\n",
              "      <td>0.00</td>\n",
              "      <td>&lt;NA&gt;</td>\n",
              "      <td>NaN</td>\n",
              "      <td>NaN</td>\n",
              "    </tr>\n",
              "  </tbody>\n",
              "</table>\n",
              "</div>"
            ],
            "text/plain": [
              "      name platform  year_of_release genre  na_sales  eu_sales  jp_sales  \\\n",
              "659    NaN      GEN             1993   NaN      1.78      0.53      0.00   \n",
              "14244  NaN      GEN             1993   NaN      0.00      0.00      0.03   \n",
              "\n",
              "       other_sales  critic_score  user_score rating  \n",
              "659           0.08          <NA>         NaN    NaN  \n",
              "14244         0.00          <NA>         NaN    NaN  "
            ]
          },
          "execution_count": 12,
          "metadata": {},
          "output_type": "execute_result"
        }
      ],
      "source": [
        "games[games.name.isna()]"
      ]
    },
    {
      "cell_type": "code",
      "execution_count": null,
      "metadata": {
        "id": "tIN3xZXq7ujz",
        "outputId": "248e9d01-58ef-481c-a130-88c0521966f9"
      },
      "outputs": [
        {
          "data": {
            "text/html": [
              "<div>\n",
              "<style scoped>\n",
              "    .dataframe tbody tr th:only-of-type {\n",
              "        vertical-align: middle;\n",
              "    }\n",
              "\n",
              "    .dataframe tbody tr th {\n",
              "        vertical-align: top;\n",
              "    }\n",
              "\n",
              "    .dataframe thead th {\n",
              "        text-align: right;\n",
              "    }\n",
              "</style>\n",
              "<table border=\"1\" class=\"dataframe\">\n",
              "  <thead>\n",
              "    <tr style=\"text-align: right;\">\n",
              "      <th></th>\n",
              "      <th>name</th>\n",
              "      <th>platform</th>\n",
              "      <th>year_of_release</th>\n",
              "      <th>genre</th>\n",
              "      <th>na_sales</th>\n",
              "      <th>eu_sales</th>\n",
              "      <th>jp_sales</th>\n",
              "      <th>other_sales</th>\n",
              "      <th>critic_score</th>\n",
              "      <th>user_score</th>\n",
              "      <th>rating</th>\n",
              "    </tr>\n",
              "  </thead>\n",
              "  <tbody>\n",
              "    <tr>\n",
              "      <th>659</th>\n",
              "      <td>NaN</td>\n",
              "      <td>GEN</td>\n",
              "      <td>1993</td>\n",
              "      <td>NaN</td>\n",
              "      <td>1.78</td>\n",
              "      <td>0.53</td>\n",
              "      <td>0.00</td>\n",
              "      <td>0.08</td>\n",
              "      <td>&lt;NA&gt;</td>\n",
              "      <td>NaN</td>\n",
              "      <td>NaN</td>\n",
              "    </tr>\n",
              "    <tr>\n",
              "      <th>14244</th>\n",
              "      <td>NaN</td>\n",
              "      <td>GEN</td>\n",
              "      <td>1993</td>\n",
              "      <td>NaN</td>\n",
              "      <td>0.00</td>\n",
              "      <td>0.00</td>\n",
              "      <td>0.03</td>\n",
              "      <td>0.00</td>\n",
              "      <td>&lt;NA&gt;</td>\n",
              "      <td>NaN</td>\n",
              "      <td>NaN</td>\n",
              "    </tr>\n",
              "  </tbody>\n",
              "</table>\n",
              "</div>"
            ],
            "text/plain": [
              "      name platform  year_of_release genre  na_sales  eu_sales  jp_sales  \\\n",
              "659    NaN      GEN             1993   NaN      1.78      0.53      0.00   \n",
              "14244  NaN      GEN             1993   NaN      0.00      0.00      0.03   \n",
              "\n",
              "       other_sales  critic_score  user_score rating  \n",
              "659           0.08          <NA>         NaN    NaN  \n",
              "14244         0.00          <NA>         NaN    NaN  "
            ]
          },
          "execution_count": 13,
          "metadata": {},
          "output_type": "execute_result"
        }
      ],
      "source": [
        "games[games.genre.isna()]"
      ]
    },
    {
      "cell_type": "code",
      "execution_count": null,
      "metadata": {
        "id": "eqvJEN8c7uj0"
      },
      "outputs": [],
      "source": [
        "games = games.dropna(subset = ['name'])\n",
        "games = games.dropna(subset = ['genre'])\n",
        "#games = games.dropna(subset = ['year_of_release'])"
      ]
    },
    {
      "cell_type": "markdown",
      "metadata": {
        "id": "WLl1AtR-7ukB"
      },
      "source": [
        "#### Посчитаем суммарные продажи во всех регионах и запишите их в отдельный столбец."
      ]
    },
    {
      "cell_type": "code",
      "execution_count": null,
      "metadata": {
        "scrolled": true,
        "id": "zvRGJWHB7ukB",
        "outputId": "ea371c8a-0c37-485f-bc42-ed537fce44c0"
      },
      "outputs": [
        {
          "data": {
            "text/html": [
              "<div>\n",
              "<style scoped>\n",
              "    .dataframe tbody tr th:only-of-type {\n",
              "        vertical-align: middle;\n",
              "    }\n",
              "\n",
              "    .dataframe tbody tr th {\n",
              "        vertical-align: top;\n",
              "    }\n",
              "\n",
              "    .dataframe thead th {\n",
              "        text-align: right;\n",
              "    }\n",
              "</style>\n",
              "<table border=\"1\" class=\"dataframe\">\n",
              "  <thead>\n",
              "    <tr style=\"text-align: right;\">\n",
              "      <th></th>\n",
              "      <th>name</th>\n",
              "      <th>platform</th>\n",
              "      <th>year_of_release</th>\n",
              "      <th>genre</th>\n",
              "      <th>na_sales</th>\n",
              "      <th>eu_sales</th>\n",
              "      <th>jp_sales</th>\n",
              "      <th>other_sales</th>\n",
              "      <th>critic_score</th>\n",
              "      <th>user_score</th>\n",
              "      <th>rating</th>\n",
              "      <th>total_sales</th>\n",
              "    </tr>\n",
              "  </thead>\n",
              "  <tbody>\n",
              "    <tr>\n",
              "      <th>0</th>\n",
              "      <td>Wii Sports</td>\n",
              "      <td>Wii</td>\n",
              "      <td>2006</td>\n",
              "      <td>Sports</td>\n",
              "      <td>41.36</td>\n",
              "      <td>28.96</td>\n",
              "      <td>3.77</td>\n",
              "      <td>8.45</td>\n",
              "      <td>76</td>\n",
              "      <td>8.0</td>\n",
              "      <td>E</td>\n",
              "      <td>82.54</td>\n",
              "    </tr>\n",
              "    <tr>\n",
              "      <th>1</th>\n",
              "      <td>Super Mario Bros.</td>\n",
              "      <td>NES</td>\n",
              "      <td>1985</td>\n",
              "      <td>Platform</td>\n",
              "      <td>29.08</td>\n",
              "      <td>3.58</td>\n",
              "      <td>6.81</td>\n",
              "      <td>0.77</td>\n",
              "      <td>&lt;NA&gt;</td>\n",
              "      <td>NaN</td>\n",
              "      <td>NaN</td>\n",
              "      <td>40.24</td>\n",
              "    </tr>\n",
              "    <tr>\n",
              "      <th>2</th>\n",
              "      <td>Mario Kart Wii</td>\n",
              "      <td>Wii</td>\n",
              "      <td>2008</td>\n",
              "      <td>Racing</td>\n",
              "      <td>15.68</td>\n",
              "      <td>12.76</td>\n",
              "      <td>3.79</td>\n",
              "      <td>3.29</td>\n",
              "      <td>82</td>\n",
              "      <td>8.3</td>\n",
              "      <td>E</td>\n",
              "      <td>35.52</td>\n",
              "    </tr>\n",
              "    <tr>\n",
              "      <th>3</th>\n",
              "      <td>Wii Sports Resort</td>\n",
              "      <td>Wii</td>\n",
              "      <td>2009</td>\n",
              "      <td>Sports</td>\n",
              "      <td>15.61</td>\n",
              "      <td>10.93</td>\n",
              "      <td>3.28</td>\n",
              "      <td>2.95</td>\n",
              "      <td>80</td>\n",
              "      <td>8.0</td>\n",
              "      <td>E</td>\n",
              "      <td>32.77</td>\n",
              "    </tr>\n",
              "    <tr>\n",
              "      <th>4</th>\n",
              "      <td>Pokemon Red/Pokemon Blue</td>\n",
              "      <td>GB</td>\n",
              "      <td>1996</td>\n",
              "      <td>Role-Playing</td>\n",
              "      <td>11.27</td>\n",
              "      <td>8.89</td>\n",
              "      <td>10.22</td>\n",
              "      <td>1.00</td>\n",
              "      <td>&lt;NA&gt;</td>\n",
              "      <td>NaN</td>\n",
              "      <td>NaN</td>\n",
              "      <td>31.38</td>\n",
              "    </tr>\n",
              "    <tr>\n",
              "      <th>5</th>\n",
              "      <td>Tetris</td>\n",
              "      <td>GB</td>\n",
              "      <td>1989</td>\n",
              "      <td>Puzzle</td>\n",
              "      <td>23.20</td>\n",
              "      <td>2.26</td>\n",
              "      <td>4.22</td>\n",
              "      <td>0.58</td>\n",
              "      <td>&lt;NA&gt;</td>\n",
              "      <td>NaN</td>\n",
              "      <td>NaN</td>\n",
              "      <td>30.26</td>\n",
              "    </tr>\n",
              "    <tr>\n",
              "      <th>6</th>\n",
              "      <td>New Super Mario Bros.</td>\n",
              "      <td>DS</td>\n",
              "      <td>2006</td>\n",
              "      <td>Platform</td>\n",
              "      <td>11.28</td>\n",
              "      <td>9.14</td>\n",
              "      <td>6.50</td>\n",
              "      <td>2.88</td>\n",
              "      <td>89</td>\n",
              "      <td>8.5</td>\n",
              "      <td>E</td>\n",
              "      <td>29.80</td>\n",
              "    </tr>\n",
              "    <tr>\n",
              "      <th>7</th>\n",
              "      <td>Wii Play</td>\n",
              "      <td>Wii</td>\n",
              "      <td>2006</td>\n",
              "      <td>Misc</td>\n",
              "      <td>13.96</td>\n",
              "      <td>9.18</td>\n",
              "      <td>2.93</td>\n",
              "      <td>2.84</td>\n",
              "      <td>58</td>\n",
              "      <td>6.6</td>\n",
              "      <td>E</td>\n",
              "      <td>28.91</td>\n",
              "    </tr>\n",
              "    <tr>\n",
              "      <th>8</th>\n",
              "      <td>New Super Mario Bros. Wii</td>\n",
              "      <td>Wii</td>\n",
              "      <td>2009</td>\n",
              "      <td>Platform</td>\n",
              "      <td>14.44</td>\n",
              "      <td>6.94</td>\n",
              "      <td>4.70</td>\n",
              "      <td>2.24</td>\n",
              "      <td>87</td>\n",
              "      <td>8.4</td>\n",
              "      <td>E</td>\n",
              "      <td>28.32</td>\n",
              "    </tr>\n",
              "    <tr>\n",
              "      <th>9</th>\n",
              "      <td>Duck Hunt</td>\n",
              "      <td>NES</td>\n",
              "      <td>1984</td>\n",
              "      <td>Shooter</td>\n",
              "      <td>26.93</td>\n",
              "      <td>0.63</td>\n",
              "      <td>0.28</td>\n",
              "      <td>0.47</td>\n",
              "      <td>&lt;NA&gt;</td>\n",
              "      <td>NaN</td>\n",
              "      <td>NaN</td>\n",
              "      <td>28.31</td>\n",
              "    </tr>\n",
              "  </tbody>\n",
              "</table>\n",
              "</div>"
            ],
            "text/plain": [
              "                        name platform  year_of_release         genre  \\\n",
              "0                 Wii Sports      Wii             2006        Sports   \n",
              "1          Super Mario Bros.      NES             1985      Platform   \n",
              "2             Mario Kart Wii      Wii             2008        Racing   \n",
              "3          Wii Sports Resort      Wii             2009        Sports   \n",
              "4   Pokemon Red/Pokemon Blue       GB             1996  Role-Playing   \n",
              "5                     Tetris       GB             1989        Puzzle   \n",
              "6      New Super Mario Bros.       DS             2006      Platform   \n",
              "7                   Wii Play      Wii             2006          Misc   \n",
              "8  New Super Mario Bros. Wii      Wii             2009      Platform   \n",
              "9                  Duck Hunt      NES             1984       Shooter   \n",
              "\n",
              "   na_sales  eu_sales  jp_sales  other_sales  critic_score  user_score rating  \\\n",
              "0     41.36     28.96      3.77         8.45            76         8.0      E   \n",
              "1     29.08      3.58      6.81         0.77          <NA>         NaN    NaN   \n",
              "2     15.68     12.76      3.79         3.29            82         8.3      E   \n",
              "3     15.61     10.93      3.28         2.95            80         8.0      E   \n",
              "4     11.27      8.89     10.22         1.00          <NA>         NaN    NaN   \n",
              "5     23.20      2.26      4.22         0.58          <NA>         NaN    NaN   \n",
              "6     11.28      9.14      6.50         2.88            89         8.5      E   \n",
              "7     13.96      9.18      2.93         2.84            58         6.6      E   \n",
              "8     14.44      6.94      4.70         2.24            87         8.4      E   \n",
              "9     26.93      0.63      0.28         0.47          <NA>         NaN    NaN   \n",
              "\n",
              "   total_sales  \n",
              "0        82.54  \n",
              "1        40.24  \n",
              "2        35.52  \n",
              "3        32.77  \n",
              "4        31.38  \n",
              "5        30.26  \n",
              "6        29.80  \n",
              "7        28.91  \n",
              "8        28.32  \n",
              "9        28.31  "
            ]
          },
          "execution_count": 15,
          "metadata": {},
          "output_type": "execute_result"
        }
      ],
      "source": [
        "games['total_sales'] = games['na_sales'] + games['eu_sales'] + games['jp_sales'] + games['other_sales']\n",
        "games.head(10)"
      ]
    },
    {
      "cell_type": "code",
      "execution_count": null,
      "metadata": {
        "id": "JK91s7k-7ukC",
        "outputId": "9bf064f8-1219-42ec-af8d-fb0d7b1d3d1f"
      },
      "outputs": [
        {
          "data": {
            "text/plain": [
              "98.91999999999999"
            ]
          },
          "execution_count": 16,
          "metadata": {},
          "output_type": "execute_result"
        }
      ],
      "source": [
        "y_o_r_sales = games[games.year_of_release.isna()]\n",
        "y_o_r_sales = y_o_r_sales['total_sales'].sum()\n",
        "y_o_r_sales"
      ]
    },
    {
      "cell_type": "code",
      "execution_count": null,
      "metadata": {
        "id": "hNsKY3Yy7ukD"
      },
      "outputs": [],
      "source": [
        "games = games.dropna(subset = ['year_of_release'])"
      ]
    },
    {
      "cell_type": "markdown",
      "metadata": {
        "id": "iZEZTw9j7ukE"
      },
      "source": [
        "#### Пропущенные данные в столбце rating заменим на not_defined"
      ]
    },
    {
      "cell_type": "code",
      "execution_count": null,
      "metadata": {
        "id": "6WjMQOjJ7ukE"
      },
      "outputs": [],
      "source": [
        "games['rating'] = games['rating'].fillna('not_defined')"
      ]
    },
    {
      "cell_type": "markdown",
      "metadata": {
        "id": "qjU86NrK7ukE"
      },
      "source": [
        "# Вывод\n",
        "\n",
        "Предобработка данных завершена.\n",
        "\n",
        "Осталось много пропусков в столбцах critic_score, user_score, однако ими пренебрегать нельзя. Данные могут отсутсвовать в связи с недостаточностью информации о новых релизах или малопопулярных старых продуктах, оценка которых не производилась."
      ]
    },
    {
      "cell_type": "code",
      "execution_count": null,
      "metadata": {
        "id": "SUUYz5d77ukF",
        "outputId": "c4266d6d-0fdb-477b-c54e-7e0c3e899904"
      },
      "outputs": [
        {
          "name": "stdout",
          "output_type": "stream",
          "text": [
            "<class 'pandas.core.frame.DataFrame'>\n",
            "Int64Index: 16444 entries, 0 to 16714\n",
            "Data columns (total 12 columns):\n",
            " #   Column           Non-Null Count  Dtype  \n",
            "---  ------           --------------  -----  \n",
            " 0   name             16444 non-null  object \n",
            " 1   platform         16444 non-null  object \n",
            " 2   year_of_release  16444 non-null  Int64  \n",
            " 3   genre            16444 non-null  object \n",
            " 4   na_sales         16444 non-null  float64\n",
            " 5   eu_sales         16444 non-null  float64\n",
            " 6   jp_sales         16444 non-null  float64\n",
            " 7   other_sales      16444 non-null  float64\n",
            " 8   critic_score     7983 non-null   Int64  \n",
            " 9   user_score       7463 non-null   float64\n",
            " 10  rating           16444 non-null  object \n",
            " 11  total_sales      16444 non-null  float64\n",
            "dtypes: Int64(2), float64(6), object(4)\n",
            "memory usage: 1.7+ MB\n"
          ]
        }
      ],
      "source": [
        "# check\n",
        "games.info()"
      ]
    },
    {
      "cell_type": "code",
      "execution_count": null,
      "metadata": {
        "id": "oR96ECh_7ukG",
        "outputId": "c78dfaaf-80ba-456b-8eeb-f3081693e2ec"
      },
      "outputs": [
        {
          "data": {
            "text/html": [
              "<div>\n",
              "<style scoped>\n",
              "    .dataframe tbody tr th:only-of-type {\n",
              "        vertical-align: middle;\n",
              "    }\n",
              "\n",
              "    .dataframe tbody tr th {\n",
              "        vertical-align: top;\n",
              "    }\n",
              "\n",
              "    .dataframe thead th {\n",
              "        text-align: right;\n",
              "    }\n",
              "</style>\n",
              "<table border=\"1\" class=\"dataframe\">\n",
              "  <thead>\n",
              "    <tr style=\"text-align: right;\">\n",
              "      <th></th>\n",
              "      <th>name</th>\n",
              "      <th>platform</th>\n",
              "      <th>year_of_release</th>\n",
              "      <th>genre</th>\n",
              "      <th>na_sales</th>\n",
              "      <th>eu_sales</th>\n",
              "      <th>jp_sales</th>\n",
              "      <th>other_sales</th>\n",
              "      <th>critic_score</th>\n",
              "      <th>user_score</th>\n",
              "      <th>rating</th>\n",
              "      <th>total_sales</th>\n",
              "    </tr>\n",
              "  </thead>\n",
              "  <tbody>\n",
              "    <tr>\n",
              "      <th>604</th>\n",
              "      <td>Madden NFL 13</td>\n",
              "      <td>PS3</td>\n",
              "      <td>2012</td>\n",
              "      <td>Sports</td>\n",
              "      <td>2.11</td>\n",
              "      <td>0.22</td>\n",
              "      <td>0.0</td>\n",
              "      <td>0.23</td>\n",
              "      <td>83</td>\n",
              "      <td>5.5</td>\n",
              "      <td>E</td>\n",
              "      <td>2.56</td>\n",
              "    </tr>\n",
              "    <tr>\n",
              "      <th>16230</th>\n",
              "      <td>Madden NFL 13</td>\n",
              "      <td>PS3</td>\n",
              "      <td>2012</td>\n",
              "      <td>Sports</td>\n",
              "      <td>0.00</td>\n",
              "      <td>0.01</td>\n",
              "      <td>0.0</td>\n",
              "      <td>0.00</td>\n",
              "      <td>83</td>\n",
              "      <td>5.5</td>\n",
              "      <td>E</td>\n",
              "      <td>0.01</td>\n",
              "    </tr>\n",
              "  </tbody>\n",
              "</table>\n",
              "</div>"
            ],
            "text/plain": [
              "                name platform  year_of_release   genre  na_sales  eu_sales  \\\n",
              "604    Madden NFL 13      PS3             2012  Sports      2.11      0.22   \n",
              "16230  Madden NFL 13      PS3             2012  Sports      0.00      0.01   \n",
              "\n",
              "       jp_sales  other_sales  critic_score  user_score rating  total_sales  \n",
              "604         0.0         0.23            83         5.5      E         2.56  \n",
              "16230       0.0         0.00            83         5.5      E         0.01  "
            ]
          },
          "execution_count": 20,
          "metadata": {},
          "output_type": "execute_result"
        }
      ],
      "source": [
        "# check\n",
        "games[games.duplicated(subset = ['name', 'platform', 'year_of_release'], keep = False)]"
      ]
    },
    {
      "cell_type": "code",
      "execution_count": null,
      "metadata": {
        "id": "nI7VC3JF7ukH"
      },
      "outputs": [],
      "source": []
    },
    {
      "cell_type": "code",
      "execution_count": null,
      "metadata": {
        "id": "ZzL8e7ZV7ukH"
      },
      "outputs": [],
      "source": []
    },
    {
      "cell_type": "code",
      "execution_count": null,
      "metadata": {
        "id": "lZZVT5An7ukI"
      },
      "outputs": [],
      "source": []
    },
    {
      "cell_type": "code",
      "execution_count": null,
      "metadata": {
        "id": "U5glSpe77ukI",
        "outputId": "fbc4c04b-240c-4d75-8d05-2579685b0b8c"
      },
      "outputs": [
        {
          "data": {
            "text/plain": [
              "0"
            ]
          },
          "execution_count": 21,
          "metadata": {},
          "output_type": "execute_result"
        }
      ],
      "source": [
        "games.duplicated().sum()"
      ]
    },
    {
      "cell_type": "code",
      "execution_count": null,
      "metadata": {
        "id": "J_Mh9ihj7ukI",
        "outputId": "1fea12d6-3cb3-4535-e651-dedb7915794e"
      },
      "outputs": [
        {
          "data": {
            "text/plain": [
              "array(['Wii', 'NES', 'GB', 'DS', 'X360', 'PS3', 'PS2', 'SNES', 'GBA',\n",
              "       'PS4', '3DS', 'N64', 'PS', 'XB', 'PC', '2600', 'PSP', 'XOne',\n",
              "       'WiiU', 'GC', 'GEN', 'DC', 'PSV', 'SAT', 'SCD', 'WS', 'NG', 'TG16',\n",
              "       '3DO', 'GG', 'PCFX'], dtype=object)"
            ]
          },
          "execution_count": 22,
          "metadata": {},
          "output_type": "execute_result"
        }
      ],
      "source": [
        "games['platform'].unique()"
      ]
    },
    {
      "cell_type": "code",
      "execution_count": null,
      "metadata": {
        "id": "Ua9jB5b37ukJ",
        "outputId": "abb45c91-ed3e-4a4f-9e18-d62544d4a3eb"
      },
      "outputs": [
        {
          "data": {
            "text/plain": [
              "<IntegerArray>\n",
              "[2006, 1985, 2008, 2009, 1996, 1989, 1984, 2005, 1999, 2007, 2010, 2013, 2004,\n",
              " 1990, 1988, 2002, 2001, 2011, 1998, 2015, 2012, 2014, 1992, 1997, 1993, 1994,\n",
              " 1982, 2016, 2003, 1986, 2000, 1995, 1991, 1981, 1987, 1980, 1983]\n",
              "Length: 37, dtype: Int64"
            ]
          },
          "execution_count": 23,
          "metadata": {},
          "output_type": "execute_result"
        }
      ],
      "source": [
        "games['year_of_release'].unique()"
      ]
    },
    {
      "cell_type": "markdown",
      "metadata": {
        "id": "KNge0HSk7ukK"
      },
      "source": [
        "### Исследовательский анализ данных"
      ]
    },
    {
      "cell_type": "markdown",
      "metadata": {
        "id": "n-3BRnqL7ukK"
      },
      "source": [
        "Из описания мы видели, что релизы начинались с 1980 г. и заканчиваются 2016г. Построим гистограмму, определим наиболее важный период."
      ]
    },
    {
      "cell_type": "code",
      "execution_count": null,
      "metadata": {
        "id": "dtusm8z47ukL",
        "outputId": "cf7f0063-2a9e-412a-85c1-76566f379936"
      },
      "outputs": [
        {
          "data": {
            "text/plain": [
              "Text(0, 0.5, 'Количество')"
            ]
          },
          "execution_count": 24,
          "metadata": {},
          "output_type": "execute_result"
        },
        {
          "data": {
            "image/png": "[encoded data removed]",
            "text/plain": [
              "<Figure size 1152x648 with 1 Axes>"
            ]
          },
          "metadata": {
            "needs_background": "light"
          },
          "output_type": "display_data"
        }
      ],
      "source": [
        "games['year_of_release'].hist(bins = 100, figsize = (16,9), range=(1979, 2017))\n",
        "plt.title('Распределение игр по годам ',fontsize=15)\n",
        "plt.xlabel('Год релиза',fontsize=12)\n",
        "plt.ylabel('Количество',fontsize=12)"
      ]
    },
    {
      "cell_type": "markdown",
      "metadata": {
        "id": "kGXWm4Vb7ukL"
      },
      "source": [
        "Наибольшее кол-во игр выпускалось в период 2002-2011г. Данные периоды наиболее важны."
      ]
    },
    {
      "cell_type": "markdown",
      "metadata": {
        "id": "4IYQ-V2B7ukM"
      },
      "source": [
        "#### Найдем платформы с наибольшими суммарными продажами и построим распределение по годам."
      ]
    },
    {
      "cell_type": "code",
      "execution_count": null,
      "metadata": {
        "scrolled": true,
        "id": "PtSbD8LJ7ukM",
        "outputId": "23004902-ed1c-42fb-9140-9dc9b5fc1987"
      },
      "outputs": [
        {
          "data": {
            "text/html": [
              "<div>\n",
              "<style scoped>\n",
              "    .dataframe tbody tr th:only-of-type {\n",
              "        vertical-align: middle;\n",
              "    }\n",
              "\n",
              "    .dataframe tbody tr th {\n",
              "        vertical-align: top;\n",
              "    }\n",
              "\n",
              "    .dataframe thead th {\n",
              "        text-align: right;\n",
              "    }\n",
              "</style>\n",
              "<table border=\"1\" class=\"dataframe\">\n",
              "  <thead>\n",
              "    <tr style=\"text-align: right;\">\n",
              "      <th></th>\n",
              "      <th>total_sales</th>\n",
              "    </tr>\n",
              "    <tr>\n",
              "      <th>platform</th>\n",
              "      <th></th>\n",
              "    </tr>\n",
              "  </thead>\n",
              "  <tbody>\n",
              "    <tr>\n",
              "      <th>PS2</th>\n",
              "      <td>1233.56</td>\n",
              "    </tr>\n",
              "    <tr>\n",
              "      <th>X360</th>\n",
              "      <td>961.24</td>\n",
              "    </tr>\n",
              "    <tr>\n",
              "      <th>PS3</th>\n",
              "      <td>931.34</td>\n",
              "    </tr>\n",
              "    <tr>\n",
              "      <th>Wii</th>\n",
              "      <td>891.18</td>\n",
              "    </tr>\n",
              "    <tr>\n",
              "      <th>DS</th>\n",
              "      <td>802.78</td>\n",
              "    </tr>\n",
              "    <tr>\n",
              "      <th>PS</th>\n",
              "      <td>727.58</td>\n",
              "    </tr>\n",
              "    <tr>\n",
              "      <th>PS4</th>\n",
              "      <td>314.14</td>\n",
              "    </tr>\n",
              "    <tr>\n",
              "      <th>GBA</th>\n",
              "      <td>312.88</td>\n",
              "    </tr>\n",
              "    <tr>\n",
              "      <th>PSP</th>\n",
              "      <td>289.53</td>\n",
              "    </tr>\n",
              "    <tr>\n",
              "      <th>3DS</th>\n",
              "      <td>257.81</td>\n",
              "    </tr>\n",
              "    <tr>\n",
              "      <th>PC</th>\n",
              "      <td>255.76</td>\n",
              "    </tr>\n",
              "    <tr>\n",
              "      <th>GB</th>\n",
              "      <td>254.43</td>\n",
              "    </tr>\n",
              "    <tr>\n",
              "      <th>XB</th>\n",
              "      <td>251.57</td>\n",
              "    </tr>\n",
              "    <tr>\n",
              "      <th>NES</th>\n",
              "      <td>251.05</td>\n",
              "    </tr>\n",
              "    <tr>\n",
              "      <th>N64</th>\n",
              "      <td>218.01</td>\n",
              "    </tr>\n",
              "    <tr>\n",
              "      <th>SNES</th>\n",
              "      <td>200.04</td>\n",
              "    </tr>\n",
              "    <tr>\n",
              "      <th>GC</th>\n",
              "      <td>196.73</td>\n",
              "    </tr>\n",
              "    <tr>\n",
              "      <th>XOne</th>\n",
              "      <td>159.32</td>\n",
              "    </tr>\n",
              "    <tr>\n",
              "      <th>2600</th>\n",
              "      <td>86.48</td>\n",
              "    </tr>\n",
              "    <tr>\n",
              "      <th>WiiU</th>\n",
              "      <td>82.19</td>\n",
              "    </tr>\n",
              "    <tr>\n",
              "      <th>PSV</th>\n",
              "      <td>53.81</td>\n",
              "    </tr>\n",
              "    <tr>\n",
              "      <th>SAT</th>\n",
              "      <td>33.59</td>\n",
              "    </tr>\n",
              "    <tr>\n",
              "      <th>GEN</th>\n",
              "      <td>28.35</td>\n",
              "    </tr>\n",
              "    <tr>\n",
              "      <th>DC</th>\n",
              "      <td>15.95</td>\n",
              "    </tr>\n",
              "    <tr>\n",
              "      <th>SCD</th>\n",
              "      <td>1.86</td>\n",
              "    </tr>\n",
              "    <tr>\n",
              "      <th>NG</th>\n",
              "      <td>1.44</td>\n",
              "    </tr>\n",
              "    <tr>\n",
              "      <th>WS</th>\n",
              "      <td>1.42</td>\n",
              "    </tr>\n",
              "    <tr>\n",
              "      <th>TG16</th>\n",
              "      <td>0.16</td>\n",
              "    </tr>\n",
              "    <tr>\n",
              "      <th>3DO</th>\n",
              "      <td>0.10</td>\n",
              "    </tr>\n",
              "    <tr>\n",
              "      <th>GG</th>\n",
              "      <td>0.04</td>\n",
              "    </tr>\n",
              "    <tr>\n",
              "      <th>PCFX</th>\n",
              "      <td>0.03</td>\n",
              "    </tr>\n",
              "  </tbody>\n",
              "</table>\n",
              "</div>"
            ],
            "text/plain": [
              "          total_sales\n",
              "platform             \n",
              "PS2           1233.56\n",
              "X360           961.24\n",
              "PS3            931.34\n",
              "Wii            891.18\n",
              "DS             802.78\n",
              "PS             727.58\n",
              "PS4            314.14\n",
              "GBA            312.88\n",
              "PSP            289.53\n",
              "3DS            257.81\n",
              "PC             255.76\n",
              "GB             254.43\n",
              "XB             251.57\n",
              "NES            251.05\n",
              "N64            218.01\n",
              "SNES           200.04\n",
              "GC             196.73\n",
              "XOne           159.32\n",
              "2600            86.48\n",
              "WiiU            82.19\n",
              "PSV             53.81\n",
              "SAT             33.59\n",
              "GEN             28.35\n",
              "DC              15.95\n",
              "SCD              1.86\n",
              "NG               1.44\n",
              "WS               1.42\n",
              "TG16             0.16\n",
              "3DO              0.10\n",
              "GG               0.04\n",
              "PCFX             0.03"
            ]
          },
          "execution_count": 25,
          "metadata": {},
          "output_type": "execute_result"
        }
      ],
      "source": [
        "platforms_sort = games.pivot_table(index = 'platform', values = 'total_sales', aggfunc = 'sum')\\\n",
        ".sort_values(by = 'total_sales', ascending = False)\n",
        "platforms_sort"
      ]
    },
    {
      "cell_type": "markdown",
      "metadata": {
        "id": "VueOqPWl7ukN"
      },
      "source": [
        "Построим графики для первых шести."
      ]
    },
    {
      "cell_type": "code",
      "execution_count": null,
      "metadata": {
        "id": "veRwtnhA7ukO",
        "outputId": "3a896f36-cca7-42db-94b7-152bd2a09fe3"
      },
      "outputs": [
        {
          "name": "stdout",
          "output_type": "stream",
          "text": [
            "PS2\n"
          ]
        },
        {
          "data": {
            "image/png": "[encoded data removed]",
            "text/plain": [
              "<Figure size 432x288 with 1 Axes>"
            ]
          },
          "metadata": {
            "needs_background": "light"
          },
          "output_type": "display_data"
        },
        {
          "name": "stdout",
          "output_type": "stream",
          "text": [
            "X360\n"
          ]
        },
        {
          "data": {
            "image/png": "[encoded data removed]",
            "text/plain": [
              "<Figure size 432x288 with 1 Axes>"
            ]
          },
          "metadata": {
            "needs_background": "light"
          },
          "output_type": "display_data"
        },
        {
          "name": "stdout",
          "output_type": "stream",
          "text": [
            "PS3\n"
          ]
        },
        {
          "data": {
            "image/png": "[encoded data removed]",
            "text/plain": [
              "<Figure size 432x288 with 1 Axes>"
            ]
          },
          "metadata": {
            "needs_background": "light"
          },
          "output_type": "display_data"
        },
        {
          "name": "stdout",
          "output_type": "stream",
          "text": [
            "Wii\n"
          ]
        },
        {
          "data": {
            "image/png": "[encoded data removed]",
            "text/plain": [
              "<Figure size 432x288 with 1 Axes>"
            ]
          },
          "metadata": {
            "needs_background": "light"
          },
          "output_type": "display_data"
        },
        {
          "name": "stdout",
          "output_type": "stream",
          "text": [
            "DS\n"
          ]
        },
        {
          "data": {
            "image/png": "[encoded data removed]",
            "text/plain": [
              "<Figure size 432x288 with 1 Axes>"
            ]
          },
          "metadata": {
            "needs_background": "light"
          },
          "output_type": "display_data"
        },
        {
          "name": "stdout",
          "output_type": "stream",
          "text": [
            "PS\n"
          ]
        },
        {
          "data": {
            "image/png": "[encoded data removed]",
            "text/plain": [
              "<Figure size 432x288 with 1 Axes>"
            ]
          },
          "metadata": {
            "needs_background": "light"
          },
          "output_type": "display_data"
        }
      ],
      "source": [
        "for platform in platforms_sort.index[:6]:\n",
        "    print(platform)\n",
        "    (games\n",
        "     .query('platform == @platform')\n",
        "     .pivot_table(index='year_of_release', values='total_sales', aggfunc='sum')\n",
        "     .plot(kind='bar')\n",
        "    )\n",
        "    plt.show()"
      ]
    },
    {
      "cell_type": "markdown",
      "metadata": {
        "id": "GcKguBfm7ukO"
      },
      "source": [
        "Наглядно видно, что новые платформы меняют старые, резко набирая популярность,  при этом средний пик популярности составляет 4-5 лет. А в целом платформы живут до 10 лет."
      ]
    },
    {
      "cell_type": "markdown",
      "metadata": {
        "id": "I1A_RCtY7ukP"
      },
      "source": [
        "#### **Определим актуальный период.**\n",
        "\n",
        "\n",
        "Т.к. из предыдущего задания мы выяснили, что средний срок пика популярности 4-5 лет, и дополнительно ситуация на рынке резко изменилась в 2012 году, то данные до 2012 года для нас неактуальны. Определим актуальный период как 2012-2016г."
      ]
    },
    {
      "cell_type": "markdown",
      "metadata": {
        "id": "6bNRrzar7ukQ"
      },
      "source": [
        "#### **Определим какие платформы лидируют по продажам, растут или падают.**\n",
        "\n",
        "Выберем несколько потенциально прибыльных платформ."
      ]
    },
    {
      "cell_type": "code",
      "execution_count": null,
      "metadata": {
        "id": "pwS5k9Au7ukQ"
      },
      "outputs": [],
      "source": [
        "actual_games = games.query('year_of_release >= 2014')"
      ]
    },
    {
      "cell_type": "code",
      "execution_count": null,
      "metadata": {
        "id": "Tprf0u2U7ukR",
        "outputId": "403502af-aed5-4070-dabf-b1511af974b5"
      },
      "outputs": [
        {
          "data": {
            "text/html": [
              "<div>\n",
              "<style scoped>\n",
              "    .dataframe tbody tr th:only-of-type {\n",
              "        vertical-align: middle;\n",
              "    }\n",
              "\n",
              "    .dataframe tbody tr th {\n",
              "        vertical-align: top;\n",
              "    }\n",
              "\n",
              "    .dataframe thead th {\n",
              "        text-align: right;\n",
              "    }\n",
              "</style>\n",
              "<table border=\"1\" class=\"dataframe\">\n",
              "  <thead>\n",
              "    <tr style=\"text-align: right;\">\n",
              "      <th></th>\n",
              "      <th>total_sales</th>\n",
              "    </tr>\n",
              "    <tr>\n",
              "      <th>platform</th>\n",
              "      <th></th>\n",
              "    </tr>\n",
              "  </thead>\n",
              "  <tbody>\n",
              "    <tr>\n",
              "      <th>PS4</th>\n",
              "      <td>288.15</td>\n",
              "    </tr>\n",
              "    <tr>\n",
              "      <th>XOne</th>\n",
              "      <td>140.36</td>\n",
              "    </tr>\n",
              "    <tr>\n",
              "      <th>3DS</th>\n",
              "      <td>86.68</td>\n",
              "    </tr>\n",
              "    <tr>\n",
              "      <th>PS3</th>\n",
              "      <td>68.18</td>\n",
              "    </tr>\n",
              "    <tr>\n",
              "      <th>X360</th>\n",
              "      <td>48.22</td>\n",
              "    </tr>\n",
              "    <tr>\n",
              "      <th>WiiU</th>\n",
              "      <td>42.98</td>\n",
              "    </tr>\n",
              "    <tr>\n",
              "      <th>PC</th>\n",
              "      <td>27.05</td>\n",
              "    </tr>\n",
              "    <tr>\n",
              "      <th>PSV</th>\n",
              "      <td>22.40</td>\n",
              "    </tr>\n",
              "    <tr>\n",
              "      <th>Wii</th>\n",
              "      <td>5.07</td>\n",
              "    </tr>\n",
              "    <tr>\n",
              "      <th>PSP</th>\n",
              "      <td>0.36</td>\n",
              "    </tr>\n",
              "  </tbody>\n",
              "</table>\n",
              "</div>"
            ],
            "text/plain": [
              "          total_sales\n",
              "platform             \n",
              "PS4            288.15\n",
              "XOne           140.36\n",
              "3DS             86.68\n",
              "PS3             68.18\n",
              "X360            48.22\n",
              "WiiU            42.98\n",
              "PC              27.05\n",
              "PSV             22.40\n",
              "Wii              5.07\n",
              "PSP              0.36"
            ]
          },
          "execution_count": 28,
          "metadata": {},
          "output_type": "execute_result"
        }
      ],
      "source": [
        "actual_platform_sales = (\n",
        "    actual_games\n",
        "    .pivot_table(index='platform', values='total_sales', aggfunc='sum')\n",
        "    .sort_values('total_sales', ascending=False)\n",
        ")\n",
        "actual_platform_sales"
      ]
    },
    {
      "cell_type": "code",
      "execution_count": null,
      "metadata": {
        "id": "muU_JQiA7ukS",
        "outputId": "235ee1d2-5b67-4024-f74e-6c6433858ed8"
      },
      "outputs": [
        {
          "name": "stdout",
          "output_type": "stream",
          "text": [
            "PS4\n"
          ]
        },
        {
          "data": {
            "image/png": "[encoded data removed]",
            "text/plain": [
              "<Figure size 432x288 with 1 Axes>"
            ]
          },
          "metadata": {
            "needs_background": "light"
          },
          "output_type": "display_data"
        },
        {
          "name": "stdout",
          "output_type": "stream",
          "text": [
            "XOne\n"
          ]
        },
        {
          "data": {
            "image/png": "[encoded data removed]",
            "text/plain": [
              "<Figure size 432x288 with 1 Axes>"
            ]
          },
          "metadata": {
            "needs_background": "light"
          },
          "output_type": "display_data"
        },
        {
          "name": "stdout",
          "output_type": "stream",
          "text": [
            "3DS\n"
          ]
        },
        {
          "data": {
            "image/png": "[encoded data removed]",
            "text/plain": [
              "<Figure size 432x288 with 1 Axes>"
            ]
          },
          "metadata": {
            "needs_background": "light"
          },
          "output_type": "display_data"
        },
        {
          "name": "stdout",
          "output_type": "stream",
          "text": [
            "PS3\n"
          ]
        },
        {
          "data": {
            "image/png": "[encoded data removed]",
            "text/plain": [
              "<Figure size 432x288 with 1 Axes>"
            ]
          },
          "metadata": {
            "needs_background": "light"
          },
          "output_type": "display_data"
        },
        {
          "name": "stdout",
          "output_type": "stream",
          "text": [
            "X360\n"
          ]
        },
        {
          "data": {
            "image/png": "[encoded data removed]",
            "text/plain": [
              "<Figure size 432x288 with 1 Axes>"
            ]
          },
          "metadata": {
            "needs_background": "light"
          },
          "output_type": "display_data"
        },
        {
          "name": "stdout",
          "output_type": "stream",
          "text": [
            "WiiU\n"
          ]
        },
        {
          "data": {
            "image/png": "[encoded data removed]",
            "text/plain": [
              "<Figure size 432x288 with 1 Axes>"
            ]
          },
          "metadata": {
            "needs_background": "light"
          },
          "output_type": "display_data"
        },
        {
          "name": "stdout",
          "output_type": "stream",
          "text": [
            "PC\n"
          ]
        },
        {
          "data": {
            "image/png": "[encoded data removed]",
            "text/plain": [
              "<Figure size 432x288 with 1 Axes>"
            ]
          },
          "metadata": {
            "needs_background": "light"
          },
          "output_type": "display_data"
        },
        {
          "name": "stdout",
          "output_type": "stream",
          "text": [
            "PSV\n"
          ]
        },
        {
          "data": {
            "image/png": "[encoded data removed]",
            "text/plain": [
              "<Figure size 432x288 with 1 Axes>"
            ]
          },
          "metadata": {
            "needs_background": "light"
          },
          "output_type": "display_data"
        },
        {
          "name": "stdout",
          "output_type": "stream",
          "text": [
            "Wii\n"
          ]
        },
        {
          "data": {
            "image/png": "[encoded data removed]",
            "text/plain": [
              "<Figure size 432x288 with 1 Axes>"
            ]
          },
          "metadata": {
            "needs_background": "light"
          },
          "output_type": "display_data"
        },
        {
          "name": "stdout",
          "output_type": "stream",
          "text": [
            "PSP\n"
          ]
        },
        {
          "data": {
            "image/png": "[encoded data removed]",
            "text/plain": [
              "<Figure size 432x288 with 1 Axes>"
            ]
          },
          "metadata": {
            "needs_background": "light"
          },
          "output_type": "display_data"
        }
      ],
      "source": [
        "for platform in actual_platform_sales.index:\n",
        "    print(platform)\n",
        "    (actual_games\n",
        "     .query('platform == @platform')\n",
        "     .pivot_table(index='year_of_release', values='total_sales', aggfunc='sum')\n",
        "     .plot(kind='bar')\n",
        "    )\n",
        "    plt.show()"
      ]
    },
    {
      "cell_type": "markdown",
      "metadata": {
        "id": "hJcZXz_U7ukS"
      },
      "source": [
        "# Вывод\n",
        "\n",
        "Данные показывают, что лидерами являются семейства PS и X-box. Отсюда наиболее перспективными выглядят PS4 и XOne. Добавим еще 3DS по объему продаж и PC по стабильности продаж и продолжительности существования на рынке."
      ]
    },
    {
      "cell_type": "markdown",
      "metadata": {
        "id": "d22b6CWF7ukT"
      },
      "source": [
        "#### Построим график «ящик с усами» по глобальным продажам игр в разбивке по платформам."
      ]
    },
    {
      "cell_type": "code",
      "execution_count": null,
      "metadata": {
        "id": "Risl5RaA7ukT",
        "outputId": "f59395ed-46c7-42b5-b18d-02b249508c9c"
      },
      "outputs": [
        {
          "data": {
            "text/plain": [
              "<AxesSubplot:>"
            ]
          },
          "execution_count": 30,
          "metadata": {},
          "output_type": "execute_result"
        },
        {
          "data": {
            "image/png": "[encoded data removed]",
            "text/plain": [
              "<Figure size 432x288 with 1 Axes>"
            ]
          },
          "metadata": {
            "needs_background": "light"
          },
          "output_type": "display_data"
        }
      ],
      "source": [
        "actual_games.pivot_table(index = 'name', columns = 'platform', values = 'total_sales', aggfunc = 'sum')\\\n",
        ".plot(kind='box', ylim=(0,1.5))"
      ]
    },
    {
      "cell_type": "code",
      "execution_count": null,
      "metadata": {
        "id": "HqaazEdz7ukU",
        "outputId": "0d7f4bd1-5b2a-4014-9bbd-f29c29128752"
      },
      "outputs": [
        {
          "data": {
            "text/plain": [
              "<AxesSubplot:>"
            ]
          },
          "execution_count": 31,
          "metadata": {},
          "output_type": "execute_result"
        },
        {
          "data": {
            "image/png": "[encoded data removed]",
            "text/plain": [
              "<Figure size 720x720 with 1 Axes>"
            ]
          },
          "metadata": {
            "needs_background": "light"
          },
          "output_type": "display_data"
        }
      ],
      "source": [
        "actual_games.pivot_table(index = 'name', columns = 'platform', values = 'total_sales', aggfunc = 'sum')\\\n",
        ".plot(kind='box', figsize = (10,10), ylim=(0,0.8))"
      ]
    },
    {
      "cell_type": "markdown",
      "metadata": {
        "id": "jkppeQYs7ukU"
      },
      "source": [
        "На графиках PS4, Wii, X360, XOne видно много выбросов. Отнесем их на счет хитовых релизов.\n",
        "\n",
        "Медианные значения PS3, PS4, WiiU, XOne примерно на одном уровне.\n",
        "\n",
        "Максимальная медиана у X360, но мы не рассматриваем ее как перспективную, т.к из предыдущих графиков видно, что ей на смену пришла XOne."
      ]
    },
    {
      "cell_type": "code",
      "execution_count": null,
      "metadata": {
        "id": "umz39rwd7ukV",
        "outputId": "36f4eacc-c4d7-4947-ebc3-51ade9287b5d"
      },
      "outputs": [
        {
          "data": {
            "image/png": "[encoded data removed]",
            "text/plain": [
              "<Figure size 432x288 with 1 Axes>"
            ]
          },
          "metadata": {
            "needs_background": "light"
          },
          "output_type": "display_data"
        }
      ],
      "source": [
        "# check\n",
        "\n",
        "actual_games.pivot_table(index = 'name', columns = 'platform', values = 'total_sales', aggfunc = 'sum')\\\n",
        ".plot(kind='box');"
      ]
    },
    {
      "cell_type": "markdown",
      "metadata": {
        "id": "R5_T5bJn7ukX"
      },
      "source": [
        "#### **Посмотрим, как влияют на продажи внутри одной популярной платформы отзывы пользователей и критиков.**\n",
        "\n",
        "Построим диаграмму рассеяния и посчитаем корреляцию между отзывами и продажами."
      ]
    },
    {
      "cell_type": "markdown",
      "metadata": {
        "id": "YG5ACQa27ukX"
      },
      "source": [
        "Возьмем самую популярную платформу PS4"
      ]
    },
    {
      "cell_type": "code",
      "execution_count": null,
      "metadata": {
        "id": "c_MX3Weq7ukX",
        "outputId": "b714f929-0932-4d70-d8a0-a238eebbeca4"
      },
      "outputs": [
        {
          "data": {
            "text/plain": [
              "<AxesSubplot:xlabel='user_score', ylabel='critic_score'>"
            ]
          },
          "execution_count": 33,
          "metadata": {},
          "output_type": "execute_result"
        },
        {
          "data": {
            "image/png": "[encoded data removed]",
            "text/plain": [
              "<Figure size 432x288 with 1 Axes>"
            ]
          },
          "metadata": {
            "needs_background": "light"
          },
          "output_type": "display_data"
        }
      ],
      "source": [
        "ps_4 = actual_games.query('platform == \"PS4\"')\n",
        "ps_4.plot(x='user_score', y='critic_score', kind='scatter')"
      ]
    },
    {
      "cell_type": "markdown",
      "metadata": {
        "id": "gcE__5eC7ukY"
      },
      "source": [
        "Из диаграммы видно, что оценки критиков и пользователей в целом совпадают."
      ]
    },
    {
      "cell_type": "code",
      "execution_count": null,
      "metadata": {
        "id": "cH2e_yWk7ukY",
        "outputId": "7d932315-6615-40ea-a468-2ac29081496d"
      },
      "outputs": [
        {
          "data": {
            "text/html": [
              "<div>\n",
              "<style scoped>\n",
              "    .dataframe tbody tr th:only-of-type {\n",
              "        vertical-align: middle;\n",
              "    }\n",
              "\n",
              "    .dataframe tbody tr th {\n",
              "        vertical-align: top;\n",
              "    }\n",
              "\n",
              "    .dataframe thead th {\n",
              "        text-align: right;\n",
              "    }\n",
              "</style>\n",
              "<table border=\"1\" class=\"dataframe\">\n",
              "  <thead>\n",
              "    <tr style=\"text-align: right;\">\n",
              "      <th></th>\n",
              "      <th>critic_score</th>\n",
              "      <th>user_score</th>\n",
              "      <th>total_sales</th>\n",
              "    </tr>\n",
              "  </thead>\n",
              "  <tbody>\n",
              "    <tr>\n",
              "      <th>critic_score</th>\n",
              "      <td>1.000000</td>\n",
              "      <td>0.546434</td>\n",
              "      <td>0.402661</td>\n",
              "    </tr>\n",
              "    <tr>\n",
              "      <th>user_score</th>\n",
              "      <td>0.546434</td>\n",
              "      <td>1.000000</td>\n",
              "      <td>-0.040132</td>\n",
              "    </tr>\n",
              "    <tr>\n",
              "      <th>total_sales</th>\n",
              "      <td>0.402661</td>\n",
              "      <td>-0.040132</td>\n",
              "      <td>1.000000</td>\n",
              "    </tr>\n",
              "  </tbody>\n",
              "</table>\n",
              "</div>"
            ],
            "text/plain": [
              "              critic_score  user_score  total_sales\n",
              "critic_score      1.000000    0.546434     0.402661\n",
              "user_score        0.546434    1.000000    -0.040132\n",
              "total_sales       0.402661   -0.040132     1.000000"
            ]
          },
          "execution_count": 34,
          "metadata": {},
          "output_type": "execute_result"
        }
      ],
      "source": [
        "ps_4_cor = ps_4[['critic_score','user_score', 'total_sales']]\n",
        "ps_4_cor.corr()"
      ]
    },
    {
      "cell_type": "markdown",
      "metadata": {
        "id": "cj2ICWH17ukZ"
      },
      "source": [
        "**PS4** - Корреляции между продажами и оценками пользователей нет.\n",
        "Корреляция между продажами и оценками критиков слабая.\n",
        "Проверим другие популярные платформы."
      ]
    },
    {
      "cell_type": "code",
      "execution_count": null,
      "metadata": {
        "id": "L0dEuJvi7ukZ"
      },
      "outputs": [],
      "source": [
        "ps_3 = actual_games.query('platform == \"PS3\"')\n",
        "x_360 = actual_games.query('platform == \"X360\"')\n",
        "D_S = actual_games.query('platform == \"3DS\"')"
      ]
    },
    {
      "cell_type": "code",
      "execution_count": null,
      "metadata": {
        "id": "qCWO8nFI7ukZ",
        "outputId": "25a1f16d-7496-4dcf-a43b-945122096d7a"
      },
      "outputs": [
        {
          "data": {
            "text/html": [
              "<div>\n",
              "<style scoped>\n",
              "    .dataframe tbody tr th:only-of-type {\n",
              "        vertical-align: middle;\n",
              "    }\n",
              "\n",
              "    .dataframe tbody tr th {\n",
              "        vertical-align: top;\n",
              "    }\n",
              "\n",
              "    .dataframe thead th {\n",
              "        text-align: right;\n",
              "    }\n",
              "</style>\n",
              "<table border=\"1\" class=\"dataframe\">\n",
              "  <thead>\n",
              "    <tr style=\"text-align: right;\">\n",
              "      <th></th>\n",
              "      <th>critic_score</th>\n",
              "      <th>user_score</th>\n",
              "      <th>total_sales</th>\n",
              "    </tr>\n",
              "  </thead>\n",
              "  <tbody>\n",
              "    <tr>\n",
              "      <th>critic_score</th>\n",
              "      <td>1.000000</td>\n",
              "      <td>0.693445</td>\n",
              "      <td>0.446575</td>\n",
              "    </tr>\n",
              "    <tr>\n",
              "      <th>user_score</th>\n",
              "      <td>0.693445</td>\n",
              "      <td>1.000000</td>\n",
              "      <td>-0.166761</td>\n",
              "    </tr>\n",
              "    <tr>\n",
              "      <th>total_sales</th>\n",
              "      <td>0.446575</td>\n",
              "      <td>-0.166761</td>\n",
              "      <td>1.000000</td>\n",
              "    </tr>\n",
              "  </tbody>\n",
              "</table>\n",
              "</div>"
            ],
            "text/plain": [
              "              critic_score  user_score  total_sales\n",
              "critic_score      1.000000    0.693445     0.446575\n",
              "user_score        0.693445    1.000000    -0.166761\n",
              "total_sales       0.446575   -0.166761     1.000000"
            ]
          },
          "execution_count": 36,
          "metadata": {},
          "output_type": "execute_result"
        }
      ],
      "source": [
        "ps_3_cor = ps_3[['critic_score','user_score', 'total_sales']]\n",
        "ps_3_cor.corr()"
      ]
    },
    {
      "cell_type": "markdown",
      "metadata": {
        "id": "HAWMJkYl7uka"
      },
      "source": [
        "**PS3** - Корреляции между продажами и оценками пользователей нет. Корреляция между продажами и оценками критиков слабая."
      ]
    },
    {
      "cell_type": "code",
      "execution_count": null,
      "metadata": {
        "id": "Y0ughpcc7uka",
        "outputId": "6f37b67c-265a-429f-a5eb-76e0001ea6d7"
      },
      "outputs": [
        {
          "data": {
            "text/html": [
              "<div>\n",
              "<style scoped>\n",
              "    .dataframe tbody tr th:only-of-type {\n",
              "        vertical-align: middle;\n",
              "    }\n",
              "\n",
              "    .dataframe tbody tr th {\n",
              "        vertical-align: top;\n",
              "    }\n",
              "\n",
              "    .dataframe thead th {\n",
              "        text-align: right;\n",
              "    }\n",
              "</style>\n",
              "<table border=\"1\" class=\"dataframe\">\n",
              "  <thead>\n",
              "    <tr style=\"text-align: right;\">\n",
              "      <th></th>\n",
              "      <th>critic_score</th>\n",
              "      <th>user_score</th>\n",
              "      <th>total_sales</th>\n",
              "    </tr>\n",
              "  </thead>\n",
              "  <tbody>\n",
              "    <tr>\n",
              "      <th>critic_score</th>\n",
              "      <td>1.000000</td>\n",
              "      <td>0.625309</td>\n",
              "      <td>0.525723</td>\n",
              "    </tr>\n",
              "    <tr>\n",
              "      <th>user_score</th>\n",
              "      <td>0.625309</td>\n",
              "      <td>1.000000</td>\n",
              "      <td>-0.138445</td>\n",
              "    </tr>\n",
              "    <tr>\n",
              "      <th>total_sales</th>\n",
              "      <td>0.525723</td>\n",
              "      <td>-0.138445</td>\n",
              "      <td>1.000000</td>\n",
              "    </tr>\n",
              "  </tbody>\n",
              "</table>\n",
              "</div>"
            ],
            "text/plain": [
              "              critic_score  user_score  total_sales\n",
              "critic_score      1.000000    0.625309     0.525723\n",
              "user_score        0.625309    1.000000    -0.138445\n",
              "total_sales       0.525723   -0.138445     1.000000"
            ]
          },
          "execution_count": 37,
          "metadata": {},
          "output_type": "execute_result"
        }
      ],
      "source": [
        "x_360_cor = x_360[['critic_score','user_score', 'total_sales']]\n",
        "x_360_cor.corr()"
      ]
    },
    {
      "cell_type": "markdown",
      "metadata": {
        "id": "Hc9vX8iX7ukb"
      },
      "source": [
        "**X360** - Корреляции между продажами и оценками пользователей нет. Корреляция между продажами и оценками критиков слабая."
      ]
    },
    {
      "cell_type": "code",
      "execution_count": null,
      "metadata": {
        "id": "K04djnci7ukb",
        "outputId": "92355f41-1384-4464-fce0-2f6546706c9e"
      },
      "outputs": [
        {
          "data": {
            "text/html": [
              "<div>\n",
              "<style scoped>\n",
              "    .dataframe tbody tr th:only-of-type {\n",
              "        vertical-align: middle;\n",
              "    }\n",
              "\n",
              "    .dataframe tbody tr th {\n",
              "        vertical-align: top;\n",
              "    }\n",
              "\n",
              "    .dataframe thead th {\n",
              "        text-align: right;\n",
              "    }\n",
              "</style>\n",
              "<table border=\"1\" class=\"dataframe\">\n",
              "  <thead>\n",
              "    <tr style=\"text-align: right;\">\n",
              "      <th></th>\n",
              "      <th>critic_score</th>\n",
              "      <th>user_score</th>\n",
              "      <th>total_sales</th>\n",
              "    </tr>\n",
              "  </thead>\n",
              "  <tbody>\n",
              "    <tr>\n",
              "      <th>critic_score</th>\n",
              "      <td>1.000000</td>\n",
              "      <td>0.862485</td>\n",
              "      <td>0.314117</td>\n",
              "    </tr>\n",
              "    <tr>\n",
              "      <th>user_score</th>\n",
              "      <td>0.862485</td>\n",
              "      <td>1.000000</td>\n",
              "      <td>0.215193</td>\n",
              "    </tr>\n",
              "    <tr>\n",
              "      <th>total_sales</th>\n",
              "      <td>0.314117</td>\n",
              "      <td>0.215193</td>\n",
              "      <td>1.000000</td>\n",
              "    </tr>\n",
              "  </tbody>\n",
              "</table>\n",
              "</div>"
            ],
            "text/plain": [
              "              critic_score  user_score  total_sales\n",
              "critic_score      1.000000    0.862485     0.314117\n",
              "user_score        0.862485    1.000000     0.215193\n",
              "total_sales       0.314117    0.215193     1.000000"
            ]
          },
          "execution_count": 38,
          "metadata": {},
          "output_type": "execute_result"
        }
      ],
      "source": [
        "D_S_cor = D_S[['critic_score','user_score', 'total_sales']]\n",
        "D_S_cor.corr()"
      ]
    },
    {
      "cell_type": "markdown",
      "metadata": {
        "id": "_dUmkeXK7ukc"
      },
      "source": [
        "**3DS** - Корреляции между продажами и оценками пользователей слабая. Корреляция между продажами и оценками критиков слабая."
      ]
    },
    {
      "cell_type": "markdown",
      "metadata": {
        "id": "luVPIrQa7ukc"
      },
      "source": [
        "По топовым платформам можно сделать вывод, что корреляции между продажами и оценками пользователей нет.\n",
        "\n",
        "Корреляция между продажами и оценками критиков прослеживается, но слабая."
      ]
    },
    {
      "cell_type": "markdown",
      "metadata": {
        "id": "7R66V00h7ukd"
      },
      "source": [
        "#### **Посмотрим на распределение продаж игр по жанрам.**"
      ]
    },
    {
      "cell_type": "code",
      "execution_count": null,
      "metadata": {
        "id": "ZyRq2bNJ7ukd",
        "outputId": "9311a0ad-55d7-4f45-a951-8268948de564"
      },
      "outputs": [
        {
          "data": {
            "text/plain": [
              "<AxesSubplot:xlabel='genre'>"
            ]
          },
          "execution_count": 39,
          "metadata": {},
          "output_type": "execute_result"
        },
        {
          "data": {
            "image/png": "[encoded data removed]",
            "text/plain": [
              "<Figure size 432x288 with 1 Axes>"
            ]
          },
          "metadata": {
            "needs_background": "light"
          },
          "output_type": "display_data"
        }
      ],
      "source": [
        "actual_games.pivot_table(index = 'genre', values = 'total_sales', aggfunc = 'sum').sort_values(ascending=False, by = 'total_sales').plot(kind='bar', y= 'total_sales')"
      ]
    },
    {
      "cell_type": "markdown",
      "metadata": {
        "id": "qiW4zadV7ukd"
      },
      "source": [
        "Самым популярным жанром является Action, на втором месте Shooter, третье место приблизительно с равными продажами у RPG и Sports.\n",
        "\n",
        "\n",
        "Наименее прибыльными жанрами являются головоломки и стратегии."
      ]
    },
    {
      "cell_type": "code",
      "execution_count": null,
      "metadata": {
        "id": "gspgjWWF7ukd",
        "outputId": "d535b923-f99d-4908-b0d1-1babbf833680"
      },
      "outputs": [
        {
          "data": {
            "text/plain": [
              "<AxesSubplot:>"
            ]
          },
          "execution_count": 40,
          "metadata": {},
          "output_type": "execute_result"
        },
        {
          "data": {
            "image/png": "[encoded data removed]",
            "text/plain": [
              "<Figure size 1080x720 with 1 Axes>"
            ]
          },
          "metadata": {
            "needs_background": "light"
          },
          "output_type": "display_data"
        }
      ],
      "source": [
        "actual_games.pivot_table(index = 'name', columns = 'genre', values = 'total_sales', aggfunc = 'sum')\\\n",
        ".plot(kind='box', figsize = (15,10), ylim=(0,10))"
      ]
    },
    {
      "cell_type": "code",
      "execution_count": null,
      "metadata": {
        "id": "lEHKZCuG7uke",
        "outputId": "5b703e2a-1975-470b-8128-dcc1ae8b5b10"
      },
      "outputs": [
        {
          "data": {
            "text/plain": [
              "<AxesSubplot:>"
            ]
          },
          "execution_count": 41,
          "metadata": {},
          "output_type": "execute_result"
        },
        {
          "data": {
            "image/png": "[encoded data removed]",
            "text/plain": [
              "<Figure size 1080x720 with 1 Axes>"
            ]
          },
          "metadata": {
            "needs_background": "light"
          },
          "output_type": "display_data"
        }
      ],
      "source": [
        "actual_games.pivot_table(index = 'name', columns = 'genre', values = 'total_sales', aggfunc = 'sum')\\\n",
        ".plot(kind='box', figsize = (15,10), ylim=(0,2))"
      ]
    },
    {
      "cell_type": "markdown",
      "metadata": {
        "id": "WXzKZn_S7ukg"
      },
      "source": [
        "### Составление портрета пользователя каждого региона"
      ]
    },
    {
      "cell_type": "code",
      "execution_count": null,
      "metadata": {
        "id": "Or2ONKts7ukg",
        "outputId": "1b066df4-bcfb-4d2e-d388-783343f08429"
      },
      "outputs": [
        {
          "data": {
            "text/plain": [
              "<AxesSubplot:xlabel='platform'>"
            ]
          },
          "execution_count": 42,
          "metadata": {},
          "output_type": "execute_result"
        },
        {
          "data": {
            "image/png": "[encoded data removed]",
            "text/plain": [
              "<Figure size 1080x360 with 1 Axes>"
            ]
          },
          "metadata": {
            "needs_background": "light"
          },
          "output_type": "display_data"
        }
      ],
      "source": [
        "actual_games.pivot_table(index = 'platform', values = 'na_sales', aggfunc = 'sum').sort_values(ascending=False, by = 'na_sales').plot(kind = 'bar', figsize=(15,5))"
      ]
    },
    {
      "cell_type": "code",
      "execution_count": null,
      "metadata": {
        "id": "FdlMbe5w7ukh",
        "outputId": "b021d710-fd6f-4835-a3c0-7968b9f94a18"
      },
      "outputs": [
        {
          "data": {
            "text/plain": [
              "<AxesSubplot:xlabel='platform'>"
            ]
          },
          "execution_count": 43,
          "metadata": {},
          "output_type": "execute_result"
        },
        {
          "data": {
            "image/png": "[encoded data removed]",
            "text/plain": [
              "<Figure size 1080x360 with 1 Axes>"
            ]
          },
          "metadata": {
            "needs_background": "light"
          },
          "output_type": "display_data"
        }
      ],
      "source": [
        "actual_games.pivot_table(index = 'platform', values = 'eu_sales', aggfunc = 'sum').sort_values(ascending=False, by = 'eu_sales').plot(kind = 'bar', figsize=(15,5))"
      ]
    },
    {
      "cell_type": "code",
      "execution_count": null,
      "metadata": {
        "id": "jhboschl7ukh",
        "outputId": "92d4aaaf-0805-4bb3-9b13-a9a8a9922999"
      },
      "outputs": [
        {
          "data": {
            "text/plain": [
              "<AxesSubplot:xlabel='platform'>"
            ]
          },
          "execution_count": 44,
          "metadata": {},
          "output_type": "execute_result"
        },
        {
          "data": {
            "image/png": "[encoded data removed]",
            "text/plain": [
              "<Figure size 1080x360 with 1 Axes>"
            ]
          },
          "metadata": {
            "needs_background": "light"
          },
          "output_type": "display_data"
        }
      ],
      "source": [
        "actual_games.pivot_table(index = 'platform', values = 'jp_sales', aggfunc = 'sum').sort_values(ascending=False, by = 'jp_sales').plot(kind = 'bar', figsize=(15,5))"
      ]
    },
    {
      "cell_type": "markdown",
      "metadata": {
        "id": "7XtGQfuk7ukh"
      },
      "source": [
        "Из графиков видно, что в Америке и Европе наиболее популярны платформы семейства PS и Xbox в Японии с большим отрывом лидирует 3DS от Nintendo, это обусловлено тем, что производитель Nintendo является японской компанией и успешно продвигает продукты на внутреннем рынке."
      ]
    },
    {
      "cell_type": "code",
      "execution_count": null,
      "metadata": {
        "id": "quK_Sp_c7uki",
        "outputId": "0e8b838e-39e7-471f-bf7f-249246f366b4"
      },
      "outputs": [
        {
          "data": {
            "text/plain": [
              "<AxesSubplot:xlabel='genre'>"
            ]
          },
          "execution_count": 45,
          "metadata": {},
          "output_type": "execute_result"
        },
        {
          "data": {
            "image/png": "[encoded data removed]",
            "text/plain": [
              "<Figure size 1080x360 with 1 Axes>"
            ]
          },
          "metadata": {
            "needs_background": "light"
          },
          "output_type": "display_data"
        }
      ],
      "source": [
        "actual_games.pivot_table(index = 'genre', values = 'na_sales', aggfunc = 'sum').sort_values(ascending=False, by = 'na_sales').plot(kind = 'bar', figsize=(15,5))"
      ]
    },
    {
      "cell_type": "code",
      "execution_count": null,
      "metadata": {
        "id": "mX6xWwA37uki",
        "outputId": "00ceffa4-18b5-430d-da9f-0e47030ba127"
      },
      "outputs": [
        {
          "data": {
            "text/plain": [
              "<AxesSubplot:xlabel='genre'>"
            ]
          },
          "execution_count": 46,
          "metadata": {},
          "output_type": "execute_result"
        },
        {
          "data": {
            "image/png": "[encoded data removed]",
            "text/plain": [
              "<Figure size 1080x360 with 1 Axes>"
            ]
          },
          "metadata": {
            "needs_background": "light"
          },
          "output_type": "display_data"
        }
      ],
      "source": [
        "actual_games.pivot_table(index = 'genre', values = 'eu_sales', aggfunc = 'sum').sort_values(ascending=False, by = 'eu_sales').plot(kind = 'bar', figsize=(15,5))"
      ]
    },
    {
      "cell_type": "code",
      "execution_count": null,
      "metadata": {
        "id": "wvnHNyAO7ukj",
        "outputId": "c473725f-08cc-4de8-efe1-eb3f80b81145"
      },
      "outputs": [
        {
          "data": {
            "text/plain": [
              "<AxesSubplot:xlabel='genre'>"
            ]
          },
          "execution_count": 47,
          "metadata": {},
          "output_type": "execute_result"
        },
        {
          "data": {
            "image/png": "[encoded data removed]",
            "text/plain": [
              "<Figure size 1080x360 with 1 Axes>"
            ]
          },
          "metadata": {
            "needs_background": "light"
          },
          "output_type": "display_data"
        }
      ],
      "source": [
        "actual_games.pivot_table(index = 'genre', values = 'jp_sales', aggfunc = 'sum').sort_values(ascending=False, by = 'jp_sales').plot(kind = 'bar', figsize=(15,5))"
      ]
    },
    {
      "cell_type": "markdown",
      "metadata": {
        "id": "MgT-2eJp7ukj"
      },
      "source": [
        "Из графиков видно, что в Америке и Европе наиболее популярны жанры Action Shooter Sports, в Японии на первом месте RPG. Это обусловленно особой любовью японской аудитории к играм RPG и даже выделением отдельного направления JRPG, героями которого зачастую являются персонажи культовых мультфильмов."
      ]
    },
    {
      "cell_type": "code",
      "execution_count": null,
      "metadata": {
        "id": "OEYcwTqQ7ukk",
        "outputId": "a748a8d9-6f8b-4251-b53e-45a8ccf387c8"
      },
      "outputs": [
        {
          "data": {
            "image/png": "[encoded data removed]",
            "text/plain": [
              "<Figure size 1080x360 with 3 Axes>"
            ]
          },
          "metadata": {},
          "output_type": "display_data"
        }
      ],
      "source": [
        "countries = actual_games.columns[4:7]\n",
        "fig, axs = plt.subplots(1, 3, figsize=(15, 5))\n",
        "fig.suptitle('Обзор рынка платформ (портрет покупателя)')\n",
        "for i in range(3):\n",
        "  df_i = (actual_games.groupby('platform')[countries[i]].sum().\n",
        "             reset_index().\n",
        "             sort_values(countries[i], ascending = False, ignore_index = True).\n",
        "             head(5))\n",
        "  df_i = df_i.append({'platform': 'Other_platforms', countries[i]: actual_games[countries[i]].sum() - df_i[countries[i]].sum()}, ignore_index= True)\n",
        "  axs[i].pie(df_i[countries[i]], labels = df_i['platform'])\n",
        "  axs[i].pie(df_i[countries[i]], labels = df_i['platform'], autopct='%1.1f%%')\n",
        "  axs[i].set_title(df_i.columns[1].split('_')[0].upper())\n",
        "plt.show()"
      ]
    },
    {
      "cell_type": "code",
      "execution_count": null,
      "metadata": {
        "id": "f-_067327ukk",
        "outputId": "67158f00-80d7-4a6a-978e-1690991b2819"
      },
      "outputs": [
        {
          "data": {
            "image/png": "[encoded data removed]",
            "text/plain": [
              "<Figure size 1080x360 with 3 Axes>"
            ]
          },
          "metadata": {},
          "output_type": "display_data"
        }
      ],
      "source": [
        "countries = actual_games.columns[4:7]\n",
        "fig, axs = plt.subplots(1, 3, figsize=(15, 5))\n",
        "fig.suptitle('Обзор рынка жанров (портрет покупателя)')\n",
        "for i in range(3):\n",
        "  df_i = (actual_games.groupby('genre')[countries[i]].sum().\n",
        "             reset_index().\n",
        "             sort_values(countries[i], ascending = False, ignore_index = True).\n",
        "             head(5))\n",
        "  df_i = df_i.append({'genre': 'Other_genre', countries[i]: actual_games[countries[i]].sum() - df_i[countries[i]].sum()}, ignore_index= True)\n",
        "  axs[i].pie(df_i[countries[i]], labels = df_i['genre'])\n",
        "  axs[i].pie(df_i[countries[i]], labels = df_i['genre'], autopct='%1.1f%%')\n",
        "  axs[i].set_title(df_i.columns[1].split('_')[0].upper())\n",
        "plt.show()"
      ]
    },
    {
      "cell_type": "code",
      "execution_count": null,
      "metadata": {
        "id": "0SznXk8e7ukl",
        "outputId": "e5a73e16-9886-4254-c72f-dc79b6ffc9be"
      },
      "outputs": [
        {
          "data": {
            "text/plain": [
              "<AxesSubplot:xlabel='rating'>"
            ]
          },
          "execution_count": 50,
          "metadata": {},
          "output_type": "execute_result"
        },
        {
          "data": {
            "image/png": "[encoded data removed]",
            "text/plain": [
              "<Figure size 1080x360 with 1 Axes>"
            ]
          },
          "metadata": {
            "needs_background": "light"
          },
          "output_type": "display_data"
        }
      ],
      "source": [
        "actual_games.pivot_table(index = 'rating', values = 'na_sales', aggfunc = 'sum').sort_values(ascending=False, by = 'na_sales').plot(kind = 'bar', figsize=(15,5))"
      ]
    },
    {
      "cell_type": "code",
      "execution_count": null,
      "metadata": {
        "id": "mylfZfZF7ukm",
        "outputId": "26efce0b-812e-4ba0-aa42-d7523eec6273"
      },
      "outputs": [
        {
          "data": {
            "text/plain": [
              "<AxesSubplot:xlabel='rating'>"
            ]
          },
          "execution_count": 51,
          "metadata": {},
          "output_type": "execute_result"
        },
        {
          "data": {
            "image/png": "[encoded data removed]",
            "text/plain": [
              "<Figure size 1080x360 with 1 Axes>"
            ]
          },
          "metadata": {
            "needs_background": "light"
          },
          "output_type": "display_data"
        }
      ],
      "source": [
        "actual_games.pivot_table(index = 'rating', values = 'eu_sales', aggfunc = 'sum').sort_values(ascending=False, by = 'eu_sales').plot(kind = 'bar', figsize=(15,5))"
      ]
    },
    {
      "cell_type": "code",
      "execution_count": null,
      "metadata": {
        "id": "asC7eD1G7ukm",
        "outputId": "b0efed6e-5540-4891-96ac-32f30b52d27c"
      },
      "outputs": [
        {
          "data": {
            "text/plain": [
              "<AxesSubplot:xlabel='rating'>"
            ]
          },
          "execution_count": 52,
          "metadata": {},
          "output_type": "execute_result"
        },
        {
          "data": {
            "image/png": "[encoded data removed]",
            "text/plain": [
              "<Figure size 1080x360 with 1 Axes>"
            ]
          },
          "metadata": {
            "needs_background": "light"
          },
          "output_type": "display_data"
        }
      ],
      "source": [
        "actual_games.pivot_table(index = 'rating', values = 'jp_sales', aggfunc = 'sum').sort_values(ascending=False, by = 'jp_sales').plot(kind = 'bar', figsize=(15,5))"
      ]
    },
    {
      "cell_type": "markdown",
      "metadata": {
        "id": "L_LwHz7X7ukm"
      },
      "source": [
        "В Америке и Европе на первом месте игры для лиц старше 17 лет, в Японии подавляющее большинство игр с неопределенным рейтингом, что может быть обусловленно, тем, что для внутреннего рынка система ESRB не используется."
      ]
    },
    {
      "cell_type": "markdown",
      "metadata": {
        "id": "wv0nIFVC7ukn"
      },
      "source": [
        "### Проверка гипотез"
      ]
    },
    {
      "cell_type": "markdown",
      "metadata": {
        "id": "NksQDx5X7ukn"
      },
      "source": [
        "Проверим гипотезу \"Средние пользовательские рейтинги платформ Xbox One и PC одинаковые\"\n",
        " - проверяем гипотезу для данных за актуальный период, который мы определили выше\n",
        " - нулевая гипотеза \"Средние пользовательские рейтинги платформ Xbox One и PC одинаковые\"\n",
        " - альтернативная гипотеза \"Средние пользовательские рейтинги платформ Xbox One и PC различны\"\n",
        " - примем alpha=0.05 (стандартное из курса теории)\n",
        " - используем t-критерий Стьюдента (на основании материала, полученного в теоретическом курсе)"
      ]
    },
    {
      "cell_type": "code",
      "execution_count": null,
      "metadata": {
        "id": "EPC1OTO77uko"
      },
      "outputs": [],
      "source": [
        "sample_1 = actual_games[actual_games['platform']==\"XOne\"]['user_score'].dropna()\n",
        "sample_2 = actual_games[actual_games['platform']==\"PC\"]['user_score'].dropna()"
      ]
    },
    {
      "cell_type": "code",
      "execution_count": null,
      "metadata": {
        "id": "n5kjdbKg7ukp",
        "outputId": "ae2b6d53-3ba2-4dda-889f-1fea6531ccc1"
      },
      "outputs": [
        {
          "data": {
            "text/plain": [
              "0.014868430917663678"
            ]
          },
          "execution_count": 54,
          "metadata": {},
          "output_type": "execute_result"
        }
      ],
      "source": [
        "from scipy.stats import levene\n",
        "stat, p = levene(sample_1, sample_2)\n",
        "p"
      ]
    },
    {
      "cell_type": "code",
      "execution_count": null,
      "metadata": {
        "id": "2aAx8qP77ukq",
        "outputId": "7563c007-deab-40a6-b881-f095f8a051e1"
      },
      "outputs": [
        {
          "name": "stdout",
          "output_type": "stream",
          "text": [
            "p-значение: 0.10450507919348415\n",
            "Не получилось отвергнуть нулевую гипотезу\n"
          ]
        }
      ],
      "source": [
        "alpha = 0.05\n",
        "\n",
        "results_1 = st.ttest_ind(\n",
        "    sample_1,\n",
        "    sample_2,\n",
        "    equal_var = True)\n",
        "\n",
        "print('p-значение:', results_1.pvalue)\n",
        "\n",
        "if (results_1.pvalue < alpha): # код ревьюера\n",
        "    print(\"Отвергаем нулевую гипотезу\")\n",
        "else:\n",
        "    print(\"Не получилось отвергнуть нулевую гипотезу\")"
      ]
    },
    {
      "cell_type": "markdown",
      "metadata": {
        "id": "F7JbGrNX7ukr"
      },
      "source": [
        "**Вывод**: гипотезу не отвергаем, следовательно средние пользовательские рейтинги платформ Xbox One и PC одинаковые."
      ]
    },
    {
      "cell_type": "code",
      "execution_count": null,
      "metadata": {
        "id": "CLg7G6co7uks",
        "outputId": "bdadf5e7-240b-4c26-ac86-dbea89cdc83f"
      },
      "outputs": [
        {
          "name": "stdout",
          "output_type": "stream",
          "text": [
            "p-значение: 0.1912450522572209\n",
            "Не получилось отвергнуть нулевую гипотезу\n"
          ]
        }
      ],
      "source": [
        "# Приведены два датасета: сумма покупок, совершённых за месяц посетителями ...\n",
        "\n",
        "sample_1 = [3071, 3636, 3454, 3151, 2185, 3259, 1727, 2263, 2015,\n",
        "2582, 4815, 633, 3186, 887, 2028, 3589, 2564, 1422, 1785,\n",
        "3180, 1770, 2716, 2546, 1848, 4644, 3134, 475, 2686,\n",
        "1838, 3352]\n",
        "sample_2 = [1211, 1228, 2157, 3699, 600, 1898, 1688, 1420, 5048, 3007,\n",
        "509, 3777, 5583, 3949, 121, 1674, 4300, 1338, 3066,\n",
        "3562, 1010, 2311, 462, 863, 2021, 528, 1849, 255,\n",
        "1740, 2596]\n",
        "alpha = .05 # критический уровень статистической значимости\n",
        "# если p-value окажется меньше него - отвергнем гипотезу\n",
        "results = st.ttest_ind(\n",
        "sample_1,\n",
        "sample_2)\n",
        "print('p-значение:', results.pvalue)\n",
        "if (results.pvalue < alpha):\n",
        "    print(\"Отвергаем нулевую гипотезу\")\n",
        "else:\n",
        "\n",
        "    print(\"Не получилось отвергнуть нулевую гипотезу\")"
      ]
    },
    {
      "cell_type": "markdown",
      "metadata": {
        "id": "CN9ne5wc7ukt"
      },
      "source": [
        "Проверим гипотезу \"Средние пользовательские рейтинги жанров Action и Sports разные.\"\n",
        "\n",
        " - проверяем гипотезу для данных за актуальный период, который мы определили выше\n",
        " - нулевая гипотеза \"Средние пользовательские рейтинги жанров Action и Sports одинаковые\"\n",
        " - альтернативная гипотеза \"Средние пользовательские рейтинги жанров Action и Sports разные\"\n",
        " - примем alpha=0.05 (чтандартное из курса теории)\n",
        " - используем t-критерий Стьюдента"
      ]
    },
    {
      "cell_type": "code",
      "execution_count": null,
      "metadata": {
        "id": "6enlJaim7ukt"
      },
      "outputs": [],
      "source": [
        "sample_3 = actual_games[actual_games['genre']==\"Action\"]['user_score'].dropna()\n",
        "sample_4 = actual_games[actual_games['genre']==\"Sports\"]['user_score'].dropna()"
      ]
    },
    {
      "cell_type": "code",
      "execution_count": null,
      "metadata": {
        "id": "_xeLPpAd7uku",
        "outputId": "3f2ee420-9590-4cb3-d490-59432b039f83"
      },
      "outputs": [
        {
          "name": "stdout",
          "output_type": "stream",
          "text": [
            "p-значение: 1.1825550382644557e-14\n",
            "Отвергаем нулевую гипотезу\n"
          ]
        }
      ],
      "source": [
        "alpha = 0.05\n",
        "\n",
        "results_2 = st.ttest_ind(\n",
        "    sample_3,\n",
        "    sample_4,\n",
        "    equal_var = False)\n",
        "\n",
        "print('p-значение:', results_2.pvalue)\n",
        "\n",
        "if (results_2.pvalue < alpha):\n",
        "    print(\"Отвергаем нулевую гипотезу\")\n",
        "else:\n",
        "    print(\"Не получилось отвергнуть нулевую гипотезу\")"
      ]
    },
    {
      "cell_type": "markdown",
      "metadata": {
        "id": "fYF37eZq7uku"
      },
      "source": [
        "**Вывод:** отвергаем нулевую гипотезу, следовательно средние пользовательские рейтинги жанров Action и Sports разные."
      ]
    },
    {
      "cell_type": "markdown",
      "metadata": {
        "id": "Dwcy6U2v7ukv"
      },
      "source": [
        "### Общий вывод:\n",
        "Работа была проведена в соответствии заданием и кратким планом, обозначенным в начале.\n",
        "\n",
        "\n",
        "**В первую очередь** ознакомились с предоставленными данными, провели их обработку, очистили пропуски в объеме, который не искажает статистику, провели подготовку к дальнейшей работе по анализу.\n",
        "\n",
        "\n",
        "**Вторым этапом** был исследовательский анализ, в ходе которого определили следующее:\n",
        " - наибольшие продажи за все время имеют платформы семейств SONY и Microsoft\n",
        " - пик продаж приходился на 2008-2009 г., после чего наступил резкий спад на фоне развития мобильных приложений\n",
        " - для прогноза на 2017 год и дальнейшего анализа актуальным периодом выбраны 2014-2016 г.г.\n",
        " - на основании актуального периода определили, что PS4, XOne, 3DS и PC являются наиболее перспективными платформами\n",
        " - определили, что оценки критиков и пользователей имеют прямую зависимость, в тоже время как корреляция межде оценками критиков и продажами слабая, а между оценками пользователей и продажами отсутсвует.\n",
        " - самыми продаваемыми жанрами являются Action, Shooter, RPG и Sports\n",
        " - выяснили, что рынки Северной Америки и Европы схожи и сильно отличаются от рынка Японии. В частности в Америке и Европе наиболее популярны платформы семейства PS и Xbox, которые занимают более 60% рынка. В Японии с большим отрывом лидирует 3DS, занимающая 47% рынка. В Америке и Европе наиболее популярны жанры Action и Shooter, которые занимают более 50% рынка. В Японии на первом месте RPG, на втором Action имеющие в сумме 65%.\n",
        "\n",
        "\n",
        "**Третьим этапом** было составление портрета пользователя по регионам:\n",
        " - Северная Америка и Европа - это пользователь старше 17 лет, предпочитающий PS3/4 или Х360 и жанр Action либо Shooter\n",
        " - Япония - это пользователь неопределенного возраста, предпочитающий 3DS и жанр RPG\n",
        "\n",
        "\n",
        "**Завершающим этапом** стала работа с гипотезами и как результат:\n",
        " - Не отвергаем гипотезу, что средние пользовательские рейтинги платформ Xbox One и PC одинаковые.\n",
        " - Отвергам гипотезу, что средние пользовательские рейтинги жанров Action и Sports одинаковые."
      ]
    }
  ],
  "metadata": {
    "ExecuteTimeLog": [
      {
        "duration": 1593,
        "start_time": "2023-04-10T20:42:14.143Z"
      },
      {
        "duration": 5,
        "start_time": "2023-04-10T20:42:40.375Z"
      },
      {
        "duration": 69,
        "start_time": "2023-04-10T20:42:43.965Z"
      },
      {
        "duration": 117,
        "start_time": "2023-04-10T20:43:27.909Z"
      },
      {
        "duration": 49,
        "start_time": "2023-04-10T20:45:48.878Z"
      },
      {
        "duration": 14,
        "start_time": "2023-04-10T20:45:52.253Z"
      },
      {
        "duration": 41,
        "start_time": "2023-04-10T20:45:55.184Z"
      },
      {
        "duration": 11,
        "start_time": "2023-04-10T20:50:56.434Z"
      },
      {
        "duration": 1667,
        "start_time": "2023-04-10T21:01:21.109Z"
      },
      {
        "duration": 10,
        "start_time": "2023-04-10T21:02:02.209Z"
      },
      {
        "duration": 26,
        "start_time": "2023-04-10T21:02:04.842Z"
      },
      {
        "duration": 16,
        "start_time": "2023-04-10T21:03:02.536Z"
      },
      {
        "duration": 23,
        "start_time": "2023-04-10T21:06:22.446Z"
      },
      {
        "duration": 25,
        "start_time": "2023-04-10T21:09:12.949Z"
      },
      {
        "duration": 89,
        "start_time": "2023-04-10T21:11:07.541Z"
      },
      {
        "duration": 5,
        "start_time": "2023-04-10T21:11:46.213Z"
      },
      {
        "duration": 37,
        "start_time": "2023-04-10T21:13:13.734Z"
      },
      {
        "duration": 6,
        "start_time": "2023-04-10T21:13:33.976Z"
      },
      {
        "duration": 34,
        "start_time": "2023-04-10T21:16:31.673Z"
      },
      {
        "duration": 7,
        "start_time": "2023-04-10T21:17:12.553Z"
      },
      {
        "duration": 6,
        "start_time": "2023-04-10T21:17:17.130Z"
      },
      {
        "duration": 27,
        "start_time": "2023-04-10T21:17:18.896Z"
      },
      {
        "duration": 5,
        "start_time": "2023-04-10T21:17:47.149Z"
      },
      {
        "duration": 23,
        "start_time": "2023-04-10T21:17:50.726Z"
      },
      {
        "duration": 14,
        "start_time": "2023-04-10T21:21:17.116Z"
      },
      {
        "duration": 5,
        "start_time": "2023-04-10T21:21:30.064Z"
      },
      {
        "duration": 47,
        "start_time": "2023-04-10T21:21:35.783Z"
      },
      {
        "duration": 1177,
        "start_time": "2023-04-11T19:28:24.847Z"
      },
      {
        "duration": 77,
        "start_time": "2023-04-11T19:28:26.026Z"
      },
      {
        "duration": 23,
        "start_time": "2023-04-11T19:28:26.105Z"
      },
      {
        "duration": 16,
        "start_time": "2023-04-11T19:28:26.130Z"
      },
      {
        "duration": 49,
        "start_time": "2023-04-11T19:28:26.148Z"
      },
      {
        "duration": 9,
        "start_time": "2023-04-11T19:28:26.199Z"
      },
      {
        "duration": 4,
        "start_time": "2023-04-11T19:28:26.210Z"
      },
      {
        "duration": 8,
        "start_time": "2023-04-11T19:28:26.216Z"
      },
      {
        "duration": 8,
        "start_time": "2023-04-11T19:28:26.226Z"
      },
      {
        "duration": 18,
        "start_time": "2023-04-11T19:28:26.236Z"
      },
      {
        "duration": 48,
        "start_time": "2023-04-11T19:28:26.256Z"
      },
      {
        "duration": 1248,
        "start_time": "2023-04-11T19:37:14.031Z"
      },
      {
        "duration": 240,
        "start_time": "2023-04-11T19:37:28.127Z"
      },
      {
        "duration": 188,
        "start_time": "2023-04-11T19:37:45.566Z"
      },
      {
        "duration": 182,
        "start_time": "2023-04-11T19:45:29.005Z"
      },
      {
        "duration": 171,
        "start_time": "2023-04-11T19:45:37.960Z"
      },
      {
        "duration": 183,
        "start_time": "2023-04-11T19:46:10.453Z"
      },
      {
        "duration": 169,
        "start_time": "2023-04-11T19:46:20.317Z"
      },
      {
        "duration": 14,
        "start_time": "2023-04-11T19:47:31.423Z"
      },
      {
        "duration": 20,
        "start_time": "2023-04-11T19:48:20.079Z"
      },
      {
        "duration": 1142,
        "start_time": "2023-04-11T19:48:28.115Z"
      },
      {
        "duration": 1118,
        "start_time": "2023-04-11T19:48:51.181Z"
      },
      {
        "duration": 1180,
        "start_time": "2023-04-11T19:49:24.392Z"
      },
      {
        "duration": 11,
        "start_time": "2023-04-11T19:50:01.154Z"
      },
      {
        "duration": 10,
        "start_time": "2023-04-11T19:55:28.975Z"
      },
      {
        "duration": 24,
        "start_time": "2023-04-11T19:56:00.779Z"
      },
      {
        "duration": 19,
        "start_time": "2023-04-11T19:58:31.406Z"
      },
      {
        "duration": 24,
        "start_time": "2023-04-11T19:58:51.117Z"
      },
      {
        "duration": 18,
        "start_time": "2023-04-11T19:59:57.170Z"
      },
      {
        "duration": 1210,
        "start_time": "2023-04-11T20:00:25.122Z"
      },
      {
        "duration": 38,
        "start_time": "2023-04-11T20:15:15.669Z"
      },
      {
        "duration": 9,
        "start_time": "2023-04-11T20:15:33.340Z"
      },
      {
        "duration": 38,
        "start_time": "2023-04-11T20:16:59.010Z"
      },
      {
        "duration": 16,
        "start_time": "2023-04-11T20:19:11.164Z"
      },
      {
        "duration": 24,
        "start_time": "2023-04-11T20:19:17.707Z"
      },
      {
        "duration": 228,
        "start_time": "2023-04-11T20:19:44.311Z"
      },
      {
        "duration": 73,
        "start_time": "2023-04-11T20:20:55.827Z"
      },
      {
        "duration": 1233,
        "start_time": "2023-04-11T20:21:16.346Z"
      },
      {
        "duration": 11,
        "start_time": "2023-04-11T20:22:32.102Z"
      },
      {
        "duration": 1109,
        "start_time": "2023-04-11T20:22:41.702Z"
      },
      {
        "duration": 15,
        "start_time": "2023-04-11T20:23:04.992Z"
      },
      {
        "duration": 1270,
        "start_time": "2023-04-11T20:26:33.402Z"
      },
      {
        "duration": 786,
        "start_time": "2023-04-11T20:26:55.314Z"
      },
      {
        "duration": 721,
        "start_time": "2023-04-11T20:27:54.001Z"
      },
      {
        "duration": 1687,
        "start_time": "2023-04-11T20:28:47.232Z"
      },
      {
        "duration": 240,
        "start_time": "2023-04-11T20:35:41.401Z"
      },
      {
        "duration": 348,
        "start_time": "2023-04-11T20:37:50.719Z"
      },
      {
        "duration": 258,
        "start_time": "2023-04-11T20:39:07.670Z"
      },
      {
        "duration": 158,
        "start_time": "2023-04-11T20:49:24.256Z"
      },
      {
        "duration": 10,
        "start_time": "2023-04-11T20:50:10.040Z"
      },
      {
        "duration": 158,
        "start_time": "2023-04-11T20:59:50.832Z"
      },
      {
        "duration": 11,
        "start_time": "2023-04-11T20:59:54.406Z"
      },
      {
        "duration": 4,
        "start_time": "2023-04-11T21:00:36.374Z"
      },
      {
        "duration": 19,
        "start_time": "2023-04-11T21:00:49.678Z"
      },
      {
        "duration": 10,
        "start_time": "2023-04-11T21:01:13.657Z"
      },
      {
        "duration": 12,
        "start_time": "2023-04-11T21:01:34.336Z"
      },
      {
        "duration": 11,
        "start_time": "2023-04-11T21:01:50.151Z"
      },
      {
        "duration": 10,
        "start_time": "2023-04-11T21:01:53.441Z"
      },
      {
        "duration": 14,
        "start_time": "2023-04-11T21:02:18.891Z"
      },
      {
        "duration": 12,
        "start_time": "2023-04-11T21:02:33.337Z"
      },
      {
        "duration": 13,
        "start_time": "2023-04-11T21:02:54.281Z"
      },
      {
        "duration": 11,
        "start_time": "2023-04-11T21:03:38.062Z"
      },
      {
        "duration": 11,
        "start_time": "2023-04-11T21:11:39.190Z"
      },
      {
        "duration": 11,
        "start_time": "2023-04-11T21:12:03.559Z"
      },
      {
        "duration": 197,
        "start_time": "2023-04-11T21:17:11.139Z"
      },
      {
        "duration": 177,
        "start_time": "2023-04-11T21:17:38.462Z"
      },
      {
        "duration": 1225,
        "start_time": "2023-04-12T19:33:16.212Z"
      },
      {
        "duration": 64,
        "start_time": "2023-04-12T19:33:17.439Z"
      },
      {
        "duration": 30,
        "start_time": "2023-04-12T19:33:17.505Z"
      },
      {
        "duration": 20,
        "start_time": "2023-04-12T19:33:17.537Z"
      },
      {
        "duration": 51,
        "start_time": "2023-04-12T19:33:17.562Z"
      },
      {
        "duration": 15,
        "start_time": "2023-04-12T19:33:17.615Z"
      },
      {
        "duration": 4,
        "start_time": "2023-04-12T19:33:17.632Z"
      },
      {
        "duration": 9,
        "start_time": "2023-04-12T19:33:17.638Z"
      },
      {
        "duration": 14,
        "start_time": "2023-04-12T19:33:17.649Z"
      },
      {
        "duration": 48,
        "start_time": "2023-04-12T19:33:17.665Z"
      },
      {
        "duration": 22,
        "start_time": "2023-04-12T19:33:17.715Z"
      },
      {
        "duration": 212,
        "start_time": "2023-04-12T19:33:17.739Z"
      },
      {
        "duration": 38,
        "start_time": "2023-04-12T19:33:17.953Z"
      },
      {
        "duration": 1261,
        "start_time": "2023-04-12T19:33:17.999Z"
      },
      {
        "duration": 8,
        "start_time": "2023-04-12T19:33:19.262Z"
      },
      {
        "duration": 41,
        "start_time": "2023-04-12T19:33:19.272Z"
      },
      {
        "duration": 1794,
        "start_time": "2023-04-12T19:33:19.316Z"
      },
      {
        "duration": 389,
        "start_time": "2023-04-12T19:33:21.112Z"
      },
      {
        "duration": 237,
        "start_time": "2023-04-12T19:33:21.502Z"
      },
      {
        "duration": 13,
        "start_time": "2023-04-12T19:33:21.742Z"
      },
      {
        "duration": 9,
        "start_time": "2023-04-12T19:33:21.757Z"
      },
      {
        "duration": 31,
        "start_time": "2023-04-12T19:33:21.768Z"
      },
      {
        "duration": 21,
        "start_time": "2023-04-12T19:33:21.803Z"
      },
      {
        "duration": 14,
        "start_time": "2023-04-12T19:33:21.826Z"
      },
      {
        "duration": 232,
        "start_time": "2023-04-12T19:33:21.842Z"
      },
      {
        "duration": 173,
        "start_time": "2023-04-12T19:35:23.963Z"
      },
      {
        "duration": 27,
        "start_time": "2023-04-12T19:36:04.634Z"
      },
      {
        "duration": 227,
        "start_time": "2023-04-12T19:36:17.438Z"
      },
      {
        "duration": 288,
        "start_time": "2023-04-12T19:38:27.338Z"
      },
      {
        "duration": 237,
        "start_time": "2023-04-12T19:42:33.683Z"
      },
      {
        "duration": 237,
        "start_time": "2023-04-12T19:42:53.981Z"
      },
      {
        "duration": 224,
        "start_time": "2023-04-12T19:47:27.331Z"
      },
      {
        "duration": 216,
        "start_time": "2023-04-12T19:47:51.565Z"
      },
      {
        "duration": 221,
        "start_time": "2023-04-12T19:47:54.666Z"
      },
      {
        "duration": 26,
        "start_time": "2023-04-12T19:55:36.045Z"
      },
      {
        "duration": 1721,
        "start_time": "2023-04-12T19:55:39.531Z"
      },
      {
        "duration": 9,
        "start_time": "2023-04-12T19:58:46.221Z"
      },
      {
        "duration": 177,
        "start_time": "2023-04-12T19:58:52.949Z"
      },
      {
        "duration": 232,
        "start_time": "2023-04-12T19:59:28.081Z"
      },
      {
        "duration": 191,
        "start_time": "2023-04-12T19:59:53.780Z"
      },
      {
        "duration": 6,
        "start_time": "2023-04-12T20:05:56.814Z"
      },
      {
        "duration": 4,
        "start_time": "2023-04-12T20:06:36.757Z"
      },
      {
        "duration": 1159,
        "start_time": "2023-04-12T20:06:46.937Z"
      },
      {
        "duration": 50,
        "start_time": "2023-04-12T20:06:48.098Z"
      },
      {
        "duration": 20,
        "start_time": "2023-04-12T20:06:48.150Z"
      },
      {
        "duration": 20,
        "start_time": "2023-04-12T20:06:48.172Z"
      },
      {
        "duration": 37,
        "start_time": "2023-04-12T20:06:48.193Z"
      },
      {
        "duration": 10,
        "start_time": "2023-04-12T20:06:48.231Z"
      },
      {
        "duration": 4,
        "start_time": "2023-04-12T20:06:48.243Z"
      },
      {
        "duration": 8,
        "start_time": "2023-04-12T20:06:48.249Z"
      },
      {
        "duration": 33,
        "start_time": "2023-04-12T20:06:48.259Z"
      },
      {
        "duration": 23,
        "start_time": "2023-04-12T20:06:48.296Z"
      },
      {
        "duration": 24,
        "start_time": "2023-04-12T20:06:48.320Z"
      },
      {
        "duration": 235,
        "start_time": "2023-04-12T20:06:48.345Z"
      },
      {
        "duration": 18,
        "start_time": "2023-04-12T20:06:48.585Z"
      },
      {
        "duration": 1077,
        "start_time": "2023-04-12T20:06:48.605Z"
      },
      {
        "duration": 6,
        "start_time": "2023-04-12T20:06:49.685Z"
      },
      {
        "duration": 15,
        "start_time": "2023-04-12T20:06:49.692Z"
      },
      {
        "duration": 1493,
        "start_time": "2023-04-12T20:06:49.709Z"
      },
      {
        "duration": 317,
        "start_time": "2023-04-12T20:06:51.204Z"
      },
      {
        "duration": 157,
        "start_time": "2023-04-12T20:06:51.522Z"
      },
      {
        "duration": 12,
        "start_time": "2023-04-12T20:06:51.680Z"
      },
      {
        "duration": 11,
        "start_time": "2023-04-12T20:06:51.694Z"
      },
      {
        "duration": 16,
        "start_time": "2023-04-12T20:06:51.707Z"
      },
      {
        "duration": 13,
        "start_time": "2023-04-12T20:06:51.725Z"
      },
      {
        "duration": 25,
        "start_time": "2023-04-12T20:06:51.740Z"
      },
      {
        "duration": 204,
        "start_time": "2023-04-12T20:06:51.767Z"
      },
      {
        "duration": 190,
        "start_time": "2023-04-12T20:06:51.973Z"
      },
      {
        "duration": 194,
        "start_time": "2023-04-12T20:06:52.165Z"
      },
      {
        "duration": 196,
        "start_time": "2023-04-12T20:06:52.362Z"
      },
      {
        "duration": 212,
        "start_time": "2023-04-12T20:06:52.560Z"
      },
      {
        "duration": 236,
        "start_time": "2023-04-12T20:06:52.774Z"
      },
      {
        "duration": 211,
        "start_time": "2023-04-12T20:06:53.013Z"
      },
      {
        "duration": 4,
        "start_time": "2023-04-12T20:06:53.226Z"
      },
      {
        "duration": 153,
        "start_time": "2023-04-12T20:06:53.232Z"
      },
      {
        "duration": 176,
        "start_time": "2023-04-12T20:06:53.387Z"
      },
      {
        "duration": 245,
        "start_time": "2023-04-12T20:06:53.565Z"
      },
      {
        "duration": 5,
        "start_time": "2023-04-12T20:08:05.888Z"
      },
      {
        "duration": 4,
        "start_time": "2023-04-12T20:08:25.025Z"
      },
      {
        "duration": 6,
        "start_time": "2023-04-12T20:08:49.783Z"
      },
      {
        "duration": 5,
        "start_time": "2023-04-12T20:12:09.687Z"
      },
      {
        "duration": 1233,
        "start_time": "2023-04-12T20:12:25.894Z"
      },
      {
        "duration": 52,
        "start_time": "2023-04-12T20:12:27.129Z"
      },
      {
        "duration": 21,
        "start_time": "2023-04-12T20:12:27.183Z"
      },
      {
        "duration": 15,
        "start_time": "2023-04-12T20:12:27.206Z"
      },
      {
        "duration": 30,
        "start_time": "2023-04-12T20:12:27.223Z"
      },
      {
        "duration": 35,
        "start_time": "2023-04-12T20:12:27.255Z"
      },
      {
        "duration": 4,
        "start_time": "2023-04-12T20:12:27.291Z"
      },
      {
        "duration": 9,
        "start_time": "2023-04-12T20:12:27.296Z"
      },
      {
        "duration": 7,
        "start_time": "2023-04-12T20:12:27.307Z"
      },
      {
        "duration": 21,
        "start_time": "2023-04-12T20:12:27.316Z"
      },
      {
        "duration": 21,
        "start_time": "2023-04-12T20:12:27.339Z"
      },
      {
        "duration": 5,
        "start_time": "2023-04-12T20:12:27.386Z"
      },
      {
        "duration": 230,
        "start_time": "2023-04-12T20:12:27.392Z"
      },
      {
        "duration": 20,
        "start_time": "2023-04-12T20:12:27.625Z"
      },
      {
        "duration": 1152,
        "start_time": "2023-04-12T20:12:27.647Z"
      },
      {
        "duration": 6,
        "start_time": "2023-04-12T20:12:28.801Z"
      },
      {
        "duration": 14,
        "start_time": "2023-04-12T20:12:28.808Z"
      },
      {
        "duration": 1655,
        "start_time": "2023-04-12T20:12:28.824Z"
      },
      {
        "duration": 334,
        "start_time": "2023-04-12T20:12:30.485Z"
      },
      {
        "duration": 170,
        "start_time": "2023-04-12T20:12:30.822Z"
      },
      {
        "duration": 11,
        "start_time": "2023-04-12T20:12:30.994Z"
      },
      {
        "duration": 46,
        "start_time": "2023-04-12T20:12:31.006Z"
      },
      {
        "duration": 38,
        "start_time": "2023-04-12T20:12:31.053Z"
      },
      {
        "duration": 37,
        "start_time": "2023-04-12T20:12:31.093Z"
      },
      {
        "duration": 24,
        "start_time": "2023-04-12T20:12:31.132Z"
      },
      {
        "duration": 201,
        "start_time": "2023-04-12T20:12:31.158Z"
      },
      {
        "duration": 199,
        "start_time": "2023-04-12T20:12:31.360Z"
      },
      {
        "duration": 205,
        "start_time": "2023-04-12T20:12:31.560Z"
      },
      {
        "duration": 184,
        "start_time": "2023-04-12T20:12:31.767Z"
      },
      {
        "duration": 223,
        "start_time": "2023-04-12T20:12:31.953Z"
      },
      {
        "duration": 221,
        "start_time": "2023-04-12T20:12:32.178Z"
      },
      {
        "duration": 216,
        "start_time": "2023-04-12T20:12:32.401Z"
      },
      {
        "duration": 163,
        "start_time": "2023-04-12T20:12:32.618Z"
      },
      {
        "duration": 190,
        "start_time": "2023-04-12T20:12:32.785Z"
      },
      {
        "duration": 235,
        "start_time": "2023-04-12T20:12:32.976Z"
      },
      {
        "duration": 10,
        "start_time": "2023-04-12T20:23:40.530Z"
      },
      {
        "duration": 6,
        "start_time": "2023-04-12T20:23:48.321Z"
      },
      {
        "duration": 6,
        "start_time": "2023-04-12T20:24:13.339Z"
      },
      {
        "duration": 7,
        "start_time": "2023-04-12T20:24:56.910Z"
      },
      {
        "duration": 7,
        "start_time": "2023-04-12T20:24:58.440Z"
      },
      {
        "duration": 5,
        "start_time": "2023-04-12T20:25:00.070Z"
      },
      {
        "duration": 7,
        "start_time": "2023-04-12T20:29:59.620Z"
      },
      {
        "duration": 6,
        "start_time": "2023-04-12T20:30:12.432Z"
      },
      {
        "duration": 1213,
        "start_time": "2023-04-13T00:09:59.225Z"
      },
      {
        "duration": 54,
        "start_time": "2023-04-13T00:10:00.440Z"
      },
      {
        "duration": 26,
        "start_time": "2023-04-13T00:10:00.496Z"
      },
      {
        "duration": 57,
        "start_time": "2023-04-13T00:10:00.524Z"
      },
      {
        "duration": 57,
        "start_time": "2023-04-13T00:10:00.583Z"
      },
      {
        "duration": 41,
        "start_time": "2023-04-13T00:10:00.642Z"
      },
      {
        "duration": 56,
        "start_time": "2023-04-13T00:10:00.685Z"
      },
      {
        "duration": 235,
        "start_time": "2023-04-13T00:10:00.743Z"
      },
      {
        "duration": 3,
        "start_time": "2023-04-13T00:10:00.980Z"
      },
      {
        "duration": 43,
        "start_time": "2023-04-13T00:10:00.984Z"
      },
      {
        "duration": 39,
        "start_time": "2023-04-13T00:10:01.029Z"
      },
      {
        "duration": 39,
        "start_time": "2023-04-13T00:10:01.070Z"
      },
      {
        "duration": 37,
        "start_time": "2023-04-13T00:10:01.111Z"
      },
      {
        "duration": 35,
        "start_time": "2023-04-13T00:10:01.151Z"
      },
      {
        "duration": 81,
        "start_time": "2023-04-13T00:10:01.188Z"
      },
      {
        "duration": 193,
        "start_time": "2023-04-13T00:10:01.270Z"
      },
      {
        "duration": 16,
        "start_time": "2023-04-13T00:10:01.464Z"
      },
      {
        "duration": 1871,
        "start_time": "2023-04-13T00:10:01.482Z"
      },
      {
        "duration": 5,
        "start_time": "2023-04-13T00:10:03.354Z"
      },
      {
        "duration": 34,
        "start_time": "2023-04-13T00:10:03.361Z"
      },
      {
        "duration": 1287,
        "start_time": "2023-04-13T00:10:03.396Z"
      },
      {
        "duration": 296,
        "start_time": "2023-04-13T00:10:04.685Z"
      },
      {
        "duration": 147,
        "start_time": "2023-04-13T00:10:04.983Z"
      },
      {
        "duration": 9,
        "start_time": "2023-04-13T00:10:05.133Z"
      },
      {
        "duration": 35,
        "start_time": "2023-04-13T00:10:05.143Z"
      },
      {
        "duration": 30,
        "start_time": "2023-04-13T00:10:05.180Z"
      },
      {
        "duration": 31,
        "start_time": "2023-04-13T00:10:05.212Z"
      },
      {
        "duration": 34,
        "start_time": "2023-04-13T00:10:05.245Z"
      },
      {
        "duration": 187,
        "start_time": "2023-04-13T00:10:05.280Z"
      },
      {
        "duration": 182,
        "start_time": "2023-04-13T00:10:05.468Z"
      },
      {
        "duration": 184,
        "start_time": "2023-04-13T00:10:05.652Z"
      },
      {
        "duration": 163,
        "start_time": "2023-04-13T00:10:05.838Z"
      },
      {
        "duration": 193,
        "start_time": "2023-04-13T00:10:06.003Z"
      },
      {
        "duration": 200,
        "start_time": "2023-04-13T00:10:06.198Z"
      },
      {
        "duration": 190,
        "start_time": "2023-04-13T00:10:06.399Z"
      },
      {
        "duration": 145,
        "start_time": "2023-04-13T00:10:06.591Z"
      },
      {
        "duration": 224,
        "start_time": "2023-04-13T00:10:06.737Z"
      },
      {
        "duration": 145,
        "start_time": "2023-04-13T00:10:06.963Z"
      },
      {
        "duration": 5,
        "start_time": "2023-04-13T00:10:07.110Z"
      },
      {
        "duration": 18,
        "start_time": "2023-04-13T00:10:07.117Z"
      },
      {
        "duration": 5,
        "start_time": "2023-04-13T00:10:07.138Z"
      },
      {
        "duration": 14,
        "start_time": "2023-04-13T00:10:07.144Z"
      },
      {
        "duration": 8,
        "start_time": "2023-04-13T00:10:07.160Z"
      },
      {
        "duration": 1106,
        "start_time": "2023-04-13T00:22:13.248Z"
      },
      {
        "duration": 52,
        "start_time": "2023-04-13T00:22:14.356Z"
      },
      {
        "duration": 19,
        "start_time": "2023-04-13T00:22:14.410Z"
      },
      {
        "duration": 13,
        "start_time": "2023-04-13T00:22:14.431Z"
      },
      {
        "duration": 37,
        "start_time": "2023-04-13T00:22:14.446Z"
      },
      {
        "duration": 8,
        "start_time": "2023-04-13T00:22:14.485Z"
      },
      {
        "duration": 4,
        "start_time": "2023-04-13T00:22:14.494Z"
      },
      {
        "duration": 191,
        "start_time": "2023-04-13T00:22:14.499Z"
      },
      {
        "duration": 3,
        "start_time": "2023-04-13T00:22:14.691Z"
      },
      {
        "duration": 11,
        "start_time": "2023-04-13T00:22:14.697Z"
      },
      {
        "duration": 30,
        "start_time": "2023-04-13T00:22:14.710Z"
      },
      {
        "duration": 49,
        "start_time": "2023-04-13T00:22:14.742Z"
      },
      {
        "duration": 24,
        "start_time": "2023-04-13T00:22:14.793Z"
      },
      {
        "duration": 5,
        "start_time": "2023-04-13T00:22:14.820Z"
      },
      {
        "duration": 25,
        "start_time": "2023-04-13T00:22:14.827Z"
      },
      {
        "duration": 194,
        "start_time": "2023-04-13T00:22:14.855Z"
      },
      {
        "duration": 17,
        "start_time": "2023-04-13T00:22:15.050Z"
      },
      {
        "duration": 1086,
        "start_time": "2023-04-13T00:22:15.069Z"
      },
      {
        "duration": 7,
        "start_time": "2023-04-13T00:22:16.157Z"
      },
      {
        "duration": 24,
        "start_time": "2023-04-13T00:22:16.165Z"
      },
      {
        "duration": 1334,
        "start_time": "2023-04-13T00:22:16.191Z"
      },
      {
        "duration": 295,
        "start_time": "2023-04-13T00:22:17.527Z"
      },
      {
        "duration": 144,
        "start_time": "2023-04-13T00:22:17.823Z"
      },
      {
        "duration": 10,
        "start_time": "2023-04-13T00:22:17.969Z"
      },
      {
        "duration": 13,
        "start_time": "2023-04-13T00:22:17.980Z"
      },
      {
        "duration": 20,
        "start_time": "2023-04-13T00:22:17.995Z"
      },
      {
        "duration": 16,
        "start_time": "2023-04-13T00:22:18.016Z"
      },
      {
        "duration": 9,
        "start_time": "2023-04-13T00:22:18.036Z"
      },
      {
        "duration": 159,
        "start_time": "2023-04-13T00:22:18.047Z"
      },
      {
        "duration": 187,
        "start_time": "2023-04-13T00:22:18.207Z"
      },
      {
        "duration": 199,
        "start_time": "2023-04-13T00:22:18.396Z"
      },
      {
        "duration": 167,
        "start_time": "2023-04-13T00:22:18.597Z"
      },
      {
        "duration": 205,
        "start_time": "2023-04-13T00:22:18.767Z"
      },
      {
        "duration": 193,
        "start_time": "2023-04-13T00:22:18.974Z"
      },
      {
        "duration": 206,
        "start_time": "2023-04-13T00:22:19.169Z"
      },
      {
        "duration": 141,
        "start_time": "2023-04-13T00:22:19.377Z"
      },
      {
        "duration": 233,
        "start_time": "2023-04-13T00:22:19.520Z"
      },
      {
        "duration": 146,
        "start_time": "2023-04-13T00:22:19.754Z"
      },
      {
        "duration": 6,
        "start_time": "2023-04-13T00:22:19.901Z"
      },
      {
        "duration": 8,
        "start_time": "2023-04-13T00:22:19.908Z"
      },
      {
        "duration": 5,
        "start_time": "2023-04-13T00:22:19.918Z"
      },
      {
        "duration": 5,
        "start_time": "2023-04-13T00:22:19.935Z"
      },
      {
        "duration": 5,
        "start_time": "2023-04-13T00:22:19.942Z"
      },
      {
        "duration": 112,
        "start_time": "2023-04-13T20:05:58.998Z"
      },
      {
        "duration": 79,
        "start_time": "2023-04-13T20:06:10.447Z"
      },
      {
        "duration": 83,
        "start_time": "2023-04-13T20:06:13.508Z"
      },
      {
        "duration": 89,
        "start_time": "2023-04-13T20:06:18.948Z"
      },
      {
        "duration": 99,
        "start_time": "2023-04-13T20:06:57.256Z"
      },
      {
        "duration": 5,
        "start_time": "2023-04-13T20:22:33.586Z"
      },
      {
        "duration": 52,
        "start_time": "2023-04-13T20:22:35.303Z"
      },
      {
        "duration": 1321,
        "start_time": "2023-04-13T20:22:43.335Z"
      },
      {
        "duration": 110,
        "start_time": "2023-04-13T20:22:44.658Z"
      },
      {
        "duration": 25,
        "start_time": "2023-04-13T20:22:44.769Z"
      },
      {
        "duration": 19,
        "start_time": "2023-04-13T20:22:44.796Z"
      },
      {
        "duration": 33,
        "start_time": "2023-04-13T20:22:44.820Z"
      },
      {
        "duration": 12,
        "start_time": "2023-04-13T20:22:44.855Z"
      },
      {
        "duration": 5,
        "start_time": "2023-04-13T20:22:44.869Z"
      },
      {
        "duration": 207,
        "start_time": "2023-04-13T20:22:44.876Z"
      },
      {
        "duration": 4,
        "start_time": "2023-04-13T20:22:45.084Z"
      },
      {
        "duration": 7,
        "start_time": "2023-04-13T20:22:45.089Z"
      },
      {
        "duration": 35,
        "start_time": "2023-04-13T20:22:45.098Z"
      },
      {
        "duration": 18,
        "start_time": "2023-04-13T20:22:45.135Z"
      },
      {
        "duration": 24,
        "start_time": "2023-04-13T20:22:45.154Z"
      },
      {
        "duration": 4,
        "start_time": "2023-04-13T20:22:45.182Z"
      },
      {
        "duration": 13,
        "start_time": "2023-04-13T20:22:45.187Z"
      },
      {
        "duration": 187,
        "start_time": "2023-04-13T20:22:45.201Z"
      },
      {
        "duration": 16,
        "start_time": "2023-04-13T20:22:45.390Z"
      },
      {
        "duration": 1054,
        "start_time": "2023-04-13T20:22:45.417Z"
      },
      {
        "duration": 7,
        "start_time": "2023-04-13T20:22:46.473Z"
      },
      {
        "duration": 23,
        "start_time": "2023-04-13T20:22:46.482Z"
      },
      {
        "duration": 1624,
        "start_time": "2023-04-13T20:22:46.517Z"
      },
      {
        "duration": 289,
        "start_time": "2023-04-13T20:22:48.145Z"
      },
      {
        "duration": 205,
        "start_time": "2023-04-13T20:22:48.437Z"
      },
      {
        "duration": 11,
        "start_time": "2023-04-13T20:22:48.644Z"
      },
      {
        "duration": 9,
        "start_time": "2023-04-13T20:22:48.657Z"
      },
      {
        "duration": 15,
        "start_time": "2023-04-13T20:22:48.668Z"
      },
      {
        "duration": 10,
        "start_time": "2023-04-13T20:22:48.685Z"
      },
      {
        "duration": 32,
        "start_time": "2023-04-13T20:22:48.697Z"
      },
      {
        "duration": 222,
        "start_time": "2023-04-13T20:22:48.731Z"
      },
      {
        "duration": 243,
        "start_time": "2023-04-13T20:22:48.955Z"
      },
      {
        "duration": 215,
        "start_time": "2023-04-13T20:22:49.201Z"
      },
      {
        "duration": 216,
        "start_time": "2023-04-13T20:22:49.429Z"
      },
      {
        "duration": 230,
        "start_time": "2023-04-13T20:22:49.651Z"
      },
      {
        "duration": 230,
        "start_time": "2023-04-13T20:22:49.883Z"
      },
      {
        "duration": 237,
        "start_time": "2023-04-13T20:22:50.117Z"
      },
      {
        "duration": 201,
        "start_time": "2023-04-13T20:22:50.356Z"
      },
      {
        "duration": 176,
        "start_time": "2023-04-13T20:22:50.559Z"
      },
      {
        "duration": 158,
        "start_time": "2023-04-13T20:22:50.737Z"
      },
      {
        "duration": 7,
        "start_time": "2023-04-13T20:22:50.896Z"
      },
      {
        "duration": 28,
        "start_time": "2023-04-13T20:22:50.905Z"
      },
      {
        "duration": 4,
        "start_time": "2023-04-13T20:22:50.937Z"
      },
      {
        "duration": 13,
        "start_time": "2023-04-13T20:22:50.943Z"
      },
      {
        "duration": 12,
        "start_time": "2023-04-13T20:22:50.957Z"
      },
      {
        "duration": 6,
        "start_time": "2023-04-13T20:28:20.936Z"
      },
      {
        "duration": 225,
        "start_time": "2023-04-13T20:28:23.005Z"
      },
      {
        "duration": 5,
        "start_time": "2023-04-13T20:28:54.239Z"
      },
      {
        "duration": 1034,
        "start_time": "2023-04-13T20:28:56.338Z"
      },
      {
        "duration": 4,
        "start_time": "2023-04-13T20:29:10.039Z"
      },
      {
        "duration": 182,
        "start_time": "2023-04-13T20:29:12.640Z"
      },
      {
        "duration": 4,
        "start_time": "2023-04-13T20:30:33.652Z"
      },
      {
        "duration": 128,
        "start_time": "2023-04-13T20:30:35.688Z"
      },
      {
        "duration": 5,
        "start_time": "2023-04-13T20:30:50.452Z"
      },
      {
        "duration": 119,
        "start_time": "2023-04-13T20:30:52.240Z"
      },
      {
        "duration": 5,
        "start_time": "2023-04-13T20:31:10.913Z"
      },
      {
        "duration": 13,
        "start_time": "2023-04-13T20:31:12.973Z"
      },
      {
        "duration": 4,
        "start_time": "2023-04-13T20:31:58.642Z"
      },
      {
        "duration": 11,
        "start_time": "2023-04-13T20:32:00.390Z"
      },
      {
        "duration": 14,
        "start_time": "2023-04-13T20:32:14.937Z"
      },
      {
        "duration": 6,
        "start_time": "2023-04-13T20:32:22.241Z"
      },
      {
        "duration": 11,
        "start_time": "2023-04-13T20:32:23.771Z"
      },
      {
        "duration": 13,
        "start_time": "2023-04-13T20:32:26.338Z"
      },
      {
        "duration": 1190,
        "start_time": "2023-04-13T20:32:46.842Z"
      },
      {
        "duration": 50,
        "start_time": "2023-04-13T20:32:48.036Z"
      },
      {
        "duration": 19,
        "start_time": "2023-04-13T20:32:48.087Z"
      },
      {
        "duration": 31,
        "start_time": "2023-04-13T20:32:48.108Z"
      },
      {
        "duration": 26,
        "start_time": "2023-04-13T20:32:48.140Z"
      },
      {
        "duration": 8,
        "start_time": "2023-04-13T20:32:48.168Z"
      },
      {
        "duration": 7,
        "start_time": "2023-04-13T20:32:48.177Z"
      },
      {
        "duration": 24,
        "start_time": "2023-04-13T20:32:48.185Z"
      },
      {
        "duration": 22,
        "start_time": "2023-04-13T20:32:48.210Z"
      },
      {
        "duration": 5,
        "start_time": "2023-04-13T20:32:48.236Z"
      },
      {
        "duration": 17,
        "start_time": "2023-04-13T20:32:48.243Z"
      },
      {
        "duration": 27,
        "start_time": "2023-04-13T20:32:48.261Z"
      },
      {
        "duration": 18,
        "start_time": "2023-04-13T20:32:48.290Z"
      },
      {
        "duration": 8,
        "start_time": "2023-04-13T20:32:48.309Z"
      },
      {
        "duration": 25,
        "start_time": "2023-04-13T20:32:48.318Z"
      },
      {
        "duration": 189,
        "start_time": "2023-04-13T20:32:48.345Z"
      },
      {
        "duration": 17,
        "start_time": "2023-04-13T20:32:48.536Z"
      },
      {
        "duration": 1128,
        "start_time": "2023-04-13T20:32:48.554Z"
      },
      {
        "duration": 5,
        "start_time": "2023-04-13T20:32:49.684Z"
      },
      {
        "duration": 34,
        "start_time": "2023-04-13T20:32:49.691Z"
      },
      {
        "duration": 1487,
        "start_time": "2023-04-13T20:32:49.735Z"
      },
      {
        "duration": 312,
        "start_time": "2023-04-13T20:32:51.223Z"
      },
      {
        "duration": 159,
        "start_time": "2023-04-13T20:32:51.537Z"
      },
      {
        "duration": 10,
        "start_time": "2023-04-13T20:32:51.697Z"
      },
      {
        "duration": 22,
        "start_time": "2023-04-13T20:32:51.708Z"
      },
      {
        "duration": 10,
        "start_time": "2023-04-13T20:32:51.731Z"
      },
      {
        "duration": 20,
        "start_time": "2023-04-13T20:32:51.742Z"
      },
      {
        "duration": 11,
        "start_time": "2023-04-13T20:32:51.765Z"
      },
      {
        "duration": 216,
        "start_time": "2023-04-13T20:32:51.778Z"
      },
      {
        "duration": 197,
        "start_time": "2023-04-13T20:32:51.995Z"
      },
      {
        "duration": 192,
        "start_time": "2023-04-13T20:32:52.194Z"
      },
      {
        "duration": 184,
        "start_time": "2023-04-13T20:32:52.388Z"
      },
      {
        "duration": 212,
        "start_time": "2023-04-13T20:32:52.573Z"
      },
      {
        "duration": 209,
        "start_time": "2023-04-13T20:32:52.787Z"
      },
      {
        "duration": 210,
        "start_time": "2023-04-13T20:32:52.998Z"
      },
      {
        "duration": 164,
        "start_time": "2023-04-13T20:32:53.209Z"
      },
      {
        "duration": 164,
        "start_time": "2023-04-13T20:32:53.374Z"
      },
      {
        "duration": 237,
        "start_time": "2023-04-13T20:32:53.540Z"
      },
      {
        "duration": 5,
        "start_time": "2023-04-13T20:32:53.779Z"
      },
      {
        "duration": 8,
        "start_time": "2023-04-13T20:32:53.786Z"
      },
      {
        "duration": 6,
        "start_time": "2023-04-13T20:32:53.795Z"
      },
      {
        "duration": 10,
        "start_time": "2023-04-13T20:32:53.824Z"
      },
      {
        "duration": 22,
        "start_time": "2023-04-13T20:32:53.836Z"
      },
      {
        "duration": 5,
        "start_time": "2023-04-13T20:34:35.742Z"
      },
      {
        "duration": 10,
        "start_time": "2023-04-13T20:34:38.402Z"
      },
      {
        "duration": 5,
        "start_time": "2023-04-13T20:37:33.637Z"
      },
      {
        "duration": 1111,
        "start_time": "2023-04-13T20:38:01.493Z"
      },
      {
        "duration": 67,
        "start_time": "2023-04-13T20:38:02.606Z"
      },
      {
        "duration": 19,
        "start_time": "2023-04-13T20:38:02.675Z"
      },
      {
        "duration": 13,
        "start_time": "2023-04-13T20:38:02.697Z"
      },
      {
        "duration": 32,
        "start_time": "2023-04-13T20:38:02.712Z"
      },
      {
        "duration": 9,
        "start_time": "2023-04-13T20:38:02.745Z"
      },
      {
        "duration": 8,
        "start_time": "2023-04-13T20:38:02.755Z"
      },
      {
        "duration": 14,
        "start_time": "2023-04-13T20:38:02.764Z"
      },
      {
        "duration": 3,
        "start_time": "2023-04-13T20:38:02.780Z"
      },
      {
        "duration": 5,
        "start_time": "2023-04-13T20:38:02.785Z"
      },
      {
        "duration": 30,
        "start_time": "2023-04-13T20:38:02.792Z"
      },
      {
        "duration": 18,
        "start_time": "2023-04-13T20:38:02.823Z"
      },
      {
        "duration": 18,
        "start_time": "2023-04-13T20:38:02.843Z"
      },
      {
        "duration": 4,
        "start_time": "2023-04-13T20:38:02.862Z"
      },
      {
        "duration": 13,
        "start_time": "2023-04-13T20:38:02.868Z"
      },
      {
        "duration": 214,
        "start_time": "2023-04-13T20:38:02.883Z"
      },
      {
        "duration": 37,
        "start_time": "2023-04-13T20:38:03.099Z"
      },
      {
        "duration": 1101,
        "start_time": "2023-04-13T20:38:03.138Z"
      },
      {
        "duration": 6,
        "start_time": "2023-04-13T20:38:04.241Z"
      },
      {
        "duration": 14,
        "start_time": "2023-04-13T20:38:04.248Z"
      },
      {
        "duration": 1492,
        "start_time": "2023-04-13T20:38:04.264Z"
      },
      {
        "duration": 295,
        "start_time": "2023-04-13T20:38:05.758Z"
      },
      {
        "duration": 155,
        "start_time": "2023-04-13T20:38:06.054Z"
      },
      {
        "duration": 24,
        "start_time": "2023-04-13T20:38:06.211Z"
      },
      {
        "duration": 17,
        "start_time": "2023-04-13T20:38:06.236Z"
      },
      {
        "duration": 11,
        "start_time": "2023-04-13T20:38:06.254Z"
      },
      {
        "duration": 11,
        "start_time": "2023-04-13T20:38:06.266Z"
      },
      {
        "duration": 9,
        "start_time": "2023-04-13T20:38:06.281Z"
      },
      {
        "duration": 178,
        "start_time": "2023-04-13T20:38:06.291Z"
      },
      {
        "duration": 210,
        "start_time": "2023-04-13T20:38:06.471Z"
      },
      {
        "duration": 200,
        "start_time": "2023-04-13T20:38:06.682Z"
      },
      {
        "duration": 190,
        "start_time": "2023-04-13T20:38:06.884Z"
      },
      {
        "duration": 288,
        "start_time": "2023-04-13T20:38:07.076Z"
      },
      {
        "duration": 292,
        "start_time": "2023-04-13T20:38:07.366Z"
      },
      {
        "duration": 203,
        "start_time": "2023-04-13T20:38:07.660Z"
      },
      {
        "duration": 174,
        "start_time": "2023-04-13T20:38:07.865Z"
      },
      {
        "duration": 181,
        "start_time": "2023-04-13T20:38:08.041Z"
      },
      {
        "duration": 220,
        "start_time": "2023-04-13T20:38:08.224Z"
      },
      {
        "duration": 7,
        "start_time": "2023-04-13T20:38:08.446Z"
      },
      {
        "duration": 9,
        "start_time": "2023-04-13T20:38:08.454Z"
      },
      {
        "duration": 9,
        "start_time": "2023-04-13T20:38:08.464Z"
      },
      {
        "duration": 9,
        "start_time": "2023-04-13T20:38:08.475Z"
      },
      {
        "duration": 8,
        "start_time": "2023-04-13T20:38:08.485Z"
      },
      {
        "duration": 6,
        "start_time": "2023-04-13T20:38:49.601Z"
      },
      {
        "duration": 4,
        "start_time": "2023-04-13T20:39:24.839Z"
      },
      {
        "duration": 162,
        "start_time": "2023-04-13T20:40:11.239Z"
      },
      {
        "duration": 5,
        "start_time": "2023-04-13T20:40:19.481Z"
      },
      {
        "duration": 192,
        "start_time": "2023-04-13T20:40:22.683Z"
      },
      {
        "duration": 1177,
        "start_time": "2023-04-13T20:47:29.836Z"
      },
      {
        "duration": 70,
        "start_time": "2023-04-13T20:47:31.015Z"
      },
      {
        "duration": 26,
        "start_time": "2023-04-13T20:47:31.087Z"
      },
      {
        "duration": 43,
        "start_time": "2023-04-13T20:47:31.115Z"
      },
      {
        "duration": 46,
        "start_time": "2023-04-13T20:47:31.161Z"
      },
      {
        "duration": 33,
        "start_time": "2023-04-13T20:47:31.208Z"
      },
      {
        "duration": 35,
        "start_time": "2023-04-13T20:47:31.243Z"
      },
      {
        "duration": 255,
        "start_time": "2023-04-13T20:47:31.280Z"
      },
      {
        "duration": 5,
        "start_time": "2023-04-13T20:47:31.536Z"
      },
      {
        "duration": 15,
        "start_time": "2023-04-13T20:47:31.543Z"
      },
      {
        "duration": 18,
        "start_time": "2023-04-13T20:47:31.560Z"
      },
      {
        "duration": 31,
        "start_time": "2023-04-13T20:47:31.580Z"
      },
      {
        "duration": 38,
        "start_time": "2023-04-13T20:47:31.613Z"
      },
      {
        "duration": 6,
        "start_time": "2023-04-13T20:47:31.655Z"
      },
      {
        "duration": 27,
        "start_time": "2023-04-13T20:47:31.663Z"
      },
      {
        "duration": 221,
        "start_time": "2023-04-13T20:47:31.692Z"
      },
      {
        "duration": 29,
        "start_time": "2023-04-13T20:47:31.915Z"
      },
      {
        "duration": 1128,
        "start_time": "2023-04-13T20:47:31.947Z"
      },
      {
        "duration": 7,
        "start_time": "2023-04-13T20:47:33.077Z"
      },
      {
        "duration": 24,
        "start_time": "2023-04-13T20:47:33.085Z"
      },
      {
        "duration": 1426,
        "start_time": "2023-04-13T20:47:33.111Z"
      },
      {
        "duration": 296,
        "start_time": "2023-04-13T20:47:34.539Z"
      },
      {
        "duration": 141,
        "start_time": "2023-04-13T20:47:34.837Z"
      },
      {
        "duration": 10,
        "start_time": "2023-04-13T20:47:34.979Z"
      },
      {
        "duration": 11,
        "start_time": "2023-04-13T20:47:34.990Z"
      },
      {
        "duration": 42,
        "start_time": "2023-04-13T20:47:35.003Z"
      },
      {
        "duration": 19,
        "start_time": "2023-04-13T20:47:35.047Z"
      },
      {
        "duration": 21,
        "start_time": "2023-04-13T20:47:35.068Z"
      },
      {
        "duration": 197,
        "start_time": "2023-04-13T20:47:35.091Z"
      },
      {
        "duration": 192,
        "start_time": "2023-04-13T20:47:35.290Z"
      },
      {
        "duration": 210,
        "start_time": "2023-04-13T20:47:35.484Z"
      },
      {
        "duration": 188,
        "start_time": "2023-04-13T20:47:35.700Z"
      },
      {
        "duration": 232,
        "start_time": "2023-04-13T20:47:35.890Z"
      },
      {
        "duration": 223,
        "start_time": "2023-04-13T20:47:36.123Z"
      },
      {
        "duration": 236,
        "start_time": "2023-04-13T20:47:36.347Z"
      },
      {
        "duration": 210,
        "start_time": "2023-04-13T20:47:36.585Z"
      },
      {
        "duration": 250,
        "start_time": "2023-04-13T20:47:36.797Z"
      },
      {
        "duration": 187,
        "start_time": "2023-04-13T20:47:37.048Z"
      },
      {
        "duration": 8,
        "start_time": "2023-04-13T20:47:37.237Z"
      },
      {
        "duration": 14,
        "start_time": "2023-04-13T20:47:37.247Z"
      },
      {
        "duration": 32,
        "start_time": "2023-04-13T20:47:37.266Z"
      },
      {
        "duration": 13,
        "start_time": "2023-04-13T20:47:37.300Z"
      },
      {
        "duration": 12,
        "start_time": "2023-04-13T20:47:37.315Z"
      },
      {
        "duration": 11,
        "start_time": "2023-04-13T20:51:35.557Z"
      },
      {
        "duration": 1147,
        "start_time": "2023-04-13T20:57:30.442Z"
      },
      {
        "duration": 63,
        "start_time": "2023-04-13T20:57:31.591Z"
      },
      {
        "duration": 19,
        "start_time": "2023-04-13T20:57:31.655Z"
      },
      {
        "duration": 22,
        "start_time": "2023-04-13T20:57:31.676Z"
      },
      {
        "duration": 36,
        "start_time": "2023-04-13T20:57:31.700Z"
      },
      {
        "duration": 8,
        "start_time": "2023-04-13T20:57:31.738Z"
      },
      {
        "duration": 20,
        "start_time": "2023-04-13T20:57:31.748Z"
      },
      {
        "duration": 203,
        "start_time": "2023-04-13T20:57:31.770Z"
      },
      {
        "duration": 3,
        "start_time": "2023-04-13T20:57:31.975Z"
      },
      {
        "duration": 14,
        "start_time": "2023-04-13T20:57:31.980Z"
      },
      {
        "duration": 20,
        "start_time": "2023-04-13T20:57:31.995Z"
      },
      {
        "duration": 27,
        "start_time": "2023-04-13T20:57:32.016Z"
      },
      {
        "duration": 19,
        "start_time": "2023-04-13T20:57:32.045Z"
      },
      {
        "duration": 7,
        "start_time": "2023-04-13T20:57:32.065Z"
      },
      {
        "duration": 30,
        "start_time": "2023-04-13T20:57:32.074Z"
      },
      {
        "duration": 33,
        "start_time": "2023-04-13T20:57:32.105Z"
      },
      {
        "duration": 4,
        "start_time": "2023-04-13T20:57:32.140Z"
      },
      {
        "duration": 18,
        "start_time": "2023-04-13T20:57:32.145Z"
      },
      {
        "duration": 168,
        "start_time": "2023-04-13T20:57:32.164Z"
      },
      {
        "duration": 20,
        "start_time": "2023-04-13T20:57:32.333Z"
      },
      {
        "duration": 1082,
        "start_time": "2023-04-13T20:57:32.355Z"
      },
      {
        "duration": 6,
        "start_time": "2023-04-13T20:57:33.439Z"
      },
      {
        "duration": 14,
        "start_time": "2023-04-13T20:57:33.446Z"
      },
      {
        "duration": 1439,
        "start_time": "2023-04-13T20:57:33.461Z"
      },
      {
        "duration": 338,
        "start_time": "2023-04-13T20:57:34.901Z"
      },
      {
        "duration": 154,
        "start_time": "2023-04-13T20:57:35.240Z"
      },
      {
        "duration": 9,
        "start_time": "2023-04-13T20:57:35.396Z"
      },
      {
        "duration": 10,
        "start_time": "2023-04-13T20:57:35.430Z"
      },
      {
        "duration": 11,
        "start_time": "2023-04-13T20:57:35.441Z"
      },
      {
        "duration": 10,
        "start_time": "2023-04-13T20:57:35.453Z"
      },
      {
        "duration": 17,
        "start_time": "2023-04-13T20:57:35.464Z"
      },
      {
        "duration": 177,
        "start_time": "2023-04-13T20:57:35.482Z"
      },
      {
        "duration": 201,
        "start_time": "2023-04-13T20:57:35.661Z"
      },
      {
        "duration": 191,
        "start_time": "2023-04-13T20:57:35.864Z"
      },
      {
        "duration": 181,
        "start_time": "2023-04-13T20:57:36.056Z"
      },
      {
        "duration": 223,
        "start_time": "2023-04-13T20:57:36.239Z"
      },
      {
        "duration": 207,
        "start_time": "2023-04-13T20:57:36.463Z"
      },
      {
        "duration": 203,
        "start_time": "2023-04-13T20:57:36.671Z"
      },
      {
        "duration": 197,
        "start_time": "2023-04-13T20:57:36.876Z"
      },
      {
        "duration": 318,
        "start_time": "2023-04-13T20:57:37.075Z"
      },
      {
        "duration": 171,
        "start_time": "2023-04-13T20:57:37.395Z"
      },
      {
        "duration": 6,
        "start_time": "2023-04-13T20:57:37.568Z"
      },
      {
        "duration": 5,
        "start_time": "2023-04-13T20:57:37.575Z"
      },
      {
        "duration": 5,
        "start_time": "2023-04-13T20:57:37.581Z"
      },
      {
        "duration": 37,
        "start_time": "2023-04-13T20:57:37.588Z"
      },
      {
        "duration": 15,
        "start_time": "2023-04-13T20:57:37.626Z"
      },
      {
        "duration": 133,
        "start_time": "2023-04-13T21:02:44.419Z"
      },
      {
        "duration": 9,
        "start_time": "2023-04-13T21:03:11.876Z"
      },
      {
        "duration": 26,
        "start_time": "2023-04-13T21:04:41.209Z"
      },
      {
        "duration": 4,
        "start_time": "2023-04-13T21:04:55.239Z"
      },
      {
        "duration": 5,
        "start_time": "2023-04-13T21:05:43.655Z"
      },
      {
        "duration": 10,
        "start_time": "2023-04-13T21:06:22.558Z"
      },
      {
        "duration": 1207,
        "start_time": "2023-04-13T21:06:37.343Z"
      },
      {
        "duration": 49,
        "start_time": "2023-04-13T21:06:38.552Z"
      },
      {
        "duration": 27,
        "start_time": "2023-04-13T21:06:38.603Z"
      },
      {
        "duration": 15,
        "start_time": "2023-04-13T21:06:38.632Z"
      },
      {
        "duration": 37,
        "start_time": "2023-04-13T21:06:38.650Z"
      },
      {
        "duration": 12,
        "start_time": "2023-04-13T21:06:38.689Z"
      },
      {
        "duration": 12,
        "start_time": "2023-04-13T21:06:38.718Z"
      },
      {
        "duration": 225,
        "start_time": "2023-04-13T21:06:38.738Z"
      },
      {
        "duration": 4,
        "start_time": "2023-04-13T21:06:38.965Z"
      },
      {
        "duration": 6,
        "start_time": "2023-04-13T21:06:38.971Z"
      },
      {
        "duration": 8,
        "start_time": "2023-04-13T21:06:38.979Z"
      },
      {
        "duration": 41,
        "start_time": "2023-04-13T21:06:38.989Z"
      },
      {
        "duration": 20,
        "start_time": "2023-04-13T21:06:39.032Z"
      },
      {
        "duration": 35,
        "start_time": "2023-04-13T21:06:39.056Z"
      },
      {
        "duration": 41,
        "start_time": "2023-04-13T21:06:39.094Z"
      },
      {
        "duration": 26,
        "start_time": "2023-04-13T21:06:39.137Z"
      },
      {
        "duration": 6,
        "start_time": "2023-04-13T21:06:39.164Z"
      },
      {
        "duration": 21,
        "start_time": "2023-04-13T21:06:39.172Z"
      },
      {
        "duration": 215,
        "start_time": "2023-04-13T21:06:39.195Z"
      },
      {
        "duration": 27,
        "start_time": "2023-04-13T21:06:39.417Z"
      },
      {
        "duration": 1203,
        "start_time": "2023-04-13T21:06:39.446Z"
      },
      {
        "duration": 7,
        "start_time": "2023-04-13T21:06:40.651Z"
      },
      {
        "duration": 18,
        "start_time": "2023-04-13T21:06:40.660Z"
      },
      {
        "duration": 1770,
        "start_time": "2023-04-13T21:06:40.681Z"
      },
      {
        "duration": 377,
        "start_time": "2023-04-13T21:06:42.453Z"
      },
      {
        "duration": 146,
        "start_time": "2023-04-13T21:06:42.839Z"
      },
      {
        "duration": 10,
        "start_time": "2023-04-13T21:06:42.987Z"
      },
      {
        "duration": 26,
        "start_time": "2023-04-13T21:06:42.999Z"
      },
      {
        "duration": 10,
        "start_time": "2023-04-13T21:06:43.035Z"
      },
      {
        "duration": 10,
        "start_time": "2023-04-13T21:06:43.047Z"
      },
      {
        "duration": 8,
        "start_time": "2023-04-13T21:06:43.059Z"
      },
      {
        "duration": 232,
        "start_time": "2023-04-13T21:06:43.069Z"
      },
      {
        "duration": 205,
        "start_time": "2023-04-13T21:06:43.303Z"
      },
      {
        "duration": 209,
        "start_time": "2023-04-13T21:06:43.510Z"
      },
      {
        "duration": 183,
        "start_time": "2023-04-13T21:06:43.720Z"
      },
      {
        "duration": 222,
        "start_time": "2023-04-13T21:06:43.905Z"
      },
      {
        "duration": 218,
        "start_time": "2023-04-13T21:06:44.128Z"
      },
      {
        "duration": 215,
        "start_time": "2023-04-13T21:06:44.348Z"
      },
      {
        "duration": 201,
        "start_time": "2023-04-13T21:06:44.565Z"
      },
      {
        "duration": 277,
        "start_time": "2023-04-13T21:06:44.768Z"
      },
      {
        "duration": 188,
        "start_time": "2023-04-13T21:06:45.049Z"
      },
      {
        "duration": 8,
        "start_time": "2023-04-13T21:06:45.239Z"
      },
      {
        "duration": 10,
        "start_time": "2023-04-13T21:06:45.249Z"
      },
      {
        "duration": 12,
        "start_time": "2023-04-13T21:06:45.260Z"
      },
      {
        "duration": 8,
        "start_time": "2023-04-13T21:06:45.275Z"
      },
      {
        "duration": 6,
        "start_time": "2023-04-13T21:06:45.285Z"
      },
      {
        "duration": 15,
        "start_time": "2023-04-13T21:12:45.229Z"
      },
      {
        "duration": 19,
        "start_time": "2023-04-13T21:12:48.311Z"
      },
      {
        "duration": 17,
        "start_time": "2023-04-13T21:12:55.133Z"
      },
      {
        "duration": 1188,
        "start_time": "2023-04-13T21:13:20.753Z"
      },
      {
        "duration": 49,
        "start_time": "2023-04-13T21:13:21.943Z"
      },
      {
        "duration": 21,
        "start_time": "2023-04-13T21:13:21.993Z"
      },
      {
        "duration": 21,
        "start_time": "2023-04-13T21:13:22.015Z"
      },
      {
        "duration": 25,
        "start_time": "2023-04-13T21:13:22.038Z"
      },
      {
        "duration": 8,
        "start_time": "2023-04-13T21:13:22.064Z"
      },
      {
        "duration": 4,
        "start_time": "2023-04-13T21:13:22.074Z"
      },
      {
        "duration": 204,
        "start_time": "2023-04-13T21:13:22.080Z"
      },
      {
        "duration": 3,
        "start_time": "2023-04-13T21:13:22.286Z"
      },
      {
        "duration": 9,
        "start_time": "2023-04-13T21:13:22.291Z"
      },
      {
        "duration": 30,
        "start_time": "2023-04-13T21:13:22.301Z"
      },
      {
        "duration": 26,
        "start_time": "2023-04-13T21:13:22.332Z"
      },
      {
        "duration": 12,
        "start_time": "2023-04-13T21:13:22.360Z"
      },
      {
        "duration": 23,
        "start_time": "2023-04-13T21:13:22.375Z"
      },
      {
        "duration": 27,
        "start_time": "2023-04-13T21:13:22.400Z"
      },
      {
        "duration": 21,
        "start_time": "2023-04-13T21:13:22.428Z"
      },
      {
        "duration": 4,
        "start_time": "2023-04-13T21:13:22.450Z"
      },
      {
        "duration": 12,
        "start_time": "2023-04-13T21:13:22.456Z"
      },
      {
        "duration": 193,
        "start_time": "2023-04-13T21:13:22.469Z"
      },
      {
        "duration": 15,
        "start_time": "2023-04-13T21:13:22.664Z"
      },
      {
        "duration": 1061,
        "start_time": "2023-04-13T21:13:22.680Z"
      },
      {
        "duration": 6,
        "start_time": "2023-04-13T21:13:23.742Z"
      },
      {
        "duration": 16,
        "start_time": "2023-04-13T21:13:23.750Z"
      },
      {
        "duration": 1393,
        "start_time": "2023-04-13T21:13:23.767Z"
      },
      {
        "duration": 286,
        "start_time": "2023-04-13T21:13:25.162Z"
      },
      {
        "duration": 180,
        "start_time": "2023-04-13T21:13:25.450Z"
      },
      {
        "duration": 12,
        "start_time": "2023-04-13T21:13:25.631Z"
      },
      {
        "duration": 10,
        "start_time": "2023-04-13T21:13:25.645Z"
      },
      {
        "duration": 13,
        "start_time": "2023-04-13T21:13:25.657Z"
      },
      {
        "duration": 15,
        "start_time": "2023-04-13T21:13:25.671Z"
      },
      {
        "duration": 10,
        "start_time": "2023-04-13T21:13:25.688Z"
      },
      {
        "duration": 165,
        "start_time": "2023-04-13T21:13:25.717Z"
      },
      {
        "duration": 209,
        "start_time": "2023-04-13T21:13:25.884Z"
      },
      {
        "duration": 208,
        "start_time": "2023-04-13T21:13:26.095Z"
      },
      {
        "duration": 206,
        "start_time": "2023-04-13T21:13:26.304Z"
      },
      {
        "duration": 275,
        "start_time": "2023-04-13T21:13:26.512Z"
      },
      {
        "duration": 248,
        "start_time": "2023-04-13T21:13:26.789Z"
      },
      {
        "duration": 198,
        "start_time": "2023-04-13T21:13:27.040Z"
      },
      {
        "duration": 162,
        "start_time": "2023-04-13T21:13:27.240Z"
      },
      {
        "duration": 318,
        "start_time": "2023-04-13T21:13:27.404Z"
      },
      {
        "duration": 170,
        "start_time": "2023-04-13T21:13:27.727Z"
      },
      {
        "duration": 6,
        "start_time": "2023-04-13T21:13:27.899Z"
      },
      {
        "duration": 16,
        "start_time": "2023-04-13T21:13:27.906Z"
      },
      {
        "duration": 13,
        "start_time": "2023-04-13T21:13:27.923Z"
      },
      {
        "duration": 5,
        "start_time": "2023-04-13T21:13:27.938Z"
      },
      {
        "duration": 5,
        "start_time": "2023-04-13T21:13:27.945Z"
      },
      {
        "duration": 113,
        "start_time": "2023-04-13T21:19:01.697Z"
      },
      {
        "duration": 4,
        "start_time": "2023-04-13T21:19:17.432Z"
      },
      {
        "duration": 11,
        "start_time": "2023-04-13T21:19:27.612Z"
      },
      {
        "duration": 1140,
        "start_time": "2023-04-13T21:19:37.507Z"
      },
      {
        "duration": 48,
        "start_time": "2023-04-13T21:19:38.649Z"
      },
      {
        "duration": 36,
        "start_time": "2023-04-13T21:19:38.699Z"
      },
      {
        "duration": 13,
        "start_time": "2023-04-13T21:19:38.737Z"
      },
      {
        "duration": 26,
        "start_time": "2023-04-13T21:19:38.751Z"
      },
      {
        "duration": 8,
        "start_time": "2023-04-13T21:19:38.779Z"
      },
      {
        "duration": 5,
        "start_time": "2023-04-13T21:19:38.788Z"
      },
      {
        "duration": 207,
        "start_time": "2023-04-13T21:19:38.795Z"
      },
      {
        "duration": 4,
        "start_time": "2023-04-13T21:19:39.004Z"
      },
      {
        "duration": 13,
        "start_time": "2023-04-13T21:19:39.018Z"
      },
      {
        "duration": 10,
        "start_time": "2023-04-13T21:19:39.033Z"
      },
      {
        "duration": 14,
        "start_time": "2023-04-13T21:19:39.044Z"
      },
      {
        "duration": 13,
        "start_time": "2023-04-13T21:19:39.060Z"
      },
      {
        "duration": 13,
        "start_time": "2023-04-13T21:19:39.075Z"
      },
      {
        "duration": 43,
        "start_time": "2023-04-13T21:19:39.089Z"
      },
      {
        "duration": 6,
        "start_time": "2023-04-13T21:19:39.134Z"
      },
      {
        "duration": 5,
        "start_time": "2023-04-13T21:19:39.141Z"
      },
      {
        "duration": 13,
        "start_time": "2023-04-13T21:19:39.147Z"
      },
      {
        "duration": 185,
        "start_time": "2023-04-13T21:19:39.161Z"
      },
      {
        "duration": 17,
        "start_time": "2023-04-13T21:19:39.348Z"
      },
      {
        "duration": 1086,
        "start_time": "2023-04-13T21:19:39.367Z"
      },
      {
        "duration": 7,
        "start_time": "2023-04-13T21:19:40.456Z"
      },
      {
        "duration": 17,
        "start_time": "2023-04-13T21:19:40.464Z"
      },
      {
        "duration": 1369,
        "start_time": "2023-04-13T21:19:40.483Z"
      },
      {
        "duration": 284,
        "start_time": "2023-04-13T21:19:41.853Z"
      },
      {
        "duration": 148,
        "start_time": "2023-04-13T21:19:42.138Z"
      },
      {
        "duration": 9,
        "start_time": "2023-04-13T21:19:42.288Z"
      },
      {
        "duration": 32,
        "start_time": "2023-04-13T21:19:42.300Z"
      },
      {
        "duration": 9,
        "start_time": "2023-04-13T21:19:42.335Z"
      },
      {
        "duration": 10,
        "start_time": "2023-04-13T21:19:42.346Z"
      },
      {
        "duration": 10,
        "start_time": "2023-04-13T21:19:42.358Z"
      },
      {
        "duration": 192,
        "start_time": "2023-04-13T21:19:42.370Z"
      },
      {
        "duration": 195,
        "start_time": "2023-04-13T21:19:42.564Z"
      },
      {
        "duration": 194,
        "start_time": "2023-04-13T21:19:42.761Z"
      },
      {
        "duration": 179,
        "start_time": "2023-04-13T21:19:42.957Z"
      },
      {
        "duration": 206,
        "start_time": "2023-04-13T21:19:43.138Z"
      },
      {
        "duration": 209,
        "start_time": "2023-04-13T21:19:43.345Z"
      },
      {
        "duration": 216,
        "start_time": "2023-04-13T21:19:43.555Z"
      },
      {
        "duration": 159,
        "start_time": "2023-04-13T21:19:43.772Z"
      },
      {
        "duration": 219,
        "start_time": "2023-04-13T21:19:43.933Z"
      },
      {
        "duration": 155,
        "start_time": "2023-04-13T21:19:44.153Z"
      },
      {
        "duration": 12,
        "start_time": "2023-04-13T21:19:44.310Z"
      },
      {
        "duration": 10,
        "start_time": "2023-04-13T21:19:44.324Z"
      },
      {
        "duration": 4,
        "start_time": "2023-04-13T21:19:44.336Z"
      },
      {
        "duration": 6,
        "start_time": "2023-04-13T21:19:44.341Z"
      },
      {
        "duration": 5,
        "start_time": "2023-04-13T21:19:44.348Z"
      },
      {
        "duration": 122,
        "start_time": "2023-04-13T21:31:23.032Z"
      },
      {
        "duration": 15,
        "start_time": "2023-04-13T21:31:35.787Z"
      },
      {
        "duration": 6,
        "start_time": "2023-04-13T21:33:01.676Z"
      },
      {
        "duration": 6,
        "start_time": "2023-04-13T21:33:30.232Z"
      },
      {
        "duration": 6,
        "start_time": "2023-04-13T21:34:47.233Z"
      },
      {
        "duration": 9,
        "start_time": "2023-04-13T21:37:30.441Z"
      },
      {
        "duration": 7,
        "start_time": "2023-04-13T21:39:28.657Z"
      },
      {
        "duration": 17,
        "start_time": "2023-04-13T21:44:43.466Z"
      },
      {
        "duration": 6,
        "start_time": "2023-04-13T21:45:14.235Z"
      },
      {
        "duration": 1121,
        "start_time": "2023-04-13T21:45:21.888Z"
      },
      {
        "duration": 58,
        "start_time": "2023-04-13T21:45:23.011Z"
      },
      {
        "duration": 21,
        "start_time": "2023-04-13T21:45:23.071Z"
      },
      {
        "duration": 19,
        "start_time": "2023-04-13T21:45:23.095Z"
      },
      {
        "duration": 29,
        "start_time": "2023-04-13T21:45:23.115Z"
      },
      {
        "duration": 8,
        "start_time": "2023-04-13T21:45:23.146Z"
      },
      {
        "duration": 9,
        "start_time": "2023-04-13T21:45:23.156Z"
      },
      {
        "duration": 211,
        "start_time": "2023-04-13T21:45:23.166Z"
      },
      {
        "duration": 3,
        "start_time": "2023-04-13T21:45:23.378Z"
      },
      {
        "duration": 8,
        "start_time": "2023-04-13T21:45:23.384Z"
      },
      {
        "duration": 7,
        "start_time": "2023-04-13T21:45:23.393Z"
      },
      {
        "duration": 35,
        "start_time": "2023-04-13T21:45:23.401Z"
      },
      {
        "duration": 18,
        "start_time": "2023-04-13T21:45:23.438Z"
      },
      {
        "duration": 12,
        "start_time": "2023-04-13T21:45:23.458Z"
      },
      {
        "duration": 17,
        "start_time": "2023-04-13T21:45:23.472Z"
      },
      {
        "duration": 11,
        "start_time": "2023-04-13T21:45:23.519Z"
      },
      {
        "duration": 8,
        "start_time": "2023-04-13T21:45:23.532Z"
      },
      {
        "duration": 11,
        "start_time": "2023-04-13T21:45:23.541Z"
      },
      {
        "duration": 14,
        "start_time": "2023-04-13T21:45:23.553Z"
      },
      {
        "duration": 14,
        "start_time": "2023-04-13T21:45:23.568Z"
      },
      {
        "duration": 4,
        "start_time": "2023-04-13T21:45:23.584Z"
      },
      {
        "duration": 36,
        "start_time": "2023-04-13T21:45:23.590Z"
      },
      {
        "duration": 6,
        "start_time": "2023-04-13T21:45:23.634Z"
      },
      {
        "duration": 165,
        "start_time": "2023-04-13T21:45:23.642Z"
      },
      {
        "duration": 26,
        "start_time": "2023-04-13T21:45:23.809Z"
      },
      {
        "duration": 1064,
        "start_time": "2023-04-13T21:45:23.837Z"
      },
      {
        "duration": 5,
        "start_time": "2023-04-13T21:45:24.903Z"
      },
      {
        "duration": 13,
        "start_time": "2023-04-13T21:45:24.934Z"
      },
      {
        "duration": 1423,
        "start_time": "2023-04-13T21:45:24.948Z"
      },
      {
        "duration": 362,
        "start_time": "2023-04-13T21:45:26.372Z"
      },
      {
        "duration": 167,
        "start_time": "2023-04-13T21:45:26.736Z"
      },
      {
        "duration": 27,
        "start_time": "2023-04-13T21:45:26.904Z"
      },
      {
        "duration": 9,
        "start_time": "2023-04-13T21:45:26.933Z"
      },
      {
        "duration": 10,
        "start_time": "2023-04-13T21:45:26.943Z"
      },
      {
        "duration": 8,
        "start_time": "2023-04-13T21:45:26.954Z"
      },
      {
        "duration": 10,
        "start_time": "2023-04-13T21:45:26.963Z"
      },
      {
        "duration": 181,
        "start_time": "2023-04-13T21:45:26.974Z"
      },
      {
        "duration": 210,
        "start_time": "2023-04-13T21:45:27.156Z"
      },
      {
        "duration": 213,
        "start_time": "2023-04-13T21:45:27.368Z"
      },
      {
        "duration": 185,
        "start_time": "2023-04-13T21:45:27.583Z"
      },
      {
        "duration": 218,
        "start_time": "2023-04-13T21:45:27.770Z"
      },
      {
        "duration": 211,
        "start_time": "2023-04-13T21:45:27.990Z"
      },
      {
        "duration": 211,
        "start_time": "2023-04-13T21:45:28.202Z"
      },
      {
        "duration": 139,
        "start_time": "2023-04-13T21:45:28.422Z"
      },
      {
        "duration": 231,
        "start_time": "2023-04-13T21:45:28.563Z"
      },
      {
        "duration": 168,
        "start_time": "2023-04-13T21:45:28.796Z"
      },
      {
        "duration": 5,
        "start_time": "2023-04-13T21:45:28.966Z"
      },
      {
        "duration": 10,
        "start_time": "2023-04-13T21:45:28.972Z"
      },
      {
        "duration": 9,
        "start_time": "2023-04-13T21:45:28.984Z"
      },
      {
        "duration": 27,
        "start_time": "2023-04-13T21:45:28.995Z"
      },
      {
        "duration": 6,
        "start_time": "2023-04-13T21:45:29.031Z"
      },
      {
        "duration": 15,
        "start_time": "2023-04-13T21:45:49.233Z"
      },
      {
        "duration": 29,
        "start_time": "2023-04-13T21:46:00.604Z"
      },
      {
        "duration": 6,
        "start_time": "2023-04-13T21:48:14.130Z"
      },
      {
        "duration": 159,
        "start_time": "2023-04-13T21:48:26.301Z"
      },
      {
        "duration": 127,
        "start_time": "2023-04-13T21:48:31.754Z"
      },
      {
        "duration": 193,
        "start_time": "2023-04-13T21:54:19.129Z"
      },
      {
        "duration": 219,
        "start_time": "2023-04-13T21:55:41.333Z"
      },
      {
        "duration": 210,
        "start_time": "2023-04-13T21:55:59.767Z"
      },
      {
        "duration": 285,
        "start_time": "2023-04-13T21:56:19.210Z"
      },
      {
        "duration": 377,
        "start_time": "2023-04-13T21:58:19.537Z"
      },
      {
        "duration": 379,
        "start_time": "2023-04-13T21:59:00.275Z"
      },
      {
        "duration": 293,
        "start_time": "2023-04-13T22:00:22.593Z"
      },
      {
        "duration": 280,
        "start_time": "2023-04-13T22:01:06.233Z"
      },
      {
        "duration": 307,
        "start_time": "2023-04-13T22:01:34.432Z"
      },
      {
        "duration": 270,
        "start_time": "2023-04-13T22:03:23.133Z"
      },
      {
        "duration": 381,
        "start_time": "2023-04-13T22:03:38.666Z"
      },
      {
        "duration": 281,
        "start_time": "2023-04-13T22:03:51.956Z"
      },
      {
        "duration": 289,
        "start_time": "2023-04-13T22:04:00.451Z"
      },
      {
        "duration": 330,
        "start_time": "2023-04-13T22:04:46.677Z"
      },
      {
        "duration": 16,
        "start_time": "2023-04-13T22:06:15.783Z"
      },
      {
        "duration": 6,
        "start_time": "2023-04-13T22:23:41.893Z"
      },
      {
        "duration": 1116,
        "start_time": "2023-04-13T22:23:48.353Z"
      },
      {
        "duration": 60,
        "start_time": "2023-04-13T22:23:49.471Z"
      },
      {
        "duration": 24,
        "start_time": "2023-04-13T22:23:49.533Z"
      },
      {
        "duration": 15,
        "start_time": "2023-04-13T22:23:49.559Z"
      },
      {
        "duration": 29,
        "start_time": "2023-04-13T22:23:49.576Z"
      },
      {
        "duration": 29,
        "start_time": "2023-04-13T22:23:49.607Z"
      },
      {
        "duration": 4,
        "start_time": "2023-04-13T22:23:49.638Z"
      },
      {
        "duration": 199,
        "start_time": "2023-04-13T22:23:49.644Z"
      },
      {
        "duration": 3,
        "start_time": "2023-04-13T22:23:49.844Z"
      },
      {
        "duration": 14,
        "start_time": "2023-04-13T22:23:49.849Z"
      },
      {
        "duration": 10,
        "start_time": "2023-04-13T22:23:49.864Z"
      },
      {
        "duration": 15,
        "start_time": "2023-04-13T22:23:49.875Z"
      },
      {
        "duration": 12,
        "start_time": "2023-04-13T22:23:49.891Z"
      },
      {
        "duration": 26,
        "start_time": "2023-04-13T22:23:49.905Z"
      },
      {
        "duration": 23,
        "start_time": "2023-04-13T22:23:49.932Z"
      },
      {
        "duration": 5,
        "start_time": "2023-04-13T22:23:49.956Z"
      },
      {
        "duration": 6,
        "start_time": "2023-04-13T22:23:49.963Z"
      },
      {
        "duration": 9,
        "start_time": "2023-04-13T22:23:49.970Z"
      },
      {
        "duration": 20,
        "start_time": "2023-04-13T22:23:49.980Z"
      },
      {
        "duration": 33,
        "start_time": "2023-04-13T22:23:50.001Z"
      },
      {
        "duration": 6,
        "start_time": "2023-04-13T22:23:50.036Z"
      },
      {
        "duration": 27,
        "start_time": "2023-04-13T22:23:50.043Z"
      },
      {
        "duration": 317,
        "start_time": "2023-04-13T22:23:50.072Z"
      },
      {
        "duration": 15,
        "start_time": "2023-04-13T22:23:50.390Z"
      },
      {
        "duration": 1063,
        "start_time": "2023-04-13T22:23:50.406Z"
      },
      {
        "duration": 6,
        "start_time": "2023-04-13T22:23:51.471Z"
      },
      {
        "duration": 21,
        "start_time": "2023-04-13T22:23:51.479Z"
      },
      {
        "duration": 1169,
        "start_time": "2023-04-13T22:23:51.505Z"
      },
      {
        "duration": 271,
        "start_time": "2023-04-13T22:23:52.675Z"
      },
      {
        "duration": 145,
        "start_time": "2023-04-13T22:23:52.947Z"
      },
      {
        "duration": 9,
        "start_time": "2023-04-13T22:23:53.094Z"
      },
      {
        "duration": 27,
        "start_time": "2023-04-13T22:23:53.104Z"
      },
      {
        "duration": 9,
        "start_time": "2023-04-13T22:23:53.133Z"
      },
      {
        "duration": 14,
        "start_time": "2023-04-13T22:23:53.144Z"
      },
      {
        "duration": 18,
        "start_time": "2023-04-13T22:23:53.159Z"
      },
      {
        "duration": 179,
        "start_time": "2023-04-13T22:23:53.179Z"
      },
      {
        "duration": 173,
        "start_time": "2023-04-13T22:23:53.360Z"
      },
      {
        "duration": 199,
        "start_time": "2023-04-13T22:23:53.535Z"
      },
      {
        "duration": 171,
        "start_time": "2023-04-13T22:23:53.736Z"
      },
      {
        "duration": 235,
        "start_time": "2023-04-13T22:23:53.909Z"
      },
      {
        "duration": 202,
        "start_time": "2023-04-13T22:23:54.145Z"
      },
      {
        "duration": 202,
        "start_time": "2023-04-13T22:23:54.349Z"
      },
      {
        "duration": 157,
        "start_time": "2023-04-13T22:23:54.552Z"
      },
      {
        "duration": 164,
        "start_time": "2023-04-13T22:23:54.716Z"
      },
      {
        "duration": 155,
        "start_time": "2023-04-13T22:23:54.882Z"
      },
      {
        "duration": 7,
        "start_time": "2023-04-13T22:23:55.038Z"
      },
      {
        "duration": 25,
        "start_time": "2023-04-13T22:23:55.047Z"
      },
      {
        "duration": 26,
        "start_time": "2023-04-13T22:23:55.073Z"
      },
      {
        "duration": 31,
        "start_time": "2023-04-13T22:23:55.101Z"
      },
      {
        "duration": 5,
        "start_time": "2023-04-13T22:23:55.133Z"
      },
      {
        "duration": 279,
        "start_time": "2023-04-13T22:29:14.852Z"
      },
      {
        "duration": 260,
        "start_time": "2023-04-13T22:30:45.052Z"
      },
      {
        "duration": 242,
        "start_time": "2023-04-13T22:31:05.237Z"
      },
      {
        "duration": 229,
        "start_time": "2023-04-13T22:39:30.149Z"
      },
      {
        "duration": 291,
        "start_time": "2023-04-13T22:39:56.056Z"
      },
      {
        "duration": 367,
        "start_time": "2023-04-13T22:40:08.074Z"
      },
      {
        "duration": 279,
        "start_time": "2023-04-13T22:40:18.275Z"
      },
      {
        "duration": 299,
        "start_time": "2023-04-13T22:41:15.096Z"
      },
      {
        "duration": 247,
        "start_time": "2023-04-13T22:41:21.787Z"
      },
      {
        "duration": 273,
        "start_time": "2023-04-13T22:41:28.152Z"
      },
      {
        "duration": 301,
        "start_time": "2023-04-13T22:42:07.750Z"
      },
      {
        "duration": 294,
        "start_time": "2023-04-13T22:42:21.752Z"
      },
      {
        "duration": 77,
        "start_time": "2023-04-13T22:51:15.289Z"
      },
      {
        "duration": 97,
        "start_time": "2023-04-13T22:51:23.857Z"
      },
      {
        "duration": 468,
        "start_time": "2023-04-13T22:57:55.212Z"
      },
      {
        "duration": 357,
        "start_time": "2023-04-13T22:59:32.512Z"
      },
      {
        "duration": 392,
        "start_time": "2023-04-13T23:07:33.112Z"
      },
      {
        "duration": 304,
        "start_time": "2023-04-13T23:07:57.312Z"
      },
      {
        "duration": 386,
        "start_time": "2023-04-13T23:08:30.183Z"
      },
      {
        "duration": 359,
        "start_time": "2023-04-13T23:43:14.349Z"
      },
      {
        "duration": 344,
        "start_time": "2023-04-13T23:43:36.046Z"
      },
      {
        "duration": 1188,
        "start_time": "2023-04-14T12:38:14.869Z"
      },
      {
        "duration": 65,
        "start_time": "2023-04-14T12:38:16.059Z"
      },
      {
        "duration": 22,
        "start_time": "2023-04-14T12:38:16.125Z"
      },
      {
        "duration": 23,
        "start_time": "2023-04-14T12:38:16.159Z"
      },
      {
        "duration": 32,
        "start_time": "2023-04-14T12:38:16.185Z"
      },
      {
        "duration": 13,
        "start_time": "2023-04-14T12:38:16.219Z"
      },
      {
        "duration": 33,
        "start_time": "2023-04-14T12:38:16.234Z"
      },
      {
        "duration": 269,
        "start_time": "2023-04-14T12:38:16.270Z"
      },
      {
        "duration": 16,
        "start_time": "2023-04-14T12:38:16.541Z"
      },
      {
        "duration": 9,
        "start_time": "2023-04-14T12:38:16.575Z"
      },
      {
        "duration": 9,
        "start_time": "2023-04-14T12:38:16.586Z"
      },
      {
        "duration": 24,
        "start_time": "2023-04-14T12:38:16.597Z"
      },
      {
        "duration": 19,
        "start_time": "2023-04-14T12:38:16.623Z"
      },
      {
        "duration": 27,
        "start_time": "2023-04-14T12:38:16.656Z"
      },
      {
        "duration": 20,
        "start_time": "2023-04-14T12:38:16.685Z"
      },
      {
        "duration": 11,
        "start_time": "2023-04-14T12:38:16.707Z"
      },
      {
        "duration": 7,
        "start_time": "2023-04-14T12:38:16.720Z"
      },
      {
        "duration": 5,
        "start_time": "2023-04-14T12:38:16.731Z"
      },
      {
        "duration": 37,
        "start_time": "2023-04-14T12:38:16.738Z"
      },
      {
        "duration": 23,
        "start_time": "2023-04-14T12:38:16.781Z"
      },
      {
        "duration": 8,
        "start_time": "2023-04-14T12:38:16.806Z"
      },
      {
        "duration": 9,
        "start_time": "2023-04-14T12:38:16.815Z"
      },
      {
        "duration": 394,
        "start_time": "2023-04-14T12:38:16.826Z"
      },
      {
        "duration": 16,
        "start_time": "2023-04-14T12:38:17.222Z"
      },
      {
        "duration": 1301,
        "start_time": "2023-04-14T12:38:17.239Z"
      },
      {
        "duration": 13,
        "start_time": "2023-04-14T12:38:18.541Z"
      },
      {
        "duration": 58,
        "start_time": "2023-04-14T12:38:18.556Z"
      },
      {
        "duration": 1550,
        "start_time": "2023-04-14T12:38:18.615Z"
      },
      {
        "duration": 280,
        "start_time": "2023-04-14T12:38:20.167Z"
      },
      {
        "duration": 258,
        "start_time": "2023-04-14T12:38:20.448Z"
      },
      {
        "duration": 188,
        "start_time": "2023-04-14T12:38:20.708Z"
      },
      {
        "duration": 12,
        "start_time": "2023-04-14T12:38:20.898Z"
      },
      {
        "duration": 74,
        "start_time": "2023-04-14T12:38:20.912Z"
      },
      {
        "duration": 22,
        "start_time": "2023-04-14T12:38:20.988Z"
      },
      {
        "duration": 46,
        "start_time": "2023-04-14T12:38:21.013Z"
      },
      {
        "duration": 39,
        "start_time": "2023-04-14T12:38:21.060Z"
      },
      {
        "duration": 238,
        "start_time": "2023-04-14T12:38:21.101Z"
      },
      {
        "duration": 351,
        "start_time": "2023-04-14T12:38:21.340Z"
      },
      {
        "duration": 348,
        "start_time": "2023-04-14T12:38:21.694Z"
      },
      {
        "duration": 264,
        "start_time": "2023-04-14T12:38:22.044Z"
      },
      {
        "duration": 232,
        "start_time": "2023-04-14T12:38:22.314Z"
      },
      {
        "duration": 321,
        "start_time": "2023-04-14T12:38:22.551Z"
      },
      {
        "duration": 239,
        "start_time": "2023-04-14T12:38:22.874Z"
      },
      {
        "duration": 285,
        "start_time": "2023-04-14T12:38:23.115Z"
      },
      {
        "duration": 472,
        "start_time": "2023-04-14T12:38:23.403Z"
      },
      {
        "duration": 623,
        "start_time": "2023-04-14T12:38:23.877Z"
      },
      {
        "duration": 780,
        "start_time": "2023-04-14T12:38:24.503Z"
      },
      {
        "duration": 292,
        "start_time": "2023-04-14T12:38:25.285Z"
      },
      {
        "duration": 487,
        "start_time": "2023-04-14T12:38:25.579Z"
      },
      {
        "duration": 522,
        "start_time": "2023-04-14T12:38:26.070Z"
      },
      {
        "duration": 21,
        "start_time": "2023-04-14T12:38:26.655Z"
      },
      {
        "duration": 20,
        "start_time": "2023-04-14T12:38:26.678Z"
      },
      {
        "duration": 59,
        "start_time": "2023-04-14T12:38:26.700Z"
      },
      {
        "duration": 8,
        "start_time": "2023-04-14T12:38:26.776Z"
      },
      {
        "duration": 10,
        "start_time": "2023-04-14T12:38:26.786Z"
      },
      {
        "duration": 1261,
        "start_time": "2023-04-14T14:17:22.043Z"
      },
      {
        "duration": 60,
        "start_time": "2023-04-14T14:17:23.306Z"
      },
      {
        "duration": 21,
        "start_time": "2023-04-14T14:17:23.368Z"
      },
      {
        "duration": 15,
        "start_time": "2023-04-14T14:17:23.390Z"
      },
      {
        "duration": 28,
        "start_time": "2023-04-14T14:17:23.408Z"
      },
      {
        "duration": 13,
        "start_time": "2023-04-14T14:17:23.452Z"
      },
      {
        "duration": 18,
        "start_time": "2023-04-14T14:17:23.467Z"
      },
      {
        "duration": 220,
        "start_time": "2023-04-14T14:17:23.487Z"
      },
      {
        "duration": 4,
        "start_time": "2023-04-14T14:17:23.708Z"
      },
      {
        "duration": 11,
        "start_time": "2023-04-14T14:17:23.713Z"
      },
      {
        "duration": 11,
        "start_time": "2023-04-14T14:17:23.725Z"
      },
      {
        "duration": 36,
        "start_time": "2023-04-14T14:17:23.737Z"
      },
      {
        "duration": 14,
        "start_time": "2023-04-14T14:17:23.775Z"
      },
      {
        "duration": 12,
        "start_time": "2023-04-14T14:17:23.793Z"
      },
      {
        "duration": 19,
        "start_time": "2023-04-14T14:17:23.808Z"
      },
      {
        "duration": 31,
        "start_time": "2023-04-14T14:17:23.829Z"
      },
      {
        "duration": 6,
        "start_time": "2023-04-14T14:17:23.862Z"
      },
      {
        "duration": 11,
        "start_time": "2023-04-14T14:17:23.869Z"
      },
      {
        "duration": 19,
        "start_time": "2023-04-14T14:17:23.881Z"
      },
      {
        "duration": 14,
        "start_time": "2023-04-14T14:17:23.902Z"
      },
      {
        "duration": 5,
        "start_time": "2023-04-14T14:17:23.918Z"
      },
      {
        "duration": 7,
        "start_time": "2023-04-14T14:17:23.924Z"
      },
      {
        "duration": 341,
        "start_time": "2023-04-14T14:17:23.932Z"
      },
      {
        "duration": 15,
        "start_time": "2023-04-14T14:17:24.275Z"
      },
      {
        "duration": 1513,
        "start_time": "2023-04-14T14:17:24.292Z"
      },
      {
        "duration": 11,
        "start_time": "2023-04-14T14:17:25.858Z"
      },
      {
        "duration": 88,
        "start_time": "2023-04-14T14:17:25.871Z"
      },
      {
        "duration": 1904,
        "start_time": "2023-04-14T14:17:25.961Z"
      },
      {
        "duration": 708,
        "start_time": "2023-04-14T14:17:27.868Z"
      },
      {
        "duration": 683,
        "start_time": "2023-04-14T14:17:28.578Z"
      },
      {
        "duration": 252,
        "start_time": "2023-04-14T14:17:29.264Z"
      },
      {
        "duration": 9,
        "start_time": "2023-04-14T14:17:29.518Z"
      },
      {
        "duration": 44,
        "start_time": "2023-04-14T14:17:29.528Z"
      },
      {
        "duration": 11,
        "start_time": "2023-04-14T14:17:29.574Z"
      },
      {
        "duration": 24,
        "start_time": "2023-04-14T14:17:29.587Z"
      },
      {
        "duration": 28,
        "start_time": "2023-04-14T14:17:29.613Z"
      },
      {
        "duration": 269,
        "start_time": "2023-04-14T14:17:29.642Z"
      },
      {
        "duration": 335,
        "start_time": "2023-04-14T14:17:29.912Z"
      },
      {
        "duration": 347,
        "start_time": "2023-04-14T14:17:30.248Z"
      },
      {
        "duration": 229,
        "start_time": "2023-04-14T14:17:30.596Z"
      },
      {
        "duration": 251,
        "start_time": "2023-04-14T14:17:30.829Z"
      },
      {
        "duration": 503,
        "start_time": "2023-04-14T14:17:31.082Z"
      },
      {
        "duration": 481,
        "start_time": "2023-04-14T14:17:31.587Z"
      },
      {
        "duration": 494,
        "start_time": "2023-04-14T14:17:32.071Z"
      },
      {
        "duration": 488,
        "start_time": "2023-04-14T14:17:32.567Z"
      },
      {
        "duration": 821,
        "start_time": "2023-04-14T14:17:33.057Z"
      },
      {
        "duration": 896,
        "start_time": "2023-04-14T14:17:33.880Z"
      },
      {
        "duration": 327,
        "start_time": "2023-04-14T14:17:34.778Z"
      },
      {
        "duration": 334,
        "start_time": "2023-04-14T14:17:35.156Z"
      },
      {
        "duration": 376,
        "start_time": "2023-04-14T14:17:35.492Z"
      },
      {
        "duration": 6,
        "start_time": "2023-04-14T14:17:35.869Z"
      },
      {
        "duration": 20,
        "start_time": "2023-04-14T14:17:35.877Z"
      },
      {
        "duration": 16,
        "start_time": "2023-04-14T14:17:35.898Z"
      },
      {
        "duration": 13,
        "start_time": "2023-04-14T14:17:35.950Z"
      },
      {
        "duration": 8,
        "start_time": "2023-04-14T14:17:35.964Z"
      },
      {
        "duration": 12,
        "start_time": "2023-04-14T14:31:39.876Z"
      },
      {
        "duration": 15,
        "start_time": "2023-04-14T14:31:48.591Z"
      },
      {
        "duration": 28,
        "start_time": "2023-04-14T14:31:56.577Z"
      },
      {
        "duration": 4,
        "start_time": "2023-04-14T14:34:10.308Z"
      },
      {
        "duration": 419,
        "start_time": "2023-04-14T14:34:13.684Z"
      },
      {
        "duration": 298,
        "start_time": "2023-04-14T14:34:17.778Z"
      },
      {
        "duration": 9,
        "start_time": "2023-04-14T14:39:56.801Z"
      },
      {
        "duration": 7,
        "start_time": "2023-04-14T14:41:19.404Z"
      },
      {
        "duration": 1189,
        "start_time": "2023-04-14T14:44:50.906Z"
      },
      {
        "duration": 70,
        "start_time": "2023-04-14T14:44:52.097Z"
      },
      {
        "duration": 20,
        "start_time": "2023-04-14T14:44:52.169Z"
      },
      {
        "duration": 23,
        "start_time": "2023-04-14T14:44:52.192Z"
      },
      {
        "duration": 33,
        "start_time": "2023-04-14T14:44:52.217Z"
      },
      {
        "duration": 26,
        "start_time": "2023-04-14T14:44:52.251Z"
      },
      {
        "duration": 26,
        "start_time": "2023-04-14T14:44:52.278Z"
      },
      {
        "duration": 218,
        "start_time": "2023-04-14T14:44:52.306Z"
      },
      {
        "duration": 5,
        "start_time": "2023-04-14T14:44:52.525Z"
      },
      {
        "duration": 34,
        "start_time": "2023-04-14T14:44:52.533Z"
      },
      {
        "duration": 24,
        "start_time": "2023-04-14T14:44:52.569Z"
      },
      {
        "duration": 38,
        "start_time": "2023-04-14T14:44:52.594Z"
      },
      {
        "duration": 51,
        "start_time": "2023-04-14T14:44:52.634Z"
      },
      {
        "duration": 31,
        "start_time": "2023-04-14T14:44:52.687Z"
      },
      {
        "duration": 24,
        "start_time": "2023-04-14T14:44:52.720Z"
      },
      {
        "duration": 20,
        "start_time": "2023-04-14T14:44:52.746Z"
      },
      {
        "duration": 17,
        "start_time": "2023-04-14T14:44:52.772Z"
      },
      {
        "duration": 21,
        "start_time": "2023-04-14T14:44:52.790Z"
      },
      {
        "duration": 33,
        "start_time": "2023-04-14T14:44:52.812Z"
      },
      {
        "duration": 26,
        "start_time": "2023-04-14T14:44:52.847Z"
      },
      {
        "duration": 24,
        "start_time": "2023-04-14T14:44:52.875Z"
      },
      {
        "duration": 6,
        "start_time": "2023-04-14T14:44:52.902Z"
      },
      {
        "duration": 30,
        "start_time": "2023-04-14T14:44:52.910Z"
      },
      {
        "duration": 417,
        "start_time": "2023-04-14T14:44:52.942Z"
      },
      {
        "duration": 23,
        "start_time": "2023-04-14T14:44:53.360Z"
      },
      {
        "duration": 1095,
        "start_time": "2023-04-14T14:44:53.385Z"
      },
      {
        "duration": 7,
        "start_time": "2023-04-14T14:44:54.482Z"
      },
      {
        "duration": 23,
        "start_time": "2023-04-14T14:44:54.495Z"
      },
      {
        "duration": 1347,
        "start_time": "2023-04-14T14:44:54.520Z"
      },
      {
        "duration": 284,
        "start_time": "2023-04-14T14:44:55.869Z"
      },
      {
        "duration": 247,
        "start_time": "2023-04-14T14:44:56.159Z"
      },
      {
        "duration": 212,
        "start_time": "2023-04-14T14:44:56.408Z"
      },
      {
        "duration": 181,
        "start_time": "2023-04-14T14:44:56.622Z"
      },
      {
        "duration": 10,
        "start_time": "2023-04-14T14:44:56.805Z"
      },
      {
        "duration": 28,
        "start_time": "2023-04-14T14:44:56.816Z"
      },
      {
        "duration": 40,
        "start_time": "2023-04-14T14:44:56.846Z"
      },
      {
        "duration": 19,
        "start_time": "2023-04-14T14:44:56.888Z"
      },
      {
        "duration": 15,
        "start_time": "2023-04-14T14:44:56.909Z"
      },
      {
        "duration": 283,
        "start_time": "2023-04-14T14:44:56.926Z"
      },
      {
        "duration": 272,
        "start_time": "2023-04-14T14:44:57.211Z"
      },
      {
        "duration": 302,
        "start_time": "2023-04-14T14:44:57.484Z"
      },
      {
        "duration": 247,
        "start_time": "2023-04-14T14:44:57.788Z"
      },
      {
        "duration": 231,
        "start_time": "2023-04-14T14:44:58.037Z"
      },
      {
        "duration": 176,
        "start_time": "2023-04-14T14:44:58.270Z"
      },
      {
        "duration": 218,
        "start_time": "2023-04-14T14:44:58.449Z"
      },
      {
        "duration": 301,
        "start_time": "2023-04-14T14:44:58.669Z"
      },
      {
        "duration": 270,
        "start_time": "2023-04-14T14:44:58.972Z"
      },
      {
        "duration": 395,
        "start_time": "2023-04-14T14:44:59.249Z"
      },
      {
        "duration": 418,
        "start_time": "2023-04-14T14:44:59.645Z"
      },
      {
        "duration": 174,
        "start_time": "2023-04-14T14:45:00.066Z"
      },
      {
        "duration": 276,
        "start_time": "2023-04-14T14:45:00.243Z"
      },
      {
        "duration": 198,
        "start_time": "2023-04-14T14:45:00.521Z"
      },
      {
        "duration": 7,
        "start_time": "2023-04-14T14:45:00.721Z"
      },
      {
        "duration": 54,
        "start_time": "2023-04-14T14:45:00.730Z"
      },
      {
        "duration": 26,
        "start_time": "2023-04-14T14:45:00.786Z"
      },
      {
        "duration": 48,
        "start_time": "2023-04-14T14:45:00.814Z"
      },
      {
        "duration": 57,
        "start_time": "2023-04-14T14:45:00.864Z"
      },
      {
        "duration": 48,
        "start_time": "2023-04-14T14:45:00.923Z"
      },
      {
        "duration": 46,
        "start_time": "2023-04-14T14:45:00.973Z"
      },
      {
        "duration": 111,
        "start_time": "2023-04-14T14:45:01.021Z"
      },
      {
        "duration": 3,
        "start_time": "2023-04-14T14:45:01.134Z"
      },
      {
        "duration": 36,
        "start_time": "2023-04-14T14:45:01.139Z"
      },
      {
        "duration": 26,
        "start_time": "2023-04-14T14:45:01.177Z"
      },
      {
        "duration": 38,
        "start_time": "2023-04-14T14:45:01.205Z"
      },
      {
        "duration": 52,
        "start_time": "2023-04-14T14:45:01.245Z"
      },
      {
        "duration": 26,
        "start_time": "2023-04-14T14:45:01.298Z"
      },
      {
        "duration": 652,
        "start_time": "2023-04-14T14:45:01.326Z"
      },
      {
        "duration": 612,
        "start_time": "2023-04-14T14:45:01.980Z"
      },
      {
        "duration": 609,
        "start_time": "2023-04-14T14:45:02.594Z"
      }
    ],
    "kernelspec": {
      "display_name": "Python 3 (ipykernel)",
      "language": "python",
      "name": "python3"
    },
    "language_info": {
      "codemirror_mode": {
        "name": "ipython",
        "version": 3
      },
      "file_extension": ".py",
      "mimetype": "text/x-python",
      "name": "python",
      "nbconvert_exporter": "python",
      "pygments_lexer": "ipython3",
      "version": "3.9.5"
    },
    "toc": {
      "base_numbering": 1,
      "nav_menu": {},
      "number_sections": true,
      "sideBar": true,
      "skip_h1_title": true,
      "title_cell": "Table of Contents",
      "title_sidebar": "Contents",
      "toc_cell": false,
      "toc_position": {
        "height": "486px",
        "left": "67px",
        "top": "110.525px",
        "width": "307px"
      },
      "toc_section_display": true,
      "toc_window_display": true
    },
    "colab": {
      "provenance": []
    }
  },
  "nbformat": 4,
  "nbformat_minor": 0
}