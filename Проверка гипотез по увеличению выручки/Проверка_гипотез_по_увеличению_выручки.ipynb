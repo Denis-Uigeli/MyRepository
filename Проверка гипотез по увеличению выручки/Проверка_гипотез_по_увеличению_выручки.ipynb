{
  "cells": [
    {
      "cell_type": "markdown",
      "metadata": {
        "id": "xrO6HoibuOgv"
      },
      "source": [
        "# Проект по разделу \"Принятие решений в бизнесе\""
      ]
    },
    {
      "cell_type": "markdown",
      "metadata": {
        "id": "We5oz-K0uOgw"
      },
      "source": [
        "## Постановка задачи"
      ]
    },
    {
      "cell_type": "markdown",
      "metadata": {
        "id": "4zNxKYMMuOgw"
      },
      "source": [
        "### Контекст\n",
        "я — аналитик крупного интернет-магазина. Вместе с отделом маркетинга мы подготовили список гипотез для увеличения выручки.\n",
        "Нам предстоит приоритизировать гипотезы, запустить A/B-тест и проанализировать результаты."
      ]
    },
    {
      "cell_type": "markdown",
      "metadata": {
        "id": "XAyiouGguOgx"
      },
      "source": [
        "### План\n",
        "- Выполнить предобработку данных;\n",
        "- Приоритизация гипотез;\n",
        "- Анализ A/B-теста;\n",
        "- Общий вывод.\n",
        "\n",
        "\n",
        "\n"
      ]
    },
    {
      "cell_type": "markdown",
      "metadata": {
        "id": "oM2Iz6iUuOgx"
      },
      "source": [
        "## предобработка данных\n",
        "### Загрузка библиотек и данных"
      ]
    },
    {
      "cell_type": "code",
      "execution_count": null,
      "metadata": {
        "id": "kk3ROLCduOgy"
      },
      "outputs": [],
      "source": [
        "import pandas as pd\n",
        "from pandas.plotting import register_matplotlib_converters\n",
        "import datetime as dt\n",
        "from datetime import datetime, timedelta\n",
        "import numpy as np\n",
        "import matplotlib as mp\n",
        "import matplotlib.pyplot as plt\n",
        "import scipy.stats as stats"
      ]
    },
    {
      "cell_type": "code",
      "execution_count": null,
      "metadata": {
        "id": "n6Y7l8_yuOg1"
      },
      "outputs": [],
      "source": [
        "data = pd.read_csv('/datasets/hypothesis.csv')\n",
        "orders = pd.read_csv('/datasets/orders.csv')\n",
        "visitors = pd.read_csv('/datasets/visitors.csv')"
      ]
    },
    {
      "cell_type": "markdown",
      "metadata": {
        "id": "eqJLVsbVuOg1"
      },
      "source": [
        "### Предварительный просмотр данных"
      ]
    },
    {
      "cell_type": "code",
      "execution_count": null,
      "metadata": {
        "id": "xWkHboX_uOg2",
        "outputId": "c03cd7b9-d551-47e8-9e30-91f9770efb4e"
      },
      "outputs": [
        {
          "name": "stdout",
          "output_type": "stream",
          "text": [
            "<class 'pandas.core.frame.DataFrame'>\n",
            "RangeIndex: 9 entries, 0 to 8\n",
            "Data columns (total 5 columns):\n",
            " #   Column      Non-Null Count  Dtype \n",
            "---  ------      --------------  ----- \n",
            " 0   Hypothesis  9 non-null      object\n",
            " 1   Reach       9 non-null      int64 \n",
            " 2   Impact      9 non-null      int64 \n",
            " 3   Confidence  9 non-null      int64 \n",
            " 4   Efforts     9 non-null      int64 \n",
            "dtypes: int64(4), object(1)\n",
            "memory usage: 488.0+ bytes\n"
          ]
        }
      ],
      "source": [
        "data.info()"
      ]
    },
    {
      "cell_type": "code",
      "execution_count": null,
      "metadata": {
        "id": "kUcgGkzGuOg3",
        "outputId": "1fad6769-25e7-42d4-ecf6-b03f4effd31d"
      },
      "outputs": [
        {
          "data": {
            "text/html": [
              "<div>\n",
              "<style scoped>\n",
              "    .dataframe tbody tr th:only-of-type {\n",
              "        vertical-align: middle;\n",
              "    }\n",
              "\n",
              "    .dataframe tbody tr th {\n",
              "        vertical-align: top;\n",
              "    }\n",
              "\n",
              "    .dataframe thead th {\n",
              "        text-align: right;\n",
              "    }\n",
              "</style>\n",
              "<table border=\"1\" class=\"dataframe\">\n",
              "  <thead>\n",
              "    <tr style=\"text-align: right;\">\n",
              "      <th></th>\n",
              "      <th>Hypothesis</th>\n",
              "      <th>Reach</th>\n",
              "      <th>Impact</th>\n",
              "      <th>Confidence</th>\n",
              "      <th>Efforts</th>\n",
              "    </tr>\n",
              "  </thead>\n",
              "  <tbody>\n",
              "    <tr>\n",
              "      <th>0</th>\n",
              "      <td>Добавить два новых канала привлечения трафика,...</td>\n",
              "      <td>3</td>\n",
              "      <td>10</td>\n",
              "      <td>8</td>\n",
              "      <td>6</td>\n",
              "    </tr>\n",
              "    <tr>\n",
              "      <th>1</th>\n",
              "      <td>Запустить собственную службу доставки, что сок...</td>\n",
              "      <td>2</td>\n",
              "      <td>5</td>\n",
              "      <td>4</td>\n",
              "      <td>10</td>\n",
              "    </tr>\n",
              "    <tr>\n",
              "      <th>2</th>\n",
              "      <td>Добавить блоки рекомендаций товаров на сайт ин...</td>\n",
              "      <td>8</td>\n",
              "      <td>3</td>\n",
              "      <td>7</td>\n",
              "      <td>3</td>\n",
              "    </tr>\n",
              "    <tr>\n",
              "      <th>3</th>\n",
              "      <td>Изменить структура категорий, что увеличит кон...</td>\n",
              "      <td>8</td>\n",
              "      <td>3</td>\n",
              "      <td>3</td>\n",
              "      <td>8</td>\n",
              "    </tr>\n",
              "    <tr>\n",
              "      <th>4</th>\n",
              "      <td>Изменить цвет фона главной страницы, чтобы уве...</td>\n",
              "      <td>3</td>\n",
              "      <td>1</td>\n",
              "      <td>1</td>\n",
              "      <td>1</td>\n",
              "    </tr>\n",
              "    <tr>\n",
              "      <th>5</th>\n",
              "      <td>Добавить страницу отзывов клиентов о магазине,...</td>\n",
              "      <td>3</td>\n",
              "      <td>2</td>\n",
              "      <td>2</td>\n",
              "      <td>3</td>\n",
              "    </tr>\n",
              "    <tr>\n",
              "      <th>6</th>\n",
              "      <td>Показать на главной странице баннеры с актуаль...</td>\n",
              "      <td>5</td>\n",
              "      <td>3</td>\n",
              "      <td>8</td>\n",
              "      <td>3</td>\n",
              "    </tr>\n",
              "    <tr>\n",
              "      <th>7</th>\n",
              "      <td>Добавить форму подписки на все основные страни...</td>\n",
              "      <td>10</td>\n",
              "      <td>7</td>\n",
              "      <td>8</td>\n",
              "      <td>5</td>\n",
              "    </tr>\n",
              "    <tr>\n",
              "      <th>8</th>\n",
              "      <td>Запустить акцию, дающую скидку на товар в день...</td>\n",
              "      <td>1</td>\n",
              "      <td>9</td>\n",
              "      <td>9</td>\n",
              "      <td>5</td>\n",
              "    </tr>\n",
              "  </tbody>\n",
              "</table>\n",
              "</div>"
            ],
            "text/plain": [
              "                                          Hypothesis  Reach  Impact  \\\n",
              "0  Добавить два новых канала привлечения трафика,...      3      10   \n",
              "1  Запустить собственную службу доставки, что сок...      2       5   \n",
              "2  Добавить блоки рекомендаций товаров на сайт ин...      8       3   \n",
              "3  Изменить структура категорий, что увеличит кон...      8       3   \n",
              "4  Изменить цвет фона главной страницы, чтобы уве...      3       1   \n",
              "5  Добавить страницу отзывов клиентов о магазине,...      3       2   \n",
              "6  Показать на главной странице баннеры с актуаль...      5       3   \n",
              "7  Добавить форму подписки на все основные страни...     10       7   \n",
              "8  Запустить акцию, дающую скидку на товар в день...      1       9   \n",
              "\n",
              "   Confidence  Efforts  \n",
              "0           8        6  \n",
              "1           4       10  \n",
              "2           7        3  \n",
              "3           3        8  \n",
              "4           1        1  \n",
              "5           2        3  \n",
              "6           8        3  \n",
              "7           8        5  \n",
              "8           9        5  "
            ]
          },
          "execution_count": 4,
          "metadata": {},
          "output_type": "execute_result"
        }
      ],
      "source": [
        "data.head(9)"
      ]
    },
    {
      "cell_type": "code",
      "execution_count": null,
      "metadata": {
        "id": "Q9RepJaeuOg4",
        "outputId": "631fd67b-9470-49f5-ea28-fbc9cae02457"
      },
      "outputs": [
        {
          "name": "stdout",
          "output_type": "stream",
          "text": [
            "<class 'pandas.core.frame.DataFrame'>\n",
            "RangeIndex: 1197 entries, 0 to 1196\n",
            "Data columns (total 5 columns):\n",
            " #   Column         Non-Null Count  Dtype \n",
            "---  ------         --------------  ----- \n",
            " 0   transactionId  1197 non-null   int64 \n",
            " 1   visitorId      1197 non-null   int64 \n",
            " 2   date           1197 non-null   object\n",
            " 3   revenue        1197 non-null   int64 \n",
            " 4   group          1197 non-null   object\n",
            "dtypes: int64(3), object(2)\n",
            "memory usage: 46.9+ KB\n"
          ]
        }
      ],
      "source": [
        "orders.info()"
      ]
    },
    {
      "cell_type": "code",
      "execution_count": null,
      "metadata": {
        "id": "5xFgz5RCuOg5",
        "outputId": "ecb488aa-af5e-4bfd-e85f-9be07685b5ec"
      },
      "outputs": [
        {
          "data": {
            "text/html": [
              "<div>\n",
              "<style scoped>\n",
              "    .dataframe tbody tr th:only-of-type {\n",
              "        vertical-align: middle;\n",
              "    }\n",
              "\n",
              "    .dataframe tbody tr th {\n",
              "        vertical-align: top;\n",
              "    }\n",
              "\n",
              "    .dataframe thead th {\n",
              "        text-align: right;\n",
              "    }\n",
              "</style>\n",
              "<table border=\"1\" class=\"dataframe\">\n",
              "  <thead>\n",
              "    <tr style=\"text-align: right;\">\n",
              "      <th></th>\n",
              "      <th>transactionId</th>\n",
              "      <th>visitorId</th>\n",
              "      <th>date</th>\n",
              "      <th>revenue</th>\n",
              "      <th>group</th>\n",
              "    </tr>\n",
              "  </thead>\n",
              "  <tbody>\n",
              "    <tr>\n",
              "      <th>0</th>\n",
              "      <td>3667963787</td>\n",
              "      <td>3312258926</td>\n",
              "      <td>2019-08-15</td>\n",
              "      <td>1650</td>\n",
              "      <td>B</td>\n",
              "    </tr>\n",
              "    <tr>\n",
              "      <th>1</th>\n",
              "      <td>2804400009</td>\n",
              "      <td>3642806036</td>\n",
              "      <td>2019-08-15</td>\n",
              "      <td>730</td>\n",
              "      <td>B</td>\n",
              "    </tr>\n",
              "    <tr>\n",
              "      <th>2</th>\n",
              "      <td>2961555356</td>\n",
              "      <td>4069496402</td>\n",
              "      <td>2019-08-15</td>\n",
              "      <td>400</td>\n",
              "      <td>A</td>\n",
              "    </tr>\n",
              "    <tr>\n",
              "      <th>3</th>\n",
              "      <td>3797467345</td>\n",
              "      <td>1196621759</td>\n",
              "      <td>2019-08-15</td>\n",
              "      <td>9759</td>\n",
              "      <td>B</td>\n",
              "    </tr>\n",
              "    <tr>\n",
              "      <th>4</th>\n",
              "      <td>2282983706</td>\n",
              "      <td>2322279887</td>\n",
              "      <td>2019-08-15</td>\n",
              "      <td>2308</td>\n",
              "      <td>B</td>\n",
              "    </tr>\n",
              "  </tbody>\n",
              "</table>\n",
              "</div>"
            ],
            "text/plain": [
              "   transactionId   visitorId        date  revenue group\n",
              "0     3667963787  3312258926  2019-08-15     1650     B\n",
              "1     2804400009  3642806036  2019-08-15      730     B\n",
              "2     2961555356  4069496402  2019-08-15      400     A\n",
              "3     3797467345  1196621759  2019-08-15     9759     B\n",
              "4     2282983706  2322279887  2019-08-15     2308     B"
            ]
          },
          "execution_count": 6,
          "metadata": {},
          "output_type": "execute_result"
        }
      ],
      "source": [
        "orders.head()"
      ]
    },
    {
      "cell_type": "code",
      "execution_count": null,
      "metadata": {
        "id": "JIwC7Io5uOg5",
        "outputId": "0ab0fbf8-acc0-49a8-ba0d-20bcdcdff31c"
      },
      "outputs": [
        {
          "name": "stdout",
          "output_type": "stream",
          "text": [
            "<class 'pandas.core.frame.DataFrame'>\n",
            "RangeIndex: 62 entries, 0 to 61\n",
            "Data columns (total 3 columns):\n",
            " #   Column    Non-Null Count  Dtype \n",
            "---  ------    --------------  ----- \n",
            " 0   date      62 non-null     object\n",
            " 1   group     62 non-null     object\n",
            " 2   visitors  62 non-null     int64 \n",
            "dtypes: int64(1), object(2)\n",
            "memory usage: 1.6+ KB\n"
          ]
        }
      ],
      "source": [
        "visitors.info()"
      ]
    },
    {
      "cell_type": "code",
      "execution_count": null,
      "metadata": {
        "id": "lA3FNq3ouOg5",
        "outputId": "f336feca-8f0b-48e5-89fd-89f0e23051c0"
      },
      "outputs": [
        {
          "data": {
            "text/html": [
              "<div>\n",
              "<style scoped>\n",
              "    .dataframe tbody tr th:only-of-type {\n",
              "        vertical-align: middle;\n",
              "    }\n",
              "\n",
              "    .dataframe tbody tr th {\n",
              "        vertical-align: top;\n",
              "    }\n",
              "\n",
              "    .dataframe thead th {\n",
              "        text-align: right;\n",
              "    }\n",
              "</style>\n",
              "<table border=\"1\" class=\"dataframe\">\n",
              "  <thead>\n",
              "    <tr style=\"text-align: right;\">\n",
              "      <th></th>\n",
              "      <th>date</th>\n",
              "      <th>group</th>\n",
              "      <th>visitors</th>\n",
              "    </tr>\n",
              "  </thead>\n",
              "  <tbody>\n",
              "    <tr>\n",
              "      <th>0</th>\n",
              "      <td>2019-08-01</td>\n",
              "      <td>A</td>\n",
              "      <td>719</td>\n",
              "    </tr>\n",
              "    <tr>\n",
              "      <th>1</th>\n",
              "      <td>2019-08-02</td>\n",
              "      <td>A</td>\n",
              "      <td>619</td>\n",
              "    </tr>\n",
              "    <tr>\n",
              "      <th>2</th>\n",
              "      <td>2019-08-03</td>\n",
              "      <td>A</td>\n",
              "      <td>507</td>\n",
              "    </tr>\n",
              "    <tr>\n",
              "      <th>3</th>\n",
              "      <td>2019-08-04</td>\n",
              "      <td>A</td>\n",
              "      <td>717</td>\n",
              "    </tr>\n",
              "    <tr>\n",
              "      <th>4</th>\n",
              "      <td>2019-08-05</td>\n",
              "      <td>A</td>\n",
              "      <td>756</td>\n",
              "    </tr>\n",
              "  </tbody>\n",
              "</table>\n",
              "</div>"
            ],
            "text/plain": [
              "         date group  visitors\n",
              "0  2019-08-01     A       719\n",
              "1  2019-08-02     A       619\n",
              "2  2019-08-03     A       507\n",
              "3  2019-08-04     A       717\n",
              "4  2019-08-05     A       756"
            ]
          },
          "execution_count": 8,
          "metadata": {},
          "output_type": "execute_result"
        }
      ],
      "source": [
        "visitors.head()"
      ]
    },
    {
      "cell_type": "markdown",
      "metadata": {
        "id": "NsdbA7MDuOg6"
      },
      "source": [
        "visitors.duplicated().sum()"
      ]
    },
    {
      "cell_type": "code",
      "execution_count": null,
      "metadata": {
        "id": "QxDFtDf4uOg6",
        "outputId": "4fbaa9ae-9fa8-426b-d5f3-af3c68f853b3"
      },
      "outputs": [
        {
          "data": {
            "text/plain": [
              "0"
            ]
          },
          "execution_count": 9,
          "metadata": {},
          "output_type": "execute_result"
        }
      ],
      "source": [
        "orders.duplicated().sum()"
      ]
    },
    {
      "cell_type": "code",
      "execution_count": null,
      "metadata": {
        "id": "QlKUwxq5uOg7",
        "outputId": "c3271c6e-ffe5-4ac5-d1a9-682adaff0a62"
      },
      "outputs": [
        {
          "data": {
            "text/plain": [
              "0"
            ]
          },
          "execution_count": 10,
          "metadata": {},
          "output_type": "execute_result"
        }
      ],
      "source": [
        "data.duplicated().sum()"
      ]
    },
    {
      "cell_type": "markdown",
      "metadata": {
        "id": "_5R_HcmpuOg7"
      },
      "source": [
        "### Предобработка данных"
      ]
    },
    {
      "cell_type": "code",
      "execution_count": null,
      "metadata": {
        "id": "mo1IDM4WuOg7"
      },
      "outputs": [],
      "source": [
        "# Приведем название столбцов data к нижнему регистру\n",
        "data.columns = [x.lower() for x in data.columns]"
      ]
    },
    {
      "cell_type": "code",
      "execution_count": null,
      "metadata": {
        "id": "DgL-C6lIuOg7",
        "outputId": "809060f2-7abc-44e9-8408-30796d4a5f47"
      },
      "outputs": [
        {
          "data": {
            "text/html": [
              "<div>\n",
              "<style scoped>\n",
              "    .dataframe tbody tr th:only-of-type {\n",
              "        vertical-align: middle;\n",
              "    }\n",
              "\n",
              "    .dataframe tbody tr th {\n",
              "        vertical-align: top;\n",
              "    }\n",
              "\n",
              "    .dataframe thead th {\n",
              "        text-align: right;\n",
              "    }\n",
              "</style>\n",
              "<table border=\"1\" class=\"dataframe\">\n",
              "  <thead>\n",
              "    <tr style=\"text-align: right;\">\n",
              "      <th></th>\n",
              "      <th>hypothesis</th>\n",
              "      <th>reach</th>\n",
              "      <th>impact</th>\n",
              "      <th>confidence</th>\n",
              "      <th>efforts</th>\n",
              "    </tr>\n",
              "  </thead>\n",
              "  <tbody>\n",
              "    <tr>\n",
              "      <th>0</th>\n",
              "      <td>Добавить два новых канала привлечения трафика,...</td>\n",
              "      <td>3</td>\n",
              "      <td>10</td>\n",
              "      <td>8</td>\n",
              "      <td>6</td>\n",
              "    </tr>\n",
              "    <tr>\n",
              "      <th>1</th>\n",
              "      <td>Запустить собственную службу доставки, что сок...</td>\n",
              "      <td>2</td>\n",
              "      <td>5</td>\n",
              "      <td>4</td>\n",
              "      <td>10</td>\n",
              "    </tr>\n",
              "    <tr>\n",
              "      <th>2</th>\n",
              "      <td>Добавить блоки рекомендаций товаров на сайт ин...</td>\n",
              "      <td>8</td>\n",
              "      <td>3</td>\n",
              "      <td>7</td>\n",
              "      <td>3</td>\n",
              "    </tr>\n",
              "    <tr>\n",
              "      <th>3</th>\n",
              "      <td>Изменить структура категорий, что увеличит кон...</td>\n",
              "      <td>8</td>\n",
              "      <td>3</td>\n",
              "      <td>3</td>\n",
              "      <td>8</td>\n",
              "    </tr>\n",
              "    <tr>\n",
              "      <th>4</th>\n",
              "      <td>Изменить цвет фона главной страницы, чтобы уве...</td>\n",
              "      <td>3</td>\n",
              "      <td>1</td>\n",
              "      <td>1</td>\n",
              "      <td>1</td>\n",
              "    </tr>\n",
              "    <tr>\n",
              "      <th>5</th>\n",
              "      <td>Добавить страницу отзывов клиентов о магазине,...</td>\n",
              "      <td>3</td>\n",
              "      <td>2</td>\n",
              "      <td>2</td>\n",
              "      <td>3</td>\n",
              "    </tr>\n",
              "    <tr>\n",
              "      <th>6</th>\n",
              "      <td>Показать на главной странице баннеры с актуаль...</td>\n",
              "      <td>5</td>\n",
              "      <td>3</td>\n",
              "      <td>8</td>\n",
              "      <td>3</td>\n",
              "    </tr>\n",
              "    <tr>\n",
              "      <th>7</th>\n",
              "      <td>Добавить форму подписки на все основные страни...</td>\n",
              "      <td>10</td>\n",
              "      <td>7</td>\n",
              "      <td>8</td>\n",
              "      <td>5</td>\n",
              "    </tr>\n",
              "    <tr>\n",
              "      <th>8</th>\n",
              "      <td>Запустить акцию, дающую скидку на товар в день...</td>\n",
              "      <td>1</td>\n",
              "      <td>9</td>\n",
              "      <td>9</td>\n",
              "      <td>5</td>\n",
              "    </tr>\n",
              "  </tbody>\n",
              "</table>\n",
              "</div>"
            ],
            "text/plain": [
              "                                          hypothesis  reach  impact  \\\n",
              "0  Добавить два новых канала привлечения трафика,...      3      10   \n",
              "1  Запустить собственную службу доставки, что сок...      2       5   \n",
              "2  Добавить блоки рекомендаций товаров на сайт ин...      8       3   \n",
              "3  Изменить структура категорий, что увеличит кон...      8       3   \n",
              "4  Изменить цвет фона главной страницы, чтобы уве...      3       1   \n",
              "5  Добавить страницу отзывов клиентов о магазине,...      3       2   \n",
              "6  Показать на главной странице баннеры с актуаль...      5       3   \n",
              "7  Добавить форму подписки на все основные страни...     10       7   \n",
              "8  Запустить акцию, дающую скидку на товар в день...      1       9   \n",
              "\n",
              "   confidence  efforts  \n",
              "0           8        6  \n",
              "1           4       10  \n",
              "2           7        3  \n",
              "3           3        8  \n",
              "4           1        1  \n",
              "5           2        3  \n",
              "6           8        3  \n",
              "7           8        5  \n",
              "8           9        5  "
            ]
          },
          "execution_count": 12,
          "metadata": {},
          "output_type": "execute_result"
        }
      ],
      "source": [
        "data.head(9)"
      ]
    },
    {
      "cell_type": "code",
      "execution_count": null,
      "metadata": {
        "id": "du3QAT6buOg8"
      },
      "outputs": [],
      "source": [
        "# изменим тип данных в датах\n",
        "orders['date'] = pd.to_datetime(orders['date'])\n",
        "visitors['date'] = pd.to_datetime(visitors['date'])"
      ]
    },
    {
      "cell_type": "markdown",
      "metadata": {
        "id": "NqA_yC66uOg8"
      },
      "source": [
        "**Вывод:**\n",
        "Загрузили библиотеки, загрузили данные в датафреймы.\n",
        "Проверили отсутсвие пропусков и явных дубликатов.\n",
        "Привели к соответсвию типы даты и времени.\n",
        "привели названия столбцов к нижнему регистру.\n",
        "Данные готовы для дальнейшей работы.\n"
      ]
    },
    {
      "cell_type": "code",
      "execution_count": null,
      "metadata": {
        "id": "MnS3IpUFuOg9",
        "outputId": "df288ace-ae59-409b-9da0-c521b6eff7b1"
      },
      "outputs": [
        {
          "name": "stderr",
          "output_type": "stream",
          "text": [
            "/tmp/ipykernel_217/4197849394.py:1: FutureWarning: Treating datetime data as categorical rather than numeric in `.describe` is deprecated and will be removed in a future version of pandas. Specify `datetime_is_numeric=True` to silence this warning and adopt the future behavior now.\n",
            "  orders['date'].describe()\n"
          ]
        },
        {
          "data": {
            "text/plain": [
              "count                    1197\n",
              "unique                     31\n",
              "top       2019-08-05 00:00:00\n",
              "freq                       48\n",
              "first     2019-08-01 00:00:00\n",
              "last      2019-08-31 00:00:00\n",
              "Name: date, dtype: object"
            ]
          },
          "execution_count": 14,
          "metadata": {},
          "output_type": "execute_result"
        }
      ],
      "source": [
        "orders['date'].describe()"
      ]
    },
    {
      "cell_type": "code",
      "execution_count": null,
      "metadata": {
        "id": "vrjB1d3luOg-",
        "outputId": "120f73f9-147e-4fe0-d575-0aa190510b2c"
      },
      "outputs": [
        {
          "data": {
            "image/png": "[encoded data removed]",
            "text/plain": [
              "<Figure size 1080x288 with 1 Axes>"
            ]
          },
          "metadata": {
            "needs_background": "light"
          },
          "output_type": "display_data"
        }
      ],
      "source": [
        "plt.figure(figsize=(15, 4))\n",
        "visitors_A = visitors[visitors['group']=='A']\n",
        "visitors_B = visitors[visitors['group']=='B']\n",
        "plt.plot(visitors_A['date'], visitors_A['visitors'], label='A')\n",
        "plt.plot(visitors_B['date'], visitors_B['visitors'], label='B')\n",
        "plt.legend()\n",
        "plt.xticks(rotation=45)\n",
        "plt.title(\"Динамика посетителей по дням по группам\")\n",
        "plt.ylabel(\"Кол-во посетителей\")\n",
        "plt.xlabel(\"Дата\")\n",
        "\n",
        "plt.show()"
      ]
    },
    {
      "cell_type": "markdown",
      "metadata": {
        "id": "HC_672-SuOg-"
      },
      "source": [
        "<div class=\"alert alert-info\"> <b>Комментарий :</b> Динамика посетителей по дням в обеих группах примерно на одном уровне. .</div>"
      ]
    },
    {
      "cell_type": "markdown",
      "metadata": {
        "id": "npOFV259uOg_"
      },
      "source": [
        "## Приоритизация гипотез\n",
        "### Применим фреймворк ICE для приоритизации гипотез. Отсортируем их по убыванию приоритета."
      ]
    },
    {
      "cell_type": "markdown",
      "metadata": {
        "id": "OlH-zljluOg_"
      },
      "source": [
        "Прежде чем переходить к приоритезации гипотез, убедимся, что у нас в выборке только две группы и оценим количество пользователей групп."
      ]
    },
    {
      "cell_type": "code",
      "execution_count": null,
      "metadata": {
        "id": "xj7zLlm8uOg_",
        "outputId": "3f5b83c0-be49-42ef-99a7-5afca7848e83"
      },
      "outputs": [
        {
          "data": {
            "text/plain": [
              "array(['B', 'A'], dtype=object)"
            ]
          },
          "execution_count": 16,
          "metadata": {},
          "output_type": "execute_result"
        }
      ],
      "source": [
        "orders['group'].unique()"
      ]
    },
    {
      "cell_type": "code",
      "execution_count": null,
      "metadata": {
        "id": "gIuMPJCFuOhA",
        "outputId": "3ea6be3d-c9bc-422f-9c72-c54bc8baf693"
      },
      "outputs": [
        {
          "data": {
            "text/html": [
              "<div>\n",
              "<style scoped>\n",
              "    .dataframe tbody tr th:only-of-type {\n",
              "        vertical-align: middle;\n",
              "    }\n",
              "\n",
              "    .dataframe tbody tr th {\n",
              "        vertical-align: top;\n",
              "    }\n",
              "\n",
              "    .dataframe thead th {\n",
              "        text-align: right;\n",
              "    }\n",
              "</style>\n",
              "<table border=\"1\" class=\"dataframe\">\n",
              "  <thead>\n",
              "    <tr style=\"text-align: right;\">\n",
              "      <th></th>\n",
              "      <th>group</th>\n",
              "      <th>visitorId</th>\n",
              "    </tr>\n",
              "  </thead>\n",
              "  <tbody>\n",
              "    <tr>\n",
              "      <th>0</th>\n",
              "      <td>A</td>\n",
              "      <td>503</td>\n",
              "    </tr>\n",
              "    <tr>\n",
              "      <th>1</th>\n",
              "      <td>B</td>\n",
              "      <td>586</td>\n",
              "    </tr>\n",
              "  </tbody>\n",
              "</table>\n",
              "</div>"
            ],
            "text/plain": [
              "  group  visitorId\n",
              "0     A        503\n",
              "1     B        586"
            ]
          },
          "execution_count": 17,
          "metadata": {},
          "output_type": "execute_result"
        }
      ],
      "source": [
        "orders.groupby('group', as_index=False).agg({'visitorId': pd.Series.nunique})"
      ]
    },
    {
      "cell_type": "markdown",
      "metadata": {
        "id": "uTkFik7uuOhA"
      },
      "source": [
        "Как и должно быть, у нас всего две группы А и В. В группе В на 16,5% пользователей больше. Перейдем к применению фреймворка ICE."
      ]
    },
    {
      "cell_type": "code",
      "execution_count": null,
      "metadata": {
        "id": "307zO7MauOhB"
      },
      "outputs": [],
      "source": [
        "pd.options.display.max_colwidth = 200"
      ]
    },
    {
      "cell_type": "code",
      "execution_count": null,
      "metadata": {
        "id": "RXUnUeIWuOhO",
        "outputId": "f77a84ff-4f76-474f-d9ec-57102ad5c485"
      },
      "outputs": [
        {
          "data": {
            "text/html": [
              "<div>\n",
              "<style scoped>\n",
              "    .dataframe tbody tr th:only-of-type {\n",
              "        vertical-align: middle;\n",
              "    }\n",
              "\n",
              "    .dataframe tbody tr th {\n",
              "        vertical-align: top;\n",
              "    }\n",
              "\n",
              "    .dataframe thead th {\n",
              "        text-align: right;\n",
              "    }\n",
              "</style>\n",
              "<table border=\"1\" class=\"dataframe\">\n",
              "  <thead>\n",
              "    <tr style=\"text-align: right;\">\n",
              "      <th></th>\n",
              "      <th>hypothesis</th>\n",
              "      <th>ICE</th>\n",
              "    </tr>\n",
              "  </thead>\n",
              "  <tbody>\n",
              "    <tr>\n",
              "      <th>8</th>\n",
              "      <td>Запустить акцию, дающую скидку на товар в день рождения</td>\n",
              "      <td>16.20</td>\n",
              "    </tr>\n",
              "    <tr>\n",
              "      <th>0</th>\n",
              "      <td>Добавить два новых канала привлечения трафика, что позволит привлекать на 30% больше пользователей</td>\n",
              "      <td>13.33</td>\n",
              "    </tr>\n",
              "    <tr>\n",
              "      <th>7</th>\n",
              "      <td>Добавить форму подписки на все основные страницы, чтобы собрать базу клиентов для email-рассылок</td>\n",
              "      <td>11.20</td>\n",
              "    </tr>\n",
              "    <tr>\n",
              "      <th>6</th>\n",
              "      <td>Показать на главной странице баннеры с актуальными акциями и распродажами, чтобы увеличить конверсию</td>\n",
              "      <td>8.00</td>\n",
              "    </tr>\n",
              "    <tr>\n",
              "      <th>2</th>\n",
              "      <td>Добавить блоки рекомендаций товаров на сайт интернет магазина, чтобы повысить конверсию и средний чек заказа</td>\n",
              "      <td>7.00</td>\n",
              "    </tr>\n",
              "    <tr>\n",
              "      <th>1</th>\n",
              "      <td>Запустить собственную службу доставки, что сократит срок доставки заказов</td>\n",
              "      <td>2.00</td>\n",
              "    </tr>\n",
              "    <tr>\n",
              "      <th>5</th>\n",
              "      <td>Добавить страницу отзывов клиентов о магазине, что позволит увеличить количество заказов</td>\n",
              "      <td>1.33</td>\n",
              "    </tr>\n",
              "    <tr>\n",
              "      <th>3</th>\n",
              "      <td>Изменить структура категорий, что увеличит конверсию, т.к. пользователи быстрее найдут нужный товар</td>\n",
              "      <td>1.12</td>\n",
              "    </tr>\n",
              "    <tr>\n",
              "      <th>4</th>\n",
              "      <td>Изменить цвет фона главной страницы, чтобы увеличить вовлеченность пользователей</td>\n",
              "      <td>1.00</td>\n",
              "    </tr>\n",
              "  </tbody>\n",
              "</table>\n",
              "</div>"
            ],
            "text/plain": [
              "                                                                                                     hypothesis  \\\n",
              "8                                                       Запустить акцию, дающую скидку на товар в день рождения   \n",
              "0            Добавить два новых канала привлечения трафика, что позволит привлекать на 30% больше пользователей   \n",
              "7              Добавить форму подписки на все основные страницы, чтобы собрать базу клиентов для email-рассылок   \n",
              "6          Показать на главной странице баннеры с актуальными акциями и распродажами, чтобы увеличить конверсию   \n",
              "2  Добавить блоки рекомендаций товаров на сайт интернет магазина, чтобы повысить конверсию и средний чек заказа   \n",
              "1                                     Запустить собственную службу доставки, что сократит срок доставки заказов   \n",
              "5                      Добавить страницу отзывов клиентов о магазине, что позволит увеличить количество заказов   \n",
              "3           Изменить структура категорий, что увеличит конверсию, т.к. пользователи быстрее найдут нужный товар   \n",
              "4                              Изменить цвет фона главной страницы, чтобы увеличить вовлеченность пользователей   \n",
              "\n",
              "     ICE  \n",
              "8  16.20  \n",
              "0  13.33  \n",
              "7  11.20  \n",
              "6   8.00  \n",
              "2   7.00  \n",
              "1   2.00  \n",
              "5   1.33  \n",
              "3   1.12  \n",
              "4   1.00  "
            ]
          },
          "metadata": {},
          "output_type": "display_data"
        }
      ],
      "source": [
        "data['ICE'] = (data['impact'] * data['confidence']/data['efforts']).round(2)\n",
        "data['ICE'] = (data['ICE'].astype('float')).round(2)\n",
        "display(data[['hypothesis','ICE']].sort_values(by='ICE', ascending=False))"
      ]
    },
    {
      "cell_type": "markdown",
      "metadata": {
        "id": "c1AndMd1uOhQ"
      },
      "source": [
        "Гипотезы приоритизированы в порядке убывания приоритета, однако не отображается полный текст гипотезы. Добавим в код выше настройку для расширения вывода текста pd.options.display.max_colwidth = 200"
      ]
    },
    {
      "cell_type": "markdown",
      "metadata": {
        "id": "FwQTECBmuOhQ"
      },
      "source": [
        "**Вывод:** Применили фреймворк ICE, выделили три наиболее перспективные гипотезы 8,0,7"
      ]
    },
    {
      "cell_type": "markdown",
      "metadata": {
        "id": "EgpUDlPxuOhQ"
      },
      "source": [
        "### Применим фреймворк RICE для приоритизации гипотез. Отсортируем их по убыванию приоритета."
      ]
    },
    {
      "cell_type": "code",
      "execution_count": null,
      "metadata": {
        "id": "tJZxHI80uOhQ",
        "outputId": "ee3ebe5e-b61a-4869-8fec-834ff746e44b"
      },
      "outputs": [
        {
          "data": {
            "text/html": [
              "<div>\n",
              "<style scoped>\n",
              "    .dataframe tbody tr th:only-of-type {\n",
              "        vertical-align: middle;\n",
              "    }\n",
              "\n",
              "    .dataframe tbody tr th {\n",
              "        vertical-align: top;\n",
              "    }\n",
              "\n",
              "    .dataframe thead th {\n",
              "        text-align: right;\n",
              "    }\n",
              "</style>\n",
              "<table border=\"1\" class=\"dataframe\">\n",
              "  <thead>\n",
              "    <tr style=\"text-align: right;\">\n",
              "      <th></th>\n",
              "      <th>hypothesis</th>\n",
              "      <th>RICE</th>\n",
              "    </tr>\n",
              "  </thead>\n",
              "  <tbody>\n",
              "    <tr>\n",
              "      <th>7</th>\n",
              "      <td>Добавить форму подписки на все основные страницы, чтобы собрать базу клиентов для email-рассылок</td>\n",
              "      <td>112.0</td>\n",
              "    </tr>\n",
              "    <tr>\n",
              "      <th>2</th>\n",
              "      <td>Добавить блоки рекомендаций товаров на сайт интернет магазина, чтобы повысить конверсию и средний чек заказа</td>\n",
              "      <td>56.0</td>\n",
              "    </tr>\n",
              "    <tr>\n",
              "      <th>0</th>\n",
              "      <td>Добавить два новых канала привлечения трафика, что позволит привлекать на 30% больше пользователей</td>\n",
              "      <td>40.0</td>\n",
              "    </tr>\n",
              "    <tr>\n",
              "      <th>6</th>\n",
              "      <td>Показать на главной странице баннеры с актуальными акциями и распродажами, чтобы увеличить конверсию</td>\n",
              "      <td>40.0</td>\n",
              "    </tr>\n",
              "    <tr>\n",
              "      <th>8</th>\n",
              "      <td>Запустить акцию, дающую скидку на товар в день рождения</td>\n",
              "      <td>16.2</td>\n",
              "    </tr>\n",
              "    <tr>\n",
              "      <th>3</th>\n",
              "      <td>Изменить структура категорий, что увеличит конверсию, т.к. пользователи быстрее найдут нужный товар</td>\n",
              "      <td>9.0</td>\n",
              "    </tr>\n",
              "    <tr>\n",
              "      <th>1</th>\n",
              "      <td>Запустить собственную службу доставки, что сократит срок доставки заказов</td>\n",
              "      <td>4.0</td>\n",
              "    </tr>\n",
              "    <tr>\n",
              "      <th>5</th>\n",
              "      <td>Добавить страницу отзывов клиентов о магазине, что позволит увеличить количество заказов</td>\n",
              "      <td>4.0</td>\n",
              "    </tr>\n",
              "    <tr>\n",
              "      <th>4</th>\n",
              "      <td>Изменить цвет фона главной страницы, чтобы увеличить вовлеченность пользователей</td>\n",
              "      <td>3.0</td>\n",
              "    </tr>\n",
              "  </tbody>\n",
              "</table>\n",
              "</div>"
            ],
            "text/plain": [
              "                                                                                                     hypothesis  \\\n",
              "7              Добавить форму подписки на все основные страницы, чтобы собрать базу клиентов для email-рассылок   \n",
              "2  Добавить блоки рекомендаций товаров на сайт интернет магазина, чтобы повысить конверсию и средний чек заказа   \n",
              "0            Добавить два новых канала привлечения трафика, что позволит привлекать на 30% больше пользователей   \n",
              "6          Показать на главной странице баннеры с актуальными акциями и распродажами, чтобы увеличить конверсию   \n",
              "8                                                       Запустить акцию, дающую скидку на товар в день рождения   \n",
              "3           Изменить структура категорий, что увеличит конверсию, т.к. пользователи быстрее найдут нужный товар   \n",
              "1                                     Запустить собственную службу доставки, что сократит срок доставки заказов   \n",
              "5                      Добавить страницу отзывов клиентов о магазине, что позволит увеличить количество заказов   \n",
              "4                              Изменить цвет фона главной страницы, чтобы увеличить вовлеченность пользователей   \n",
              "\n",
              "    RICE  \n",
              "7  112.0  \n",
              "2   56.0  \n",
              "0   40.0  \n",
              "6   40.0  \n",
              "8   16.2  \n",
              "3    9.0  \n",
              "1    4.0  \n",
              "5    4.0  \n",
              "4    3.0  "
            ]
          },
          "metadata": {},
          "output_type": "display_data"
        }
      ],
      "source": [
        "data['RICE'] = data['reach'] * data['impact'] * data['confidence']/data['efforts']\n",
        "data['RICE'] = data['RICE'].astype('float')\n",
        "display(data[['hypothesis','RICE']].sort_values(by='RICE', ascending=False))"
      ]
    },
    {
      "cell_type": "markdown",
      "metadata": {
        "id": "c0BgIqpBuOhR"
      },
      "source": [
        "**Вывод:** Применили фреймворк RICE, выделили три наиболее перспективные гипотезы 7,2,0\n",
        "\n",
        "Фреймворк RICE дополнительно использует параметр охвата пользователей, таким образом приоритет гипотез изменился и гипотеза 8 ушла на 5-е место.\n",
        "В качестве перспективных гипотез на основе ICE и RICE предлагается оставить следующие гипотезы:\n",
        "1. Добавить форму подписки на все основные страницы, чтобы собрать базу клиентов для email-рассылок (7)\n",
        "2. Добавить два новых канала привлечения трафика, что позволит привлекать на 30% больше пользователей (0)"
      ]
    },
    {
      "cell_type": "markdown",
      "metadata": {
        "id": "s7JSZlhtuOhR"
      },
      "source": [
        "## Анализ A/B-теста\n",
        "### Оценка уникальных пользователей"
      ]
    },
    {
      "cell_type": "markdown",
      "metadata": {
        "id": "aF8ylduuuOhS"
      },
      "source": [
        "Прежде чем приступать к дальнейшим шагам, в предыдущем разделе мы увидели, что ысего уникальных пользователей 503 в группе А и 586 в группе В. Всего 1089, а заказов 1197. Посчитаем есть ли пользователи, которые попали в обе группы."
      ]
    },
    {
      "cell_type": "code",
      "execution_count": null,
      "metadata": {
        "id": "QFGVCEGkuOhS",
        "outputId": "edc6c44a-99b8-4de4-beb2-26f910ec9df6"
      },
      "outputs": [
        {
          "data": {
            "text/plain": [
              "58"
            ]
          },
          "execution_count": 21,
          "metadata": {},
          "output_type": "execute_result"
        }
      ],
      "source": [
        "visitorId_unique_before = len(orders['visitorId'].unique())\n",
        "visitorId_A = orders['visitorId'].loc[orders['group']=='A'].unique()\n",
        "visitorId_B = orders['visitorId'].loc[orders['group']=='B'].unique()\n",
        "visitorId_AB = np.intersect1d(visitorId_A,visitorId_B)\n",
        "len(visitorId_AB)"
      ]
    },
    {
      "cell_type": "markdown",
      "metadata": {
        "id": "a3mpN96-uOhS"
      },
      "source": [
        "Таких пользователей оказалось 58. Исключим данных пользователей из дальнейшего анализа и посмотрим какой процент уникальных пользователей мы потеряем."
      ]
    },
    {
      "cell_type": "code",
      "execution_count": null,
      "metadata": {
        "id": "GeD_hdgDuOhT",
        "outputId": "a2f8ff47-83ad-430b-de6c-aa359db32f65"
      },
      "outputs": [
        {
          "data": {
            "text/plain": [
              "5.6"
            ]
          },
          "execution_count": 22,
          "metadata": {},
          "output_type": "execute_result"
        }
      ],
      "source": [
        "orders = orders.loc[((orders['visitorId'].isin(list(visitorId_AB))!=True))]\n",
        "visitorId_unique_after = len(orders['visitorId'].unique())\n",
        "round(100-100*visitorId_unique_after/visitorId_unique_before,1)"
      ]
    },
    {
      "cell_type": "markdown",
      "metadata": {
        "id": "N9ycmivJuOhU"
      },
      "source": [
        "### Построим график кумулятивной выручки по группам"
      ]
    },
    {
      "cell_type": "code",
      "execution_count": null,
      "metadata": {
        "id": "7o53ZIrfuOhU",
        "outputId": "f6ef2c73-731b-443d-e8c7-d6a8a811ecdc"
      },
      "outputs": [
        {
          "data": {
            "image/png": "[encoded data removed]",
            "text/plain": [
              "<Figure size 1080x288 with 1 Axes>"
            ]
          },
          "metadata": {
            "needs_background": "light"
          },
          "output_type": "display_data"
        }
      ],
      "source": [
        "datesGroups = orders[['date', 'group']].drop_duplicates()\n",
        "\n",
        "ordersAggregated = datesGroups.apply(\n",
        "    lambda x: orders[\n",
        "        np.logical_and(\n",
        "            orders['date'] <= x['date'], orders['group'] == x['group']\n",
        "        )\n",
        "    ].agg(\n",
        "        {\n",
        "            'date': 'max',\n",
        "            'group': 'max',\n",
        "            'transactionId': 'nunique',\n",
        "            'visitorId': 'nunique',\n",
        "            'revenue': 'sum',\n",
        "        }\n",
        "    ),\n",
        "    axis=1,\n",
        ").sort_values(by=['date', 'group'])\n",
        "\n",
        "visitorsAggregated = datesGroups.apply(\n",
        "    lambda x: visitors[\n",
        "        np.logical_and(\n",
        "            visitors['date'] <= x['date'], visitors['group'] == x['group']\n",
        "        )\n",
        "    ].agg({'date': 'max', 'group': 'max', 'visitors': 'sum'}),\n",
        "    axis=1,\n",
        ").sort_values(by=['date', 'group'])\n",
        "\n",
        "cumulativeData = ordersAggregated.merge(\n",
        "    visitorsAggregated, left_on=['date', 'group'], right_on=['date', 'group']\n",
        ")\n",
        "cumulativeData.columns = [\n",
        "    'date',\n",
        "    'group',\n",
        "    'orders',\n",
        "    'buyers',\n",
        "    'revenue',\n",
        "    'visitors',\n",
        "]\n",
        "\n",
        "cumulativeRevenueA = cumulativeData[cumulativeData['group']=='A'][['date','revenue', 'orders']]\n",
        "cumulativeRevenueB = cumulativeData[cumulativeData['group']=='B'][['date','revenue', 'orders']]\n",
        "plt.figure(figsize=(15, 4))\n",
        "plt.plot(cumulativeRevenueA['date'], cumulativeRevenueA['revenue'], label='A')\n",
        "plt.plot(cumulativeRevenueB['date'], cumulativeRevenueB['revenue'], label='B')\n",
        "plt.legend()\n",
        "plt.xticks(rotation=45)\n",
        "plt.title(\"График кумулятивной выручки по группам\")\n",
        "plt.ylabel(\"Объем кумулятивной выручки\")\n",
        "plt.xlabel(\"Дата\")\n",
        "plt.show()"
      ]
    },
    {
      "cell_type": "markdown",
      "metadata": {
        "id": "udkNr1M3uOhV"
      },
      "source": [
        "**Вывод:** Группа В показывает более высокое значение выручки, однако разница незначительная. При этом 13.08.2019г. выручка между группами выравнивается, а 18.08.2019г. в группе В наблюдается резкий скачок. Причиной такого роста могут быть аномальные значения.\n",
        "\n",
        "**В общем кумулятивная выручка группы В к концу теста выше группы А это может быть связано как с увеличением конверсии, так и с увеличением среднего чека.**"
      ]
    },
    {
      "cell_type": "markdown",
      "metadata": {
        "id": "WZmOt3t4uOhW"
      },
      "source": [
        "### Построим график кумулятивного среднего чека по группам"
      ]
    },
    {
      "cell_type": "code",
      "execution_count": null,
      "metadata": {
        "id": "BSEnmT2suOhX",
        "outputId": "3a40f2d8-c5be-40e7-b068-50abc34a1c6f"
      },
      "outputs": [
        {
          "data": {
            "image/png": "[encoded data removed]",
            "text/plain": [
              "<Figure size 1080x288 with 1 Axes>"
            ]
          },
          "metadata": {
            "needs_background": "light"
          },
          "output_type": "display_data"
        }
      ],
      "source": [
        "plt.figure(figsize=(15, 4))\n",
        "plt.plot(cumulativeRevenueA['date'], cumulativeRevenueA['revenue']/cumulativeRevenueA['orders'], label='A')\n",
        "plt.plot(cumulativeRevenueB['date'], cumulativeRevenueB['revenue']/cumulativeRevenueB['orders'], label='B')\n",
        "plt.legend()\n",
        "plt.xticks(rotation=45)\n",
        "plt.title(\"График кумулятивного среднего чека по группам\")\n",
        "plt.ylabel(\"Средний чек\")\n",
        "plt.xlabel(\"Дата\")\n",
        "plt.show()"
      ]
    },
    {
      "cell_type": "markdown",
      "metadata": {
        "id": "ySo-3qZjuOhX"
      },
      "source": [
        "**Вывод:** Кумулятивный средний чек по группам колеблится и линии графиков А и В пересекаются трижды. Как и в показателях выручки 18.08.2019г. в группе В наблюдается резкий скачок, а затем тенденция к снижению до конца рассматриваемого периода. Таким образом однозначный вывод на данном этапе сделать нельзя. Необходима проверка аномальных значений."
      ]
    },
    {
      "cell_type": "markdown",
      "metadata": {
        "id": "CNgDg-7vuOhX"
      },
      "source": [
        "### Построим график относительного изменения кумулятивного среднего чека группы B к группе A"
      ]
    },
    {
      "cell_type": "code",
      "execution_count": null,
      "metadata": {
        "id": "VGiLuTibuOhY",
        "outputId": "3a895d6b-61c9-47fb-90fb-7ce8da5ccba7"
      },
      "outputs": [
        {
          "data": {
            "image/png": "[encoded data removed]",
            "text/plain": [
              "<Figure size 1080x288 with 1 Axes>"
            ]
          },
          "metadata": {
            "needs_background": "light"
          },
          "output_type": "display_data"
        }
      ],
      "source": [
        "mergedCumulativeRevenue = cumulativeRevenueA.merge(cumulativeRevenueB, left_on='date', right_on='date', how='left', suffixes=['A', 'B'])\n",
        "plt.figure(figsize=(15, 4))\n",
        "plt.plot(mergedCumulativeRevenue['date'], (mergedCumulativeRevenue['revenueB']/mergedCumulativeRevenue['ordersB'])/(mergedCumulativeRevenue['revenueA']/mergedCumulativeRevenue['ordersA'])-1)\n",
        "\n",
        "plt.axhline(y=0, color='black', linestyle='--')\n",
        "plt.xticks(rotation=45)\n",
        "plt.title(\"График относительного изменения кумулятивного среднего чека группы B к группе A\")\n",
        "plt.ylabel(\"Отношение кумулятивного среднего чека группы В к группе А\")\n",
        "plt.xlabel(\"Дата\")\n",
        "plt.show()"
      ]
    },
    {
      "cell_type": "markdown",
      "metadata": {
        "id": "2rva827MuOhY"
      },
      "source": [
        "**Вывод**: так же как и в предыдущих графиках показатели среднего чека группы Взначительно выше группы А и в пиковом значении превышают на 40%, однако наблюдаются резкие скачки, необходимо исследовать выбросы."
      ]
    },
    {
      "cell_type": "markdown",
      "metadata": {
        "id": "CX4fNlabuOhY"
      },
      "source": [
        "### Построим график кумулятивного среднего количества заказов на посетителя по группам"
      ]
    },
    {
      "cell_type": "code",
      "execution_count": null,
      "metadata": {
        "id": "-4ACsemHuOhZ",
        "outputId": "4c403ee3-4a58-4648-de50-bb797b97878a"
      },
      "outputs": [
        {
          "data": {
            "image/png": "[encoded data removed]",
            "text/plain": [
              "<Figure size 1080x288 with 1 Axes>"
            ]
          },
          "metadata": {
            "needs_background": "light"
          },
          "output_type": "display_data"
        }
      ],
      "source": [
        "cumulativeData['conversion'] = cumulativeData['orders']/cumulativeData['visitors']\n",
        "\n",
        "cumulativeDataA = cumulativeData[cumulativeData['group']=='A']\n",
        "\n",
        "cumulativeDataB = cumulativeData[cumulativeData['group']=='B']\n",
        "\n",
        "plt.figure(figsize=(15, 4))\n",
        "plt.plot(cumulativeDataA['date'], cumulativeDataA['conversion'], label='A')\n",
        "plt.plot(cumulativeDataB['date'], cumulativeDataB['conversion'], label='B')\n",
        "plt.legend()\n",
        "plt.xticks(rotation=45)\n",
        "plt.title(\"График кумулятивного среднего количества заказов на посетителя по группам\")\n",
        "plt.ylabel(\"Среднее количество заказов на посетителя\")\n",
        "plt.xlabel(\"Дата\")\n",
        "plt.show()"
      ]
    },
    {
      "cell_type": "markdown",
      "metadata": {
        "id": "JZtKH4xyuOhZ"
      },
      "source": [
        "**Вывод**: Начиная с 6-го дня теста значения кумулятивного среднего количества заказов на посетителя группы В стабильно превышают значения группы А."
      ]
    },
    {
      "cell_type": "markdown",
      "metadata": {
        "id": "l25SspbGuOhZ"
      },
      "source": [
        "### Построим график относительного изменения кумулятивного среднего количества заказов на посетителя группы B к группе A"
      ]
    },
    {
      "cell_type": "code",
      "execution_count": null,
      "metadata": {
        "id": "6E344x29uOha",
        "outputId": "a0674533-10eb-4f34-e978-76d5b926481f"
      },
      "outputs": [
        {
          "data": {
            "image/png": "[encoded data removed]",
            "text/plain": [
              "<Figure size 1080x288 with 1 Axes>"
            ]
          },
          "metadata": {
            "needs_background": "light"
          },
          "output_type": "display_data"
        }
      ],
      "source": [
        "mergedCumulativeConversions = cumulativeDataA[['date','conversion']].merge(cumulativeDataB[['date','conversion']], left_on='date', right_on='date', how='left', suffixes=['A', 'B'])\n",
        "plt.figure(figsize=(15, 4))\n",
        "plt.plot(mergedCumulativeConversions['date'], mergedCumulativeConversions['conversionB']/mergedCumulativeConversions['conversionA']-1,  label=\"Относительный прирост среднего количества заказов на посетителя группы B относительно группы A\")\n",
        "plt.legend()\n",
        "\n",
        "plt.axhline(y=0, color='black', linestyle='--')\n",
        "plt.axhline(y=0.21, color='grey', linestyle='--')\n",
        "plt.xticks(rotation=45)\n",
        "plt.title(\"График относительного изменения кумулятивного среднего количества заказов на посетителя группы B к группе A\")\n",
        "plt.ylabel(\"Отношение среднего количества заказов на посетителя В к А\")\n",
        "plt.xlabel(\"Дата\")\n",
        "plt.show()"
      ]
    },
    {
      "cell_type": "markdown",
      "metadata": {
        "id": "Z3hP7VlDuOha"
      },
      "source": [
        "**Вывод:** Как и на предыдущем графике показатели группы В с 06.08.2019г. стабильно выше показателей группы А, при этом превышение начиная с 10.08.2019г. колеблится в пределах 10-20%."
      ]
    },
    {
      "cell_type": "markdown",
      "metadata": {
        "id": "gYaJW5lHuOhb"
      },
      "source": [
        "### Построим точечный график количества заказов по пользователям"
      ]
    },
    {
      "cell_type": "code",
      "execution_count": null,
      "metadata": {
        "id": "9GVAEgspuOhb"
      },
      "outputs": [],
      "source": [
        "ordersByUsers = (\n",
        "    orders.groupby('visitorId', as_index=False)\n",
        "    .agg({'transactionId': 'nunique'})\n",
        ")\n",
        "ordersByUsers.columns = ['visitorId', 'orders']"
      ]
    },
    {
      "cell_type": "code",
      "execution_count": null,
      "metadata": {
        "id": "tP3oC6NMuOhb",
        "outputId": "885db226-b05f-4ade-96bc-a5a20773fa91"
      },
      "outputs": [
        {
          "data": {
            "image/png": "[encoded data removed]",
            "text/plain": [
              "<Figure size 1080x288 with 1 Axes>"
            ]
          },
          "metadata": {
            "needs_background": "light"
          },
          "output_type": "display_data"
        }
      ],
      "source": [
        "x_values = pd.Series(range(0, len(ordersByUsers)))\n",
        "plt.figure(figsize=(15, 4))\n",
        "plt.scatter(x_values, ordersByUsers['orders'])\n",
        "plt.title(\"Точечный график количества заказов по пользователям\")\n",
        "plt.ylabel(\"Количество заказов\")\n",
        "plt.xlabel(\"Пользователи\")\n",
        "plt.show()"
      ]
    },
    {
      "cell_type": "markdown",
      "metadata": {
        "id": "LZKUGOFZuOhc"
      },
      "source": [
        "**Вывод:** Основная часть пользователей делали 1 заказ."
      ]
    },
    {
      "cell_type": "markdown",
      "metadata": {
        "id": "L7ZyBx5EuOhc"
      },
      "source": [
        "### Посчитаем 95-й и 99-й перцентили количества заказов на пользователя."
      ]
    },
    {
      "cell_type": "code",
      "execution_count": null,
      "metadata": {
        "id": "qgKS5hptuOhc",
        "outputId": "b0db1496-82ef-4899-e3f7-baad7d9d3649"
      },
      "outputs": [
        {
          "data": {
            "text/plain": [
              "array([1., 2.])"
            ]
          },
          "execution_count": 30,
          "metadata": {},
          "output_type": "execute_result"
        }
      ],
      "source": [
        "np.percentile(ordersByUsers['orders'], [95, 99])"
      ]
    },
    {
      "cell_type": "markdown",
      "metadata": {
        "id": "2-xTsje2uOhd"
      },
      "source": [
        "**Вывод:** Значение 99 перцентиля - 2, это означает, что 3 заказа делал не более 1% пользователей. Пользователей, сделавших 3 заказа считаем аномальными."
      ]
    },
    {
      "cell_type": "markdown",
      "metadata": {
        "id": "odyzZsOKuOhd"
      },
      "source": [
        "### Построим точечный график стоимостей заказов."
      ]
    },
    {
      "cell_type": "code",
      "execution_count": null,
      "metadata": {
        "id": "glhuo-3NuOhd",
        "outputId": "437d15c2-73bf-4e72-c6dd-3a469f4115a9"
      },
      "outputs": [
        {
          "data": {
            "image/png": "[encoded data removed]",
            "text/plain": [
              "<Figure size 1080x288 with 1 Axes>"
            ]
          },
          "metadata": {
            "needs_background": "light"
          },
          "output_type": "display_data"
        }
      ],
      "source": [
        "x_values = pd.Series(range(0, len(orders['revenue'])))\n",
        "plt.figure(figsize=(15, 4))\n",
        "plt.scatter(x_values, orders['revenue'])\n",
        "plt.title(\"Точечный график стоимостей заказов по пользователям\")\n",
        "plt.ylabel(\"Стоимость заказа\")\n",
        "plt.xlabel(\"Пользователи\")\n",
        "plt.show()"
      ]
    },
    {
      "cell_type": "markdown",
      "metadata": {
        "id": "TYWLZgzSuOhe"
      },
      "source": [
        "**Вывод:** На графике видно аномальное значение (более 1.2 млн руб.). Остальные заказы не превышают 100 тыс. руб. Скорее всего данное значение искажает результаты группы В в точке даты 18.08.2019г."
      ]
    },
    {
      "cell_type": "code",
      "execution_count": null,
      "metadata": {
        "id": "UdO60wNBuOhe",
        "outputId": "18e1ee58-6d64-4f10-d15f-db91c7c2c2b5"
      },
      "outputs": [
        {
          "data": {
            "image/png": "[encoded data removed]",
            "text/plain": [
              "<Figure size 1080x288 with 1 Axes>"
            ]
          },
          "metadata": {
            "needs_background": "light"
          },
          "output_type": "display_data"
        }
      ],
      "source": [
        "x_values = pd.Series(range(0, len(orders['revenue'])))\n",
        "plt.figure(figsize=(15, 4))\n",
        "plt.scatter(x_values, orders['revenue'])\n",
        "plt.title(\"Точечный график стоимостей заказов по пользователям\")\n",
        "plt.ylabel(\"Стоимость заказа\")\n",
        "plt.xlabel(\"Пользователи\")\n",
        "plt.ylim([0, 100000])\n",
        "plt.show()"
      ]
    },
    {
      "cell_type": "markdown",
      "metadata": {
        "id": "c1uyLY-UuOhf"
      },
      "source": [
        "<div class=\"alert alert-info\"> <b>Комментарий студента:</b> Построил новый график с ограничением по оси У до 100 тыс. руб. Увидел более подробно распределение заказов. Так же увидел опечатку в предыдущем выводе выше \"Остальные заказы не превышают 20 тыс. руб.\", имел ввиду 200 тыс. руб., но с учетом более масштабного графика исправил на 100 тыс. руб.</div>"
      ]
    },
    {
      "cell_type": "markdown",
      "metadata": {
        "id": "qpHi0q0ouOhg"
      },
      "source": [
        "### Посчитаем 95-й и 99-й перцентили стоимости заказов"
      ]
    },
    {
      "cell_type": "code",
      "execution_count": null,
      "metadata": {
        "id": "Duolxh22uOhg",
        "outputId": "734af150-fc18-475a-bdb6-06c9e6444875"
      },
      "outputs": [
        {
          "data": {
            "text/plain": [
              "array([26785., 53904.])"
            ]
          },
          "execution_count": 33,
          "metadata": {},
          "output_type": "execute_result"
        }
      ],
      "source": [
        "np.percentile(orders['revenue'], [95, 99])"
      ]
    },
    {
      "cell_type": "markdown",
      "metadata": {
        "id": "ihNQDa-AuOhg"
      },
      "source": [
        "**Вывод:** Значение 99 перцентиля - 53904, это означает, что заказы выше этой суммы делал не более 1% пользователей. С учетом точечного графика можем считать аномалиями все заказы выше 20 тыс. руб, но для сохранения общих правил (изученных в теоретической части), будем считать аномальными значениями заказы выше 53904 руб."
      ]
    },
    {
      "cell_type": "markdown",
      "metadata": {
        "id": "qHAkyQ5zuOhh"
      },
      "source": [
        "### Посчитаем статистическую значимость различий в среднем количестве заказов на посетителя между группами по «сырым» данным."
      ]
    },
    {
      "cell_type": "markdown",
      "metadata": {
        "id": "KcAbioOluOhh"
      },
      "source": [
        "Сформулируем гипотезы. Нулевая: различий в среднем количестве заказов между группами нет. Альтернативная: различия в среднем количестве заказов между группами есть.\n",
        "        \n",
        "Используем готовый код, изученный в теоретической части."
      ]
    },
    {
      "cell_type": "code",
      "execution_count": null,
      "metadata": {
        "id": "d2Vj2s88uOhh",
        "outputId": "67d5f8a6-5d6f-4079-860f-5ec004115898"
      },
      "outputs": [
        {
          "name": "stdout",
          "output_type": "stream",
          "text": [
            "P-value = 0.01102\n"
          ]
        }
      ],
      "source": [
        "visitorsADaily = visitors[visitors['group'] == 'A'][['date', 'visitors']]\n",
        "visitorsADaily.columns = ['date', 'visitorsPerDateA']\n",
        "\n",
        "visitorsACummulative = visitorsADaily.apply(\n",
        "    lambda x: visitorsADaily[visitorsADaily['date'] <= x['date']].agg(\n",
        "        {'date': 'max', 'visitorsPerDateA': 'sum'}\n",
        "    ),\n",
        "    axis=1,\n",
        ")\n",
        "visitorsACummulative.columns = ['date', 'visitorsCummulativeA']\n",
        "\n",
        "visitorsBDaily = visitors[visitors['group'] == 'B'][['date', 'visitors']]\n",
        "visitorsBDaily.columns = ['date', 'visitorsPerDateB']\n",
        "\n",
        "visitorsBCummulative = visitorsBDaily.apply(\n",
        "    lambda x: visitorsBDaily[visitorsBDaily['date'] <= x['date']].agg(\n",
        "        {'date': 'max', 'visitorsPerDateB': 'sum'}\n",
        "    ),\n",
        "    axis=1,\n",
        ")\n",
        "visitorsBCummulative.columns = ['date', 'visitorsCummulativeB']\n",
        "\n",
        "ordersADaily = (\n",
        "    orders[orders['group'] == 'A'][['date', 'transactionId', 'visitorId', 'revenue']]\n",
        "    .groupby('date', as_index=False)\n",
        "    .agg({'transactionId': pd.Series.nunique, 'revenue': 'sum'})\n",
        ")\n",
        "ordersADaily.columns = ['date', 'ordersPerDateA', 'revenuePerDateA']\n",
        "\n",
        "ordersACummulative = ordersADaily.apply(\n",
        "    lambda x: ordersADaily[ordersADaily['date'] <= x['date']].agg(\n",
        "        {'date': 'max', 'ordersPerDateA': 'sum', 'revenuePerDateA': 'sum'}\n",
        "    ),\n",
        "    axis=1,\n",
        ").sort_values(by=['date'])\n",
        "ordersACummulative.columns = [\n",
        "    'date',\n",
        "    'ordersCummulativeA',\n",
        "    'revenueCummulativeA',\n",
        "]\n",
        "\n",
        "ordersBDaily = (\n",
        "    orders[orders['group'] == 'B'][['date', 'transactionId', 'visitorId', 'revenue']]\n",
        "    .groupby('date', as_index=False)\n",
        "    .agg({'transactionId': pd.Series.nunique, 'revenue': 'sum'})\n",
        ")\n",
        "ordersBDaily.columns = ['date', 'ordersPerDateB', 'revenuePerDateB']\n",
        "\n",
        "ordersBCummulative = ordersBDaily.apply(\n",
        "    lambda x: ordersBDaily[ordersBDaily['date'] <= x['date']].agg(\n",
        "        {'date': 'max', 'ordersPerDateB': 'sum', 'revenuePerDateB': 'sum'}\n",
        "    ),\n",
        "    axis=1,\n",
        ").sort_values(by=['date'])\n",
        "ordersBCummulative.columns = [\n",
        "    'date',\n",
        "    'ordersCummulativeB',\n",
        "    'revenueCummulativeB',\n",
        "]\n",
        "\n",
        "data = (\n",
        "    ordersADaily.merge(\n",
        "        ordersBDaily, left_on='date', right_on='date', how='left'\n",
        "    )\n",
        "    .merge(ordersACummulative, left_on='date', right_on='date', how='left')\n",
        "    .merge(ordersBCummulative, left_on='date', right_on='date', how='left')\n",
        "    .merge(visitorsADaily, left_on='date', right_on='date', how='left')\n",
        "    .merge(visitorsBDaily, left_on='date', right_on='date', how='left')\n",
        "    .merge(visitorsACummulative, left_on='date', right_on='date', how='left')\n",
        "    .merge(visitorsBCummulative, left_on='date', right_on='date', how='left')\n",
        ")\n",
        "\n",
        "ordersByUsersA = (\n",
        "    orders[orders['group'] == 'A']\n",
        "    .groupby('visitorId', as_index=False)\n",
        "    .agg({'transactionId': pd.Series.nunique})\n",
        ")\n",
        "ordersByUsersA.columns = ['visitorId', 'orders']\n",
        "\n",
        "ordersByUsersB = (\n",
        "    orders[orders['group'] == 'B']\n",
        "    .groupby('visitorId', as_index=False)\n",
        "    .agg({'transactionId': pd.Series.nunique})\n",
        ")\n",
        "ordersByUsersB.columns = ['visitorId', 'orders']\n",
        "\n",
        "sampleA = pd.concat(\n",
        "    [\n",
        "        ordersByUsersA['orders'],\n",
        "        pd.Series(\n",
        "            0,\n",
        "            index=np.arange(\n",
        "                data['visitorsPerDateA'].sum() - len(ordersByUsersA['orders'])\n",
        "            ),\n",
        "            name='orders',\n",
        "        ),\n",
        "    ],\n",
        "    axis=0,\n",
        ")\n",
        "\n",
        "sampleB = pd.concat(\n",
        "    [\n",
        "        ordersByUsersB['orders'],\n",
        "        pd.Series(\n",
        "            0,\n",
        "            index=np.arange(\n",
        "                data['visitorsPerDateB'].sum() - len(ordersByUsersB['orders'])\n",
        "            ),\n",
        "            name='orders',\n",
        "        ),\n",
        "    ],\n",
        "    axis=0,\n",
        ")\n",
        "\n",
        "print('P-value =' ,\"{0:.5f}\".format(stats.mannwhitneyu(sampleA, sampleB)[1]))"
      ]
    },
    {
      "cell_type": "markdown",
      "metadata": {
        "id": "fWRHXnKfuOhi"
      },
      "source": [
        "**Вывод:** Значение P-value меньше 0.05, следовательно нулевую гепотезу **отвергаем**."
      ]
    },
    {
      "cell_type": "code",
      "execution_count": null,
      "metadata": {
        "id": "kFC9gfZauOhj",
        "outputId": "3c7f8421-944f-41c8-ed4f-833d9573544c"
      },
      "outputs": [
        {
          "name": "stdout",
          "output_type": "stream",
          "text": [
            "Превышение количества заказов в группе Б относительно группы А составлят 0.160\n"
          ]
        }
      ],
      "source": [
        "print('Превышение количества заказов в группе Б относительно группы А составлят', \"{0:.3f}\".format((data['ordersPerDateB'].sum()/data['visitorsPerDateB'].sum())/(data['ordersPerDateA'].sum()/data['visitorsPerDateA'].sum())-1))"
      ]
    },
    {
      "cell_type": "markdown",
      "metadata": {
        "id": "uCFr9uBeuOhj"
      },
      "source": [
        "**Вывод:** Среднее количество заказов на посетителя группы В на 16% больше чем в группе А."
      ]
    },
    {
      "cell_type": "markdown",
      "metadata": {
        "id": "U_K3z8e6uOhk"
      },
      "source": [
        "### Посчитаем статистическую значимость различий в среднем чеке заказа между группами по «сырым» данным"
      ]
    },
    {
      "cell_type": "markdown",
      "metadata": {
        "id": "Dawou6JwuOhk"
      },
      "source": [
        "Сформулируем гипотезы. Нулевая: различий в среднем чеке заказа между группами нет. Альтернативная: различия в среднем чеке заказа между группами есть."
      ]
    },
    {
      "cell_type": "code",
      "execution_count": null,
      "metadata": {
        "id": "FXbEwBJKuOhk",
        "outputId": "8becb22c-2794-4d7d-fcd8-11d7694197bd"
      },
      "outputs": [
        {
          "name": "stdout",
          "output_type": "stream",
          "text": [
            "P-value = 0.82949\n"
          ]
        }
      ],
      "source": [
        "print('P-value =' ,'{0:.5f}'.format(stats.mannwhitneyu(orders[orders['group']=='A']['revenue'], orders[orders['group']=='B']['revenue'])[1]))"
      ]
    },
    {
      "cell_type": "markdown",
      "metadata": {
        "id": "zFpUFhZTuOhl"
      },
      "source": [
        "**Вывод:** Значение P-value больше 0.05, следовательно нулевую гепотезу **не отвергаем**."
      ]
    },
    {
      "cell_type": "code",
      "execution_count": null,
      "metadata": {
        "id": "iHPkn1hUuOhl",
        "outputId": "157e0f45-fc33-4332-abfe-3cd912b7ad5d"
      },
      "outputs": [
        {
          "name": "stdout",
          "output_type": "stream",
          "text": [
            "Превышение среднего чека заказа в группе Б относительно группы А составлят 0.28660\n"
          ]
        }
      ],
      "source": [
        "print('Превышение среднего чека заказа в группе Б относительно группы А составлят', '{0:.5f}'.format(orders[orders['group']=='B']['revenue'].mean()/orders[orders['group']=='A']['revenue'].mean()-1))"
      ]
    },
    {
      "cell_type": "markdown",
      "metadata": {
        "id": "go-xbXrtuOhm"
      },
      "source": [
        "**Вывод:** Средний чек заказа группы В на 28,6% больше чем в группе А. Поскольку относительное различие среднего чека между сегментами составляет ~26%, наблюдаемые различия не являются значимыми при таком уровне значимости, а следовательно были получены случайно."
      ]
    },
    {
      "cell_type": "markdown",
      "metadata": {
        "id": "5r7lTzqsuOhn"
      },
      "source": [
        "### Посчитаем статистическую значимость различий в среднем количестве заказов на посетителя между группами по «очищенным» данным."
      ]
    },
    {
      "cell_type": "code",
      "execution_count": null,
      "metadata": {
        "id": "Iim3SV-DuOhn",
        "outputId": "e782bfe0-b349-4335-b8cb-9ae98be4f07c"
      },
      "outputs": [
        {
          "name": "stdout",
          "output_type": "stream",
          "text": [
            "Количество исключаемых пользователей, совершивших более 3 заказа и заказы свыше 53904 руб. = 16\n"
          ]
        }
      ],
      "source": [
        "usersWithManyOrders = pd.concat(\n",
        "    [\n",
        "        ordersByUsersA[ordersByUsersA['orders'] > np.percentile(ordersByUsers['orders'], [95, 99])[1]]['visitorId'],\n",
        "        ordersByUsersB[ordersByUsersB['orders'] > np.percentile(ordersByUsers['orders'], [95, 99])[1]]['visitorId'],\n",
        "    ],\n",
        "    axis=0,\n",
        ")\n",
        "usersWithExpensiveOrders = orders[orders['revenue'] > np.percentile(orders['revenue'], [95, 99])[1]]['visitorId']\n",
        "abnormalUsers = (\n",
        "    pd.concat([usersWithManyOrders, usersWithExpensiveOrders], axis=0)\n",
        "    .drop_duplicates()\n",
        "    .sort_values()\n",
        ")\n",
        "print('Количество исключаемых пользователей, совершивших более 3 заказа и заказы свыше 53904 руб. =', abnormalUsers.shape[0])"
      ]
    },
    {
      "cell_type": "code",
      "execution_count": null,
      "metadata": {
        "id": "g3tN96uouOhn",
        "outputId": "1e6f5c1b-4ad2-4763-a525-bf565730dd3e"
      },
      "outputs": [
        {
          "name": "stdout",
          "output_type": "stream",
          "text": [
            "P-value = 0.00702\n"
          ]
        }
      ],
      "source": [
        "sampleAFiltered = pd.concat(\n",
        "    [\n",
        "        ordersByUsersA[\n",
        "            np.logical_not(ordersByUsersA['visitorId'].isin(abnormalUsers))\n",
        "        ]['orders'],\n",
        "        pd.Series(\n",
        "            0,\n",
        "            index=np.arange(\n",
        "                data['visitorsPerDateA'].sum() - len(ordersByUsersA['orders'])\n",
        "            ),\n",
        "            name='orders',\n",
        "        ),\n",
        "    ],\n",
        "    axis=0,\n",
        ")\n",
        "\n",
        "sampleBFiltered = pd.concat(\n",
        "    [\n",
        "        ordersByUsersB[\n",
        "            np.logical_not(ordersByUsersB['visitorId'].isin(abnormalUsers))\n",
        "        ]['orders'],\n",
        "        pd.Series(\n",
        "            0,\n",
        "            index=np.arange(\n",
        "                data['visitorsPerDateB'].sum() - len(ordersByUsersB['orders'])\n",
        "            ),\n",
        "            name='orders',\n",
        "        ),\n",
        "    ],\n",
        "    axis=0,\n",
        ")\n",
        "print('P-value =', '{0:.5f}'.format(stats.mannwhitneyu(sampleAFiltered, sampleBFiltered)[1]))"
      ]
    },
    {
      "cell_type": "markdown",
      "metadata": {
        "id": "l36LwQOZuOho"
      },
      "source": [
        "**Вывод:** Значение P-value по \"очищенным\" данным снизилось по сравнению с предыдущим результатом и по прежднему остается меньше 0.05, следовательно вывод не изменился."
      ]
    },
    {
      "cell_type": "code",
      "execution_count": null,
      "metadata": {
        "id": "PCuVAswNuOho",
        "outputId": "b02d7761-2c3f-4e1d-de8d-4d884eb43d19"
      },
      "outputs": [
        {
          "name": "stdout",
          "output_type": "stream",
          "text": [
            "Превышение количества заказов в группе Б относительно группы А составлят 0.189\n"
          ]
        }
      ],
      "source": [
        "print('Превышение количества заказов в группе Б относительно группы А составлят', '{0:.3f}'.format(sampleBFiltered.mean()/sampleAFiltered.mean()-1))"
      ]
    },
    {
      "cell_type": "markdown",
      "metadata": {
        "id": "_4rOGyBxuOhp"
      },
      "source": [
        "**Вывод:** Процент превышения количества заказов в группе Б относительно группы А по \"очищенным\" данным незначительно увеличился с 16% до 18,9%"
      ]
    },
    {
      "cell_type": "markdown",
      "metadata": {
        "id": "aUbzB2p_uOhp"
      },
      "source": [
        "### Посчитаем статистическую значимость различий в среднем чеке заказа между группами по «очищенным» данным"
      ]
    },
    {
      "cell_type": "code",
      "execution_count": null,
      "metadata": {
        "id": "gyQ1ak3OuOhp",
        "outputId": "99848ce4-6f1b-40e2-be12-1ba4890dbc23"
      },
      "outputs": [
        {
          "name": "stdout",
          "output_type": "stream",
          "text": [
            "P-value = 0.788\n"
          ]
        }
      ],
      "source": [
        "print('P-value =' ,\n",
        "    '{0:.3f}'.format(\n",
        "        stats.mannwhitneyu(\n",
        "            orders[\n",
        "                np.logical_and(\n",
        "                    orders['group'] == 'A',\n",
        "                    np.logical_not(orders['visitorId'].isin(abnormalUsers)),\n",
        "                )\n",
        "            ]['revenue'],\n",
        "            orders[\n",
        "                np.logical_and(\n",
        "                    orders['group'] == 'B',\n",
        "                    np.logical_not(orders['visitorId'].isin(abnormalUsers)),\n",
        "                )\n",
        "            ]['revenue'],\n",
        "        )[1]\n",
        "    )\n",
        ")"
      ]
    },
    {
      "cell_type": "markdown",
      "metadata": {
        "id": "WAu-U5zquOhq"
      },
      "source": [
        "**Вывод:** Значение P-value по \"очищенным\" данным снизилось по сравнению с предыдущим результатом, но по прежднему остается больше 0.05, следовательно вывод не изменился."
      ]
    },
    {
      "cell_type": "code",
      "execution_count": null,
      "metadata": {
        "id": "6vuliw82uOhq",
        "outputId": "62e513cd-5427-4f06-bc9a-1d410f570319"
      },
      "outputs": [
        {
          "name": "stdout",
          "output_type": "stream",
          "text": [
            "Превышение среднего чека заказа в группе Б относительно группы А составлят 0.03342\n"
          ]
        }
      ],
      "source": [
        "print('Превышение среднего чека заказа в группе Б относительно группы А составлят',\n",
        "    '{0:.5f}'.format(\n",
        "\n",
        "            orders[\n",
        "                np.logical_and(\n",
        "                    orders['group'] == 'A',\n",
        "                    np.logical_not(orders['visitorId'].isin(abnormalUsers)),\n",
        "                )\n",
        "            ]['revenue'].mean() /\n",
        "            orders[\n",
        "                np.logical_and(\n",
        "                    orders['group'] == 'B',\n",
        "                    np.logical_not(orders['visitorId'].isin(abnormalUsers)),\n",
        "                )\n",
        "            ]['revenue'].mean()-1\n",
        "    )\n",
        ")"
      ]
    },
    {
      "cell_type": "markdown",
      "metadata": {
        "id": "3ItNNdzUuOhq"
      },
      "source": [
        "**Вывод:** А вот процент различия в среднем чеке заказа между группами по \"очищенным\" данным относительно \"сырых\" снизился значительно с 28,6% до 3,3%. Исключение аномальных показателей значительно повлияло на результат.  "
      ]
    },
    {
      "cell_type": "markdown",
      "metadata": {
        "id": "KFKY_YLVuOhr"
      },
      "source": [
        "### Примем решение по результатам теста и объясним его."
      ]
    },
    {
      "cell_type": "markdown",
      "metadata": {
        "id": "i9USuKaIuOhr"
      },
      "source": [
        "Варианты решений:\n",
        "1. Остановить тест, зафиксировать победу одной из групп.\n",
        "2. Остановить тест, зафиксировать отсутствие различий между группами.\n",
        "3. Продолжить тест.\n",
        "\n",
        "**Вывод:** среднее количество заказов на посетителя в группе В по \"сырым\" и по \"очищенным\" данным превышает среднее количество заказов группы А.\n",
        "Различий в среднем чеке заказа между группами по \"сырым\" и по \"очищенным\" данным нет.\n",
        "\n",
        "**Решение: тест можно остановить и зафиксировать победу группы В.**"
      ]
    }
  ],
  "metadata": {
    "ExecuteTimeLog": [
      {
        "duration": 117,
        "start_time": "2023-06-16T21:13:03.603Z"
      },
      {
        "duration": 1717,
        "start_time": "2023-06-16T21:13:07.386Z"
      },
      {
        "duration": 313,
        "start_time": "2023-06-16T21:13:10.650Z"
      },
      {
        "duration": 102,
        "start_time": "2023-06-16T21:18:02.680Z"
      },
      {
        "duration": 10,
        "start_time": "2023-06-16T21:23:13.188Z"
      },
      {
        "duration": 6,
        "start_time": "2023-06-16T21:23:40.599Z"
      },
      {
        "duration": 13,
        "start_time": "2023-06-16T21:23:53.381Z"
      },
      {
        "duration": 17,
        "start_time": "2023-06-16T21:24:20.340Z"
      },
      {
        "duration": 12,
        "start_time": "2023-06-16T21:24:25.105Z"
      },
      {
        "duration": 9,
        "start_time": "2023-06-16T21:24:33.563Z"
      },
      {
        "duration": 26,
        "start_time": "2023-06-16T21:25:09.259Z"
      },
      {
        "duration": 12,
        "start_time": "2023-06-16T21:25:29.439Z"
      },
      {
        "duration": 17,
        "start_time": "2023-06-16T21:25:55.256Z"
      },
      {
        "duration": 9,
        "start_time": "2023-06-16T21:25:59.146Z"
      },
      {
        "duration": 11,
        "start_time": "2023-06-16T21:28:46.944Z"
      },
      {
        "duration": 9,
        "start_time": "2023-06-16T21:29:27.259Z"
      },
      {
        "duration": 8,
        "start_time": "2023-06-16T21:29:28.862Z"
      },
      {
        "duration": 28,
        "start_time": "2023-06-16T21:34:09.511Z"
      },
      {
        "duration": 14,
        "start_time": "2023-06-16T21:34:47.328Z"
      },
      {
        "duration": 4,
        "start_time": "2023-06-16T21:38:12.991Z"
      },
      {
        "duration": 9,
        "start_time": "2023-06-16T21:38:22.396Z"
      },
      {
        "duration": 10,
        "start_time": "2023-06-16T21:39:14.549Z"
      },
      {
        "duration": 5,
        "start_time": "2023-06-16T21:47:56.548Z"
      },
      {
        "duration": 20,
        "start_time": "2023-06-16T21:48:05.337Z"
      },
      {
        "duration": 15,
        "start_time": "2023-06-16T21:48:23.275Z"
      },
      {
        "duration": 19,
        "start_time": "2023-06-16T21:52:09.938Z"
      },
      {
        "duration": 3,
        "start_time": "2023-06-16T21:58:35.276Z"
      },
      {
        "duration": 16,
        "start_time": "2023-06-16T21:58:37.312Z"
      },
      {
        "duration": 19,
        "start_time": "2023-06-16T22:01:37.889Z"
      },
      {
        "duration": 15,
        "start_time": "2023-06-17T16:59:05.936Z"
      },
      {
        "duration": 7,
        "start_time": "2023-06-17T17:00:03.242Z"
      },
      {
        "duration": 2719,
        "start_time": "2023-06-17T17:01:15.246Z"
      },
      {
        "duration": 10,
        "start_time": "2023-06-17T17:02:04.134Z"
      },
      {
        "duration": 6,
        "start_time": "2023-06-17T17:02:32.911Z"
      },
      {
        "duration": 11,
        "start_time": "2023-06-17T17:02:35.030Z"
      },
      {
        "duration": 19,
        "start_time": "2023-06-17T17:08:47.374Z"
      },
      {
        "duration": 2534,
        "start_time": "2023-06-17T17:16:05.662Z"
      },
      {
        "duration": 9,
        "start_time": "2023-06-17T17:16:41.758Z"
      },
      {
        "duration": 14,
        "start_time": "2023-06-17T17:23:58.403Z"
      },
      {
        "duration": 10,
        "start_time": "2023-06-17T17:24:31.379Z"
      },
      {
        "duration": 1360,
        "start_time": "2023-06-17T17:25:27.273Z"
      },
      {
        "duration": 123,
        "start_time": "2023-06-17T17:25:28.642Z"
      },
      {
        "duration": 20,
        "start_time": "2023-06-17T17:25:28.767Z"
      },
      {
        "duration": 15,
        "start_time": "2023-06-17T17:25:28.790Z"
      },
      {
        "duration": 21,
        "start_time": "2023-06-17T17:25:28.808Z"
      },
      {
        "duration": 14,
        "start_time": "2023-06-17T17:25:28.832Z"
      },
      {
        "duration": 15,
        "start_time": "2023-06-17T17:25:28.850Z"
      },
      {
        "duration": 12,
        "start_time": "2023-06-17T17:25:28.869Z"
      },
      {
        "duration": 11,
        "start_time": "2023-06-17T17:25:28.883Z"
      },
      {
        "duration": 28,
        "start_time": "2023-06-17T17:25:28.896Z"
      },
      {
        "duration": 7,
        "start_time": "2023-06-17T17:25:28.926Z"
      },
      {
        "duration": 23,
        "start_time": "2023-06-17T17:25:28.935Z"
      },
      {
        "duration": 11,
        "start_time": "2023-06-17T17:25:28.960Z"
      },
      {
        "duration": 6,
        "start_time": "2023-06-17T17:25:28.984Z"
      },
      {
        "duration": 34,
        "start_time": "2023-06-17T17:25:28.992Z"
      },
      {
        "duration": 6,
        "start_time": "2023-06-17T17:25:29.030Z"
      },
      {
        "duration": 29,
        "start_time": "2023-06-17T17:25:29.038Z"
      },
      {
        "duration": 19,
        "start_time": "2023-06-17T17:25:29.071Z"
      },
      {
        "duration": 8,
        "start_time": "2023-06-17T17:25:29.093Z"
      },
      {
        "duration": 22,
        "start_time": "2023-06-17T17:25:29.103Z"
      },
      {
        "duration": 861,
        "start_time": "2023-06-17T17:25:29.128Z"
      },
      {
        "duration": 238,
        "start_time": "2023-06-17T17:33:01.169Z"
      },
      {
        "duration": 299,
        "start_time": "2023-06-17T18:34:07.840Z"
      },
      {
        "duration": 295,
        "start_time": "2023-06-17T18:45:15.465Z"
      },
      {
        "duration": 376,
        "start_time": "2023-06-17T18:49:19.112Z"
      },
      {
        "duration": 197,
        "start_time": "2023-06-17T18:54:16.521Z"
      },
      {
        "duration": 170,
        "start_time": "2023-06-17T18:56:13.065Z"
      },
      {
        "duration": 9,
        "start_time": "2023-06-17T18:58:45.749Z"
      },
      {
        "duration": 129,
        "start_time": "2023-06-17T19:03:24.734Z"
      },
      {
        "duration": 174,
        "start_time": "2023-06-17T19:07:47.525Z"
      },
      {
        "duration": 266,
        "start_time": "2023-06-17T19:08:02.417Z"
      },
      {
        "duration": 6,
        "start_time": "2023-06-17T19:10:40.591Z"
      },
      {
        "duration": 128,
        "start_time": "2023-06-17T19:17:04.793Z"
      },
      {
        "duration": 428,
        "start_time": "2023-06-17T19:19:50.279Z"
      },
      {
        "duration": 405,
        "start_time": "2023-06-17T19:20:07.759Z"
      },
      {
        "duration": 387,
        "start_time": "2023-06-17T19:20:31.495Z"
      },
      {
        "duration": 523,
        "start_time": "2023-06-17T19:21:29.624Z"
      },
      {
        "duration": 5,
        "start_time": "2023-06-17T19:26:11.979Z"
      },
      {
        "duration": 5,
        "start_time": "2023-06-17T19:26:26.211Z"
      },
      {
        "duration": 4,
        "start_time": "2023-06-17T19:26:59.285Z"
      },
      {
        "duration": 6,
        "start_time": "2023-06-17T19:27:31.480Z"
      },
      {
        "duration": 5,
        "start_time": "2023-06-17T19:27:46.491Z"
      },
      {
        "duration": 5,
        "start_time": "2023-06-17T19:28:19.073Z"
      },
      {
        "duration": 4,
        "start_time": "2023-06-17T19:28:25.309Z"
      },
      {
        "duration": 9,
        "start_time": "2023-06-17T19:31:20.035Z"
      },
      {
        "duration": 8,
        "start_time": "2023-06-17T19:36:02.245Z"
      },
      {
        "duration": 13,
        "start_time": "2023-06-17T19:41:11.063Z"
      },
      {
        "duration": 113,
        "start_time": "2023-06-17T19:41:38.084Z"
      },
      {
        "duration": 112,
        "start_time": "2023-06-17T19:42:52.068Z"
      },
      {
        "duration": 4,
        "start_time": "2023-06-17T19:43:04.155Z"
      },
      {
        "duration": 123,
        "start_time": "2023-06-17T19:43:09.250Z"
      },
      {
        "duration": 1906,
        "start_time": "2023-06-17T19:43:23.786Z"
      },
      {
        "duration": 10,
        "start_time": "2023-06-17T19:45:40.855Z"
      },
      {
        "duration": 107,
        "start_time": "2023-06-17T19:47:55.168Z"
      },
      {
        "duration": 11,
        "start_time": "2023-06-17T19:48:07.177Z"
      },
      {
        "duration": 1833,
        "start_time": "2023-06-17T19:50:39.314Z"
      },
      {
        "duration": 36,
        "start_time": "2023-06-17T19:51:04.748Z"
      },
      {
        "duration": 4,
        "start_time": "2023-06-17T19:55:02.061Z"
      },
      {
        "duration": 9,
        "start_time": "2023-06-17T19:59:09.459Z"
      },
      {
        "duration": 8,
        "start_time": "2023-06-17T20:02:01.438Z"
      },
      {
        "duration": 1140,
        "start_time": "2023-06-17T20:15:36.797Z"
      },
      {
        "duration": 200,
        "start_time": "2023-06-17T20:15:37.939Z"
      },
      {
        "duration": 15,
        "start_time": "2023-06-17T20:15:38.140Z"
      },
      {
        "duration": 25,
        "start_time": "2023-06-17T20:15:38.157Z"
      },
      {
        "duration": 11,
        "start_time": "2023-06-17T20:15:38.184Z"
      },
      {
        "duration": 12,
        "start_time": "2023-06-17T20:15:38.196Z"
      },
      {
        "duration": 12,
        "start_time": "2023-06-17T20:15:38.210Z"
      },
      {
        "duration": 12,
        "start_time": "2023-06-17T20:15:38.224Z"
      },
      {
        "duration": 20,
        "start_time": "2023-06-17T20:15:38.238Z"
      },
      {
        "duration": 7,
        "start_time": "2023-06-17T20:15:38.260Z"
      },
      {
        "duration": 7,
        "start_time": "2023-06-17T20:15:38.269Z"
      },
      {
        "duration": 15,
        "start_time": "2023-06-17T20:15:38.277Z"
      },
      {
        "duration": 9,
        "start_time": "2023-06-17T20:15:38.293Z"
      },
      {
        "duration": 4,
        "start_time": "2023-06-17T20:15:38.313Z"
      },
      {
        "duration": 23,
        "start_time": "2023-06-17T20:15:38.319Z"
      },
      {
        "duration": 12,
        "start_time": "2023-06-17T20:15:38.344Z"
      },
      {
        "duration": 50,
        "start_time": "2023-06-17T20:15:38.358Z"
      },
      {
        "duration": 19,
        "start_time": "2023-06-17T20:15:38.410Z"
      },
      {
        "duration": 17,
        "start_time": "2023-06-17T20:15:38.431Z"
      },
      {
        "duration": 7,
        "start_time": "2023-06-17T20:15:38.450Z"
      },
      {
        "duration": 547,
        "start_time": "2023-06-17T20:15:38.458Z"
      },
      {
        "duration": 210,
        "start_time": "2023-06-17T20:15:39.007Z"
      },
      {
        "duration": 321,
        "start_time": "2023-06-17T20:15:39.219Z"
      },
      {
        "duration": 291,
        "start_time": "2023-06-17T20:15:39.542Z"
      },
      {
        "duration": 335,
        "start_time": "2023-06-17T20:15:39.834Z"
      },
      {
        "duration": 96,
        "start_time": "2023-06-17T20:15:40.171Z"
      },
      {
        "duration": 0,
        "start_time": "2023-06-17T20:15:40.268Z"
      },
      {
        "duration": 0,
        "start_time": "2023-06-17T20:15:40.270Z"
      },
      {
        "duration": 0,
        "start_time": "2023-06-17T20:15:40.271Z"
      },
      {
        "duration": 0,
        "start_time": "2023-06-17T20:15:40.272Z"
      },
      {
        "duration": 0,
        "start_time": "2023-06-17T20:15:40.273Z"
      },
      {
        "duration": 0,
        "start_time": "2023-06-17T20:15:40.274Z"
      },
      {
        "duration": 0,
        "start_time": "2023-06-17T20:15:40.275Z"
      },
      {
        "duration": 0,
        "start_time": "2023-06-17T20:15:40.276Z"
      },
      {
        "duration": 0,
        "start_time": "2023-06-17T20:15:40.277Z"
      },
      {
        "duration": 0,
        "start_time": "2023-06-17T20:15:40.278Z"
      },
      {
        "duration": 0,
        "start_time": "2023-06-17T20:15:40.279Z"
      },
      {
        "duration": 0,
        "start_time": "2023-06-17T20:15:40.280Z"
      },
      {
        "duration": 1854,
        "start_time": "2023-06-17T20:18:35.595Z"
      },
      {
        "duration": 7,
        "start_time": "2023-06-17T20:19:18.088Z"
      },
      {
        "duration": 1726,
        "start_time": "2023-06-17T20:19:20.951Z"
      },
      {
        "duration": 1194,
        "start_time": "2023-06-17T20:19:30.695Z"
      },
      {
        "duration": 79,
        "start_time": "2023-06-17T20:19:31.891Z"
      },
      {
        "duration": 187,
        "start_time": "2023-06-17T20:19:31.972Z"
      },
      {
        "duration": 66,
        "start_time": "2023-06-17T20:19:32.161Z"
      },
      {
        "duration": 50,
        "start_time": "2023-06-17T20:19:32.229Z"
      },
      {
        "duration": 54,
        "start_time": "2023-06-17T20:19:32.281Z"
      },
      {
        "duration": 91,
        "start_time": "2023-06-17T20:19:32.338Z"
      },
      {
        "duration": 172,
        "start_time": "2023-06-17T20:19:32.431Z"
      },
      {
        "duration": 34,
        "start_time": "2023-06-17T20:19:32.604Z"
      },
      {
        "duration": 19,
        "start_time": "2023-06-17T20:19:32.641Z"
      },
      {
        "duration": 23,
        "start_time": "2023-06-17T20:19:32.662Z"
      },
      {
        "duration": 16,
        "start_time": "2023-06-17T20:19:32.687Z"
      },
      {
        "duration": 17,
        "start_time": "2023-06-17T20:19:32.705Z"
      },
      {
        "duration": 31,
        "start_time": "2023-06-17T20:19:32.724Z"
      },
      {
        "duration": 34,
        "start_time": "2023-06-17T20:19:32.756Z"
      },
      {
        "duration": 11,
        "start_time": "2023-06-17T20:19:32.792Z"
      },
      {
        "duration": 36,
        "start_time": "2023-06-17T20:19:32.805Z"
      },
      {
        "duration": 81,
        "start_time": "2023-06-17T20:19:32.843Z"
      },
      {
        "duration": 21,
        "start_time": "2023-06-17T20:19:32.926Z"
      },
      {
        "duration": 23,
        "start_time": "2023-06-17T20:19:32.948Z"
      },
      {
        "duration": 552,
        "start_time": "2023-06-17T20:19:32.973Z"
      },
      {
        "duration": 247,
        "start_time": "2023-06-17T20:19:33.527Z"
      },
      {
        "duration": 355,
        "start_time": "2023-06-17T20:19:33.776Z"
      },
      {
        "duration": 238,
        "start_time": "2023-06-17T20:19:34.133Z"
      },
      {
        "duration": 354,
        "start_time": "2023-06-17T20:19:34.373Z"
      },
      {
        "duration": 7,
        "start_time": "2023-06-17T20:19:34.729Z"
      },
      {
        "duration": 1837,
        "start_time": "2023-06-17T20:19:34.737Z"
      },
      {
        "duration": 0,
        "start_time": "2023-06-17T20:19:36.577Z"
      },
      {
        "duration": 0,
        "start_time": "2023-06-17T20:19:36.577Z"
      },
      {
        "duration": 0,
        "start_time": "2023-06-17T20:19:36.579Z"
      },
      {
        "duration": 0,
        "start_time": "2023-06-17T20:19:36.581Z"
      },
      {
        "duration": 0,
        "start_time": "2023-06-17T20:19:36.582Z"
      },
      {
        "duration": 0,
        "start_time": "2023-06-17T20:19:36.583Z"
      },
      {
        "duration": 0,
        "start_time": "2023-06-17T20:19:36.585Z"
      },
      {
        "duration": 0,
        "start_time": "2023-06-17T20:19:36.586Z"
      },
      {
        "duration": 0,
        "start_time": "2023-06-17T20:19:36.588Z"
      },
      {
        "duration": 0,
        "start_time": "2023-06-17T20:19:36.590Z"
      },
      {
        "duration": 0,
        "start_time": "2023-06-17T20:19:36.591Z"
      },
      {
        "duration": 0,
        "start_time": "2023-06-17T20:19:36.592Z"
      },
      {
        "duration": 7,
        "start_time": "2023-06-17T20:22:05.319Z"
      },
      {
        "duration": 173,
        "start_time": "2023-06-17T20:22:07.445Z"
      },
      {
        "duration": 1138,
        "start_time": "2023-06-17T20:22:20.516Z"
      },
      {
        "duration": 80,
        "start_time": "2023-06-17T20:22:21.655Z"
      },
      {
        "duration": 14,
        "start_time": "2023-06-17T20:22:21.736Z"
      },
      {
        "duration": 39,
        "start_time": "2023-06-17T20:22:21.753Z"
      },
      {
        "duration": 17,
        "start_time": "2023-06-17T20:22:21.794Z"
      },
      {
        "duration": 23,
        "start_time": "2023-06-17T20:22:21.813Z"
      },
      {
        "duration": 32,
        "start_time": "2023-06-17T20:22:21.838Z"
      },
      {
        "duration": 16,
        "start_time": "2023-06-17T20:22:21.871Z"
      },
      {
        "duration": 21,
        "start_time": "2023-06-17T20:22:21.889Z"
      },
      {
        "duration": 13,
        "start_time": "2023-06-17T20:22:21.914Z"
      },
      {
        "duration": 11,
        "start_time": "2023-06-17T20:22:21.928Z"
      },
      {
        "duration": 15,
        "start_time": "2023-06-17T20:22:21.941Z"
      },
      {
        "duration": 23,
        "start_time": "2023-06-17T20:22:21.958Z"
      },
      {
        "duration": 14,
        "start_time": "2023-06-17T20:22:21.982Z"
      },
      {
        "duration": 37,
        "start_time": "2023-06-17T20:22:21.998Z"
      },
      {
        "duration": 41,
        "start_time": "2023-06-17T20:22:22.037Z"
      },
      {
        "duration": 38,
        "start_time": "2023-06-17T20:22:22.080Z"
      },
      {
        "duration": 12,
        "start_time": "2023-06-17T20:22:22.120Z"
      },
      {
        "duration": 26,
        "start_time": "2023-06-17T20:22:22.134Z"
      },
      {
        "duration": 39,
        "start_time": "2023-06-17T20:22:22.163Z"
      },
      {
        "duration": 617,
        "start_time": "2023-06-17T20:22:22.204Z"
      },
      {
        "duration": 241,
        "start_time": "2023-06-17T20:22:22.825Z"
      },
      {
        "duration": 311,
        "start_time": "2023-06-17T20:22:23.068Z"
      },
      {
        "duration": 251,
        "start_time": "2023-06-17T20:22:23.381Z"
      },
      {
        "duration": 354,
        "start_time": "2023-06-17T20:22:23.634Z"
      },
      {
        "duration": 7,
        "start_time": "2023-06-17T20:22:23.990Z"
      },
      {
        "duration": 180,
        "start_time": "2023-06-17T20:22:23.999Z"
      },
      {
        "duration": 5,
        "start_time": "2023-06-17T20:22:24.183Z"
      },
      {
        "duration": 182,
        "start_time": "2023-06-17T20:22:24.190Z"
      },
      {
        "duration": 5,
        "start_time": "2023-06-17T20:22:24.374Z"
      },
      {
        "duration": 353,
        "start_time": "2023-06-17T20:22:24.380Z"
      },
      {
        "duration": 6,
        "start_time": "2023-06-17T20:22:24.735Z"
      },
      {
        "duration": 24,
        "start_time": "2023-06-17T20:22:24.743Z"
      },
      {
        "duration": 12,
        "start_time": "2023-06-17T20:22:24.768Z"
      },
      {
        "duration": 37,
        "start_time": "2023-06-17T20:22:24.782Z"
      },
      {
        "duration": 30,
        "start_time": "2023-06-17T20:22:24.821Z"
      },
      {
        "duration": 5,
        "start_time": "2023-06-17T20:22:24.853Z"
      },
      {
        "duration": 33,
        "start_time": "2023-06-17T20:22:24.859Z"
      },
      {
        "duration": 12,
        "start_time": "2023-06-17T20:22:24.894Z"
      },
      {
        "duration": 1198,
        "start_time": "2023-06-18T09:48:05.097Z"
      },
      {
        "duration": 190,
        "start_time": "2023-06-18T09:48:06.297Z"
      },
      {
        "duration": 13,
        "start_time": "2023-06-18T09:48:06.490Z"
      },
      {
        "duration": 12,
        "start_time": "2023-06-18T09:48:06.505Z"
      },
      {
        "duration": 11,
        "start_time": "2023-06-18T09:48:06.519Z"
      },
      {
        "duration": 13,
        "start_time": "2023-06-18T09:48:06.532Z"
      },
      {
        "duration": 10,
        "start_time": "2023-06-18T09:48:06.547Z"
      },
      {
        "duration": 7,
        "start_time": "2023-06-18T09:48:06.558Z"
      },
      {
        "duration": 5,
        "start_time": "2023-06-18T09:48:06.567Z"
      },
      {
        "duration": 5,
        "start_time": "2023-06-18T09:48:06.574Z"
      },
      {
        "duration": 4,
        "start_time": "2023-06-18T09:48:06.580Z"
      },
      {
        "duration": 9,
        "start_time": "2023-06-18T09:48:06.586Z"
      },
      {
        "duration": 6,
        "start_time": "2023-06-18T09:48:06.597Z"
      },
      {
        "duration": 11,
        "start_time": "2023-06-18T09:48:06.606Z"
      },
      {
        "duration": 16,
        "start_time": "2023-06-18T09:48:06.619Z"
      },
      {
        "duration": 3,
        "start_time": "2023-06-18T09:48:06.654Z"
      },
      {
        "duration": 25,
        "start_time": "2023-06-18T09:48:06.659Z"
      },
      {
        "duration": 11,
        "start_time": "2023-06-18T09:48:06.686Z"
      },
      {
        "duration": 8,
        "start_time": "2023-06-18T09:48:06.701Z"
      },
      {
        "duration": 6,
        "start_time": "2023-06-18T09:48:06.711Z"
      },
      {
        "duration": 579,
        "start_time": "2023-06-18T09:48:06.719Z"
      },
      {
        "duration": 239,
        "start_time": "2023-06-18T09:48:07.300Z"
      },
      {
        "duration": 368,
        "start_time": "2023-06-18T09:48:07.541Z"
      },
      {
        "duration": 200,
        "start_time": "2023-06-18T09:48:07.911Z"
      },
      {
        "duration": 317,
        "start_time": "2023-06-18T09:48:08.112Z"
      },
      {
        "duration": 7,
        "start_time": "2023-06-18T09:48:08.431Z"
      },
      {
        "duration": 161,
        "start_time": "2023-06-18T09:48:08.439Z"
      },
      {
        "duration": 9,
        "start_time": "2023-06-18T09:48:08.602Z"
      },
      {
        "duration": 148,
        "start_time": "2023-06-18T09:48:08.613Z"
      },
      {
        "duration": 5,
        "start_time": "2023-06-18T09:48:08.762Z"
      },
      {
        "duration": 327,
        "start_time": "2023-06-18T09:48:08.769Z"
      },
      {
        "duration": 4,
        "start_time": "2023-06-18T09:48:09.098Z"
      },
      {
        "duration": 12,
        "start_time": "2023-06-18T09:48:09.103Z"
      },
      {
        "duration": 25,
        "start_time": "2023-06-18T09:48:09.116Z"
      },
      {
        "duration": 18,
        "start_time": "2023-06-18T09:48:09.143Z"
      },
      {
        "duration": 43,
        "start_time": "2023-06-18T09:48:09.163Z"
      },
      {
        "duration": 4,
        "start_time": "2023-06-18T09:48:09.208Z"
      },
      {
        "duration": 21,
        "start_time": "2023-06-18T09:48:09.213Z"
      },
      {
        "duration": 9,
        "start_time": "2023-06-18T09:48:09.236Z"
      },
      {
        "duration": 49,
        "start_time": "2023-06-18T16:47:40.197Z"
      },
      {
        "duration": 1254,
        "start_time": "2023-06-18T16:47:59.338Z"
      },
      {
        "duration": 331,
        "start_time": "2023-06-18T16:48:00.594Z"
      },
      {
        "duration": 11,
        "start_time": "2023-06-18T16:48:00.927Z"
      },
      {
        "duration": 45,
        "start_time": "2023-06-18T16:48:00.940Z"
      },
      {
        "duration": 41,
        "start_time": "2023-06-18T16:48:00.987Z"
      },
      {
        "duration": 24,
        "start_time": "2023-06-18T16:48:01.030Z"
      },
      {
        "duration": 32,
        "start_time": "2023-06-18T16:48:01.055Z"
      },
      {
        "duration": 27,
        "start_time": "2023-06-18T16:48:01.089Z"
      },
      {
        "duration": 20,
        "start_time": "2023-06-18T16:48:01.118Z"
      },
      {
        "duration": 28,
        "start_time": "2023-06-18T16:48:01.140Z"
      },
      {
        "duration": 61,
        "start_time": "2023-06-18T16:48:01.170Z"
      },
      {
        "duration": 90,
        "start_time": "2023-06-18T16:48:01.233Z"
      },
      {
        "duration": 73,
        "start_time": "2023-06-18T16:48:01.325Z"
      },
      {
        "duration": 117,
        "start_time": "2023-06-18T16:48:01.402Z"
      },
      {
        "duration": 223,
        "start_time": "2023-06-18T16:48:01.521Z"
      },
      {
        "duration": 96,
        "start_time": "2023-06-18T16:48:01.746Z"
      },
      {
        "duration": 22,
        "start_time": "2023-06-18T16:48:01.844Z"
      },
      {
        "duration": 30,
        "start_time": "2023-06-18T16:48:01.868Z"
      },
      {
        "duration": 38,
        "start_time": "2023-06-18T16:48:01.900Z"
      },
      {
        "duration": 39,
        "start_time": "2023-06-18T16:48:01.940Z"
      },
      {
        "duration": 35,
        "start_time": "2023-06-18T16:48:01.980Z"
      },
      {
        "duration": 575,
        "start_time": "2023-06-18T16:48:02.016Z"
      },
      {
        "duration": 198,
        "start_time": "2023-06-18T16:48:02.594Z"
      },
      {
        "duration": 363,
        "start_time": "2023-06-18T16:48:02.794Z"
      },
      {
        "duration": 213,
        "start_time": "2023-06-18T16:48:03.159Z"
      },
      {
        "duration": 318,
        "start_time": "2023-06-18T16:48:03.374Z"
      },
      {
        "duration": 7,
        "start_time": "2023-06-18T16:48:03.694Z"
      },
      {
        "duration": 168,
        "start_time": "2023-06-18T16:48:03.703Z"
      },
      {
        "duration": 5,
        "start_time": "2023-06-18T16:48:03.872Z"
      },
      {
        "duration": 152,
        "start_time": "2023-06-18T16:48:03.878Z"
      },
      {
        "duration": 6,
        "start_time": "2023-06-18T16:48:04.032Z"
      },
      {
        "duration": 392,
        "start_time": "2023-06-18T16:48:04.042Z"
      },
      {
        "duration": 4,
        "start_time": "2023-06-18T16:48:04.436Z"
      },
      {
        "duration": 103,
        "start_time": "2023-06-18T16:48:04.441Z"
      },
      {
        "duration": 31,
        "start_time": "2023-06-18T16:48:04.545Z"
      },
      {
        "duration": 14,
        "start_time": "2023-06-18T16:48:04.578Z"
      },
      {
        "duration": 25,
        "start_time": "2023-06-18T16:48:04.594Z"
      },
      {
        "duration": 4,
        "start_time": "2023-06-18T16:48:04.621Z"
      },
      {
        "duration": 16,
        "start_time": "2023-06-18T16:48:04.626Z"
      },
      {
        "duration": 8,
        "start_time": "2023-06-18T16:48:04.644Z"
      },
      {
        "duration": 9,
        "start_time": "2023-06-18T16:49:27.727Z"
      },
      {
        "duration": 211,
        "start_time": "2023-06-18T16:54:04.584Z"
      },
      {
        "duration": 190,
        "start_time": "2023-06-18T16:54:56.730Z"
      },
      {
        "duration": 87,
        "start_time": "2023-06-18T16:56:03.724Z"
      },
      {
        "duration": 1439,
        "start_time": "2023-06-18T16:58:07.688Z"
      },
      {
        "duration": 1314,
        "start_time": "2023-06-18T16:58:40.991Z"
      },
      {
        "duration": 978,
        "start_time": "2023-06-18T16:59:04.056Z"
      },
      {
        "duration": 86,
        "start_time": "2023-06-18T16:59:05.036Z"
      },
      {
        "duration": 11,
        "start_time": "2023-06-18T16:59:05.124Z"
      },
      {
        "duration": 17,
        "start_time": "2023-06-18T16:59:05.137Z"
      },
      {
        "duration": 21,
        "start_time": "2023-06-18T16:59:05.155Z"
      },
      {
        "duration": 18,
        "start_time": "2023-06-18T16:59:05.177Z"
      },
      {
        "duration": 15,
        "start_time": "2023-06-18T16:59:05.196Z"
      },
      {
        "duration": 9,
        "start_time": "2023-06-18T16:59:05.212Z"
      },
      {
        "duration": 7,
        "start_time": "2023-06-18T16:59:05.222Z"
      },
      {
        "duration": 7,
        "start_time": "2023-06-18T16:59:05.231Z"
      },
      {
        "duration": 7,
        "start_time": "2023-06-18T16:59:05.239Z"
      },
      {
        "duration": 13,
        "start_time": "2023-06-18T16:59:05.248Z"
      },
      {
        "duration": 9,
        "start_time": "2023-06-18T16:59:05.263Z"
      },
      {
        "duration": 11,
        "start_time": "2023-06-18T16:59:05.274Z"
      },
      {
        "duration": 89,
        "start_time": "2023-06-18T16:59:05.287Z"
      },
      {
        "duration": 0,
        "start_time": "2023-06-18T16:59:05.378Z"
      },
      {
        "duration": 0,
        "start_time": "2023-06-18T16:59:05.380Z"
      },
      {
        "duration": 0,
        "start_time": "2023-06-18T16:59:05.382Z"
      },
      {
        "duration": 0,
        "start_time": "2023-06-18T16:59:05.383Z"
      },
      {
        "duration": 0,
        "start_time": "2023-06-18T16:59:05.385Z"
      },
      {
        "duration": 0,
        "start_time": "2023-06-18T16:59:05.387Z"
      },
      {
        "duration": 0,
        "start_time": "2023-06-18T16:59:05.388Z"
      },
      {
        "duration": 0,
        "start_time": "2023-06-18T16:59:05.389Z"
      },
      {
        "duration": 0,
        "start_time": "2023-06-18T16:59:05.390Z"
      },
      {
        "duration": 0,
        "start_time": "2023-06-18T16:59:05.391Z"
      },
      {
        "duration": 0,
        "start_time": "2023-06-18T16:59:05.393Z"
      },
      {
        "duration": 0,
        "start_time": "2023-06-18T16:59:05.394Z"
      },
      {
        "duration": 0,
        "start_time": "2023-06-18T16:59:05.395Z"
      },
      {
        "duration": 0,
        "start_time": "2023-06-18T16:59:05.396Z"
      },
      {
        "duration": 0,
        "start_time": "2023-06-18T16:59:05.397Z"
      },
      {
        "duration": 0,
        "start_time": "2023-06-18T16:59:05.399Z"
      },
      {
        "duration": 0,
        "start_time": "2023-06-18T16:59:05.401Z"
      },
      {
        "duration": 0,
        "start_time": "2023-06-18T16:59:05.403Z"
      },
      {
        "duration": 0,
        "start_time": "2023-06-18T16:59:05.404Z"
      },
      {
        "duration": 0,
        "start_time": "2023-06-18T16:59:05.405Z"
      },
      {
        "duration": 0,
        "start_time": "2023-06-18T16:59:05.406Z"
      },
      {
        "duration": 0,
        "start_time": "2023-06-18T16:59:05.408Z"
      },
      {
        "duration": 0,
        "start_time": "2023-06-18T16:59:05.410Z"
      },
      {
        "duration": 0,
        "start_time": "2023-06-18T16:59:05.412Z"
      },
      {
        "duration": 0,
        "start_time": "2023-06-18T16:59:05.413Z"
      },
      {
        "duration": 0,
        "start_time": "2023-06-18T16:59:05.414Z"
      },
      {
        "duration": 0,
        "start_time": "2023-06-18T16:59:05.419Z"
      },
      {
        "duration": 322,
        "start_time": "2023-06-18T16:59:22.885Z"
      },
      {
        "duration": 1079,
        "start_time": "2023-06-18T16:59:35.053Z"
      },
      {
        "duration": 74,
        "start_time": "2023-06-18T16:59:36.134Z"
      },
      {
        "duration": 13,
        "start_time": "2023-06-18T16:59:36.210Z"
      },
      {
        "duration": 17,
        "start_time": "2023-06-18T16:59:36.225Z"
      },
      {
        "duration": 9,
        "start_time": "2023-06-18T16:59:36.243Z"
      },
      {
        "duration": 9,
        "start_time": "2023-06-18T16:59:36.253Z"
      },
      {
        "duration": 12,
        "start_time": "2023-06-18T16:59:36.263Z"
      },
      {
        "duration": 13,
        "start_time": "2023-06-18T16:59:36.276Z"
      },
      {
        "duration": 16,
        "start_time": "2023-06-18T16:59:36.291Z"
      },
      {
        "duration": 11,
        "start_time": "2023-06-18T16:59:36.310Z"
      },
      {
        "duration": 4,
        "start_time": "2023-06-18T16:59:36.322Z"
      },
      {
        "duration": 12,
        "start_time": "2023-06-18T16:59:36.327Z"
      },
      {
        "duration": 7,
        "start_time": "2023-06-18T16:59:36.341Z"
      },
      {
        "duration": 10,
        "start_time": "2023-06-18T16:59:36.349Z"
      },
      {
        "duration": 327,
        "start_time": "2023-06-18T16:59:36.360Z"
      },
      {
        "duration": 5,
        "start_time": "2023-06-18T16:59:36.688Z"
      },
      {
        "duration": 16,
        "start_time": "2023-06-18T16:59:36.694Z"
      },
      {
        "duration": 7,
        "start_time": "2023-06-18T16:59:36.711Z"
      },
      {
        "duration": 16,
        "start_time": "2023-06-18T16:59:36.720Z"
      },
      {
        "duration": 12,
        "start_time": "2023-06-18T16:59:36.737Z"
      },
      {
        "duration": 11,
        "start_time": "2023-06-18T16:59:36.751Z"
      },
      {
        "duration": 10,
        "start_time": "2023-06-18T16:59:36.763Z"
      },
      {
        "duration": 432,
        "start_time": "2023-06-18T16:59:36.775Z"
      },
      {
        "duration": 195,
        "start_time": "2023-06-18T16:59:37.209Z"
      },
      {
        "duration": 305,
        "start_time": "2023-06-18T16:59:37.406Z"
      },
      {
        "duration": 204,
        "start_time": "2023-06-18T16:59:37.713Z"
      },
      {
        "duration": 349,
        "start_time": "2023-06-18T16:59:37.920Z"
      },
      {
        "duration": 13,
        "start_time": "2023-06-18T16:59:38.273Z"
      },
      {
        "duration": 148,
        "start_time": "2023-06-18T16:59:38.288Z"
      },
      {
        "duration": 6,
        "start_time": "2023-06-18T16:59:38.437Z"
      },
      {
        "duration": 153,
        "start_time": "2023-06-18T16:59:38.444Z"
      },
      {
        "duration": 5,
        "start_time": "2023-06-18T16:59:38.598Z"
      },
      {
        "duration": 382,
        "start_time": "2023-06-18T16:59:38.605Z"
      },
      {
        "duration": 4,
        "start_time": "2023-06-18T16:59:38.988Z"
      },
      {
        "duration": 12,
        "start_time": "2023-06-18T16:59:38.994Z"
      },
      {
        "duration": 15,
        "start_time": "2023-06-18T16:59:39.008Z"
      },
      {
        "duration": 15,
        "start_time": "2023-06-18T16:59:39.025Z"
      },
      {
        "duration": 24,
        "start_time": "2023-06-18T16:59:39.041Z"
      },
      {
        "duration": 4,
        "start_time": "2023-06-18T16:59:39.066Z"
      },
      {
        "duration": 14,
        "start_time": "2023-06-18T16:59:39.071Z"
      },
      {
        "duration": 7,
        "start_time": "2023-06-18T16:59:39.087Z"
      },
      {
        "duration": 1404,
        "start_time": "2023-06-18T17:00:09.779Z"
      },
      {
        "duration": 1361,
        "start_time": "2023-06-18T17:00:22.899Z"
      },
      {
        "duration": 1044,
        "start_time": "2023-06-18T17:01:01.894Z"
      },
      {
        "duration": 75,
        "start_time": "2023-06-18T17:01:02.940Z"
      },
      {
        "duration": 11,
        "start_time": "2023-06-18T17:01:03.016Z"
      },
      {
        "duration": 50,
        "start_time": "2023-06-18T17:01:03.029Z"
      },
      {
        "duration": 16,
        "start_time": "2023-06-18T17:01:03.081Z"
      },
      {
        "duration": 21,
        "start_time": "2023-06-18T17:01:03.098Z"
      },
      {
        "duration": 19,
        "start_time": "2023-06-18T17:01:03.121Z"
      },
      {
        "duration": 30,
        "start_time": "2023-06-18T17:01:03.141Z"
      },
      {
        "duration": 23,
        "start_time": "2023-06-18T17:01:03.172Z"
      },
      {
        "duration": 40,
        "start_time": "2023-06-18T17:01:03.197Z"
      },
      {
        "duration": 21,
        "start_time": "2023-06-18T17:01:03.239Z"
      },
      {
        "duration": 10,
        "start_time": "2023-06-18T17:01:03.261Z"
      },
      {
        "duration": 10,
        "start_time": "2023-06-18T17:01:03.273Z"
      },
      {
        "duration": 26,
        "start_time": "2023-06-18T17:01:03.286Z"
      },
      {
        "duration": 297,
        "start_time": "2023-06-18T17:01:03.313Z"
      },
      {
        "duration": 4,
        "start_time": "2023-06-18T17:01:03.612Z"
      },
      {
        "duration": 19,
        "start_time": "2023-06-18T17:01:03.619Z"
      },
      {
        "duration": 8,
        "start_time": "2023-06-18T17:01:03.639Z"
      },
      {
        "duration": 99,
        "start_time": "2023-06-18T17:01:03.648Z"
      },
      {
        "duration": 0,
        "start_time": "2023-06-18T17:01:03.749Z"
      },
      {
        "duration": 0,
        "start_time": "2023-06-18T17:01:03.750Z"
      },
      {
        "duration": 0,
        "start_time": "2023-06-18T17:01:03.751Z"
      },
      {
        "duration": 0,
        "start_time": "2023-06-18T17:01:03.752Z"
      },
      {
        "duration": 0,
        "start_time": "2023-06-18T17:01:03.753Z"
      },
      {
        "duration": 0,
        "start_time": "2023-06-18T17:01:03.766Z"
      },
      {
        "duration": 0,
        "start_time": "2023-06-18T17:01:03.767Z"
      },
      {
        "duration": 0,
        "start_time": "2023-06-18T17:01:03.769Z"
      },
      {
        "duration": 0,
        "start_time": "2023-06-18T17:01:03.771Z"
      },
      {
        "duration": 0,
        "start_time": "2023-06-18T17:01:03.772Z"
      },
      {
        "duration": 0,
        "start_time": "2023-06-18T17:01:03.773Z"
      },
      {
        "duration": 0,
        "start_time": "2023-06-18T17:01:03.775Z"
      },
      {
        "duration": 0,
        "start_time": "2023-06-18T17:01:03.781Z"
      },
      {
        "duration": 0,
        "start_time": "2023-06-18T17:01:03.782Z"
      },
      {
        "duration": 0,
        "start_time": "2023-06-18T17:01:03.784Z"
      },
      {
        "duration": 0,
        "start_time": "2023-06-18T17:01:03.785Z"
      },
      {
        "duration": 0,
        "start_time": "2023-06-18T17:01:03.786Z"
      },
      {
        "duration": 0,
        "start_time": "2023-06-18T17:01:03.787Z"
      },
      {
        "duration": 0,
        "start_time": "2023-06-18T17:01:03.789Z"
      },
      {
        "duration": 0,
        "start_time": "2023-06-18T17:01:03.790Z"
      },
      {
        "duration": 0,
        "start_time": "2023-06-18T17:01:03.792Z"
      },
      {
        "duration": 0,
        "start_time": "2023-06-18T17:01:03.793Z"
      },
      {
        "duration": 14,
        "start_time": "2023-06-18T17:01:23.593Z"
      },
      {
        "duration": 3,
        "start_time": "2023-06-18T17:03:50.994Z"
      },
      {
        "duration": 13,
        "start_time": "2023-06-18T17:04:04.454Z"
      },
      {
        "duration": 499,
        "start_time": "2023-06-18T17:06:25.458Z"
      },
      {
        "duration": 214,
        "start_time": "2023-06-18T17:06:35.285Z"
      },
      {
        "duration": 1110,
        "start_time": "2023-06-18T17:10:55.135Z"
      },
      {
        "duration": 77,
        "start_time": "2023-06-18T17:10:56.247Z"
      },
      {
        "duration": 12,
        "start_time": "2023-06-18T17:10:56.325Z"
      },
      {
        "duration": 16,
        "start_time": "2023-06-18T17:10:56.339Z"
      },
      {
        "duration": 18,
        "start_time": "2023-06-18T17:10:56.356Z"
      },
      {
        "duration": 12,
        "start_time": "2023-06-18T17:10:56.376Z"
      },
      {
        "duration": 16,
        "start_time": "2023-06-18T17:10:56.389Z"
      },
      {
        "duration": 8,
        "start_time": "2023-06-18T17:10:56.419Z"
      },
      {
        "duration": 17,
        "start_time": "2023-06-18T17:10:56.428Z"
      },
      {
        "duration": 11,
        "start_time": "2023-06-18T17:10:56.447Z"
      },
      {
        "duration": 14,
        "start_time": "2023-06-18T17:10:56.459Z"
      },
      {
        "duration": 18,
        "start_time": "2023-06-18T17:10:56.475Z"
      },
      {
        "duration": 13,
        "start_time": "2023-06-18T17:10:56.494Z"
      },
      {
        "duration": 22,
        "start_time": "2023-06-18T17:10:56.508Z"
      },
      {
        "duration": 331,
        "start_time": "2023-06-18T17:10:56.532Z"
      },
      {
        "duration": 5,
        "start_time": "2023-06-18T17:10:56.865Z"
      },
      {
        "duration": 18,
        "start_time": "2023-06-18T17:10:56.871Z"
      },
      {
        "duration": 16,
        "start_time": "2023-06-18T17:10:56.890Z"
      },
      {
        "duration": 14,
        "start_time": "2023-06-18T17:10:56.907Z"
      },
      {
        "duration": 20,
        "start_time": "2023-06-18T17:10:56.922Z"
      },
      {
        "duration": 10,
        "start_time": "2023-06-18T17:10:56.943Z"
      },
      {
        "duration": 11,
        "start_time": "2023-06-18T17:10:56.955Z"
      },
      {
        "duration": 433,
        "start_time": "2023-06-18T17:10:56.967Z"
      },
      {
        "duration": 198,
        "start_time": "2023-06-18T17:10:57.402Z"
      },
      {
        "duration": 324,
        "start_time": "2023-06-18T17:10:57.602Z"
      },
      {
        "duration": 230,
        "start_time": "2023-06-18T17:10:57.928Z"
      },
      {
        "duration": 346,
        "start_time": "2023-06-18T17:10:58.160Z"
      },
      {
        "duration": 9,
        "start_time": "2023-06-18T17:10:58.511Z"
      },
      {
        "duration": 151,
        "start_time": "2023-06-18T17:10:58.522Z"
      },
      {
        "duration": 5,
        "start_time": "2023-06-18T17:10:58.675Z"
      },
      {
        "duration": 151,
        "start_time": "2023-06-18T17:10:58.682Z"
      },
      {
        "duration": 5,
        "start_time": "2023-06-18T17:10:58.835Z"
      },
      {
        "duration": 402,
        "start_time": "2023-06-18T17:10:58.842Z"
      },
      {
        "duration": 4,
        "start_time": "2023-06-18T17:10:59.246Z"
      },
      {
        "duration": 15,
        "start_time": "2023-06-18T17:10:59.252Z"
      },
      {
        "duration": 15,
        "start_time": "2023-06-18T17:10:59.268Z"
      },
      {
        "duration": 12,
        "start_time": "2023-06-18T17:10:59.284Z"
      },
      {
        "duration": 38,
        "start_time": "2023-06-18T17:10:59.298Z"
      },
      {
        "duration": 5,
        "start_time": "2023-06-18T17:10:59.337Z"
      },
      {
        "duration": 23,
        "start_time": "2023-06-18T17:10:59.344Z"
      },
      {
        "duration": 14,
        "start_time": "2023-06-18T17:10:59.369Z"
      },
      {
        "duration": 138,
        "start_time": "2023-06-18T17:14:28.193Z"
      },
      {
        "duration": 124,
        "start_time": "2023-06-18T17:14:42.696Z"
      },
      {
        "duration": 133,
        "start_time": "2023-06-18T17:15:06.356Z"
      },
      {
        "duration": 149,
        "start_time": "2023-06-18T17:15:15.737Z"
      },
      {
        "duration": 141,
        "start_time": "2023-06-18T17:15:33.334Z"
      },
      {
        "duration": 135,
        "start_time": "2023-06-18T17:17:14.074Z"
      },
      {
        "duration": 1027,
        "start_time": "2023-06-18T17:23:07.020Z"
      },
      {
        "duration": 83,
        "start_time": "2023-06-18T17:23:08.048Z"
      },
      {
        "duration": 14,
        "start_time": "2023-06-18T17:23:08.133Z"
      },
      {
        "duration": 13,
        "start_time": "2023-06-18T17:23:08.148Z"
      },
      {
        "duration": 8,
        "start_time": "2023-06-18T17:23:08.163Z"
      },
      {
        "duration": 9,
        "start_time": "2023-06-18T17:23:08.172Z"
      },
      {
        "duration": 10,
        "start_time": "2023-06-18T17:23:08.183Z"
      },
      {
        "duration": 28,
        "start_time": "2023-06-18T17:23:08.195Z"
      },
      {
        "duration": 30,
        "start_time": "2023-06-18T17:23:08.224Z"
      },
      {
        "duration": 5,
        "start_time": "2023-06-18T17:23:08.257Z"
      },
      {
        "duration": 5,
        "start_time": "2023-06-18T17:23:08.263Z"
      },
      {
        "duration": 20,
        "start_time": "2023-06-18T17:23:08.269Z"
      },
      {
        "duration": 8,
        "start_time": "2023-06-18T17:23:08.291Z"
      },
      {
        "duration": 14,
        "start_time": "2023-06-18T17:23:08.300Z"
      },
      {
        "duration": 304,
        "start_time": "2023-06-18T17:23:08.315Z"
      },
      {
        "duration": 5,
        "start_time": "2023-06-18T17:23:08.620Z"
      },
      {
        "duration": 28,
        "start_time": "2023-06-18T17:23:08.627Z"
      },
      {
        "duration": 3,
        "start_time": "2023-06-18T17:23:08.657Z"
      },
      {
        "duration": 13,
        "start_time": "2023-06-18T17:23:08.661Z"
      },
      {
        "duration": 17,
        "start_time": "2023-06-18T17:23:08.675Z"
      },
      {
        "duration": 15,
        "start_time": "2023-06-18T17:23:08.694Z"
      },
      {
        "duration": 6,
        "start_time": "2023-06-18T17:23:08.710Z"
      },
      {
        "duration": 476,
        "start_time": "2023-06-18T17:23:08.717Z"
      },
      {
        "duration": 205,
        "start_time": "2023-06-18T17:23:09.195Z"
      },
      {
        "duration": 327,
        "start_time": "2023-06-18T17:23:09.402Z"
      },
      {
        "duration": 239,
        "start_time": "2023-06-18T17:23:09.734Z"
      },
      {
        "duration": 298,
        "start_time": "2023-06-18T17:23:09.975Z"
      },
      {
        "duration": 6,
        "start_time": "2023-06-18T17:23:10.275Z"
      },
      {
        "duration": 148,
        "start_time": "2023-06-18T17:23:10.282Z"
      },
      {
        "duration": 6,
        "start_time": "2023-06-18T17:23:10.432Z"
      },
      {
        "duration": 172,
        "start_time": "2023-06-18T17:23:10.440Z"
      },
      {
        "duration": 220,
        "start_time": "2023-06-18T17:23:10.613Z"
      },
      {
        "duration": 5,
        "start_time": "2023-06-18T17:23:10.835Z"
      },
      {
        "duration": 382,
        "start_time": "2023-06-18T17:23:10.842Z"
      },
      {
        "duration": 7,
        "start_time": "2023-06-18T17:23:11.225Z"
      },
      {
        "duration": 21,
        "start_time": "2023-06-18T17:23:11.237Z"
      },
      {
        "duration": 16,
        "start_time": "2023-06-18T17:23:11.260Z"
      },
      {
        "duration": 12,
        "start_time": "2023-06-18T17:23:11.277Z"
      },
      {
        "duration": 26,
        "start_time": "2023-06-18T17:23:11.291Z"
      },
      {
        "duration": 4,
        "start_time": "2023-06-18T17:23:11.319Z"
      },
      {
        "duration": 29,
        "start_time": "2023-06-18T17:23:11.326Z"
      },
      {
        "duration": 9,
        "start_time": "2023-06-18T17:23:11.356Z"
      }
    ],
    "kernelspec": {
      "display_name": "Python 3 (ipykernel)",
      "language": "python",
      "name": "python3"
    },
    "language_info": {
      "codemirror_mode": {
        "name": "ipython",
        "version": 3
      },
      "file_extension": ".py",
      "mimetype": "text/x-python",
      "name": "python",
      "nbconvert_exporter": "python",
      "pygments_lexer": "ipython3",
      "version": "3.9.5"
    },
    "toc": {
      "base_numbering": 1,
      "nav_menu": {},
      "number_sections": true,
      "sideBar": true,
      "skip_h1_title": true,
      "title_cell": "Table of Contents",
      "title_sidebar": "Contents",
      "toc_cell": false,
      "toc_position": {},
      "toc_section_display": true,
      "toc_window_display": false
    },
    "colab": {
      "provenance": []
    }
  },
  "nbformat": 4,
  "nbformat_minor": 0
}